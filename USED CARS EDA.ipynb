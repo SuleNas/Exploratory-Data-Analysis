{
 "cells": [
  {
   "cell_type": "code",
   "execution_count": null,
   "metadata": {
    "id": "B_5PQJlozqqg"
   },
   "outputs": [],
   "source": [
    "!pip install pandas==1.1.5 --upgrade --quiet"
   ]
  },
  {
   "cell_type": "markdown",
   "metadata": {
    "id": "U83_YaTUQJoB"
   },
   "source": [
    "#             USED CARS EDA PROJECT"
   ]
  },
  {
   "cell_type": "markdown",
   "metadata": {
    "id": "kRLQGFJMQveF"
   },
   "source": [
    "### INTRODUCTION:\n",
    "\n"
   ]
  },
  {
   "cell_type": "markdown",
   "metadata": {
    "id": "9gUcGSp7BWMJ"
   },
   "source": [
    "When we talk of Exploratory Data Analysis, EDA, in statistics, we are simply referring to the ability to explore datasets in order to summarise their characteristics using statistical graphics and other visualization methods.\n",
    "\n",
    "In Data science, perhaps this definition finely puts forward what EDA is all about:\n",
    "\n",
    "\"Exploratory Data Analysis refers to the critical process of performing initial investigations on data so as to discover patterns,to spot anomalies,to test hypothesis and to check assumptions with the help of summary statistics and graphical representations.\"\n",
    " _Pratheesh Shivaprasad.\n",
    "\n",
    "From the above two definitions, we can simply put that EDA is all about knowing a given set of data in order to derive reasonable and useful information from it.\n",
    "\n",
    "The data for this EDA project was gotten from kaggle, one of the world's largest Data science community with powerful tools and resources including real world datasets that can be used for research and learning purposes.\n",
    "\n",
    "According to the creator of the Dataset, Austin Reese, the data, containing information on used cars for sale, was scraped from craigslist, an American classified advertisement website."
   ]
  },
  {
   "cell_type": "markdown",
   "metadata": {
    "id": "Q1Kr3KlN5VnO"
   },
   "source": [
    "### OUTLINE:\n",
    "\n"
   ]
  },
  {
   "cell_type": "markdown",
   "metadata": {
    "id": "5gv0smzK_9m5"
   },
   "source": [
    "Over the course of this Data Analysis Project, we will be carrying out the procedures as follows:\n",
    "\n",
    "* Install and import some important Python Data analysis libraries and modules such as Pandas, Numpy.\n",
    "* Downloading the dataset from kaggle using the Open Dataset library.\n",
    "* Data cleaning and preparation.\n",
    "* Data Visualization.\n",
    "* Asking and Answering some simple questions about the data.\n",
    "* Summary and future work.\n",
    "* Reference"
   ]
  },
  {
   "cell_type": "markdown",
   "metadata": {
    "id": "u9tgsHd5B_8R"
   },
   "source": [
    "### Install And Import Pandas, Numpy, OpenDatasets."
   ]
  },
  {
   "cell_type": "markdown",
   "metadata": {
    "id": "p8lyazmZCoaY"
   },
   "source": [
    "Numpy is a Python library mainly containing Arithmetic operation tools or modules while Pandas is used for operating tabular data such as the one we are looking to explore.\n",
    "\n",
    "The open dataset library will help us to download the dataset from kaggle simply by inputing the URL of the dataset."
   ]
  },
  {
   "cell_type": "code",
   "execution_count": null,
   "metadata": {
    "id": "YSrtGUdxyLRA"
   },
   "outputs": [],
   "source": [
    "!pip install numpy --quiet"
   ]
  },
  {
   "cell_type": "code",
   "execution_count": null,
   "metadata": {
    "id": "-lzpnEh9yLRQ"
   },
   "outputs": [],
   "source": [
    "import pandas as pd\n",
    "import numpy as np"
   ]
  },
  {
   "cell_type": "code",
   "execution_count": null,
   "metadata": {
    "id": "BQonjGx70k3H"
   },
   "outputs": [],
   "source": [
    "!pip install opendatasets --upgrade --quiet"
   ]
  },
  {
   "cell_type": "code",
   "execution_count": null,
   "metadata": {
    "id": "n2whvYBm0kor"
   },
   "outputs": [],
   "source": [
    "import opendatasets as od"
   ]
  },
  {
   "cell_type": "markdown",
   "metadata": {
    "id": "zt06IsnQDZ6U"
   },
   "source": [
    "### Download Dataset From Kaggle.\n",
    "\n"
   ]
  },
  {
   "cell_type": "markdown",
   "metadata": {
    "id": "vTRvH-JzDi65"
   },
   "source": [
    "Downloading any dataset from kaggle has some conditions attached to it. You must have credentials such as username and access key. They will be asked for before you can be able to download the dataset. These can be accessed if you have an account on kaggle"
   ]
  },
  {
   "cell_type": "markdown",
   "metadata": {
    "id": "NoM2y6FQEMSD"
   },
   "source": [
    "To download the dataset, lets save the dataset URL in a variable and then input the variable into our opendataset module to download."
   ]
  },
  {
   "cell_type": "code",
   "execution_count": null,
   "metadata": {
    "id": "_nPsQ-KX0kWE"
   },
   "outputs": [],
   "source": [
    "cars_url = 'https://www.kaggle.com/austinreese/craigslist-carstrucks-data'"
   ]
  },
  {
   "cell_type": "code",
   "execution_count": null,
   "metadata": {
    "colab": {
     "base_uri": "https://localhost:8080/"
    },
    "executionInfo": {
     "elapsed": 12577,
     "status": "ok",
     "timestamp": 1625093226335,
     "user": {
      "displayName": "nasiru sule",
      "photoUrl": "https://lh3.googleusercontent.com/a-/AOh14GiVuRFYjI43LxMj_Q8ZlQSSi4rs-Su2HdfNPNxp7A=s64",
      "userId": "16455627822583485460"
     },
     "user_tz": -60
    },
    "id": "zk4LNJVO06nQ",
    "outputId": "67b144b4-9648-4179-c8ed-c14f7c1d942c"
   },
   "outputs": [
    {
     "name": "stderr",
     "output_type": "stream",
     "text": [
      "\r",
      "  0%|          | 0.00/262M [00:00<?, ?B/s]"
     ]
    },
    {
     "name": "stdout",
     "output_type": "stream",
     "text": [
      "Downloading craigslist-carstrucks-data.zip to ./craigslist-carstrucks-data\n"
     ]
    },
    {
     "name": "stderr",
     "output_type": "stream",
     "text": [
      "100%|██████████| 262M/262M [00:02<00:00, 116MB/s]\n"
     ]
    },
    {
     "name": "stdout",
     "output_type": "stream",
     "text": [
      "\n"
     ]
    }
   ],
   "source": [
    "od.download(cars_url)"
   ]
  },
  {
   "cell_type": "markdown",
   "metadata": {
    "id": "_d_Gt6uIE_sn"
   },
   "source": [
    "After the download, we can view the csv file by clicking on the files tab on the left hand panel. \n",
    "\n",
    "We will also save this in a new variable."
   ]
  },
  {
   "cell_type": "code",
   "execution_count": null,
   "metadata": {
    "id": "XyotnetF06Qt"
   },
   "outputs": [],
   "source": [
    "cars_csv = 'craigslist-carstrucks-data/vehicles.csv'"
   ]
  },
  {
   "cell_type": "markdown",
   "metadata": {
    "id": "Oit5a9Eos-FD"
   },
   "source": [
    "Let us have a look at the size of the dataset."
   ]
  },
  {
   "cell_type": "code",
   "execution_count": null,
   "metadata": {
    "colab": {
     "base_uri": "https://localhost:8080/"
    },
    "executionInfo": {
     "elapsed": 492,
     "status": "ok",
     "timestamp": 1625093249419,
     "user": {
      "displayName": "nasiru sule",
      "photoUrl": "https://lh3.googleusercontent.com/a-/AOh14GiVuRFYjI43LxMj_Q8ZlQSSi4rs-Su2HdfNPNxp7A=s64",
      "userId": "16455627822583485460"
     },
     "user_tz": -60
    },
    "id": "qyFT1BTyVPWf",
    "outputId": "8f460d45-3b45-4eba-94ed-6ec2f96355ba"
   },
   "outputs": [
    {
     "name": "stdout",
     "output_type": "stream",
     "text": [
      "total 1.4G\n",
      "-rw-r--r-- 1 root root 1.4G Jun 30 22:47 vehicles.csv\n"
     ]
    }
   ],
   "source": [
    "!ls -lh craigslist-carstrucks-data"
   ]
  },
  {
   "cell_type": "markdown",
   "metadata": {
    "id": "tY6Hg2h4tc8-"
   },
   "source": [
    "We can see from the cell above that the size of the dataframe is 1.4G"
   ]
  },
  {
   "cell_type": "markdown",
   "metadata": {
    "id": "lISck6UitRoq"
   },
   "source": [
    "How long would it take to load this dataset as a pandas dataframe?"
   ]
  },
  {
   "cell_type": "code",
   "execution_count": null,
   "metadata": {
    "colab": {
     "base_uri": "https://localhost:8080/"
    },
    "executionInfo": {
     "elapsed": 17251,
     "status": "ok",
     "timestamp": 1625093277785,
     "user": {
      "displayName": "nasiru sule",
      "photoUrl": "https://lh3.googleusercontent.com/a-/AOh14GiVuRFYjI43LxMj_Q8ZlQSSi4rs-Su2HdfNPNxp7A=s64",
      "userId": "16455627822583485460"
     },
     "user_tz": -60
    },
    "id": "7YtEbs_9TuzA",
    "outputId": "5b801646-c852-42c9-caa0-88e876351e61"
   },
   "outputs": [
    {
     "name": "stdout",
     "output_type": "stream",
     "text": [
      "CPU times: user 13.3 s, sys: 3.64 s, total: 17 s\n",
      "Wall time: 16.9 s\n"
     ]
    }
   ],
   "source": [
    "%%time\n",
    "cars_df = pd.read_csv(cars_csv)"
   ]
  },
  {
   "cell_type": "markdown",
   "metadata": {
    "id": "-xWa-QaIG8zt"
   },
   "source": [
    "Lets have a view of the dataset"
   ]
  },
  {
   "cell_type": "code",
   "execution_count": null,
   "metadata": {
    "colab": {
     "base_uri": "https://localhost:8080/",
     "height": 728
    },
    "executionInfo": {
     "elapsed": 521,
     "status": "ok",
     "timestamp": 1625093284435,
     "user": {
      "displayName": "nasiru sule",
      "photoUrl": "https://lh3.googleusercontent.com/a-/AOh14GiVuRFYjI43LxMj_Q8ZlQSSi4rs-Su2HdfNPNxp7A=s64",
      "userId": "16455627822583485460"
     },
     "user_tz": -60
    },
    "id": "aA3EYPmUZYRq",
    "outputId": "a3a6e139-7650-4320-9f71-52a8fca27e96"
   },
   "outputs": [
    {
     "data": {
      "text/html": [
       "<div>\n",
       "<style scoped>\n",
       "    .dataframe tbody tr th:only-of-type {\n",
       "        vertical-align: middle;\n",
       "    }\n",
       "\n",
       "    .dataframe tbody tr th {\n",
       "        vertical-align: top;\n",
       "    }\n",
       "\n",
       "    .dataframe thead th {\n",
       "        text-align: right;\n",
       "    }\n",
       "</style>\n",
       "<table border=\"1\" class=\"dataframe\">\n",
       "  <thead>\n",
       "    <tr style=\"text-align: right;\">\n",
       "      <th></th>\n",
       "      <th>id</th>\n",
       "      <th>url</th>\n",
       "      <th>region</th>\n",
       "      <th>region_url</th>\n",
       "      <th>price</th>\n",
       "      <th>year</th>\n",
       "      <th>manufacturer</th>\n",
       "      <th>model</th>\n",
       "      <th>condition</th>\n",
       "      <th>cylinders</th>\n",
       "      <th>fuel</th>\n",
       "      <th>odometer</th>\n",
       "      <th>title_status</th>\n",
       "      <th>transmission</th>\n",
       "      <th>VIN</th>\n",
       "      <th>drive</th>\n",
       "      <th>size</th>\n",
       "      <th>type</th>\n",
       "      <th>paint_color</th>\n",
       "      <th>image_url</th>\n",
       "      <th>description</th>\n",
       "      <th>county</th>\n",
       "      <th>state</th>\n",
       "      <th>lat</th>\n",
       "      <th>long</th>\n",
       "      <th>posting_date</th>\n",
       "    </tr>\n",
       "  </thead>\n",
       "  <tbody>\n",
       "    <tr>\n",
       "      <th>0</th>\n",
       "      <td>7222695916</td>\n",
       "      <td>https://prescott.craigslist.org/cto/d/prescott...</td>\n",
       "      <td>prescott</td>\n",
       "      <td>https://prescott.craigslist.org</td>\n",
       "      <td>6000</td>\n",
       "      <td>NaN</td>\n",
       "      <td>NaN</td>\n",
       "      <td>NaN</td>\n",
       "      <td>NaN</td>\n",
       "      <td>NaN</td>\n",
       "      <td>NaN</td>\n",
       "      <td>NaN</td>\n",
       "      <td>NaN</td>\n",
       "      <td>NaN</td>\n",
       "      <td>NaN</td>\n",
       "      <td>NaN</td>\n",
       "      <td>NaN</td>\n",
       "      <td>NaN</td>\n",
       "      <td>NaN</td>\n",
       "      <td>NaN</td>\n",
       "      <td>NaN</td>\n",
       "      <td>NaN</td>\n",
       "      <td>az</td>\n",
       "      <td>NaN</td>\n",
       "      <td>NaN</td>\n",
       "      <td>NaN</td>\n",
       "    </tr>\n",
       "    <tr>\n",
       "      <th>1</th>\n",
       "      <td>7218891961</td>\n",
       "      <td>https://fayar.craigslist.org/ctd/d/bentonville...</td>\n",
       "      <td>fayetteville</td>\n",
       "      <td>https://fayar.craigslist.org</td>\n",
       "      <td>11900</td>\n",
       "      <td>NaN</td>\n",
       "      <td>NaN</td>\n",
       "      <td>NaN</td>\n",
       "      <td>NaN</td>\n",
       "      <td>NaN</td>\n",
       "      <td>NaN</td>\n",
       "      <td>NaN</td>\n",
       "      <td>NaN</td>\n",
       "      <td>NaN</td>\n",
       "      <td>NaN</td>\n",
       "      <td>NaN</td>\n",
       "      <td>NaN</td>\n",
       "      <td>NaN</td>\n",
       "      <td>NaN</td>\n",
       "      <td>NaN</td>\n",
       "      <td>NaN</td>\n",
       "      <td>NaN</td>\n",
       "      <td>ar</td>\n",
       "      <td>NaN</td>\n",
       "      <td>NaN</td>\n",
       "      <td>NaN</td>\n",
       "    </tr>\n",
       "    <tr>\n",
       "      <th>2</th>\n",
       "      <td>7221797935</td>\n",
       "      <td>https://keys.craigslist.org/cto/d/summerland-k...</td>\n",
       "      <td>florida keys</td>\n",
       "      <td>https://keys.craigslist.org</td>\n",
       "      <td>21000</td>\n",
       "      <td>NaN</td>\n",
       "      <td>NaN</td>\n",
       "      <td>NaN</td>\n",
       "      <td>NaN</td>\n",
       "      <td>NaN</td>\n",
       "      <td>NaN</td>\n",
       "      <td>NaN</td>\n",
       "      <td>NaN</td>\n",
       "      <td>NaN</td>\n",
       "      <td>NaN</td>\n",
       "      <td>NaN</td>\n",
       "      <td>NaN</td>\n",
       "      <td>NaN</td>\n",
       "      <td>NaN</td>\n",
       "      <td>NaN</td>\n",
       "      <td>NaN</td>\n",
       "      <td>NaN</td>\n",
       "      <td>fl</td>\n",
       "      <td>NaN</td>\n",
       "      <td>NaN</td>\n",
       "      <td>NaN</td>\n",
       "    </tr>\n",
       "    <tr>\n",
       "      <th>3</th>\n",
       "      <td>7222270760</td>\n",
       "      <td>https://worcester.craigslist.org/cto/d/west-br...</td>\n",
       "      <td>worcester / central MA</td>\n",
       "      <td>https://worcester.craigslist.org</td>\n",
       "      <td>1500</td>\n",
       "      <td>NaN</td>\n",
       "      <td>NaN</td>\n",
       "      <td>NaN</td>\n",
       "      <td>NaN</td>\n",
       "      <td>NaN</td>\n",
       "      <td>NaN</td>\n",
       "      <td>NaN</td>\n",
       "      <td>NaN</td>\n",
       "      <td>NaN</td>\n",
       "      <td>NaN</td>\n",
       "      <td>NaN</td>\n",
       "      <td>NaN</td>\n",
       "      <td>NaN</td>\n",
       "      <td>NaN</td>\n",
       "      <td>NaN</td>\n",
       "      <td>NaN</td>\n",
       "      <td>NaN</td>\n",
       "      <td>ma</td>\n",
       "      <td>NaN</td>\n",
       "      <td>NaN</td>\n",
       "      <td>NaN</td>\n",
       "    </tr>\n",
       "    <tr>\n",
       "      <th>4</th>\n",
       "      <td>7210384030</td>\n",
       "      <td>https://greensboro.craigslist.org/cto/d/trinit...</td>\n",
       "      <td>greensboro</td>\n",
       "      <td>https://greensboro.craigslist.org</td>\n",
       "      <td>4900</td>\n",
       "      <td>NaN</td>\n",
       "      <td>NaN</td>\n",
       "      <td>NaN</td>\n",
       "      <td>NaN</td>\n",
       "      <td>NaN</td>\n",
       "      <td>NaN</td>\n",
       "      <td>NaN</td>\n",
       "      <td>NaN</td>\n",
       "      <td>NaN</td>\n",
       "      <td>NaN</td>\n",
       "      <td>NaN</td>\n",
       "      <td>NaN</td>\n",
       "      <td>NaN</td>\n",
       "      <td>NaN</td>\n",
       "      <td>NaN</td>\n",
       "      <td>NaN</td>\n",
       "      <td>NaN</td>\n",
       "      <td>nc</td>\n",
       "      <td>NaN</td>\n",
       "      <td>NaN</td>\n",
       "      <td>NaN</td>\n",
       "    </tr>\n",
       "    <tr>\n",
       "      <th>...</th>\n",
       "      <td>...</td>\n",
       "      <td>...</td>\n",
       "      <td>...</td>\n",
       "      <td>...</td>\n",
       "      <td>...</td>\n",
       "      <td>...</td>\n",
       "      <td>...</td>\n",
       "      <td>...</td>\n",
       "      <td>...</td>\n",
       "      <td>...</td>\n",
       "      <td>...</td>\n",
       "      <td>...</td>\n",
       "      <td>...</td>\n",
       "      <td>...</td>\n",
       "      <td>...</td>\n",
       "      <td>...</td>\n",
       "      <td>...</td>\n",
       "      <td>...</td>\n",
       "      <td>...</td>\n",
       "      <td>...</td>\n",
       "      <td>...</td>\n",
       "      <td>...</td>\n",
       "      <td>...</td>\n",
       "      <td>...</td>\n",
       "      <td>...</td>\n",
       "      <td>...</td>\n",
       "    </tr>\n",
       "    <tr>\n",
       "      <th>426875</th>\n",
       "      <td>7301591192</td>\n",
       "      <td>https://wyoming.craigslist.org/ctd/d/atlanta-2...</td>\n",
       "      <td>wyoming</td>\n",
       "      <td>https://wyoming.craigslist.org</td>\n",
       "      <td>23590</td>\n",
       "      <td>2019.0</td>\n",
       "      <td>nissan</td>\n",
       "      <td>maxima s sedan 4d</td>\n",
       "      <td>good</td>\n",
       "      <td>6 cylinders</td>\n",
       "      <td>gas</td>\n",
       "      <td>32226.0</td>\n",
       "      <td>clean</td>\n",
       "      <td>other</td>\n",
       "      <td>1N4AA6AV6KC367801</td>\n",
       "      <td>fwd</td>\n",
       "      <td>NaN</td>\n",
       "      <td>sedan</td>\n",
       "      <td>NaN</td>\n",
       "      <td>https://images.craigslist.org/00o0o_iiraFnHg8q...</td>\n",
       "      <td>Carvana is the safer way to buy a car During t...</td>\n",
       "      <td>NaN</td>\n",
       "      <td>wy</td>\n",
       "      <td>33.786500</td>\n",
       "      <td>-84.445400</td>\n",
       "      <td>2021-04-04T03:21:31-0600</td>\n",
       "    </tr>\n",
       "    <tr>\n",
       "      <th>426876</th>\n",
       "      <td>7301591187</td>\n",
       "      <td>https://wyoming.craigslist.org/ctd/d/atlanta-2...</td>\n",
       "      <td>wyoming</td>\n",
       "      <td>https://wyoming.craigslist.org</td>\n",
       "      <td>30590</td>\n",
       "      <td>2020.0</td>\n",
       "      <td>volvo</td>\n",
       "      <td>s60 t5 momentum sedan 4d</td>\n",
       "      <td>good</td>\n",
       "      <td>NaN</td>\n",
       "      <td>gas</td>\n",
       "      <td>12029.0</td>\n",
       "      <td>clean</td>\n",
       "      <td>other</td>\n",
       "      <td>7JR102FKXLG042696</td>\n",
       "      <td>fwd</td>\n",
       "      <td>NaN</td>\n",
       "      <td>sedan</td>\n",
       "      <td>red</td>\n",
       "      <td>https://images.craigslist.org/00x0x_15sbgnxCIS...</td>\n",
       "      <td>Carvana is the safer way to buy a car During t...</td>\n",
       "      <td>NaN</td>\n",
       "      <td>wy</td>\n",
       "      <td>33.786500</td>\n",
       "      <td>-84.445400</td>\n",
       "      <td>2021-04-04T03:21:29-0600</td>\n",
       "    </tr>\n",
       "    <tr>\n",
       "      <th>426877</th>\n",
       "      <td>7301591147</td>\n",
       "      <td>https://wyoming.craigslist.org/ctd/d/atlanta-2...</td>\n",
       "      <td>wyoming</td>\n",
       "      <td>https://wyoming.craigslist.org</td>\n",
       "      <td>34990</td>\n",
       "      <td>2020.0</td>\n",
       "      <td>cadillac</td>\n",
       "      <td>xt4 sport suv 4d</td>\n",
       "      <td>good</td>\n",
       "      <td>NaN</td>\n",
       "      <td>diesel</td>\n",
       "      <td>4174.0</td>\n",
       "      <td>clean</td>\n",
       "      <td>other</td>\n",
       "      <td>1GYFZFR46LF088296</td>\n",
       "      <td>NaN</td>\n",
       "      <td>NaN</td>\n",
       "      <td>hatchback</td>\n",
       "      <td>white</td>\n",
       "      <td>https://images.craigslist.org/00L0L_farM7bxnxR...</td>\n",
       "      <td>Carvana is the safer way to buy a car During t...</td>\n",
       "      <td>NaN</td>\n",
       "      <td>wy</td>\n",
       "      <td>33.779214</td>\n",
       "      <td>-84.411811</td>\n",
       "      <td>2021-04-04T03:21:17-0600</td>\n",
       "    </tr>\n",
       "    <tr>\n",
       "      <th>426878</th>\n",
       "      <td>7301591140</td>\n",
       "      <td>https://wyoming.craigslist.org/ctd/d/atlanta-2...</td>\n",
       "      <td>wyoming</td>\n",
       "      <td>https://wyoming.craigslist.org</td>\n",
       "      <td>28990</td>\n",
       "      <td>2018.0</td>\n",
       "      <td>lexus</td>\n",
       "      <td>es 350 sedan 4d</td>\n",
       "      <td>good</td>\n",
       "      <td>6 cylinders</td>\n",
       "      <td>gas</td>\n",
       "      <td>30112.0</td>\n",
       "      <td>clean</td>\n",
       "      <td>other</td>\n",
       "      <td>58ABK1GG4JU103853</td>\n",
       "      <td>fwd</td>\n",
       "      <td>NaN</td>\n",
       "      <td>sedan</td>\n",
       "      <td>silver</td>\n",
       "      <td>https://images.craigslist.org/00z0z_bKnIVGLkDT...</td>\n",
       "      <td>Carvana is the safer way to buy a car During t...</td>\n",
       "      <td>NaN</td>\n",
       "      <td>wy</td>\n",
       "      <td>33.786500</td>\n",
       "      <td>-84.445400</td>\n",
       "      <td>2021-04-04T03:21:11-0600</td>\n",
       "    </tr>\n",
       "    <tr>\n",
       "      <th>426879</th>\n",
       "      <td>7301591129</td>\n",
       "      <td>https://wyoming.craigslist.org/ctd/d/atlanta-2...</td>\n",
       "      <td>wyoming</td>\n",
       "      <td>https://wyoming.craigslist.org</td>\n",
       "      <td>30590</td>\n",
       "      <td>2019.0</td>\n",
       "      <td>bmw</td>\n",
       "      <td>4 series 430i gran coupe</td>\n",
       "      <td>good</td>\n",
       "      <td>NaN</td>\n",
       "      <td>gas</td>\n",
       "      <td>22716.0</td>\n",
       "      <td>clean</td>\n",
       "      <td>other</td>\n",
       "      <td>WBA4J1C58KBM14708</td>\n",
       "      <td>rwd</td>\n",
       "      <td>NaN</td>\n",
       "      <td>coupe</td>\n",
       "      <td>NaN</td>\n",
       "      <td>https://images.craigslist.org/00Y0Y_lEUocjyRxa...</td>\n",
       "      <td>Carvana is the safer way to buy a car During t...</td>\n",
       "      <td>NaN</td>\n",
       "      <td>wy</td>\n",
       "      <td>33.779214</td>\n",
       "      <td>-84.411811</td>\n",
       "      <td>2021-04-04T03:21:07-0600</td>\n",
       "    </tr>\n",
       "  </tbody>\n",
       "</table>\n",
       "<p>426880 rows × 26 columns</p>\n",
       "</div>"
      ],
      "text/plain": [
       "                id  ...              posting_date\n",
       "0       7222695916  ...                       NaN\n",
       "1       7218891961  ...                       NaN\n",
       "2       7221797935  ...                       NaN\n",
       "3       7222270760  ...                       NaN\n",
       "4       7210384030  ...                       NaN\n",
       "...            ...  ...                       ...\n",
       "426875  7301591192  ...  2021-04-04T03:21:31-0600\n",
       "426876  7301591187  ...  2021-04-04T03:21:29-0600\n",
       "426877  7301591147  ...  2021-04-04T03:21:17-0600\n",
       "426878  7301591140  ...  2021-04-04T03:21:11-0600\n",
       "426879  7301591129  ...  2021-04-04T03:21:07-0600\n",
       "\n",
       "[426880 rows x 26 columns]"
      ]
     },
     "execution_count": 17,
     "metadata": {
      "tags": []
     },
     "output_type": "execute_result"
    }
   ],
   "source": [
    "cars_df"
   ]
  },
  {
   "cell_type": "markdown",
   "metadata": {
    "id": "3XpVxo0pFp2Q"
   },
   "source": [
    "### Data Cleaning And Preparation"
   ]
  },
  {
   "cell_type": "code",
   "execution_count": null,
   "metadata": {
    "colab": {
     "base_uri": "https://localhost:8080/"
    },
    "executionInfo": {
     "elapsed": 396,
     "status": "ok",
     "timestamp": 1625093332728,
     "user": {
      "displayName": "nasiru sule",
      "photoUrl": "https://lh3.googleusercontent.com/a-/AOh14GiVuRFYjI43LxMj_Q8ZlQSSi4rs-Su2HdfNPNxp7A=s64",
      "userId": "16455627822583485460"
     },
     "user_tz": -60
    },
    "id": "nZ02obEZGMTM",
    "outputId": "7e23b2e9-f5b9-4a2c-f195-f504cb5adf3b"
   },
   "outputs": [
    {
     "name": "stdout",
     "output_type": "stream",
     "text": [
      "<class 'pandas.core.frame.DataFrame'>\n",
      "RangeIndex: 426880 entries, 0 to 426879\n",
      "Data columns (total 26 columns):\n",
      " #   Column        Non-Null Count   Dtype  \n",
      "---  ------        --------------   -----  \n",
      " 0   id            426880 non-null  int64  \n",
      " 1   url           426880 non-null  object \n",
      " 2   region        426880 non-null  object \n",
      " 3   region_url    426880 non-null  object \n",
      " 4   price         426880 non-null  int64  \n",
      " 5   year          425675 non-null  float64\n",
      " 6   manufacturer  409234 non-null  object \n",
      " 7   model         421603 non-null  object \n",
      " 8   condition     252776 non-null  object \n",
      " 9   cylinders     249202 non-null  object \n",
      " 10  fuel          423867 non-null  object \n",
      " 11  odometer      422480 non-null  float64\n",
      " 12  title_status  418638 non-null  object \n",
      " 13  transmission  424324 non-null  object \n",
      " 14  VIN           265838 non-null  object \n",
      " 15  drive         296313 non-null  object \n",
      " 16  size          120519 non-null  object \n",
      " 17  type          334022 non-null  object \n",
      " 18  paint_color   296677 non-null  object \n",
      " 19  image_url     426812 non-null  object \n",
      " 20  description   426810 non-null  object \n",
      " 21  county        0 non-null       float64\n",
      " 22  state         426880 non-null  object \n",
      " 23  lat           420331 non-null  float64\n",
      " 24  long          420331 non-null  float64\n",
      " 25  posting_date  426812 non-null  object \n",
      "dtypes: float64(5), int64(2), object(19)\n",
      "memory usage: 84.7+ MB\n"
     ]
    }
   ],
   "source": [
    "cars_df.info()"
   ]
  },
  {
   "cell_type": "markdown",
   "metadata": {
    "id": "5SKEzpgHGAu_"
   },
   "source": [
    "Using the .info() property of pandas, we can see that the dataset contains over 400 thousand rows and 26 columns. It also displays the various data types in the dataset and the number of none null or non-empty rows. "
   ]
  },
  {
   "cell_type": "markdown",
   "metadata": {
    "id": "5hO1zwHZIQQ5"
   },
   "source": [
    "Because of how massive the dataset is, it is possible that we may run out of computer memory to handle this dataset. This is why we will have to install the pyarrow library, where we will be able to save and load the data using a format called feather. This format ensures efficiency and faster processing."
   ]
  },
  {
   "cell_type": "code",
   "execution_count": null,
   "metadata": {
    "colab": {
     "base_uri": "https://localhost:8080/"
    },
    "executionInfo": {
     "elapsed": 8936,
     "status": "ok",
     "timestamp": 1625093875298,
     "user": {
      "displayName": "nasiru sule",
      "photoUrl": "https://lh3.googleusercontent.com/a-/AOh14GiVuRFYjI43LxMj_Q8ZlQSSi4rs-Su2HdfNPNxp7A=s64",
      "userId": "16455627822583485460"
     },
     "user_tz": -60
    },
    "id": "KX5Ey7ZOb1sD",
    "outputId": "1149e44f-757e-4e3f-e948-5d07c4cf5d80"
   },
   "outputs": [
    {
     "name": "stdout",
     "output_type": "stream",
     "text": [
      "\u001b[K     |████████████████████████████████| 21.9MB 11.7MB/s \n",
      "\u001b[?25h"
     ]
    }
   ],
   "source": [
    "!pip install pyarrow --upgrade --q"
   ]
  },
  {
   "cell_type": "code",
   "execution_count": null,
   "metadata": {
    "colab": {
     "base_uri": "https://localhost:8080/"
    },
    "executionInfo": {
     "elapsed": 10296,
     "status": "ok",
     "timestamp": 1625093896829,
     "user": {
      "displayName": "nasiru sule",
      "photoUrl": "https://lh3.googleusercontent.com/a-/AOh14GiVuRFYjI43LxMj_Q8ZlQSSi4rs-Su2HdfNPNxp7A=s64",
      "userId": "16455627822583485460"
     },
     "user_tz": -60
    },
    "id": "vuDR9ORoaGqw",
    "outputId": "1dc63653-2afa-488e-a853-d10ee9de507d"
   },
   "outputs": [
    {
     "name": "stdout",
     "output_type": "stream",
     "text": [
      "CPU times: user 6.56 s, sys: 3.59 s, total: 10.2 s\n",
      "Wall time: 9.95 s\n"
     ]
    }
   ],
   "source": [
    "%%time\n",
    "cars_df.to_feather('cars.feather')"
   ]
  },
  {
   "cell_type": "code",
   "execution_count": null,
   "metadata": {
    "colab": {
     "base_uri": "https://localhost:8080/"
    },
    "executionInfo": {
     "elapsed": 502,
     "status": "ok",
     "timestamp": 1625093900523,
     "user": {
      "displayName": "nasiru sule",
      "photoUrl": "https://lh3.googleusercontent.com/a-/AOh14GiVuRFYjI43LxMj_Q8ZlQSSi4rs-Su2HdfNPNxp7A=s64",
      "userId": "16455627822583485460"
     },
     "user_tz": -60
    },
    "id": "7c8bCsnTZy3o",
    "outputId": "02691a3b-43f4-4f7a-ef10-11451ee7bc3f"
   },
   "outputs": [
    {
     "name": "stdout",
     "output_type": "stream",
     "text": [
      "-rw-r--r-- 1 root root 392M Jun 30 22:58 cars.feather\n"
     ]
    }
   ],
   "source": [
    "!ls -lh cars.feather\n"
   ]
  },
  {
   "cell_type": "markdown",
   "metadata": {
    "id": "2jvSpNX4JRkQ"
   },
   "source": [
    "We can now see that the loading time has reduced from about 16 seconds to about 9.5 seconds. \n",
    "\n",
    "Also the weight has reduced from 1.4Gig to about 400mb."
   ]
  },
  {
   "cell_type": "markdown",
   "metadata": {
    "id": "oc5xae4XJke5"
   },
   "source": [
    "Lets create a new variable for the new dataset"
   ]
  },
  {
   "cell_type": "code",
   "execution_count": null,
   "metadata": {
    "id": "_y5aomDHaGft"
   },
   "outputs": [],
   "source": [
    "cars2_df = pd.read_feather('cars.feather')"
   ]
  },
  {
   "cell_type": "code",
   "execution_count": null,
   "metadata": {
    "colab": {
     "base_uri": "https://localhost:8080/",
     "height": 728
    },
    "executionInfo": {
     "elapsed": 33,
     "status": "ok",
     "timestamp": 1625094041065,
     "user": {
      "displayName": "nasiru sule",
      "photoUrl": "https://lh3.googleusercontent.com/a-/AOh14GiVuRFYjI43LxMj_Q8ZlQSSi4rs-Su2HdfNPNxp7A=s64",
      "userId": "16455627822583485460"
     },
     "user_tz": -60
    },
    "id": "wGB5QODmnzk3",
    "outputId": "ba0b1d9d-2215-4474-d999-1f767a89b437"
   },
   "outputs": [
    {
     "data": {
      "text/html": [
       "<div>\n",
       "<style scoped>\n",
       "    .dataframe tbody tr th:only-of-type {\n",
       "        vertical-align: middle;\n",
       "    }\n",
       "\n",
       "    .dataframe tbody tr th {\n",
       "        vertical-align: top;\n",
       "    }\n",
       "\n",
       "    .dataframe thead th {\n",
       "        text-align: right;\n",
       "    }\n",
       "</style>\n",
       "<table border=\"1\" class=\"dataframe\">\n",
       "  <thead>\n",
       "    <tr style=\"text-align: right;\">\n",
       "      <th></th>\n",
       "      <th>id</th>\n",
       "      <th>url</th>\n",
       "      <th>region</th>\n",
       "      <th>region_url</th>\n",
       "      <th>price</th>\n",
       "      <th>year</th>\n",
       "      <th>manufacturer</th>\n",
       "      <th>model</th>\n",
       "      <th>condition</th>\n",
       "      <th>cylinders</th>\n",
       "      <th>fuel</th>\n",
       "      <th>odometer</th>\n",
       "      <th>title_status</th>\n",
       "      <th>transmission</th>\n",
       "      <th>VIN</th>\n",
       "      <th>drive</th>\n",
       "      <th>size</th>\n",
       "      <th>type</th>\n",
       "      <th>paint_color</th>\n",
       "      <th>image_url</th>\n",
       "      <th>description</th>\n",
       "      <th>county</th>\n",
       "      <th>state</th>\n",
       "      <th>lat</th>\n",
       "      <th>long</th>\n",
       "      <th>posting_date</th>\n",
       "    </tr>\n",
       "  </thead>\n",
       "  <tbody>\n",
       "    <tr>\n",
       "      <th>0</th>\n",
       "      <td>7222695916</td>\n",
       "      <td>https://prescott.craigslist.org/cto/d/prescott...</td>\n",
       "      <td>prescott</td>\n",
       "      <td>https://prescott.craigslist.org</td>\n",
       "      <td>6000</td>\n",
       "      <td>NaN</td>\n",
       "      <td>None</td>\n",
       "      <td>None</td>\n",
       "      <td>None</td>\n",
       "      <td>None</td>\n",
       "      <td>None</td>\n",
       "      <td>NaN</td>\n",
       "      <td>None</td>\n",
       "      <td>None</td>\n",
       "      <td>None</td>\n",
       "      <td>None</td>\n",
       "      <td>None</td>\n",
       "      <td>None</td>\n",
       "      <td>None</td>\n",
       "      <td>None</td>\n",
       "      <td>None</td>\n",
       "      <td>NaN</td>\n",
       "      <td>az</td>\n",
       "      <td>NaN</td>\n",
       "      <td>NaN</td>\n",
       "      <td>None</td>\n",
       "    </tr>\n",
       "    <tr>\n",
       "      <th>1</th>\n",
       "      <td>7218891961</td>\n",
       "      <td>https://fayar.craigslist.org/ctd/d/bentonville...</td>\n",
       "      <td>fayetteville</td>\n",
       "      <td>https://fayar.craigslist.org</td>\n",
       "      <td>11900</td>\n",
       "      <td>NaN</td>\n",
       "      <td>None</td>\n",
       "      <td>None</td>\n",
       "      <td>None</td>\n",
       "      <td>None</td>\n",
       "      <td>None</td>\n",
       "      <td>NaN</td>\n",
       "      <td>None</td>\n",
       "      <td>None</td>\n",
       "      <td>None</td>\n",
       "      <td>None</td>\n",
       "      <td>None</td>\n",
       "      <td>None</td>\n",
       "      <td>None</td>\n",
       "      <td>None</td>\n",
       "      <td>None</td>\n",
       "      <td>NaN</td>\n",
       "      <td>ar</td>\n",
       "      <td>NaN</td>\n",
       "      <td>NaN</td>\n",
       "      <td>None</td>\n",
       "    </tr>\n",
       "    <tr>\n",
       "      <th>2</th>\n",
       "      <td>7221797935</td>\n",
       "      <td>https://keys.craigslist.org/cto/d/summerland-k...</td>\n",
       "      <td>florida keys</td>\n",
       "      <td>https://keys.craigslist.org</td>\n",
       "      <td>21000</td>\n",
       "      <td>NaN</td>\n",
       "      <td>None</td>\n",
       "      <td>None</td>\n",
       "      <td>None</td>\n",
       "      <td>None</td>\n",
       "      <td>None</td>\n",
       "      <td>NaN</td>\n",
       "      <td>None</td>\n",
       "      <td>None</td>\n",
       "      <td>None</td>\n",
       "      <td>None</td>\n",
       "      <td>None</td>\n",
       "      <td>None</td>\n",
       "      <td>None</td>\n",
       "      <td>None</td>\n",
       "      <td>None</td>\n",
       "      <td>NaN</td>\n",
       "      <td>fl</td>\n",
       "      <td>NaN</td>\n",
       "      <td>NaN</td>\n",
       "      <td>None</td>\n",
       "    </tr>\n",
       "    <tr>\n",
       "      <th>3</th>\n",
       "      <td>7222270760</td>\n",
       "      <td>https://worcester.craigslist.org/cto/d/west-br...</td>\n",
       "      <td>worcester / central MA</td>\n",
       "      <td>https://worcester.craigslist.org</td>\n",
       "      <td>1500</td>\n",
       "      <td>NaN</td>\n",
       "      <td>None</td>\n",
       "      <td>None</td>\n",
       "      <td>None</td>\n",
       "      <td>None</td>\n",
       "      <td>None</td>\n",
       "      <td>NaN</td>\n",
       "      <td>None</td>\n",
       "      <td>None</td>\n",
       "      <td>None</td>\n",
       "      <td>None</td>\n",
       "      <td>None</td>\n",
       "      <td>None</td>\n",
       "      <td>None</td>\n",
       "      <td>None</td>\n",
       "      <td>None</td>\n",
       "      <td>NaN</td>\n",
       "      <td>ma</td>\n",
       "      <td>NaN</td>\n",
       "      <td>NaN</td>\n",
       "      <td>None</td>\n",
       "    </tr>\n",
       "    <tr>\n",
       "      <th>4</th>\n",
       "      <td>7210384030</td>\n",
       "      <td>https://greensboro.craigslist.org/cto/d/trinit...</td>\n",
       "      <td>greensboro</td>\n",
       "      <td>https://greensboro.craigslist.org</td>\n",
       "      <td>4900</td>\n",
       "      <td>NaN</td>\n",
       "      <td>None</td>\n",
       "      <td>None</td>\n",
       "      <td>None</td>\n",
       "      <td>None</td>\n",
       "      <td>None</td>\n",
       "      <td>NaN</td>\n",
       "      <td>None</td>\n",
       "      <td>None</td>\n",
       "      <td>None</td>\n",
       "      <td>None</td>\n",
       "      <td>None</td>\n",
       "      <td>None</td>\n",
       "      <td>None</td>\n",
       "      <td>None</td>\n",
       "      <td>None</td>\n",
       "      <td>NaN</td>\n",
       "      <td>nc</td>\n",
       "      <td>NaN</td>\n",
       "      <td>NaN</td>\n",
       "      <td>None</td>\n",
       "    </tr>\n",
       "    <tr>\n",
       "      <th>...</th>\n",
       "      <td>...</td>\n",
       "      <td>...</td>\n",
       "      <td>...</td>\n",
       "      <td>...</td>\n",
       "      <td>...</td>\n",
       "      <td>...</td>\n",
       "      <td>...</td>\n",
       "      <td>...</td>\n",
       "      <td>...</td>\n",
       "      <td>...</td>\n",
       "      <td>...</td>\n",
       "      <td>...</td>\n",
       "      <td>...</td>\n",
       "      <td>...</td>\n",
       "      <td>...</td>\n",
       "      <td>...</td>\n",
       "      <td>...</td>\n",
       "      <td>...</td>\n",
       "      <td>...</td>\n",
       "      <td>...</td>\n",
       "      <td>...</td>\n",
       "      <td>...</td>\n",
       "      <td>...</td>\n",
       "      <td>...</td>\n",
       "      <td>...</td>\n",
       "      <td>...</td>\n",
       "    </tr>\n",
       "    <tr>\n",
       "      <th>426875</th>\n",
       "      <td>7301591192</td>\n",
       "      <td>https://wyoming.craigslist.org/ctd/d/atlanta-2...</td>\n",
       "      <td>wyoming</td>\n",
       "      <td>https://wyoming.craigslist.org</td>\n",
       "      <td>23590</td>\n",
       "      <td>2019.0</td>\n",
       "      <td>nissan</td>\n",
       "      <td>maxima s sedan 4d</td>\n",
       "      <td>good</td>\n",
       "      <td>6 cylinders</td>\n",
       "      <td>gas</td>\n",
       "      <td>32226.0</td>\n",
       "      <td>clean</td>\n",
       "      <td>other</td>\n",
       "      <td>1N4AA6AV6KC367801</td>\n",
       "      <td>fwd</td>\n",
       "      <td>None</td>\n",
       "      <td>sedan</td>\n",
       "      <td>None</td>\n",
       "      <td>https://images.craigslist.org/00o0o_iiraFnHg8q...</td>\n",
       "      <td>Carvana is the safer way to buy a car During t...</td>\n",
       "      <td>NaN</td>\n",
       "      <td>wy</td>\n",
       "      <td>33.786500</td>\n",
       "      <td>-84.445400</td>\n",
       "      <td>2021-04-04T03:21:31-0600</td>\n",
       "    </tr>\n",
       "    <tr>\n",
       "      <th>426876</th>\n",
       "      <td>7301591187</td>\n",
       "      <td>https://wyoming.craigslist.org/ctd/d/atlanta-2...</td>\n",
       "      <td>wyoming</td>\n",
       "      <td>https://wyoming.craigslist.org</td>\n",
       "      <td>30590</td>\n",
       "      <td>2020.0</td>\n",
       "      <td>volvo</td>\n",
       "      <td>s60 t5 momentum sedan 4d</td>\n",
       "      <td>good</td>\n",
       "      <td>None</td>\n",
       "      <td>gas</td>\n",
       "      <td>12029.0</td>\n",
       "      <td>clean</td>\n",
       "      <td>other</td>\n",
       "      <td>7JR102FKXLG042696</td>\n",
       "      <td>fwd</td>\n",
       "      <td>None</td>\n",
       "      <td>sedan</td>\n",
       "      <td>red</td>\n",
       "      <td>https://images.craigslist.org/00x0x_15sbgnxCIS...</td>\n",
       "      <td>Carvana is the safer way to buy a car During t...</td>\n",
       "      <td>NaN</td>\n",
       "      <td>wy</td>\n",
       "      <td>33.786500</td>\n",
       "      <td>-84.445400</td>\n",
       "      <td>2021-04-04T03:21:29-0600</td>\n",
       "    </tr>\n",
       "    <tr>\n",
       "      <th>426877</th>\n",
       "      <td>7301591147</td>\n",
       "      <td>https://wyoming.craigslist.org/ctd/d/atlanta-2...</td>\n",
       "      <td>wyoming</td>\n",
       "      <td>https://wyoming.craigslist.org</td>\n",
       "      <td>34990</td>\n",
       "      <td>2020.0</td>\n",
       "      <td>cadillac</td>\n",
       "      <td>xt4 sport suv 4d</td>\n",
       "      <td>good</td>\n",
       "      <td>None</td>\n",
       "      <td>diesel</td>\n",
       "      <td>4174.0</td>\n",
       "      <td>clean</td>\n",
       "      <td>other</td>\n",
       "      <td>1GYFZFR46LF088296</td>\n",
       "      <td>None</td>\n",
       "      <td>None</td>\n",
       "      <td>hatchback</td>\n",
       "      <td>white</td>\n",
       "      <td>https://images.craigslist.org/00L0L_farM7bxnxR...</td>\n",
       "      <td>Carvana is the safer way to buy a car During t...</td>\n",
       "      <td>NaN</td>\n",
       "      <td>wy</td>\n",
       "      <td>33.779214</td>\n",
       "      <td>-84.411811</td>\n",
       "      <td>2021-04-04T03:21:17-0600</td>\n",
       "    </tr>\n",
       "    <tr>\n",
       "      <th>426878</th>\n",
       "      <td>7301591140</td>\n",
       "      <td>https://wyoming.craigslist.org/ctd/d/atlanta-2...</td>\n",
       "      <td>wyoming</td>\n",
       "      <td>https://wyoming.craigslist.org</td>\n",
       "      <td>28990</td>\n",
       "      <td>2018.0</td>\n",
       "      <td>lexus</td>\n",
       "      <td>es 350 sedan 4d</td>\n",
       "      <td>good</td>\n",
       "      <td>6 cylinders</td>\n",
       "      <td>gas</td>\n",
       "      <td>30112.0</td>\n",
       "      <td>clean</td>\n",
       "      <td>other</td>\n",
       "      <td>58ABK1GG4JU103853</td>\n",
       "      <td>fwd</td>\n",
       "      <td>None</td>\n",
       "      <td>sedan</td>\n",
       "      <td>silver</td>\n",
       "      <td>https://images.craigslist.org/00z0z_bKnIVGLkDT...</td>\n",
       "      <td>Carvana is the safer way to buy a car During t...</td>\n",
       "      <td>NaN</td>\n",
       "      <td>wy</td>\n",
       "      <td>33.786500</td>\n",
       "      <td>-84.445400</td>\n",
       "      <td>2021-04-04T03:21:11-0600</td>\n",
       "    </tr>\n",
       "    <tr>\n",
       "      <th>426879</th>\n",
       "      <td>7301591129</td>\n",
       "      <td>https://wyoming.craigslist.org/ctd/d/atlanta-2...</td>\n",
       "      <td>wyoming</td>\n",
       "      <td>https://wyoming.craigslist.org</td>\n",
       "      <td>30590</td>\n",
       "      <td>2019.0</td>\n",
       "      <td>bmw</td>\n",
       "      <td>4 series 430i gran coupe</td>\n",
       "      <td>good</td>\n",
       "      <td>None</td>\n",
       "      <td>gas</td>\n",
       "      <td>22716.0</td>\n",
       "      <td>clean</td>\n",
       "      <td>other</td>\n",
       "      <td>WBA4J1C58KBM14708</td>\n",
       "      <td>rwd</td>\n",
       "      <td>None</td>\n",
       "      <td>coupe</td>\n",
       "      <td>None</td>\n",
       "      <td>https://images.craigslist.org/00Y0Y_lEUocjyRxa...</td>\n",
       "      <td>Carvana is the safer way to buy a car During t...</td>\n",
       "      <td>NaN</td>\n",
       "      <td>wy</td>\n",
       "      <td>33.779214</td>\n",
       "      <td>-84.411811</td>\n",
       "      <td>2021-04-04T03:21:07-0600</td>\n",
       "    </tr>\n",
       "  </tbody>\n",
       "</table>\n",
       "<p>426880 rows × 26 columns</p>\n",
       "</div>"
      ],
      "text/plain": [
       "                id  ...              posting_date\n",
       "0       7222695916  ...                      None\n",
       "1       7218891961  ...                      None\n",
       "2       7221797935  ...                      None\n",
       "3       7222270760  ...                      None\n",
       "4       7210384030  ...                      None\n",
       "...            ...  ...                       ...\n",
       "426875  7301591192  ...  2021-04-04T03:21:31-0600\n",
       "426876  7301591187  ...  2021-04-04T03:21:29-0600\n",
       "426877  7301591147  ...  2021-04-04T03:21:17-0600\n",
       "426878  7301591140  ...  2021-04-04T03:21:11-0600\n",
       "426879  7301591129  ...  2021-04-04T03:21:07-0600\n",
       "\n",
       "[426880 rows x 26 columns]"
      ]
     },
     "execution_count": 23,
     "metadata": {
      "tags": []
     },
     "output_type": "execute_result"
    }
   ],
   "source": [
    "cars2_df"
   ]
  },
  {
   "cell_type": "markdown",
   "metadata": {
    "id": "wElTa40it6Wc"
   },
   "source": [
    "Lets drop some of the columns that will not be useful for our analysis"
   ]
  },
  {
   "cell_type": "code",
   "execution_count": null,
   "metadata": {
    "id": "I8G9v1EBmW1k"
   },
   "outputs": [],
   "source": [
    "cars2_df.drop(['id','url','region_url','transmission','description','VIN','size','image_url','county','posting_date'], \n",
    "              axis=1, inplace=True)"
   ]
  },
  {
   "cell_type": "markdown",
   "metadata": {
    "id": "36sRDrF0uKbc"
   },
   "source": [
    "We will also remove all rows that do not contain any data i.e all rows with NaN values"
   ]
  },
  {
   "cell_type": "code",
   "execution_count": null,
   "metadata": {
    "id": "QAKxZ7IZopUI"
   },
   "outputs": [],
   "source": [
    "cars3_df = cars2_df.dropna()"
   ]
  },
  {
   "cell_type": "code",
   "execution_count": null,
   "metadata": {
    "colab": {
     "base_uri": "https://localhost:8080/",
     "height": 640
    },
    "executionInfo": {
     "elapsed": 39,
     "status": "ok",
     "timestamp": 1625094064059,
     "user": {
      "displayName": "nasiru sule",
      "photoUrl": "https://lh3.googleusercontent.com/a-/AOh14GiVuRFYjI43LxMj_Q8ZlQSSi4rs-Su2HdfNPNxp7A=s64",
      "userId": "16455627822583485460"
     },
     "user_tz": -60
    },
    "id": "FJQsOfcdovYb",
    "outputId": "d0e46cef-8083-4100-b789-8e3e38438ae1"
   },
   "outputs": [
    {
     "data": {
      "text/html": [
       "<div>\n",
       "<style scoped>\n",
       "    .dataframe tbody tr th:only-of-type {\n",
       "        vertical-align: middle;\n",
       "    }\n",
       "\n",
       "    .dataframe tbody tr th {\n",
       "        vertical-align: top;\n",
       "    }\n",
       "\n",
       "    .dataframe thead th {\n",
       "        text-align: right;\n",
       "    }\n",
       "</style>\n",
       "<table border=\"1\" class=\"dataframe\">\n",
       "  <thead>\n",
       "    <tr style=\"text-align: right;\">\n",
       "      <th></th>\n",
       "      <th>region</th>\n",
       "      <th>price</th>\n",
       "      <th>year</th>\n",
       "      <th>manufacturer</th>\n",
       "      <th>model</th>\n",
       "      <th>condition</th>\n",
       "      <th>cylinders</th>\n",
       "      <th>fuel</th>\n",
       "      <th>odometer</th>\n",
       "      <th>title_status</th>\n",
       "      <th>drive</th>\n",
       "      <th>type</th>\n",
       "      <th>paint_color</th>\n",
       "      <th>state</th>\n",
       "      <th>lat</th>\n",
       "      <th>long</th>\n",
       "    </tr>\n",
       "  </thead>\n",
       "  <tbody>\n",
       "    <tr>\n",
       "      <th>31</th>\n",
       "      <td>auburn</td>\n",
       "      <td>15000</td>\n",
       "      <td>2013.0</td>\n",
       "      <td>ford</td>\n",
       "      <td>f-150 xlt</td>\n",
       "      <td>excellent</td>\n",
       "      <td>6 cylinders</td>\n",
       "      <td>gas</td>\n",
       "      <td>128000.0</td>\n",
       "      <td>clean</td>\n",
       "      <td>rwd</td>\n",
       "      <td>truck</td>\n",
       "      <td>black</td>\n",
       "      <td>al</td>\n",
       "      <td>32.592000</td>\n",
       "      <td>-85.518900</td>\n",
       "    </tr>\n",
       "    <tr>\n",
       "      <th>32</th>\n",
       "      <td>auburn</td>\n",
       "      <td>27990</td>\n",
       "      <td>2012.0</td>\n",
       "      <td>gmc</td>\n",
       "      <td>sierra 2500 hd extended cab</td>\n",
       "      <td>good</td>\n",
       "      <td>8 cylinders</td>\n",
       "      <td>gas</td>\n",
       "      <td>68696.0</td>\n",
       "      <td>clean</td>\n",
       "      <td>4wd</td>\n",
       "      <td>pickup</td>\n",
       "      <td>black</td>\n",
       "      <td>al</td>\n",
       "      <td>32.590000</td>\n",
       "      <td>-85.480000</td>\n",
       "    </tr>\n",
       "    <tr>\n",
       "      <th>33</th>\n",
       "      <td>auburn</td>\n",
       "      <td>34590</td>\n",
       "      <td>2016.0</td>\n",
       "      <td>chevrolet</td>\n",
       "      <td>silverado 1500 double</td>\n",
       "      <td>good</td>\n",
       "      <td>6 cylinders</td>\n",
       "      <td>gas</td>\n",
       "      <td>29499.0</td>\n",
       "      <td>clean</td>\n",
       "      <td>4wd</td>\n",
       "      <td>pickup</td>\n",
       "      <td>silver</td>\n",
       "      <td>al</td>\n",
       "      <td>32.590000</td>\n",
       "      <td>-85.480000</td>\n",
       "    </tr>\n",
       "    <tr>\n",
       "      <th>34</th>\n",
       "      <td>auburn</td>\n",
       "      <td>35000</td>\n",
       "      <td>2019.0</td>\n",
       "      <td>toyota</td>\n",
       "      <td>tacoma</td>\n",
       "      <td>excellent</td>\n",
       "      <td>6 cylinders</td>\n",
       "      <td>gas</td>\n",
       "      <td>43000.0</td>\n",
       "      <td>clean</td>\n",
       "      <td>4wd</td>\n",
       "      <td>truck</td>\n",
       "      <td>grey</td>\n",
       "      <td>al</td>\n",
       "      <td>32.601300</td>\n",
       "      <td>-85.443974</td>\n",
       "    </tr>\n",
       "    <tr>\n",
       "      <th>35</th>\n",
       "      <td>auburn</td>\n",
       "      <td>29990</td>\n",
       "      <td>2016.0</td>\n",
       "      <td>chevrolet</td>\n",
       "      <td>colorado extended cab</td>\n",
       "      <td>good</td>\n",
       "      <td>6 cylinders</td>\n",
       "      <td>gas</td>\n",
       "      <td>17302.0</td>\n",
       "      <td>clean</td>\n",
       "      <td>4wd</td>\n",
       "      <td>pickup</td>\n",
       "      <td>red</td>\n",
       "      <td>al</td>\n",
       "      <td>32.590000</td>\n",
       "      <td>-85.480000</td>\n",
       "    </tr>\n",
       "    <tr>\n",
       "      <th>...</th>\n",
       "      <td>...</td>\n",
       "      <td>...</td>\n",
       "      <td>...</td>\n",
       "      <td>...</td>\n",
       "      <td>...</td>\n",
       "      <td>...</td>\n",
       "      <td>...</td>\n",
       "      <td>...</td>\n",
       "      <td>...</td>\n",
       "      <td>...</td>\n",
       "      <td>...</td>\n",
       "      <td>...</td>\n",
       "      <td>...</td>\n",
       "      <td>...</td>\n",
       "      <td>...</td>\n",
       "      <td>...</td>\n",
       "    </tr>\n",
       "    <tr>\n",
       "      <th>426859</th>\n",
       "      <td>wyoming</td>\n",
       "      <td>48590</td>\n",
       "      <td>2020.0</td>\n",
       "      <td>cadillac</td>\n",
       "      <td>xt6 premium luxury</td>\n",
       "      <td>good</td>\n",
       "      <td>6 cylinders</td>\n",
       "      <td>gas</td>\n",
       "      <td>7701.0</td>\n",
       "      <td>clean</td>\n",
       "      <td>fwd</td>\n",
       "      <td>other</td>\n",
       "      <td>black</td>\n",
       "      <td>wy</td>\n",
       "      <td>33.779214</td>\n",
       "      <td>-84.411811</td>\n",
       "    </tr>\n",
       "    <tr>\n",
       "      <th>426860</th>\n",
       "      <td>wyoming</td>\n",
       "      <td>39990</td>\n",
       "      <td>2017.0</td>\n",
       "      <td>infiniti</td>\n",
       "      <td>qx80 sport utility 4d</td>\n",
       "      <td>good</td>\n",
       "      <td>8 cylinders</td>\n",
       "      <td>gas</td>\n",
       "      <td>41664.0</td>\n",
       "      <td>clean</td>\n",
       "      <td>4wd</td>\n",
       "      <td>other</td>\n",
       "      <td>black</td>\n",
       "      <td>wy</td>\n",
       "      <td>33.779214</td>\n",
       "      <td>-84.411811</td>\n",
       "    </tr>\n",
       "    <tr>\n",
       "      <th>426866</th>\n",
       "      <td>wyoming</td>\n",
       "      <td>32990</td>\n",
       "      <td>2016.0</td>\n",
       "      <td>infiniti</td>\n",
       "      <td>qx80 sport utility 4d</td>\n",
       "      <td>good</td>\n",
       "      <td>8 cylinders</td>\n",
       "      <td>gas</td>\n",
       "      <td>55612.0</td>\n",
       "      <td>clean</td>\n",
       "      <td>rwd</td>\n",
       "      <td>other</td>\n",
       "      <td>black</td>\n",
       "      <td>wy</td>\n",
       "      <td>33.779214</td>\n",
       "      <td>-84.411811</td>\n",
       "    </tr>\n",
       "    <tr>\n",
       "      <th>426874</th>\n",
       "      <td>wyoming</td>\n",
       "      <td>33590</td>\n",
       "      <td>2018.0</td>\n",
       "      <td>lexus</td>\n",
       "      <td>gs 350 sedan 4d</td>\n",
       "      <td>good</td>\n",
       "      <td>6 cylinders</td>\n",
       "      <td>gas</td>\n",
       "      <td>30814.0</td>\n",
       "      <td>clean</td>\n",
       "      <td>rwd</td>\n",
       "      <td>sedan</td>\n",
       "      <td>white</td>\n",
       "      <td>wy</td>\n",
       "      <td>33.779214</td>\n",
       "      <td>-84.411811</td>\n",
       "    </tr>\n",
       "    <tr>\n",
       "      <th>426878</th>\n",
       "      <td>wyoming</td>\n",
       "      <td>28990</td>\n",
       "      <td>2018.0</td>\n",
       "      <td>lexus</td>\n",
       "      <td>es 350 sedan 4d</td>\n",
       "      <td>good</td>\n",
       "      <td>6 cylinders</td>\n",
       "      <td>gas</td>\n",
       "      <td>30112.0</td>\n",
       "      <td>clean</td>\n",
       "      <td>fwd</td>\n",
       "      <td>sedan</td>\n",
       "      <td>silver</td>\n",
       "      <td>wy</td>\n",
       "      <td>33.786500</td>\n",
       "      <td>-84.445400</td>\n",
       "    </tr>\n",
       "  </tbody>\n",
       "</table>\n",
       "<p>115446 rows × 16 columns</p>\n",
       "</div>"
      ],
      "text/plain": [
       "         region  price    year  ... state        lat       long\n",
       "31       auburn  15000  2013.0  ...    al  32.592000 -85.518900\n",
       "32       auburn  27990  2012.0  ...    al  32.590000 -85.480000\n",
       "33       auburn  34590  2016.0  ...    al  32.590000 -85.480000\n",
       "34       auburn  35000  2019.0  ...    al  32.601300 -85.443974\n",
       "35       auburn  29990  2016.0  ...    al  32.590000 -85.480000\n",
       "...         ...    ...     ...  ...   ...        ...        ...\n",
       "426859  wyoming  48590  2020.0  ...    wy  33.779214 -84.411811\n",
       "426860  wyoming  39990  2017.0  ...    wy  33.779214 -84.411811\n",
       "426866  wyoming  32990  2016.0  ...    wy  33.779214 -84.411811\n",
       "426874  wyoming  33590  2018.0  ...    wy  33.779214 -84.411811\n",
       "426878  wyoming  28990  2018.0  ...    wy  33.786500 -84.445400\n",
       "\n",
       "[115446 rows x 16 columns]"
      ]
     },
     "execution_count": 26,
     "metadata": {
      "tags": []
     },
     "output_type": "execute_result"
    }
   ],
   "source": [
    "cars3_df"
   ]
  },
  {
   "cell_type": "markdown",
   "metadata": {
    "id": "5kP_POF0J6Tm"
   },
   "source": [
    "Lets see the new look of our dataset"
   ]
  },
  {
   "cell_type": "code",
   "execution_count": null,
   "metadata": {
    "colab": {
     "base_uri": "https://localhost:8080/"
    },
    "executionInfo": {
     "elapsed": 431,
     "status": "ok",
     "timestamp": 1625094085642,
     "user": {
      "displayName": "nasiru sule",
      "photoUrl": "https://lh3.googleusercontent.com/a-/AOh14GiVuRFYjI43LxMj_Q8ZlQSSi4rs-Su2HdfNPNxp7A=s64",
      "userId": "16455627822583485460"
     },
     "user_tz": -60
    },
    "id": "xNRj0VlvqEK4",
    "outputId": "ef4cf806-27cc-4ba7-cd8e-84b68264c4e5"
   },
   "outputs": [
    {
     "name": "stdout",
     "output_type": "stream",
     "text": [
      "<class 'pandas.core.frame.DataFrame'>\n",
      "Int64Index: 115446 entries, 31 to 426878\n",
      "Data columns (total 16 columns):\n",
      " #   Column        Non-Null Count   Dtype  \n",
      "---  ------        --------------   -----  \n",
      " 0   region        115446 non-null  object \n",
      " 1   price         115446 non-null  int64  \n",
      " 2   year          115446 non-null  float64\n",
      " 3   manufacturer  115446 non-null  object \n",
      " 4   model         115446 non-null  object \n",
      " 5   condition     115446 non-null  object \n",
      " 6   cylinders     115446 non-null  object \n",
      " 7   fuel          115446 non-null  object \n",
      " 8   odometer      115446 non-null  float64\n",
      " 9   title_status  115446 non-null  object \n",
      " 10  drive         115446 non-null  object \n",
      " 11  type          115446 non-null  object \n",
      " 12  paint_color   115446 non-null  object \n",
      " 13  state         115446 non-null  object \n",
      " 14  lat           115446 non-null  float64\n",
      " 15  long          115446 non-null  float64\n",
      "dtypes: float64(4), int64(1), object(11)\n",
      "memory usage: 15.0+ MB\n"
     ]
    }
   ],
   "source": [
    "cars3_df.info()"
   ]
  },
  {
   "cell_type": "markdown",
   "metadata": {
    "id": "MlJdU9NwlsHi"
   },
   "source": [
    "We will convert the \"year\" column to an int16 data type. "
   ]
  },
  {
   "cell_type": "code",
   "execution_count": null,
   "metadata": {
    "colab": {
     "base_uri": "https://localhost:8080/"
    },
    "executionInfo": {
     "elapsed": 438,
     "status": "ok",
     "timestamp": 1625094097713,
     "user": {
      "displayName": "nasiru sule",
      "photoUrl": "https://lh3.googleusercontent.com/a-/AOh14GiVuRFYjI43LxMj_Q8ZlQSSi4rs-Su2HdfNPNxp7A=s64",
      "userId": "16455627822583485460"
     },
     "user_tz": -60
    },
    "id": "xueBeHromZgE",
    "outputId": "9ce85c84-54b9-43cd-fc75-dba1c402c2e8"
   },
   "outputs": [
    {
     "data": {
      "text/plain": [
       "region           object\n",
       "price             int64\n",
       "year              int16\n",
       "manufacturer     object\n",
       "model            object\n",
       "condition        object\n",
       "cylinders        object\n",
       "fuel             object\n",
       "odometer        float64\n",
       "title_status     object\n",
       "drive            object\n",
       "type             object\n",
       "paint_color      object\n",
       "state            object\n",
       "lat             float64\n",
       "long            float64\n",
       "dtype: object"
      ]
     },
     "execution_count": 28,
     "metadata": {
      "tags": []
     },
     "output_type": "execute_result"
    }
   ],
   "source": [
    "cars3_df.astype({\"year\":\"int16\"}).dtypes"
   ]
  },
  {
   "cell_type": "code",
   "execution_count": null,
   "metadata": {
    "colab": {
     "base_uri": "https://localhost:8080/",
     "height": 297
    },
    "executionInfo": {
     "elapsed": 28,
     "status": "ok",
     "timestamp": 1625094101393,
     "user": {
      "displayName": "nasiru sule",
      "photoUrl": "https://lh3.googleusercontent.com/a-/AOh14GiVuRFYjI43LxMj_Q8ZlQSSi4rs-Su2HdfNPNxp7A=s64",
      "userId": "16455627822583485460"
     },
     "user_tz": -60
    },
    "id": "dmYqE8Dqw9od",
    "outputId": "0d20bc6d-31c8-4d3d-cb59-9c74648882d8"
   },
   "outputs": [
    {
     "data": {
      "text/html": [
       "<div>\n",
       "<style scoped>\n",
       "    .dataframe tbody tr th:only-of-type {\n",
       "        vertical-align: middle;\n",
       "    }\n",
       "\n",
       "    .dataframe tbody tr th {\n",
       "        vertical-align: top;\n",
       "    }\n",
       "\n",
       "    .dataframe thead th {\n",
       "        text-align: right;\n",
       "    }\n",
       "</style>\n",
       "<table border=\"1\" class=\"dataframe\">\n",
       "  <thead>\n",
       "    <tr style=\"text-align: right;\">\n",
       "      <th></th>\n",
       "      <th>price</th>\n",
       "      <th>year</th>\n",
       "      <th>odometer</th>\n",
       "      <th>lat</th>\n",
       "      <th>long</th>\n",
       "    </tr>\n",
       "  </thead>\n",
       "  <tbody>\n",
       "    <tr>\n",
       "      <th>count</th>\n",
       "      <td>1.154460e+05</td>\n",
       "      <td>115446.000000</td>\n",
       "      <td>1.154460e+05</td>\n",
       "      <td>115446.000000</td>\n",
       "      <td>115446.000000</td>\n",
       "    </tr>\n",
       "    <tr>\n",
       "      <th>mean</th>\n",
       "      <td>6.088444e+04</td>\n",
       "      <td>2009.544757</td>\n",
       "      <td>1.119571e+05</td>\n",
       "      <td>38.441055</td>\n",
       "      <td>-92.276820</td>\n",
       "    </tr>\n",
       "    <tr>\n",
       "      <th>std</th>\n",
       "      <td>1.149255e+07</td>\n",
       "      <td>9.608423</td>\n",
       "      <td>2.201927e+05</td>\n",
       "      <td>5.523153</td>\n",
       "      <td>17.397373</td>\n",
       "    </tr>\n",
       "    <tr>\n",
       "      <th>min</th>\n",
       "      <td>0.000000e+00</td>\n",
       "      <td>1900.000000</td>\n",
       "      <td>0.000000e+00</td>\n",
       "      <td>-81.838232</td>\n",
       "      <td>-159.719900</td>\n",
       "    </tr>\n",
       "    <tr>\n",
       "      <th>25%</th>\n",
       "      <td>5.700000e+03</td>\n",
       "      <td>2006.000000</td>\n",
       "      <td>5.552525e+04</td>\n",
       "      <td>34.977100</td>\n",
       "      <td>-103.198130</td>\n",
       "    </tr>\n",
       "    <tr>\n",
       "      <th>50%</th>\n",
       "      <td>1.099500e+04</td>\n",
       "      <td>2012.000000</td>\n",
       "      <td>1.028300e+05</td>\n",
       "      <td>39.286850</td>\n",
       "      <td>-86.260000</td>\n",
       "    </tr>\n",
       "    <tr>\n",
       "      <th>75%</th>\n",
       "      <td>2.290000e+04</td>\n",
       "      <td>2015.000000</td>\n",
       "      <td>1.478000e+05</td>\n",
       "      <td>42.244100</td>\n",
       "      <td>-79.984705</td>\n",
       "    </tr>\n",
       "    <tr>\n",
       "      <th>max</th>\n",
       "      <td>3.736929e+09</td>\n",
       "      <td>2022.000000</td>\n",
       "      <td>1.000000e+07</td>\n",
       "      <td>82.252826</td>\n",
       "      <td>139.691700</td>\n",
       "    </tr>\n",
       "  </tbody>\n",
       "</table>\n",
       "</div>"
      ],
      "text/plain": [
       "              price           year      odometer            lat           long\n",
       "count  1.154460e+05  115446.000000  1.154460e+05  115446.000000  115446.000000\n",
       "mean   6.088444e+04    2009.544757  1.119571e+05      38.441055     -92.276820\n",
       "std    1.149255e+07       9.608423  2.201927e+05       5.523153      17.397373\n",
       "min    0.000000e+00    1900.000000  0.000000e+00     -81.838232    -159.719900\n",
       "25%    5.700000e+03    2006.000000  5.552525e+04      34.977100    -103.198130\n",
       "50%    1.099500e+04    2012.000000  1.028300e+05      39.286850     -86.260000\n",
       "75%    2.290000e+04    2015.000000  1.478000e+05      42.244100     -79.984705\n",
       "max    3.736929e+09    2022.000000  1.000000e+07      82.252826     139.691700"
      ]
     },
     "execution_count": 29,
     "metadata": {
      "tags": []
     },
     "output_type": "execute_result"
    }
   ],
   "source": [
    "cars3_df.describe()"
   ]
  },
  {
   "cell_type": "markdown",
   "metadata": {
    "id": "i0LMRxWWI53J"
   },
   "source": [
    "From the numeric description above, we can see that, under the 'year' column, the least(min) year is 1900 while the earliest(max) is 2022. But we are in 2021 and its almost impossible to have cars from way back 1900 still present and up for sale at a price in this present time.\n",
    "\n",
    "Let's have a look at some of the cars presented as being from 1900 and also made in 2022 and see how reliable this information is."
   ]
  },
  {
   "cell_type": "code",
   "execution_count": null,
   "metadata": {
    "colab": {
     "base_uri": "https://localhost:8080/",
     "height": 80
    },
    "executionInfo": {
     "elapsed": 613,
     "status": "ok",
     "timestamp": 1625094117265,
     "user": {
      "displayName": "nasiru sule",
      "photoUrl": "https://lh3.googleusercontent.com/a-/AOh14GiVuRFYjI43LxMj_Q8ZlQSSi4rs-Su2HdfNPNxp7A=s64",
      "userId": "16455627822583485460"
     },
     "user_tz": -60
    },
    "id": "0XRFIh3s_Sye",
    "outputId": "b31e0272-9ee9-4c26-9e5d-94685c73e5e2"
   },
   "outputs": [
    {
     "data": {
      "text/html": [
       "<div>\n",
       "<style scoped>\n",
       "    .dataframe tbody tr th:only-of-type {\n",
       "        vertical-align: middle;\n",
       "    }\n",
       "\n",
       "    .dataframe tbody tr th {\n",
       "        vertical-align: top;\n",
       "    }\n",
       "\n",
       "    .dataframe thead th {\n",
       "        text-align: right;\n",
       "    }\n",
       "</style>\n",
       "<table border=\"1\" class=\"dataframe\">\n",
       "  <thead>\n",
       "    <tr style=\"text-align: right;\">\n",
       "      <th></th>\n",
       "      <th>region</th>\n",
       "      <th>price</th>\n",
       "      <th>year</th>\n",
       "      <th>manufacturer</th>\n",
       "      <th>model</th>\n",
       "      <th>condition</th>\n",
       "      <th>cylinders</th>\n",
       "      <th>fuel</th>\n",
       "      <th>odometer</th>\n",
       "      <th>title_status</th>\n",
       "      <th>drive</th>\n",
       "      <th>type</th>\n",
       "      <th>paint_color</th>\n",
       "      <th>state</th>\n",
       "      <th>lat</th>\n",
       "      <th>long</th>\n",
       "    </tr>\n",
       "  </thead>\n",
       "  <tbody>\n",
       "    <tr>\n",
       "      <th>42454</th>\n",
       "      <td>orange county</td>\n",
       "      <td>38250</td>\n",
       "      <td>1900.0</td>\n",
       "      <td>acura</td>\n",
       "      <td>rdx</td>\n",
       "      <td>new</td>\n",
       "      <td>4 cylinders</td>\n",
       "      <td>gas</td>\n",
       "      <td>4500.0</td>\n",
       "      <td>clean</td>\n",
       "      <td>4wd</td>\n",
       "      <td>SUV</td>\n",
       "      <td>silver</td>\n",
       "      <td>ca</td>\n",
       "      <td>33.621789</td>\n",
       "      <td>-117.724006</td>\n",
       "    </tr>\n",
       "  </tbody>\n",
       "</table>\n",
       "</div>"
      ],
      "text/plain": [
       "              region  price    year  ... state        lat        long\n",
       "42454  orange county  38250  1900.0  ...    ca  33.621789 -117.724006\n",
       "\n",
       "[1 rows x 16 columns]"
      ]
     },
     "execution_count": 30,
     "metadata": {
      "tags": []
     },
     "output_type": "execute_result"
    }
   ],
   "source": [
    "cars3_df.loc[cars3_df['year']== 1900]"
   ]
  },
  {
   "cell_type": "markdown",
   "metadata": {
    "id": "NpfA7Nu8J8io"
   },
   "source": [
    "From further research, its obvious that the Acura rdx is not a 1900 vehicle and its model years, infact, started from 2007."
   ]
  },
  {
   "cell_type": "code",
   "execution_count": null,
   "metadata": {
    "colab": {
     "base_uri": "https://localhost:8080/",
     "height": 241
    },
    "executionInfo": {
     "elapsed": 520,
     "status": "ok",
     "timestamp": 1625094121707,
     "user": {
      "displayName": "nasiru sule",
      "photoUrl": "https://lh3.googleusercontent.com/a-/AOh14GiVuRFYjI43LxMj_Q8ZlQSSi4rs-Su2HdfNPNxp7A=s64",
      "userId": "16455627822583485460"
     },
     "user_tz": -60
    },
    "id": "9wzddyLYA8Oz",
    "outputId": "3cca2514-705d-4403-8768-121061e803a2"
   },
   "outputs": [
    {
     "data": {
      "text/html": [
       "<div>\n",
       "<style scoped>\n",
       "    .dataframe tbody tr th:only-of-type {\n",
       "        vertical-align: middle;\n",
       "    }\n",
       "\n",
       "    .dataframe tbody tr th {\n",
       "        vertical-align: top;\n",
       "    }\n",
       "\n",
       "    .dataframe thead th {\n",
       "        text-align: right;\n",
       "    }\n",
       "</style>\n",
       "<table border=\"1\" class=\"dataframe\">\n",
       "  <thead>\n",
       "    <tr style=\"text-align: right;\">\n",
       "      <th></th>\n",
       "      <th>region</th>\n",
       "      <th>price</th>\n",
       "      <th>year</th>\n",
       "      <th>manufacturer</th>\n",
       "      <th>model</th>\n",
       "      <th>condition</th>\n",
       "      <th>cylinders</th>\n",
       "      <th>fuel</th>\n",
       "      <th>odometer</th>\n",
       "      <th>title_status</th>\n",
       "      <th>drive</th>\n",
       "      <th>type</th>\n",
       "      <th>paint_color</th>\n",
       "      <th>state</th>\n",
       "      <th>lat</th>\n",
       "      <th>long</th>\n",
       "    </tr>\n",
       "  </thead>\n",
       "  <tbody>\n",
       "    <tr>\n",
       "      <th>65612</th>\n",
       "      <td>stockton</td>\n",
       "      <td>3500</td>\n",
       "      <td>2022.0</td>\n",
       "      <td>toyota</td>\n",
       "      <td>mighty max</td>\n",
       "      <td>fair</td>\n",
       "      <td>4 cylinders</td>\n",
       "      <td>gas</td>\n",
       "      <td>180000.0</td>\n",
       "      <td>clean</td>\n",
       "      <td>fwd</td>\n",
       "      <td>truck</td>\n",
       "      <td>white</td>\n",
       "      <td>ca</td>\n",
       "      <td>37.738300</td>\n",
       "      <td>-121.434500</td>\n",
       "    </tr>\n",
       "    <tr>\n",
       "      <th>165048</th>\n",
       "      <td>kansas city, MO</td>\n",
       "      <td>30850</td>\n",
       "      <td>2022.0</td>\n",
       "      <td>mitsubishi</td>\n",
       "      <td>eclipse cross se</td>\n",
       "      <td>new</td>\n",
       "      <td>4 cylinders</td>\n",
       "      <td>gas</td>\n",
       "      <td>10.0</td>\n",
       "      <td>clean</td>\n",
       "      <td>fwd</td>\n",
       "      <td>SUV</td>\n",
       "      <td>blue</td>\n",
       "      <td>ks</td>\n",
       "      <td>38.967626</td>\n",
       "      <td>-94.516786</td>\n",
       "    </tr>\n",
       "    <tr>\n",
       "      <th>167095</th>\n",
       "      <td>kansas city, MO</td>\n",
       "      <td>27725</td>\n",
       "      <td>2022.0</td>\n",
       "      <td>mitsubishi</td>\n",
       "      <td>eclipse cross se</td>\n",
       "      <td>new</td>\n",
       "      <td>4 cylinders</td>\n",
       "      <td>diesel</td>\n",
       "      <td>1.0</td>\n",
       "      <td>clean</td>\n",
       "      <td>fwd</td>\n",
       "      <td>SUV</td>\n",
       "      <td>silver</td>\n",
       "      <td>ks</td>\n",
       "      <td>38.952800</td>\n",
       "      <td>-94.470500</td>\n",
       "    </tr>\n",
       "    <tr>\n",
       "      <th>225238</th>\n",
       "      <td>bozeman</td>\n",
       "      <td>12345</td>\n",
       "      <td>2022.0</td>\n",
       "      <td>chevrolet</td>\n",
       "      <td>silverado</td>\n",
       "      <td>fair</td>\n",
       "      <td>12 cylinders</td>\n",
       "      <td>gas</td>\n",
       "      <td>1000000.0</td>\n",
       "      <td>clean</td>\n",
       "      <td>4wd</td>\n",
       "      <td>truck</td>\n",
       "      <td>purple</td>\n",
       "      <td>mt</td>\n",
       "      <td>45.423000</td>\n",
       "      <td>-112.173500</td>\n",
       "    </tr>\n",
       "  </tbody>\n",
       "</table>\n",
       "</div>"
      ],
      "text/plain": [
       "                 region  price    year  ... state        lat        long\n",
       "65612          stockton   3500  2022.0  ...    ca  37.738300 -121.434500\n",
       "165048  kansas city, MO  30850  2022.0  ...    ks  38.967626  -94.516786\n",
       "167095  kansas city, MO  27725  2022.0  ...    ks  38.952800  -94.470500\n",
       "225238          bozeman  12345  2022.0  ...    mt  45.423000 -112.173500\n",
       "\n",
       "[4 rows x 16 columns]"
      ]
     },
     "execution_count": 31,
     "metadata": {
      "tags": []
     },
     "output_type": "execute_result"
    }
   ],
   "source": [
    "cars3_df.loc[cars3_df['year']== 2022]"
   ]
  },
  {
   "cell_type": "markdown",
   "metadata": {
    "id": "Zw29xKgjLEy-"
   },
   "source": [
    "Researching on the Chevrolet silverado, considering the price tag and the odometer reading on this dataset, it is obvious that this is not a 2022 vehicle.\n",
    "Although 2022 cars are currently being advertised, the only reason they are on this dataset will likely be for sales booking, hence, the 'year' column of this dataset might not be completely reliable for analysis."
   ]
  },
  {
   "cell_type": "markdown",
   "metadata": {
    "id": "NGn8zZC4NI8o"
   },
   "source": [
    "Also, the maximum price in the cars3_df is over 3 Billion while the least price is 0, which is impossible since this is a car selling, not gifting, site. Let's see what car that is."
   ]
  },
  {
   "cell_type": "code",
   "execution_count": null,
   "metadata": {
    "colab": {
     "base_uri": "https://localhost:8080/",
     "height": 100
    },
    "executionInfo": {
     "elapsed": 558,
     "status": "ok",
     "timestamp": 1625094130124,
     "user": {
      "displayName": "nasiru sule",
      "photoUrl": "https://lh3.googleusercontent.com/a-/AOh14GiVuRFYjI43LxMj_Q8ZlQSSi4rs-Su2HdfNPNxp7A=s64",
      "userId": "16455627822583485460"
     },
     "user_tz": -60
    },
    "id": "lOMh6lHJNDlg",
    "outputId": "6efc55bb-0ec0-442d-b6e0-7a9e0f17de72"
   },
   "outputs": [
    {
     "data": {
      "text/html": [
       "<div>\n",
       "<style scoped>\n",
       "    .dataframe tbody tr th:only-of-type {\n",
       "        vertical-align: middle;\n",
       "    }\n",
       "\n",
       "    .dataframe tbody tr th {\n",
       "        vertical-align: top;\n",
       "    }\n",
       "\n",
       "    .dataframe thead th {\n",
       "        text-align: right;\n",
       "    }\n",
       "</style>\n",
       "<table border=\"1\" class=\"dataframe\">\n",
       "  <thead>\n",
       "    <tr style=\"text-align: right;\">\n",
       "      <th></th>\n",
       "      <th>region</th>\n",
       "      <th>price</th>\n",
       "      <th>year</th>\n",
       "      <th>manufacturer</th>\n",
       "      <th>model</th>\n",
       "      <th>condition</th>\n",
       "      <th>cylinders</th>\n",
       "      <th>fuel</th>\n",
       "      <th>odometer</th>\n",
       "      <th>title_status</th>\n",
       "      <th>drive</th>\n",
       "      <th>type</th>\n",
       "      <th>paint_color</th>\n",
       "      <th>state</th>\n",
       "      <th>lat</th>\n",
       "      <th>long</th>\n",
       "    </tr>\n",
       "  </thead>\n",
       "  <tbody>\n",
       "    <tr>\n",
       "      <th>318592</th>\n",
       "      <td>eugene</td>\n",
       "      <td>3736928711</td>\n",
       "      <td>2007.0</td>\n",
       "      <td>toyota</td>\n",
       "      <td>tundra</td>\n",
       "      <td>excellent</td>\n",
       "      <td>8 cylinders</td>\n",
       "      <td>gas</td>\n",
       "      <td>164000.0</td>\n",
       "      <td>clean</td>\n",
       "      <td>4wd</td>\n",
       "      <td>pickup</td>\n",
       "      <td>silver</td>\n",
       "      <td>or</td>\n",
       "      <td>44.066092</td>\n",
       "      <td>-124.037561</td>\n",
       "    </tr>\n",
       "  </tbody>\n",
       "</table>\n",
       "</div>"
      ],
      "text/plain": [
       "        region       price    year  ... state        lat        long\n",
       "318592  eugene  3736928711  2007.0  ...    or  44.066092 -124.037561\n",
       "\n",
       "[1 rows x 16 columns]"
      ]
     },
     "execution_count": 32,
     "metadata": {
      "tags": []
     },
     "output_type": "execute_result"
    }
   ],
   "source": [
    "cars3_df.loc[cars3_df['price']>3000000000]"
   ]
  },
  {
   "cell_type": "markdown",
   "metadata": {
    "id": "lZMVRqVUQsEe"
   },
   "source": [
    "From research, the latest Toyota Tundra is the 2021 model and its price is not more than $80,000.\n",
    "The only explanation to this is that there was likely a data input error.\n",
    "Lets have a look at the top 5 most expensive vehicles."
   ]
  },
  {
   "cell_type": "code",
   "execution_count": null,
   "metadata": {
    "colab": {
     "base_uri": "https://localhost:8080/",
     "height": 343
    },
    "executionInfo": {
     "elapsed": 498,
     "status": "ok",
     "timestamp": 1625094135280,
     "user": {
      "displayName": "nasiru sule",
      "photoUrl": "https://lh3.googleusercontent.com/a-/AOh14GiVuRFYjI43LxMj_Q8ZlQSSi4rs-Su2HdfNPNxp7A=s64",
      "userId": "16455627822583485460"
     },
     "user_tz": -60
    },
    "id": "HiF9ig4MRTKh",
    "outputId": "8da27573-d0e5-4e50-823f-b1091fe6bf55"
   },
   "outputs": [
    {
     "data": {
      "text/html": [
       "<div>\n",
       "<style scoped>\n",
       "    .dataframe tbody tr th:only-of-type {\n",
       "        vertical-align: middle;\n",
       "    }\n",
       "\n",
       "    .dataframe tbody tr th {\n",
       "        vertical-align: top;\n",
       "    }\n",
       "\n",
       "    .dataframe thead th {\n",
       "        text-align: right;\n",
       "    }\n",
       "</style>\n",
       "<table border=\"1\" class=\"dataframe\">\n",
       "  <thead>\n",
       "    <tr style=\"text-align: right;\">\n",
       "      <th></th>\n",
       "      <th>region</th>\n",
       "      <th>price</th>\n",
       "      <th>year</th>\n",
       "      <th>manufacturer</th>\n",
       "      <th>model</th>\n",
       "      <th>condition</th>\n",
       "      <th>cylinders</th>\n",
       "      <th>fuel</th>\n",
       "      <th>odometer</th>\n",
       "      <th>title_status</th>\n",
       "      <th>drive</th>\n",
       "      <th>type</th>\n",
       "      <th>paint_color</th>\n",
       "      <th>state</th>\n",
       "      <th>lat</th>\n",
       "      <th>long</th>\n",
       "    </tr>\n",
       "  </thead>\n",
       "  <tbody>\n",
       "    <tr>\n",
       "      <th>318592</th>\n",
       "      <td>eugene</td>\n",
       "      <td>3736928711</td>\n",
       "      <td>2007.0</td>\n",
       "      <td>toyota</td>\n",
       "      <td>tundra</td>\n",
       "      <td>excellent</td>\n",
       "      <td>8 cylinders</td>\n",
       "      <td>gas</td>\n",
       "      <td>164000.0</td>\n",
       "      <td>clean</td>\n",
       "      <td>4wd</td>\n",
       "      <td>pickup</td>\n",
       "      <td>silver</td>\n",
       "      <td>or</td>\n",
       "      <td>44.066092</td>\n",
       "      <td>-124.037561</td>\n",
       "    </tr>\n",
       "    <tr>\n",
       "      <th>29386</th>\n",
       "      <td>humboldt county</td>\n",
       "      <td>1111111111</td>\n",
       "      <td>1999.0</td>\n",
       "      <td>ford</td>\n",
       "      <td>f350 super duty lariat</td>\n",
       "      <td>good</td>\n",
       "      <td>8 cylinders</td>\n",
       "      <td>diesel</td>\n",
       "      <td>149000.0</td>\n",
       "      <td>clean</td>\n",
       "      <td>rwd</td>\n",
       "      <td>pickup</td>\n",
       "      <td>white</td>\n",
       "      <td>ca</td>\n",
       "      <td>40.946500</td>\n",
       "      <td>-124.083400</td>\n",
       "    </tr>\n",
       "    <tr>\n",
       "      <th>230753</th>\n",
       "      <td>asheville</td>\n",
       "      <td>135008900</td>\n",
       "      <td>2008.0</td>\n",
       "      <td>nissan</td>\n",
       "      <td>titan se kingcab</td>\n",
       "      <td>like new</td>\n",
       "      <td>8 cylinders</td>\n",
       "      <td>gas</td>\n",
       "      <td>110500.0</td>\n",
       "      <td>clean</td>\n",
       "      <td>4wd</td>\n",
       "      <td>truck</td>\n",
       "      <td>grey</td>\n",
       "      <td>nc</td>\n",
       "      <td>35.637151</td>\n",
       "      <td>-83.092004</td>\n",
       "    </tr>\n",
       "    <tr>\n",
       "      <th>137807</th>\n",
       "      <td>spokane / coeur d'alene</td>\n",
       "      <td>123456789</td>\n",
       "      <td>1999.0</td>\n",
       "      <td>buick</td>\n",
       "      <td>regal</td>\n",
       "      <td>like new</td>\n",
       "      <td>6 cylinders</td>\n",
       "      <td>gas</td>\n",
       "      <td>96000.0</td>\n",
       "      <td>clean</td>\n",
       "      <td>fwd</td>\n",
       "      <td>sedan</td>\n",
       "      <td>white</td>\n",
       "      <td>id</td>\n",
       "      <td>47.695200</td>\n",
       "      <td>-117.365800</td>\n",
       "    </tr>\n",
       "    <tr>\n",
       "      <th>307488</th>\n",
       "      <td>stillwater</td>\n",
       "      <td>123456789</td>\n",
       "      <td>1996.0</td>\n",
       "      <td>gmc</td>\n",
       "      <td>sierra 2500</td>\n",
       "      <td>fair</td>\n",
       "      <td>8 cylinders</td>\n",
       "      <td>gas</td>\n",
       "      <td>320000.0</td>\n",
       "      <td>clean</td>\n",
       "      <td>4wd</td>\n",
       "      <td>pickup</td>\n",
       "      <td>black</td>\n",
       "      <td>ok</td>\n",
       "      <td>36.703100</td>\n",
       "      <td>-97.078400</td>\n",
       "    </tr>\n",
       "  </tbody>\n",
       "</table>\n",
       "</div>"
      ],
      "text/plain": [
       "                         region       price  ...        lat        long\n",
       "318592                   eugene  3736928711  ...  44.066092 -124.037561\n",
       "29386           humboldt county  1111111111  ...  40.946500 -124.083400\n",
       "230753                asheville   135008900  ...  35.637151  -83.092004\n",
       "137807  spokane / coeur d'alene   123456789  ...  47.695200 -117.365800\n",
       "307488               stillwater   123456789  ...  36.703100  -97.078400\n",
       "\n",
       "[5 rows x 16 columns]"
      ]
     },
     "execution_count": 33,
     "metadata": {
      "tags": []
     },
     "output_type": "execute_result"
    }
   ],
   "source": [
    "cars3_df.sort_values(by=['price'], ascending= False).head()"
   ]
  },
  {
   "cell_type": "markdown",
   "metadata": {
    "id": "0oFk0rsSm8lH"
   },
   "source": [
    "The most expensive car in the world right now is the $70,000,000 1963 Ferrari 250 GTO. Hence there is a likely input error. Because of this, we will be considering only vehicles whose prices are below 1 million."
   ]
  },
  {
   "cell_type": "code",
   "execution_count": null,
   "metadata": {
    "id": "6sonOSyhv9-0"
   },
   "outputs": [],
   "source": [
    "cars3_df = cars3_df.loc[cars3_df['price'] <= 1000000]"
   ]
  },
  {
   "cell_type": "markdown",
   "metadata": {
    "id": "55dWh6imfx23"
   },
   "source": [
    "What cars have the zero price tag?"
   ]
  },
  {
   "cell_type": "code",
   "execution_count": null,
   "metadata": {
    "colab": {
     "base_uri": "https://localhost:8080/",
     "height": 575
    },
    "executionInfo": {
     "elapsed": 416,
     "status": "ok",
     "timestamp": 1625094145726,
     "user": {
      "displayName": "nasiru sule",
      "photoUrl": "https://lh3.googleusercontent.com/a-/AOh14GiVuRFYjI43LxMj_Q8ZlQSSi4rs-Su2HdfNPNxp7A=s64",
      "userId": "16455627822583485460"
     },
     "user_tz": -60
    },
    "id": "Nc0xDVEZfwaW",
    "outputId": "630aff6c-a136-4a90-a18a-ead4d7fcbe44"
   },
   "outputs": [
    {
     "data": {
      "text/html": [
       "<div>\n",
       "<style scoped>\n",
       "    .dataframe tbody tr th:only-of-type {\n",
       "        vertical-align: middle;\n",
       "    }\n",
       "\n",
       "    .dataframe tbody tr th {\n",
       "        vertical-align: top;\n",
       "    }\n",
       "\n",
       "    .dataframe thead th {\n",
       "        text-align: right;\n",
       "    }\n",
       "</style>\n",
       "<table border=\"1\" class=\"dataframe\">\n",
       "  <thead>\n",
       "    <tr style=\"text-align: right;\">\n",
       "      <th></th>\n",
       "      <th>region</th>\n",
       "      <th>price</th>\n",
       "      <th>year</th>\n",
       "      <th>manufacturer</th>\n",
       "      <th>model</th>\n",
       "      <th>condition</th>\n",
       "      <th>cylinders</th>\n",
       "      <th>fuel</th>\n",
       "      <th>odometer</th>\n",
       "      <th>title_status</th>\n",
       "      <th>drive</th>\n",
       "      <th>type</th>\n",
       "      <th>paint_color</th>\n",
       "      <th>state</th>\n",
       "      <th>lat</th>\n",
       "      <th>long</th>\n",
       "    </tr>\n",
       "  </thead>\n",
       "  <tbody>\n",
       "    <tr>\n",
       "      <th>126</th>\n",
       "      <td>auburn</td>\n",
       "      <td>0</td>\n",
       "      <td>2018.0</td>\n",
       "      <td>chevrolet</td>\n",
       "      <td>express cargo van</td>\n",
       "      <td>like new</td>\n",
       "      <td>6 cylinders</td>\n",
       "      <td>gas</td>\n",
       "      <td>68472.0</td>\n",
       "      <td>clean</td>\n",
       "      <td>rwd</td>\n",
       "      <td>van</td>\n",
       "      <td>white</td>\n",
       "      <td>al</td>\n",
       "      <td>31.425091</td>\n",
       "      <td>-85.617723</td>\n",
       "    </tr>\n",
       "    <tr>\n",
       "      <th>127</th>\n",
       "      <td>auburn</td>\n",
       "      <td>0</td>\n",
       "      <td>2019.0</td>\n",
       "      <td>chevrolet</td>\n",
       "      <td>express cargo van</td>\n",
       "      <td>like new</td>\n",
       "      <td>6 cylinders</td>\n",
       "      <td>gas</td>\n",
       "      <td>69125.0</td>\n",
       "      <td>clean</td>\n",
       "      <td>rwd</td>\n",
       "      <td>van</td>\n",
       "      <td>white</td>\n",
       "      <td>al</td>\n",
       "      <td>31.425091</td>\n",
       "      <td>-85.617723</td>\n",
       "    </tr>\n",
       "    <tr>\n",
       "      <th>128</th>\n",
       "      <td>auburn</td>\n",
       "      <td>0</td>\n",
       "      <td>2018.0</td>\n",
       "      <td>chevrolet</td>\n",
       "      <td>express cargo van</td>\n",
       "      <td>like new</td>\n",
       "      <td>6 cylinders</td>\n",
       "      <td>gas</td>\n",
       "      <td>66555.0</td>\n",
       "      <td>clean</td>\n",
       "      <td>rwd</td>\n",
       "      <td>van</td>\n",
       "      <td>white</td>\n",
       "      <td>al</td>\n",
       "      <td>31.425091</td>\n",
       "      <td>-85.617723</td>\n",
       "    </tr>\n",
       "    <tr>\n",
       "      <th>191</th>\n",
       "      <td>birmingham</td>\n",
       "      <td>0</td>\n",
       "      <td>2015.0</td>\n",
       "      <td>nissan</td>\n",
       "      <td>sentra</td>\n",
       "      <td>excellent</td>\n",
       "      <td>4 cylinders</td>\n",
       "      <td>gas</td>\n",
       "      <td>99505.0</td>\n",
       "      <td>clean</td>\n",
       "      <td>fwd</td>\n",
       "      <td>sedan</td>\n",
       "      <td>silver</td>\n",
       "      <td>al</td>\n",
       "      <td>33.614088</td>\n",
       "      <td>-85.796729</td>\n",
       "    </tr>\n",
       "    <tr>\n",
       "      <th>239</th>\n",
       "      <td>birmingham</td>\n",
       "      <td>0</td>\n",
       "      <td>2019.0</td>\n",
       "      <td>chevrolet</td>\n",
       "      <td>silverado 1500</td>\n",
       "      <td>excellent</td>\n",
       "      <td>8 cylinders</td>\n",
       "      <td>gas</td>\n",
       "      <td>25127.0</td>\n",
       "      <td>clean</td>\n",
       "      <td>4wd</td>\n",
       "      <td>truck</td>\n",
       "      <td>red</td>\n",
       "      <td>al</td>\n",
       "      <td>33.614088</td>\n",
       "      <td>-85.796729</td>\n",
       "    </tr>\n",
       "    <tr>\n",
       "      <th>...</th>\n",
       "      <td>...</td>\n",
       "      <td>...</td>\n",
       "      <td>...</td>\n",
       "      <td>...</td>\n",
       "      <td>...</td>\n",
       "      <td>...</td>\n",
       "      <td>...</td>\n",
       "      <td>...</td>\n",
       "      <td>...</td>\n",
       "      <td>...</td>\n",
       "      <td>...</td>\n",
       "      <td>...</td>\n",
       "      <td>...</td>\n",
       "      <td>...</td>\n",
       "      <td>...</td>\n",
       "      <td>...</td>\n",
       "    </tr>\n",
       "    <tr>\n",
       "      <th>424493</th>\n",
       "      <td>milwaukee</td>\n",
       "      <td>0</td>\n",
       "      <td>2011.0</td>\n",
       "      <td>chevrolet</td>\n",
       "      <td>equinox</td>\n",
       "      <td>excellent</td>\n",
       "      <td>4 cylinders</td>\n",
       "      <td>gas</td>\n",
       "      <td>161237.0</td>\n",
       "      <td>clean</td>\n",
       "      <td>fwd</td>\n",
       "      <td>wagon</td>\n",
       "      <td>black</td>\n",
       "      <td>wi</td>\n",
       "      <td>43.302071</td>\n",
       "      <td>-88.376508</td>\n",
       "    </tr>\n",
       "    <tr>\n",
       "      <th>425403</th>\n",
       "      <td>sheboygan</td>\n",
       "      <td>0</td>\n",
       "      <td>2013.0</td>\n",
       "      <td>gmc</td>\n",
       "      <td>acadia</td>\n",
       "      <td>excellent</td>\n",
       "      <td>6 cylinders</td>\n",
       "      <td>gas</td>\n",
       "      <td>152207.0</td>\n",
       "      <td>clean</td>\n",
       "      <td>4wd</td>\n",
       "      <td>SUV</td>\n",
       "      <td>red</td>\n",
       "      <td>wi</td>\n",
       "      <td>44.078180</td>\n",
       "      <td>-87.696800</td>\n",
       "    </tr>\n",
       "    <tr>\n",
       "      <th>426525</th>\n",
       "      <td>wyoming</td>\n",
       "      <td>0</td>\n",
       "      <td>1973.0</td>\n",
       "      <td>rover</td>\n",
       "      <td>defender</td>\n",
       "      <td>excellent</td>\n",
       "      <td>4 cylinders</td>\n",
       "      <td>diesel</td>\n",
       "      <td>48000.0</td>\n",
       "      <td>clean</td>\n",
       "      <td>4wd</td>\n",
       "      <td>SUV</td>\n",
       "      <td>yellow</td>\n",
       "      <td>wy</td>\n",
       "      <td>41.295500</td>\n",
       "      <td>-96.100800</td>\n",
       "    </tr>\n",
       "    <tr>\n",
       "      <th>426539</th>\n",
       "      <td>wyoming</td>\n",
       "      <td>0</td>\n",
       "      <td>2016.0</td>\n",
       "      <td>toyota</td>\n",
       "      <td>4runner trd pro</td>\n",
       "      <td>excellent</td>\n",
       "      <td>6 cylinders</td>\n",
       "      <td>gas</td>\n",
       "      <td>45286.0</td>\n",
       "      <td>clean</td>\n",
       "      <td>4wd</td>\n",
       "      <td>SUV</td>\n",
       "      <td>brown</td>\n",
       "      <td>wy</td>\n",
       "      <td>45.082421</td>\n",
       "      <td>-94.334718</td>\n",
       "    </tr>\n",
       "    <tr>\n",
       "      <th>426836</th>\n",
       "      <td>wyoming</td>\n",
       "      <td>0</td>\n",
       "      <td>2018.0</td>\n",
       "      <td>ram</td>\n",
       "      <td>2500</td>\n",
       "      <td>excellent</td>\n",
       "      <td>6 cylinders</td>\n",
       "      <td>diesel</td>\n",
       "      <td>20492.0</td>\n",
       "      <td>clean</td>\n",
       "      <td>4wd</td>\n",
       "      <td>truck</td>\n",
       "      <td>white</td>\n",
       "      <td>wy</td>\n",
       "      <td>45.082436</td>\n",
       "      <td>-94.334686</td>\n",
       "    </tr>\n",
       "  </tbody>\n",
       "</table>\n",
       "<p>4317 rows × 16 columns</p>\n",
       "</div>"
      ],
      "text/plain": [
       "            region  price    year  ... state        lat       long\n",
       "126         auburn      0  2018.0  ...    al  31.425091 -85.617723\n",
       "127         auburn      0  2019.0  ...    al  31.425091 -85.617723\n",
       "128         auburn      0  2018.0  ...    al  31.425091 -85.617723\n",
       "191     birmingham      0  2015.0  ...    al  33.614088 -85.796729\n",
       "239     birmingham      0  2019.0  ...    al  33.614088 -85.796729\n",
       "...            ...    ...     ...  ...   ...        ...        ...\n",
       "424493   milwaukee      0  2011.0  ...    wi  43.302071 -88.376508\n",
       "425403   sheboygan      0  2013.0  ...    wi  44.078180 -87.696800\n",
       "426525     wyoming      0  1973.0  ...    wy  41.295500 -96.100800\n",
       "426539     wyoming      0  2016.0  ...    wy  45.082421 -94.334718\n",
       "426836     wyoming      0  2018.0  ...    wy  45.082436 -94.334686\n",
       "\n",
       "[4317 rows x 16 columns]"
      ]
     },
     "execution_count": 35,
     "metadata": {
      "tags": []
     },
     "output_type": "execute_result"
    }
   ],
   "source": [
    "cars3_df.loc[cars3_df['price']== 0]"
   ]
  },
  {
   "cell_type": "markdown",
   "metadata": {
    "id": "wgY7jqovp4TC"
   },
   "source": [
    "Cars with $0 price tag may likely have been booked."
   ]
  },
  {
   "cell_type": "markdown",
   "metadata": {
    "id": "pnEa3mUs18Sk"
   },
   "source": [
    "Let us drop all prices = 0"
   ]
  },
  {
   "cell_type": "code",
   "execution_count": null,
   "metadata": {
    "id": "u-Au4Mtvs8Ly"
   },
   "outputs": [],
   "source": [
    "cars3_df = cars3_df[cars3_df.price!= 0]"
   ]
  },
  {
   "cell_type": "code",
   "execution_count": null,
   "metadata": {
    "colab": {
     "base_uri": "https://localhost:8080/",
     "height": 640
    },
    "executionInfo": {
     "elapsed": 30,
     "status": "ok",
     "timestamp": 1625094169644,
     "user": {
      "displayName": "nasiru sule",
      "photoUrl": "https://lh3.googleusercontent.com/a-/AOh14GiVuRFYjI43LxMj_Q8ZlQSSi4rs-Su2HdfNPNxp7A=s64",
      "userId": "16455627822583485460"
     },
     "user_tz": -60
    },
    "id": "XjVCS9hp3gx1",
    "outputId": "ecd2d057-5355-471c-9ddf-0485ad615dda"
   },
   "outputs": [
    {
     "data": {
      "text/html": [
       "<div>\n",
       "<style scoped>\n",
       "    .dataframe tbody tr th:only-of-type {\n",
       "        vertical-align: middle;\n",
       "    }\n",
       "\n",
       "    .dataframe tbody tr th {\n",
       "        vertical-align: top;\n",
       "    }\n",
       "\n",
       "    .dataframe thead th {\n",
       "        text-align: right;\n",
       "    }\n",
       "</style>\n",
       "<table border=\"1\" class=\"dataframe\">\n",
       "  <thead>\n",
       "    <tr style=\"text-align: right;\">\n",
       "      <th></th>\n",
       "      <th>region</th>\n",
       "      <th>price</th>\n",
       "      <th>year</th>\n",
       "      <th>manufacturer</th>\n",
       "      <th>model</th>\n",
       "      <th>condition</th>\n",
       "      <th>cylinders</th>\n",
       "      <th>fuel</th>\n",
       "      <th>odometer</th>\n",
       "      <th>title_status</th>\n",
       "      <th>drive</th>\n",
       "      <th>type</th>\n",
       "      <th>paint_color</th>\n",
       "      <th>state</th>\n",
       "      <th>lat</th>\n",
       "      <th>long</th>\n",
       "    </tr>\n",
       "  </thead>\n",
       "  <tbody>\n",
       "    <tr>\n",
       "      <th>31</th>\n",
       "      <td>auburn</td>\n",
       "      <td>15000</td>\n",
       "      <td>2013.0</td>\n",
       "      <td>ford</td>\n",
       "      <td>f-150 xlt</td>\n",
       "      <td>excellent</td>\n",
       "      <td>6 cylinders</td>\n",
       "      <td>gas</td>\n",
       "      <td>128000.0</td>\n",
       "      <td>clean</td>\n",
       "      <td>rwd</td>\n",
       "      <td>truck</td>\n",
       "      <td>black</td>\n",
       "      <td>al</td>\n",
       "      <td>32.592000</td>\n",
       "      <td>-85.518900</td>\n",
       "    </tr>\n",
       "    <tr>\n",
       "      <th>32</th>\n",
       "      <td>auburn</td>\n",
       "      <td>27990</td>\n",
       "      <td>2012.0</td>\n",
       "      <td>gmc</td>\n",
       "      <td>sierra 2500 hd extended cab</td>\n",
       "      <td>good</td>\n",
       "      <td>8 cylinders</td>\n",
       "      <td>gas</td>\n",
       "      <td>68696.0</td>\n",
       "      <td>clean</td>\n",
       "      <td>4wd</td>\n",
       "      <td>pickup</td>\n",
       "      <td>black</td>\n",
       "      <td>al</td>\n",
       "      <td>32.590000</td>\n",
       "      <td>-85.480000</td>\n",
       "    </tr>\n",
       "    <tr>\n",
       "      <th>33</th>\n",
       "      <td>auburn</td>\n",
       "      <td>34590</td>\n",
       "      <td>2016.0</td>\n",
       "      <td>chevrolet</td>\n",
       "      <td>silverado 1500 double</td>\n",
       "      <td>good</td>\n",
       "      <td>6 cylinders</td>\n",
       "      <td>gas</td>\n",
       "      <td>29499.0</td>\n",
       "      <td>clean</td>\n",
       "      <td>4wd</td>\n",
       "      <td>pickup</td>\n",
       "      <td>silver</td>\n",
       "      <td>al</td>\n",
       "      <td>32.590000</td>\n",
       "      <td>-85.480000</td>\n",
       "    </tr>\n",
       "    <tr>\n",
       "      <th>34</th>\n",
       "      <td>auburn</td>\n",
       "      <td>35000</td>\n",
       "      <td>2019.0</td>\n",
       "      <td>toyota</td>\n",
       "      <td>tacoma</td>\n",
       "      <td>excellent</td>\n",
       "      <td>6 cylinders</td>\n",
       "      <td>gas</td>\n",
       "      <td>43000.0</td>\n",
       "      <td>clean</td>\n",
       "      <td>4wd</td>\n",
       "      <td>truck</td>\n",
       "      <td>grey</td>\n",
       "      <td>al</td>\n",
       "      <td>32.601300</td>\n",
       "      <td>-85.443974</td>\n",
       "    </tr>\n",
       "    <tr>\n",
       "      <th>35</th>\n",
       "      <td>auburn</td>\n",
       "      <td>29990</td>\n",
       "      <td>2016.0</td>\n",
       "      <td>chevrolet</td>\n",
       "      <td>colorado extended cab</td>\n",
       "      <td>good</td>\n",
       "      <td>6 cylinders</td>\n",
       "      <td>gas</td>\n",
       "      <td>17302.0</td>\n",
       "      <td>clean</td>\n",
       "      <td>4wd</td>\n",
       "      <td>pickup</td>\n",
       "      <td>red</td>\n",
       "      <td>al</td>\n",
       "      <td>32.590000</td>\n",
       "      <td>-85.480000</td>\n",
       "    </tr>\n",
       "    <tr>\n",
       "      <th>...</th>\n",
       "      <td>...</td>\n",
       "      <td>...</td>\n",
       "      <td>...</td>\n",
       "      <td>...</td>\n",
       "      <td>...</td>\n",
       "      <td>...</td>\n",
       "      <td>...</td>\n",
       "      <td>...</td>\n",
       "      <td>...</td>\n",
       "      <td>...</td>\n",
       "      <td>...</td>\n",
       "      <td>...</td>\n",
       "      <td>...</td>\n",
       "      <td>...</td>\n",
       "      <td>...</td>\n",
       "      <td>...</td>\n",
       "    </tr>\n",
       "    <tr>\n",
       "      <th>426859</th>\n",
       "      <td>wyoming</td>\n",
       "      <td>48590</td>\n",
       "      <td>2020.0</td>\n",
       "      <td>cadillac</td>\n",
       "      <td>xt6 premium luxury</td>\n",
       "      <td>good</td>\n",
       "      <td>6 cylinders</td>\n",
       "      <td>gas</td>\n",
       "      <td>7701.0</td>\n",
       "      <td>clean</td>\n",
       "      <td>fwd</td>\n",
       "      <td>other</td>\n",
       "      <td>black</td>\n",
       "      <td>wy</td>\n",
       "      <td>33.779214</td>\n",
       "      <td>-84.411811</td>\n",
       "    </tr>\n",
       "    <tr>\n",
       "      <th>426860</th>\n",
       "      <td>wyoming</td>\n",
       "      <td>39990</td>\n",
       "      <td>2017.0</td>\n",
       "      <td>infiniti</td>\n",
       "      <td>qx80 sport utility 4d</td>\n",
       "      <td>good</td>\n",
       "      <td>8 cylinders</td>\n",
       "      <td>gas</td>\n",
       "      <td>41664.0</td>\n",
       "      <td>clean</td>\n",
       "      <td>4wd</td>\n",
       "      <td>other</td>\n",
       "      <td>black</td>\n",
       "      <td>wy</td>\n",
       "      <td>33.779214</td>\n",
       "      <td>-84.411811</td>\n",
       "    </tr>\n",
       "    <tr>\n",
       "      <th>426866</th>\n",
       "      <td>wyoming</td>\n",
       "      <td>32990</td>\n",
       "      <td>2016.0</td>\n",
       "      <td>infiniti</td>\n",
       "      <td>qx80 sport utility 4d</td>\n",
       "      <td>good</td>\n",
       "      <td>8 cylinders</td>\n",
       "      <td>gas</td>\n",
       "      <td>55612.0</td>\n",
       "      <td>clean</td>\n",
       "      <td>rwd</td>\n",
       "      <td>other</td>\n",
       "      <td>black</td>\n",
       "      <td>wy</td>\n",
       "      <td>33.779214</td>\n",
       "      <td>-84.411811</td>\n",
       "    </tr>\n",
       "    <tr>\n",
       "      <th>426874</th>\n",
       "      <td>wyoming</td>\n",
       "      <td>33590</td>\n",
       "      <td>2018.0</td>\n",
       "      <td>lexus</td>\n",
       "      <td>gs 350 sedan 4d</td>\n",
       "      <td>good</td>\n",
       "      <td>6 cylinders</td>\n",
       "      <td>gas</td>\n",
       "      <td>30814.0</td>\n",
       "      <td>clean</td>\n",
       "      <td>rwd</td>\n",
       "      <td>sedan</td>\n",
       "      <td>white</td>\n",
       "      <td>wy</td>\n",
       "      <td>33.779214</td>\n",
       "      <td>-84.411811</td>\n",
       "    </tr>\n",
       "    <tr>\n",
       "      <th>426878</th>\n",
       "      <td>wyoming</td>\n",
       "      <td>28990</td>\n",
       "      <td>2018.0</td>\n",
       "      <td>lexus</td>\n",
       "      <td>es 350 sedan 4d</td>\n",
       "      <td>good</td>\n",
       "      <td>6 cylinders</td>\n",
       "      <td>gas</td>\n",
       "      <td>30112.0</td>\n",
       "      <td>clean</td>\n",
       "      <td>fwd</td>\n",
       "      <td>sedan</td>\n",
       "      <td>silver</td>\n",
       "      <td>wy</td>\n",
       "      <td>33.786500</td>\n",
       "      <td>-84.445400</td>\n",
       "    </tr>\n",
       "  </tbody>\n",
       "</table>\n",
       "<p>111120 rows × 16 columns</p>\n",
       "</div>"
      ],
      "text/plain": [
       "         region  price    year  ... state        lat       long\n",
       "31       auburn  15000  2013.0  ...    al  32.592000 -85.518900\n",
       "32       auburn  27990  2012.0  ...    al  32.590000 -85.480000\n",
       "33       auburn  34590  2016.0  ...    al  32.590000 -85.480000\n",
       "34       auburn  35000  2019.0  ...    al  32.601300 -85.443974\n",
       "35       auburn  29990  2016.0  ...    al  32.590000 -85.480000\n",
       "...         ...    ...     ...  ...   ...        ...        ...\n",
       "426859  wyoming  48590  2020.0  ...    wy  33.779214 -84.411811\n",
       "426860  wyoming  39990  2017.0  ...    wy  33.779214 -84.411811\n",
       "426866  wyoming  32990  2016.0  ...    wy  33.779214 -84.411811\n",
       "426874  wyoming  33590  2018.0  ...    wy  33.779214 -84.411811\n",
       "426878  wyoming  28990  2018.0  ...    wy  33.786500 -84.445400\n",
       "\n",
       "[111120 rows x 16 columns]"
      ]
     },
     "execution_count": 37,
     "metadata": {
      "tags": []
     },
     "output_type": "execute_result"
    }
   ],
   "source": [
    "cars3_df"
   ]
  },
  {
   "cell_type": "markdown",
   "metadata": {
    "id": "JcwpTjtzuirh"
   },
   "source": [
    "Let us also consider vehicles from 1950 to 2021 only"
   ]
  },
  {
   "cell_type": "code",
   "execution_count": null,
   "metadata": {
    "id": "R3JLiTxnt2WD"
   },
   "outputs": [],
   "source": [
    "cars3_df = cars3_df[cars3_df.year > 1949]"
   ]
  },
  {
   "cell_type": "code",
   "execution_count": null,
   "metadata": {
    "id": "3YYmYHaluN5L"
   },
   "outputs": [],
   "source": [
    "cars3_df = cars3_df[cars3_df.year < 2022]"
   ]
  },
  {
   "cell_type": "markdown",
   "metadata": {
    "id": "aYberarpKWXo"
   },
   "source": [
    "Lets have a statistical analysis of the data now, using pandas' .describe() property."
   ]
  },
  {
   "cell_type": "code",
   "execution_count": null,
   "metadata": {
    "colab": {
     "base_uri": "https://localhost:8080/",
     "height": 297
    },
    "executionInfo": {
     "elapsed": 31,
     "status": "ok",
     "timestamp": 1625094179174,
     "user": {
      "displayName": "nasiru sule",
      "photoUrl": "https://lh3.googleusercontent.com/a-/AOh14GiVuRFYjI43LxMj_Q8ZlQSSi4rs-Su2HdfNPNxp7A=s64",
      "userId": "16455627822583485460"
     },
     "user_tz": -60
    },
    "id": "fZp6YZS5uUbT",
    "outputId": "3ef3671b-6e7c-49e0-c2d3-9d5caaad9814"
   },
   "outputs": [
    {
     "data": {
      "text/html": [
       "<div>\n",
       "<style scoped>\n",
       "    .dataframe tbody tr th:only-of-type {\n",
       "        vertical-align: middle;\n",
       "    }\n",
       "\n",
       "    .dataframe tbody tr th {\n",
       "        vertical-align: top;\n",
       "    }\n",
       "\n",
       "    .dataframe thead th {\n",
       "        text-align: right;\n",
       "    }\n",
       "</style>\n",
       "<table border=\"1\" class=\"dataframe\">\n",
       "  <thead>\n",
       "    <tr style=\"text-align: right;\">\n",
       "      <th></th>\n",
       "      <th>price</th>\n",
       "      <th>year</th>\n",
       "      <th>odometer</th>\n",
       "      <th>lat</th>\n",
       "      <th>long</th>\n",
       "    </tr>\n",
       "  </thead>\n",
       "  <tbody>\n",
       "    <tr>\n",
       "      <th>count</th>\n",
       "      <td>110811.000000</td>\n",
       "      <td>110811.000000</td>\n",
       "      <td>1.108110e+05</td>\n",
       "      <td>110811.000000</td>\n",
       "      <td>110811.000000</td>\n",
       "    </tr>\n",
       "    <tr>\n",
       "      <th>mean</th>\n",
       "      <td>15977.569619</td>\n",
       "      <td>2009.616726</td>\n",
       "      <td>1.109424e+05</td>\n",
       "      <td>38.501041</td>\n",
       "      <td>-92.205990</td>\n",
       "    </tr>\n",
       "    <tr>\n",
       "      <th>std</th>\n",
       "      <td>13357.118319</td>\n",
       "      <td>8.861745</td>\n",
       "      <td>1.765092e+05</td>\n",
       "      <td>5.552744</td>\n",
       "      <td>17.462606</td>\n",
       "    </tr>\n",
       "    <tr>\n",
       "      <th>min</th>\n",
       "      <td>1.000000</td>\n",
       "      <td>1950.000000</td>\n",
       "      <td>0.000000e+00</td>\n",
       "      <td>-81.838232</td>\n",
       "      <td>-159.719900</td>\n",
       "    </tr>\n",
       "    <tr>\n",
       "      <th>25%</th>\n",
       "      <td>6000.000000</td>\n",
       "      <td>2006.000000</td>\n",
       "      <td>5.630200e+04</td>\n",
       "      <td>35.060000</td>\n",
       "      <td>-104.547200</td>\n",
       "    </tr>\n",
       "    <tr>\n",
       "      <th>50%</th>\n",
       "      <td>11500.000000</td>\n",
       "      <td>2012.000000</td>\n",
       "      <td>1.035500e+05</td>\n",
       "      <td>39.420000</td>\n",
       "      <td>-86.138523</td>\n",
       "    </tr>\n",
       "    <tr>\n",
       "      <th>75%</th>\n",
       "      <td>23500.000000</td>\n",
       "      <td>2015.000000</td>\n",
       "      <td>1.487480e+05</td>\n",
       "      <td>42.270000</td>\n",
       "      <td>-79.952901</td>\n",
       "    </tr>\n",
       "    <tr>\n",
       "      <th>max</th>\n",
       "      <td>195000.000000</td>\n",
       "      <td>2021.000000</td>\n",
       "      <td>1.000000e+07</td>\n",
       "      <td>82.252826</td>\n",
       "      <td>139.691700</td>\n",
       "    </tr>\n",
       "  </tbody>\n",
       "</table>\n",
       "</div>"
      ],
      "text/plain": [
       "               price           year      odometer            lat           long\n",
       "count  110811.000000  110811.000000  1.108110e+05  110811.000000  110811.000000\n",
       "mean    15977.569619    2009.616726  1.109424e+05      38.501041     -92.205990\n",
       "std     13357.118319       8.861745  1.765092e+05       5.552744      17.462606\n",
       "min         1.000000    1950.000000  0.000000e+00     -81.838232    -159.719900\n",
       "25%      6000.000000    2006.000000  5.630200e+04      35.060000    -104.547200\n",
       "50%     11500.000000    2012.000000  1.035500e+05      39.420000     -86.138523\n",
       "75%     23500.000000    2015.000000  1.487480e+05      42.270000     -79.952901\n",
       "max    195000.000000    2021.000000  1.000000e+07      82.252826     139.691700"
      ]
     },
     "execution_count": 40,
     "metadata": {
      "tags": []
     },
     "output_type": "execute_result"
    }
   ],
   "source": [
    "cars3_df.describe()"
   ]
  },
  {
   "cell_type": "markdown",
   "metadata": {
    "id": "Z-lzkdUu3pZt"
   },
   "source": [
    "Let us explore some of the columns and get information such as the unique values and counts."
   ]
  },
  {
   "cell_type": "markdown",
   "metadata": {
    "id": "6qvcH7RNgflQ"
   },
   "source": [
    "What are the various types of vehicles in the dataset?"
   ]
  },
  {
   "cell_type": "code",
   "execution_count": null,
   "metadata": {
    "colab": {
     "base_uri": "https://localhost:8080/"
    },
    "executionInfo": {
     "elapsed": 374,
     "status": "ok",
     "timestamp": 1625094320441,
     "user": {
      "displayName": "nasiru sule",
      "photoUrl": "https://lh3.googleusercontent.com/a-/AOh14GiVuRFYjI43LxMj_Q8ZlQSSi4rs-Su2HdfNPNxp7A=s64",
      "userId": "16455627822583485460"
     },
     "user_tz": -60
    },
    "id": "nkuRWt5lYW6Q",
    "outputId": "f9dcb209-f5c9-467d-b867-a2657f06cf8c"
   },
   "outputs": [
    {
     "data": {
      "text/plain": [
       "array(['truck', 'pickup', 'other', 'coupe', 'mini-van', 'SUV', 'sedan',\n",
       "       'offroad', 'convertible', 'hatchback', 'wagon', 'van', 'bus'],\n",
       "      dtype=object)"
      ]
     },
     "execution_count": 41,
     "metadata": {
      "tags": []
     },
     "output_type": "execute_result"
    }
   ],
   "source": [
    "cars3_df.type.unique()"
   ]
  },
  {
   "cell_type": "markdown",
   "metadata": {
    "id": "jn4KhiVFgmNR"
   },
   "source": [
    "What are the number of manufacturers?"
   ]
  },
  {
   "cell_type": "code",
   "execution_count": null,
   "metadata": {
    "colab": {
     "base_uri": "https://localhost:8080/"
    },
    "executionInfo": {
     "elapsed": 517,
     "status": "ok",
     "timestamp": 1625094323968,
     "user": {
      "displayName": "nasiru sule",
      "photoUrl": "https://lh3.googleusercontent.com/a-/AOh14GiVuRFYjI43LxMj_Q8ZlQSSi4rs-Su2HdfNPNxp7A=s64",
      "userId": "16455627822583485460"
     },
     "user_tz": -60
    },
    "id": "nZ9S3CJmXGmL",
    "outputId": "929b1f25-df83-4c6b-bcd4-73f381074a7c"
   },
   "outputs": [
    {
     "data": {
      "text/plain": [
       "41"
      ]
     },
     "execution_count": 42,
     "metadata": {
      "tags": []
     },
     "output_type": "execute_result"
    }
   ],
   "source": [
    "cars3_df.manufacturer.nunique()"
   ]
  },
  {
   "cell_type": "code",
   "execution_count": null,
   "metadata": {
    "colab": {
     "base_uri": "https://localhost:8080/"
    },
    "executionInfo": {
     "elapsed": 16,
     "status": "ok",
     "timestamp": 1625094326347,
     "user": {
      "displayName": "nasiru sule",
      "photoUrl": "https://lh3.googleusercontent.com/a-/AOh14GiVuRFYjI43LxMj_Q8ZlQSSi4rs-Su2HdfNPNxp7A=s64",
      "userId": "16455627822583485460"
     },
     "user_tz": -60
    },
    "id": "4OUmI49fX7n-",
    "outputId": "124540f7-0dd2-4276-d323-0d4370d70815"
   },
   "outputs": [
    {
     "data": {
      "text/plain": [
       "5"
      ]
     },
     "execution_count": 43,
     "metadata": {
      "tags": []
     },
     "output_type": "execute_result"
    }
   ],
   "source": [
    "cars3_df.fuel.nunique()"
   ]
  },
  {
   "cell_type": "markdown",
   "metadata": {
    "id": "bIWG4dfagrUR"
   },
   "source": [
    "What types of fuel are being used by the vehicles?"
   ]
  },
  {
   "cell_type": "code",
   "execution_count": null,
   "metadata": {
    "colab": {
     "base_uri": "https://localhost:8080/"
    },
    "executionInfo": {
     "elapsed": 21,
     "status": "ok",
     "timestamp": 1625094330495,
     "user": {
      "displayName": "nasiru sule",
      "photoUrl": "https://lh3.googleusercontent.com/a-/AOh14GiVuRFYjI43LxMj_Q8ZlQSSi4rs-Su2HdfNPNxp7A=s64",
      "userId": "16455627822583485460"
     },
     "user_tz": -60
    },
    "id": "-_pSEtJxWjtI",
    "outputId": "3a4a0101-e7ec-4663-f345-417c14349dc3"
   },
   "outputs": [
    {
     "data": {
      "text/plain": [
       "array(['gas', 'diesel', 'other', 'hybrid', 'electric'], dtype=object)"
      ]
     },
     "execution_count": 44,
     "metadata": {
      "tags": []
     },
     "output_type": "execute_result"
    }
   ],
   "source": [
    "cars3_df.fuel.unique()"
   ]
  },
  {
   "cell_type": "markdown",
   "metadata": {
    "id": "aRcMrVIngWV-"
   },
   "source": [
    "How many regions are listed in the dataset?"
   ]
  },
  {
   "cell_type": "code",
   "execution_count": null,
   "metadata": {
    "colab": {
     "base_uri": "https://localhost:8080/"
    },
    "executionInfo": {
     "elapsed": 20,
     "status": "ok",
     "timestamp": 1625094333726,
     "user": {
      "displayName": "nasiru sule",
      "photoUrl": "https://lh3.googleusercontent.com/a-/AOh14GiVuRFYjI43LxMj_Q8ZlQSSi4rs-Su2HdfNPNxp7A=s64",
      "userId": "16455627822583485460"
     },
     "user_tz": -60
    },
    "id": "9KgH4tIcUfQb",
    "outputId": "834ecde2-02b6-44d6-be5f-2fe8e3cf38d9"
   },
   "outputs": [
    {
     "data": {
      "text/plain": [
       "403"
      ]
     },
     "execution_count": 45,
     "metadata": {
      "tags": []
     },
     "output_type": "execute_result"
    }
   ],
   "source": [
    "cars3_df.region.nunique()"
   ]
  },
  {
   "cell_type": "code",
   "execution_count": null,
   "metadata": {
    "colab": {
     "base_uri": "https://localhost:8080/"
    },
    "executionInfo": {
     "elapsed": 19,
     "status": "ok",
     "timestamp": 1625094335974,
     "user": {
      "displayName": "nasiru sule",
      "photoUrl": "https://lh3.googleusercontent.com/a-/AOh14GiVuRFYjI43LxMj_Q8ZlQSSi4rs-Su2HdfNPNxp7A=s64",
      "userId": "16455627822583485460"
     },
     "user_tz": -60
    },
    "id": "Z5ZbYpmWUueM",
    "outputId": "443c2cc3-1cb8-4fed-b4df-ef973502a05a"
   },
   "outputs": [
    {
     "data": {
      "text/plain": [
       "51"
      ]
     },
     "execution_count": 46,
     "metadata": {
      "tags": []
     },
     "output_type": "execute_result"
    }
   ],
   "source": [
    "cars3_df.state.nunique()"
   ]
  },
  {
   "cell_type": "markdown",
   "metadata": {
    "id": "eIqqswYMr6Wa"
   },
   "source": [
    "The 'column' having 51 unique values shows the 50 states of U.S and Washington D.C"
   ]
  },
  {
   "cell_type": "markdown",
   "metadata": {
    "id": "xW389K7sg6zo"
   },
   "source": [
    "What are the unique conditions of the vehicles?"
   ]
  },
  {
   "cell_type": "code",
   "execution_count": null,
   "metadata": {
    "colab": {
     "base_uri": "https://localhost:8080/"
    },
    "executionInfo": {
     "elapsed": 21,
     "status": "ok",
     "timestamp": 1625094340994,
     "user": {
      "displayName": "nasiru sule",
      "photoUrl": "https://lh3.googleusercontent.com/a-/AOh14GiVuRFYjI43LxMj_Q8ZlQSSi4rs-Su2HdfNPNxp7A=s64",
      "userId": "16455627822583485460"
     },
     "user_tz": -60
    },
    "id": "yPtLaO38U579",
    "outputId": "37561ea6-530c-4033-a4e3-73b2b2f479e4"
   },
   "outputs": [
    {
     "data": {
      "text/plain": [
       "array(['excellent', 'good', 'new', 'fair', 'like new', 'salvage'],\n",
       "      dtype=object)"
      ]
     },
     "execution_count": 47,
     "metadata": {
      "tags": []
     },
     "output_type": "execute_result"
    }
   ],
   "source": [
    "cars3_df.condition.unique()"
   ]
  },
  {
   "cell_type": "markdown",
   "metadata": {
    "id": "TMRzjP9OqTuw"
   },
   "source": [
    "What are the vehicle drive types?"
   ]
  },
  {
   "cell_type": "code",
   "execution_count": null,
   "metadata": {
    "colab": {
     "base_uri": "https://localhost:8080/"
    },
    "executionInfo": {
     "elapsed": 377,
     "status": "ok",
     "timestamp": 1625094375717,
     "user": {
      "displayName": "nasiru sule",
      "photoUrl": "https://lh3.googleusercontent.com/a-/AOh14GiVuRFYjI43LxMj_Q8ZlQSSi4rs-Su2HdfNPNxp7A=s64",
      "userId": "16455627822583485460"
     },
     "user_tz": -60
    },
    "id": "B76wtj7RqXoD",
    "outputId": "90483d8b-62c8-4f87-b73d-6d31d5439f9b"
   },
   "outputs": [
    {
     "data": {
      "text/plain": [
       "array(['rwd', '4wd', 'fwd'], dtype=object)"
      ]
     },
     "execution_count": 48,
     "metadata": {
      "tags": []
     },
     "output_type": "execute_result"
    }
   ],
   "source": [
    "cars3_df.drive.unique()"
   ]
  },
  {
   "cell_type": "markdown",
   "metadata": {
    "id": "mU2DhU9mLFcd"
   },
   "source": [
    "So, at the end of our data cleaning and exploration, we were able to reduce the size and memory usage of our huge dataset by converting it to a feather format.\n",
    "\n",
    "We were also able to drop some not so relevant columns and rows, hence reducing further the size of the dataset.\n",
    "\n",
    "We also explored some of the columns in the dataset to gain more insight as to the kind of data we are dealing with."
   ]
  },
  {
   "cell_type": "markdown",
   "metadata": {
    "id": "ArQndlARLvsN"
   },
   "source": [
    "### Data Visualization"
   ]
  },
  {
   "cell_type": "markdown",
   "metadata": {
    "id": "F6tnHhS081v_"
   },
   "source": [
    "Let us do a bit of visualization while answering some questions.\n",
    "\n",
    "First step would be to import relevant visualization libraries. These include Matplotlip, seaborn and plotly. I find plotly most interesting to use because of its interactive nature."
   ]
  },
  {
   "cell_type": "code",
   "execution_count": null,
   "metadata": {
    "id": "lqMmGnY5zJMC"
   },
   "outputs": [],
   "source": [
    "import matplotlib.pyplot as plt\n",
    "%matplotlib inline"
   ]
  },
  {
   "cell_type": "code",
   "execution_count": null,
   "metadata": {
    "id": "WQWwTrqJBEYa"
   },
   "outputs": [],
   "source": [
    "import seaborn as sns"
   ]
  },
  {
   "cell_type": "code",
   "execution_count": null,
   "metadata": {
    "colab": {
     "base_uri": "https://localhost:8080/"
    },
    "executionInfo": {
     "elapsed": 21825,
     "status": "ok",
     "timestamp": 1625094769002,
     "user": {
      "displayName": "nasiru sule",
      "photoUrl": "https://lh3.googleusercontent.com/a-/AOh14GiVuRFYjI43LxMj_Q8ZlQSSi4rs-Su2HdfNPNxp7A=s64",
      "userId": "16455627822583485460"
     },
     "user_tz": -60
    },
    "id": "P2M3xIkEjRSO",
    "outputId": "31904877-a869-46fd-d47f-d7f2b168be38"
   },
   "outputs": [
    {
     "name": "stdout",
     "output_type": "stream",
     "text": [
      "\u001b[K     |████████████████████████████████| 20.6MB 6.6MB/s \n",
      "\u001b[?25h"
     ]
    }
   ],
   "source": [
    "!pip install plotly --upgrade --q"
   ]
  },
  {
   "cell_type": "code",
   "execution_count": null,
   "metadata": {
    "id": "cnz4qJ1Nyhdz"
   },
   "outputs": [],
   "source": [
    "import plotly.express as px"
   ]
  },
  {
   "cell_type": "markdown",
   "metadata": {
    "id": "VpkYCW04BMHr"
   },
   "source": [
    "Lets create a treemap that shows the kind of fuel used by vehicles in each state as well as the cumulative price of all vehicles for sale in such states. "
   ]
  },
  {
   "cell_type": "code",
   "execution_count": null,
   "metadata": {
    "colab": {
     "base_uri": "https://localhost:8080/",
     "height": 542
    },
    "executionInfo": {
     "elapsed": 2253,
     "status": "ok",
     "timestamp": 1625094785377,
     "user": {
      "displayName": "nasiru sule",
      "photoUrl": "https://lh3.googleusercontent.com/a-/AOh14GiVuRFYjI43LxMj_Q8ZlQSSi4rs-Su2HdfNPNxp7A=s64",
      "userId": "16455627822583485460"
     },
     "user_tz": -60
    },
    "id": "XzQgKIwSJ6Zy",
    "outputId": "effe6cee-e66b-400a-83ed-7f53a355de10"
   },
   "outputs": [
    {
     "data": {
      "text/html": [
       "<html>\n",
       "<head><meta charset=\"utf-8\" /></head>\n",
       "<body>\n",
       "    <div>            <script src=\"https://cdnjs.cloudflare.com/ajax/libs/mathjax/2.7.5/MathJax.js?config=TeX-AMS-MML_SVG\"></script><script type=\"text/javascript\">if (window.MathJax) {MathJax.Hub.Config({SVG: {font: \"STIX-Web\"}});}</script>                <script type=\"text/javascript\">window.PlotlyConfig = {MathJaxConfig: 'local'};</script>\n",
       "        <script src=\"https://cdn.plot.ly/plotly-2.2.0.min.js\"></script>                <div id=\"8d107f0e-8d1e-4c60-b103-a91d4488f2f2\" class=\"plotly-graph-div\" style=\"height:525px; width:100%;\"></div>            <script type=\"text/javascript\">                                    window.PLOTLYENV=window.PLOTLYENV || {};                                    if (document.getElementById(\"8d107f0e-8d1e-4c60-b103-a91d4488f2f2\")) {                    Plotly.newPlot(                        \"8d107f0e-8d1e-4c60-b103-a91d4488f2f2\",                        [{\"branchvalues\":\"total\",\"customdata\":[[85622.66730301744],[135007.47395210803],[93216.66152134085],[114547.76342984605],[103241.4084002706],[141167.60223931115],[87198.65778161517],[88486.7474018357],[83760.38296770112],[118460.75983345833],[117179.81169930325],[66566.04862163999],[116446.17869749974],[103483.30672245717],[132965.14976371315],[124798.4708729971],[140451.98744189975],[101503.36646153197],[90684.85791760156],[92298.30803872125],[90873.50635021973],[101683.91876160982],[124646.18325575552],[116148.99972484635],[126803.50759144177],[139227.5176297721],[110197.81120214221],[117733.39113020137],[139857.71936822624],[133344.41107949664],[107816.94763693633],[121447.53104569763],[106884.49804737115],[110486.56610136622],[96272.47669457039],[120695.16479555624],[96959.00566005908],[121978.50942601227],[101351.70032683611],[120331.60347729149],[124009.83613884178],[107290.01916450901],[116927.39360111534],[115462.36000130654],[109716.75109578314],[109343.19773740946],[95102.95201057478],[108363.86600239553],[101416.36459188937],[80177.32888030574],[113351.14263932228],[26311.622588604754],[66806.40051307992],[56261.940997083766],[40278.72813907429],[24190.0],[75682.21343873518],[18900.0],[19556.082156430348],[40147.084819486736],[33483.05651731706],[39149.0],[76721.35590853552],[91112.3454226382],[31183.857266124975],[32619.525388734757],[13596.593406593407],[72000.0],[34419.678214453925],[19400.0],[117.0],[18561.37229620915],[29881.51384199865],[22970.0],[53202.0],[17367.154371337587],[103320.1280955374],[1000.0],[30055.45840324068],[87255.90933694181],[19256.0],[63649.10179640719],[69738.88718518802],[63744.96440932007],[33557.57933913957],[46753.89573723115],[50356.04089246272],[67182.6128683359],[72920.51466093579],[78597.09340767817],[81261.06921493703],[90273.59095576569],[77068.57360439571],[81077.7326127598],[86655.86692854806],[76207.2835714691],[64014.70528593431],[49554.367705822195],[76725.57167506713],[87358.22939805215],[69528.59866785846],[68369.11319268122],[80906.02424198217],[73703.75948453891],[66566.37071419857],[77362.57656617256],[59847.56872151887],[93758.74263690368],[72513.03327233558],[78015.38089211223],[79791.71263880852],[88130.15910019792],[87787.9664916158],[79584.35486698587],[109101.28836452882],[72766.01565040906],[93762.50930424017],[85010.96153976051],[70912.26330710163],[85711.0587795856],[69672.23144811805],[74430.26009993882],[77710.71686490945],[94280.30688556825],[71158.90807960003],[79777.36845252683],[73751.44522855531],[92207.38524060216],[72123.47828180272],[77148.19028033444],[76661.5826416046],[83874.698614219],[76083.46258501534],[88048.04729121049],[75780.619540074],[53070.49683846971],[69068.0610318077],[47695.582483813196],[62681.016786113956],[165158.3469035937],[74283.27247706422],[77421.33186888733],[97741.92154262082],[126976.72127147215],[77593.47005334275],[67761.82219892151],[74057.91990144945],[91007.64277286136],[65449.37321425629],[100612.34120160757],[73795.05780534765],[94016.91248813955],[78542.81419872545],[112636.54502715537],[102061.51851851853],[97257.55854056998],[90720.02451255872],[141756.05970905407],[87196.94125909692],[84848.0689635594],[118452.32455730702],[120932.46287962559],[74878.817898751],[99353.19240207458],[99982.87779097438],[130000.0],[124516.12903225806],[99004.22016353514],[123156.408914127],[63870.05725364963],[84806.75313757728],[102164.0817680998],[90748.43928940389],[128027.71191342779],[78981.57947503284],[101958.69493886201],[79291.71865076215],[79903.46662590052],[25593.0],[113010.12798347823],[73841.37247552378],[124308.08986170049],[124272.47935478215],[80837.62268824685],[55952.76585309723],[93080.8132546304],[247000.0],[32650.99821646329],[48395.71323245254],[55860.96773667133],[56872.9878119213],[40095.18938654748],[32744.620205772662],[47246.73958009062],[36029.11839708561],[35296.249378943096],[36600.10554998159],[97804.72536227836],[42560.943330280716],[34106.32814595353],[43434.200459340274],[37194.65695842288],[48608.512086291856],[41368.74169458677],[41193.5699640936],[36716.55273371937],[35306.0699287094],[41562.744582282045],[28249.001757557497],[128000.0],[33557.17052671986],[151754.0],[60492.81378903948],[44663.32117917941],[33877.970512365035],[39448.87095977228],[44172.07002362804],[41485.037834577415],[41254.11643013741],[67264.3061694656],[32979.6692051299],[45038.85285554311],[33192.48026564785],[39178.252015022714],[43422.31964356091],[148117.08557821103],[32843.45275102859],[95861.0],[69391.80020793078],[43462.04321871537],[44527.88911354688],[33802.95614035088],[54140.87647061577],[71164.62389088763],[74166.91323426965],[80603.266920096],[82609.49949003333],[93252.39528731673],[76631.25428314567],[80405.29561380994],[84241.53828951709],[79378.95697475687],[68657.87191125251],[50036.227434681976],[80659.7330352592],[90023.08708634981],[72916.88521765999],[71036.50125613112],[84101.07518565406],[74346.42298375227],[68465.16038584644],[77157.1739462249],[61992.06606023363],[94696.49391323308],[77109.68391819033],[80332.10524391112],[82386.97013892591],[89347.36494590378],[91335.82562159929],[83934.71068190434],[114538.8640961488],[75099.6807127812],[94419.72710798147],[87331.88261233253],[73925.09876944007],[85926.9745130397],[70955.5629952344],[76596.03297585253],[79786.29921427125],[96985.32356422064],[72075.70841394919],[82022.44009567593],[78239.63842795331],[95255.41038074612],[76211.77514318429],[79734.42569249797],[84911.54429084118],[86393.4615172651],[77505.59030592322],[90696.8108846536],[77567.73313545552],[55315.12635296387],[74187.4141354568]],\"domain\":{\"x\":[0.0,1.0],\"y\":[0.0,1.0]},\"hovertemplate\":\"labels=%{label}<br>price=%{value}<br>parent=%{parent}<br>id=%{id}<br>odometer=%{color}<extra></extra>\",\"ids\":[\"ak/diesel\",\"al/diesel\",\"ar/diesel\",\"az/diesel\",\"ca/diesel\",\"co/diesel\",\"ct/diesel\",\"dc/diesel\",\"de/diesel\",\"fl/diesel\",\"ga/diesel\",\"hi/diesel\",\"ia/diesel\",\"id/diesel\",\"il/diesel\",\"in/diesel\",\"ks/diesel\",\"ky/diesel\",\"la/diesel\",\"ma/diesel\",\"md/diesel\",\"me/diesel\",\"mi/diesel\",\"mn/diesel\",\"mo/diesel\",\"ms/diesel\",\"mt/diesel\",\"nc/diesel\",\"nd/diesel\",\"ne/diesel\",\"nh/diesel\",\"nj/diesel\",\"nm/diesel\",\"nv/diesel\",\"ny/diesel\",\"oh/diesel\",\"ok/diesel\",\"or/diesel\",\"pa/diesel\",\"ri/diesel\",\"sc/diesel\",\"sd/diesel\",\"tn/diesel\",\"tx/diesel\",\"ut/diesel\",\"va/diesel\",\"vt/diesel\",\"wa/diesel\",\"wi/diesel\",\"wv/diesel\",\"wy/diesel\",\"ak/electric\",\"az/electric\",\"ca/electric\",\"co/electric\",\"ct/electric\",\"dc/electric\",\"de/electric\",\"fl/electric\",\"ga/electric\",\"hi/electric\",\"ia/electric\",\"id/electric\",\"il/electric\",\"in/electric\",\"ks/electric\",\"ma/electric\",\"md/electric\",\"mi/electric\",\"mn/electric\",\"mo/electric\",\"nc/electric\",\"nj/electric\",\"nm/electric\",\"nv/electric\",\"ny/electric\",\"oh/electric\",\"ok/electric\",\"or/electric\",\"pa/electric\",\"sc/electric\",\"tx/electric\",\"va/electric\",\"vt/electric\",\"wa/electric\",\"wi/electric\",\"ak/gas\",\"al/gas\",\"ar/gas\",\"az/gas\",\"ca/gas\",\"co/gas\",\"ct/gas\",\"dc/gas\",\"de/gas\",\"fl/gas\",\"ga/gas\",\"hi/gas\",\"ia/gas\",\"id/gas\",\"il/gas\",\"in/gas\",\"ks/gas\",\"ky/gas\",\"la/gas\",\"ma/gas\",\"md/gas\",\"me/gas\",\"mi/gas\",\"mn/gas\",\"mo/gas\",\"ms/gas\",\"mt/gas\",\"nc/gas\",\"nd/gas\",\"ne/gas\",\"nh/gas\",\"nj/gas\",\"nm/gas\",\"nv/gas\",\"ny/gas\",\"oh/gas\",\"ok/gas\",\"or/gas\",\"pa/gas\",\"ri/gas\",\"sc/gas\",\"sd/gas\",\"tn/gas\",\"tx/gas\",\"ut/gas\",\"va/gas\",\"vt/gas\",\"wa/gas\",\"wi/gas\",\"wv/gas\",\"wy/gas\",\"ak/hybrid\",\"al/hybrid\",\"ar/hybrid\",\"az/hybrid\",\"ca/hybrid\",\"co/hybrid\",\"ct/hybrid\",\"dc/hybrid\",\"de/hybrid\",\"fl/hybrid\",\"ga/hybrid\",\"hi/hybrid\",\"ia/hybrid\",\"id/hybrid\",\"il/hybrid\",\"in/hybrid\",\"ks/hybrid\",\"ky/hybrid\",\"la/hybrid\",\"ma/hybrid\",\"md/hybrid\",\"me/hybrid\",\"mi/hybrid\",\"mn/hybrid\",\"mo/hybrid\",\"ms/hybrid\",\"mt/hybrid\",\"nc/hybrid\",\"nd/hybrid\",\"ne/hybrid\",\"nh/hybrid\",\"nj/hybrid\",\"nm/hybrid\",\"nv/hybrid\",\"ny/hybrid\",\"oh/hybrid\",\"ok/hybrid\",\"or/hybrid\",\"pa/hybrid\",\"ri/hybrid\",\"sc/hybrid\",\"sd/hybrid\",\"tn/hybrid\",\"tx/hybrid\",\"ut/hybrid\",\"va/hybrid\",\"vt/hybrid\",\"wa/hybrid\",\"wi/hybrid\",\"wv/hybrid\",\"al/other\",\"ar/other\",\"az/other\",\"ca/other\",\"co/other\",\"ct/other\",\"dc/other\",\"de/other\",\"fl/other\",\"ga/other\",\"ia/other\",\"il/other\",\"in/other\",\"ks/other\",\"ky/other\",\"la/other\",\"ma/other\",\"md/other\",\"mi/other\",\"mn/other\",\"mo/other\",\"ms/other\",\"mt/other\",\"nc/other\",\"ne/other\",\"nh/other\",\"nj/other\",\"nm/other\",\"nv/other\",\"ny/other\",\"oh/other\",\"ok/other\",\"or/other\",\"pa/other\",\"ri/other\",\"sc/other\",\"tn/other\",\"tx/other\",\"ut/other\",\"va/other\",\"vt/other\",\"wa/other\",\"wi/other\",\"wv/other\",\"wy/other\",\"ak\",\"al\",\"ar\",\"az\",\"ca\",\"co\",\"ct\",\"dc\",\"de\",\"fl\",\"ga\",\"hi\",\"ia\",\"id\",\"il\",\"in\",\"ks\",\"ky\",\"la\",\"ma\",\"md\",\"me\",\"mi\",\"mn\",\"mo\",\"ms\",\"mt\",\"nc\",\"nd\",\"ne\",\"nh\",\"nj\",\"nm\",\"nv\",\"ny\",\"oh\",\"ok\",\"or\",\"pa\",\"ri\",\"sc\",\"sd\",\"tn\",\"tx\",\"ut\",\"va\",\"vt\",\"wa\",\"wi\",\"wv\",\"wy\"],\"labels\":[\"diesel\",\"diesel\",\"diesel\",\"diesel\",\"diesel\",\"diesel\",\"diesel\",\"diesel\",\"diesel\",\"diesel\",\"diesel\",\"diesel\",\"diesel\",\"diesel\",\"diesel\",\"diesel\",\"diesel\",\"diesel\",\"diesel\",\"diesel\",\"diesel\",\"diesel\",\"diesel\",\"diesel\",\"diesel\",\"diesel\",\"diesel\",\"diesel\",\"diesel\",\"diesel\",\"diesel\",\"diesel\",\"diesel\",\"diesel\",\"diesel\",\"diesel\",\"diesel\",\"diesel\",\"diesel\",\"diesel\",\"diesel\",\"diesel\",\"diesel\",\"diesel\",\"diesel\",\"diesel\",\"diesel\",\"diesel\",\"diesel\",\"diesel\",\"diesel\",\"electric\",\"electric\",\"electric\",\"electric\",\"electric\",\"electric\",\"electric\",\"electric\",\"electric\",\"electric\",\"electric\",\"electric\",\"electric\",\"electric\",\"electric\",\"electric\",\"electric\",\"electric\",\"electric\",\"electric\",\"electric\",\"electric\",\"electric\",\"electric\",\"electric\",\"electric\",\"electric\",\"electric\",\"electric\",\"electric\",\"electric\",\"electric\",\"electric\",\"electric\",\"electric\",\"gas\",\"gas\",\"gas\",\"gas\",\"gas\",\"gas\",\"gas\",\"gas\",\"gas\",\"gas\",\"gas\",\"gas\",\"gas\",\"gas\",\"gas\",\"gas\",\"gas\",\"gas\",\"gas\",\"gas\",\"gas\",\"gas\",\"gas\",\"gas\",\"gas\",\"gas\",\"gas\",\"gas\",\"gas\",\"gas\",\"gas\",\"gas\",\"gas\",\"gas\",\"gas\",\"gas\",\"gas\",\"gas\",\"gas\",\"gas\",\"gas\",\"gas\",\"gas\",\"gas\",\"gas\",\"gas\",\"gas\",\"gas\",\"gas\",\"gas\",\"gas\",\"hybrid\",\"hybrid\",\"hybrid\",\"hybrid\",\"hybrid\",\"hybrid\",\"hybrid\",\"hybrid\",\"hybrid\",\"hybrid\",\"hybrid\",\"hybrid\",\"hybrid\",\"hybrid\",\"hybrid\",\"hybrid\",\"hybrid\",\"hybrid\",\"hybrid\",\"hybrid\",\"hybrid\",\"hybrid\",\"hybrid\",\"hybrid\",\"hybrid\",\"hybrid\",\"hybrid\",\"hybrid\",\"hybrid\",\"hybrid\",\"hybrid\",\"hybrid\",\"hybrid\",\"hybrid\",\"hybrid\",\"hybrid\",\"hybrid\",\"hybrid\",\"hybrid\",\"hybrid\",\"hybrid\",\"hybrid\",\"hybrid\",\"hybrid\",\"hybrid\",\"hybrid\",\"hybrid\",\"hybrid\",\"hybrid\",\"hybrid\",\"other\",\"other\",\"other\",\"other\",\"other\",\"other\",\"other\",\"other\",\"other\",\"other\",\"other\",\"other\",\"other\",\"other\",\"other\",\"other\",\"other\",\"other\",\"other\",\"other\",\"other\",\"other\",\"other\",\"other\",\"other\",\"other\",\"other\",\"other\",\"other\",\"other\",\"other\",\"other\",\"other\",\"other\",\"other\",\"other\",\"other\",\"other\",\"other\",\"other\",\"other\",\"other\",\"other\",\"other\",\"other\",\"ak\",\"al\",\"ar\",\"az\",\"ca\",\"co\",\"ct\",\"dc\",\"de\",\"fl\",\"ga\",\"hi\",\"ia\",\"id\",\"il\",\"in\",\"ks\",\"ky\",\"la\",\"ma\",\"md\",\"me\",\"mi\",\"mn\",\"mo\",\"ms\",\"mt\",\"nc\",\"nd\",\"ne\",\"nh\",\"nj\",\"nm\",\"nv\",\"ny\",\"oh\",\"ok\",\"or\",\"pa\",\"ri\",\"sc\",\"sd\",\"tn\",\"tx\",\"ut\",\"va\",\"vt\",\"wa\",\"wi\",\"wv\",\"wy\"],\"marker\":{\"coloraxis\":\"coloraxis\",\"colors\":[85622.66730301744,135007.47395210803,93216.66152134085,114547.76342984605,103241.4084002706,141167.60223931115,87198.65778161517,88486.7474018357,83760.38296770112,118460.75983345833,117179.81169930325,66566.04862163999,116446.17869749974,103483.30672245717,132965.14976371315,124798.4708729971,140451.98744189975,101503.36646153197,90684.85791760156,92298.30803872125,90873.50635021973,101683.91876160982,124646.18325575552,116148.99972484635,126803.50759144177,139227.5176297721,110197.81120214221,117733.39113020137,139857.71936822624,133344.41107949664,107816.94763693633,121447.53104569763,106884.49804737115,110486.56610136622,96272.47669457039,120695.16479555624,96959.00566005908,121978.50942601227,101351.70032683611,120331.60347729149,124009.83613884178,107290.01916450901,116927.39360111534,115462.36000130654,109716.75109578314,109343.19773740946,95102.95201057478,108363.86600239553,101416.36459188937,80177.32888030574,113351.14263932228,26311.622588604754,66806.40051307992,56261.940997083766,40278.72813907429,24190.0,75682.21343873518,18900.0,19556.082156430348,40147.084819486736,33483.05651731706,39149.0,76721.35590853552,91112.3454226382,31183.857266124975,32619.525388734757,13596.593406593407,72000.0,34419.678214453925,19400.0,117.0,18561.37229620915,29881.51384199865,22970.0,53202.0,17367.154371337587,103320.1280955374,1000.0,30055.45840324068,87255.90933694181,19256.0,63649.10179640719,69738.88718518802,63744.96440932007,33557.57933913957,46753.89573723115,50356.04089246272,67182.6128683359,72920.51466093579,78597.09340767817,81261.06921493703,90273.59095576569,77068.57360439571,81077.7326127598,86655.86692854806,76207.2835714691,64014.70528593431,49554.367705822195,76725.57167506713,87358.22939805215,69528.59866785846,68369.11319268122,80906.02424198217,73703.75948453891,66566.37071419857,77362.57656617256,59847.56872151887,93758.74263690368,72513.03327233558,78015.38089211223,79791.71263880852,88130.15910019792,87787.9664916158,79584.35486698587,109101.28836452882,72766.01565040906,93762.50930424017,85010.96153976051,70912.26330710163,85711.0587795856,69672.23144811805,74430.26009993882,77710.71686490945,94280.30688556825,71158.90807960003,79777.36845252683,73751.44522855531,92207.38524060216,72123.47828180272,77148.19028033444,76661.5826416046,83874.698614219,76083.46258501534,88048.04729121049,75780.619540074,53070.49683846971,69068.0610318077,47695.582483813196,62681.016786113956,165158.3469035937,74283.27247706422,77421.33186888733,97741.92154262082,126976.72127147215,77593.47005334275,67761.82219892151,74057.91990144945,91007.64277286136,65449.37321425629,100612.34120160757,73795.05780534765,94016.91248813955,78542.81419872545,112636.54502715537,102061.51851851853,97257.55854056998,90720.02451255872,141756.05970905407,87196.94125909692,84848.0689635594,118452.32455730702,120932.46287962559,74878.817898751,99353.19240207458,99982.87779097438,130000.0,124516.12903225806,99004.22016353514,123156.408914127,63870.05725364963,84806.75313757728,102164.0817680998,90748.43928940389,128027.71191342779,78981.57947503284,101958.69493886201,79291.71865076215,79903.46662590052,25593.0,113010.12798347823,73841.37247552378,124308.08986170049,124272.47935478215,80837.62268824685,55952.76585309723,93080.8132546304,247000.0,32650.99821646329,48395.71323245254,55860.96773667133,56872.9878119213,40095.18938654748,32744.620205772662,47246.73958009062,36029.11839708561,35296.249378943096,36600.10554998159,97804.72536227836,42560.943330280716,34106.32814595353,43434.200459340274,37194.65695842288,48608.512086291856,41368.74169458677,41193.5699640936,36716.55273371937,35306.0699287094,41562.744582282045,28249.001757557497,128000.0,33557.17052671986,151754.0,60492.81378903948,44663.32117917941,33877.970512365035,39448.87095977228,44172.07002362804,41485.037834577415,41254.11643013741,67264.3061694656,32979.6692051299,45038.85285554311,33192.48026564785,39178.252015022714,43422.31964356091,148117.08557821103,32843.45275102859,95861.0,69391.80020793078,43462.04321871537,44527.88911354688,33802.95614035088,54140.87647061577,71164.62389088763,74166.91323426965,80603.266920096,82609.49949003333,93252.39528731673,76631.25428314567,80405.29561380994,84241.53828951709,79378.95697475687,68657.87191125251,50036.227434681976,80659.7330352592,90023.08708634981,72916.88521765999,71036.50125613112,84101.07518565406,74346.42298375227,68465.16038584644,77157.1739462249,61992.06606023363,94696.49391323308,77109.68391819033,80332.10524391112,82386.97013892591,89347.36494590378,91335.82562159929,83934.71068190434,114538.8640961488,75099.6807127812,94419.72710798147,87331.88261233253,73925.09876944007,85926.9745130397,70955.5629952344,76596.03297585253,79786.29921427125,96985.32356422064,72075.70841394919,82022.44009567593,78239.63842795331,95255.41038074612,76211.77514318429,79734.42569249797,84911.54429084118,86393.4615172651,77505.59030592322,90696.8108846536,77567.73313545552,55315.12635296387,74187.4141354568]},\"name\":\"\",\"parents\":[\"ak\",\"al\",\"ar\",\"az\",\"ca\",\"co\",\"ct\",\"dc\",\"de\",\"fl\",\"ga\",\"hi\",\"ia\",\"id\",\"il\",\"in\",\"ks\",\"ky\",\"la\",\"ma\",\"md\",\"me\",\"mi\",\"mn\",\"mo\",\"ms\",\"mt\",\"nc\",\"nd\",\"ne\",\"nh\",\"nj\",\"nm\",\"nv\",\"ny\",\"oh\",\"ok\",\"or\",\"pa\",\"ri\",\"sc\",\"sd\",\"tn\",\"tx\",\"ut\",\"va\",\"vt\",\"wa\",\"wi\",\"wv\",\"wy\",\"ak\",\"az\",\"ca\",\"co\",\"ct\",\"dc\",\"de\",\"fl\",\"ga\",\"hi\",\"ia\",\"id\",\"il\",\"in\",\"ks\",\"ma\",\"md\",\"mi\",\"mn\",\"mo\",\"nc\",\"nj\",\"nm\",\"nv\",\"ny\",\"oh\",\"ok\",\"or\",\"pa\",\"sc\",\"tx\",\"va\",\"vt\",\"wa\",\"wi\",\"ak\",\"al\",\"ar\",\"az\",\"ca\",\"co\",\"ct\",\"dc\",\"de\",\"fl\",\"ga\",\"hi\",\"ia\",\"id\",\"il\",\"in\",\"ks\",\"ky\",\"la\",\"ma\",\"md\",\"me\",\"mi\",\"mn\",\"mo\",\"ms\",\"mt\",\"nc\",\"nd\",\"ne\",\"nh\",\"nj\",\"nm\",\"nv\",\"ny\",\"oh\",\"ok\",\"or\",\"pa\",\"ri\",\"sc\",\"sd\",\"tn\",\"tx\",\"ut\",\"va\",\"vt\",\"wa\",\"wi\",\"wv\",\"wy\",\"ak\",\"al\",\"ar\",\"az\",\"ca\",\"co\",\"ct\",\"dc\",\"de\",\"fl\",\"ga\",\"hi\",\"ia\",\"id\",\"il\",\"in\",\"ks\",\"ky\",\"la\",\"ma\",\"md\",\"me\",\"mi\",\"mn\",\"mo\",\"ms\",\"mt\",\"nc\",\"nd\",\"ne\",\"nh\",\"nj\",\"nm\",\"nv\",\"ny\",\"oh\",\"ok\",\"or\",\"pa\",\"ri\",\"sc\",\"sd\",\"tn\",\"tx\",\"ut\",\"va\",\"vt\",\"wa\",\"wi\",\"wv\",\"al\",\"ar\",\"az\",\"ca\",\"co\",\"ct\",\"dc\",\"de\",\"fl\",\"ga\",\"ia\",\"il\",\"in\",\"ks\",\"ky\",\"la\",\"ma\",\"md\",\"mi\",\"mn\",\"mo\",\"ms\",\"mt\",\"nc\",\"ne\",\"nh\",\"nj\",\"nm\",\"nv\",\"ny\",\"oh\",\"ok\",\"or\",\"pa\",\"ri\",\"sc\",\"tn\",\"tx\",\"ut\",\"va\",\"vt\",\"wa\",\"wi\",\"wv\",\"wy\",\"\",\"\",\"\",\"\",\"\",\"\",\"\",\"\",\"\",\"\",\"\",\"\",\"\",\"\",\"\",\"\",\"\",\"\",\"\",\"\",\"\",\"\",\"\",\"\",\"\",\"\",\"\",\"\",\"\",\"\",\"\",\"\",\"\",\"\",\"\",\"\",\"\",\"\",\"\",\"\",\"\",\"\",\"\",\"\",\"\",\"\",\"\",\"\",\"\",\"\",\"\"],\"type\":\"treemap\",\"values\":[2667292,2106658,1369463,2879966,19484539,2576328,1518393,510649,916905,12403622,3313052,267782,3477911,4312084,2626257,2515415,2023873,2276228,942615,2235878,1451997,1408829,7864577,3012862,1717131,374310,3015209,10312410,713230,157101,753069,2541576,2381661,979715,10953735,4826902,4528928,5133507,3974163,746328,4079118,1436353,6080966,9245797,1282188,6465686,1573555,4191963,5910787,539558,521399,213984,138380,869957,294864,21900,25300,42200,319695,114950,93405,43470,28645,17095,139070,92994,81900,6900,95545,13900,27980,103697,74050,8600,7500,237719,47730,130000,396954,36950,48500,16700,78261,36695,312078,89965,20118353,21669080,11638002,31206471,166642888,30913131,17162888,9018927,4001557,101326583,25280999,9859833,37647715,20682207,35096571,29100309,25211676,23746041,8752972,35730322,14890998,9837098,64307839,36526884,17311078,4663470,16300786,60352836,3339478,4692593,10415735,30408651,16864961,9406395,84995757,59614470,25108774,30617168,53593544,9670410,24497811,5376344,46306813,76978554,4329732,35564999,20038589,15332236,56782569,4817920,3476171,290360,209995,60328,534100,2871393,255591,155725,172657,6676,1048396,193230,121378,137599,156854,219216,162254,189097,32400,27545,233105,69085,82583,475541,261242,194435,57166,75389,461398,6500,15500,45984,299547,131520,134419,621526,523673,123088,696615,399179,100768,156993,12901,182547,556254,45481,399245,261598,391075,268012,2300,1205470,662432,1207191,5419476,317710,689110,289110,131760,3145847,1385410,1324534,1440293,1442925,838594,1277265,257730,1093895,749170,1927429,719590,894934,199140,9700,1719320,13498,101820,529860,647390,465475,6529953,2632724,554195,214427,2038635,178600,1646089,1754943,3516786,33595,1356220,23988,95224,1198416,281910,64980,23289989,25191203,13730225,35966108,195288253,34357624,19548016,10016643,5099098,118244143,30287641,10342398,42631229,25179790,39399432,33359973,28356234,27331934,9980862,39375100,17168150,11328510,74670931,40534478,20145558,5294086,19401084,72949661,4059208,4878692,11316608,33853684,20034132,10993504,103338690,67645499,30444985,37058671,60042471,10696106,30428511,6825598,54325269,90314091,5690996,43864411,21934425,20322576,64249749,5641688,4062550]}],                        {\"coloraxis\":{\"colorbar\":{\"title\":{\"text\":\"odometer\"}},\"colorscale\":[[0.0,\"rgb(247,252,240)\"],[0.125,\"rgb(224,243,219)\"],[0.25,\"rgb(204,235,197)\"],[0.375,\"rgb(168,221,181)\"],[0.5,\"rgb(123,204,196)\"],[0.625,\"rgb(78,179,211)\"],[0.75,\"rgb(43,140,190)\"],[0.875,\"rgb(8,104,172)\"],[1.0,\"rgb(8,64,129)\"]]},\"legend\":{\"tracegroupgap\":0},\"margin\":{\"t\":60},\"template\":{\"data\":{\"bar\":[{\"error_x\":{\"color\":\"#2a3f5f\"},\"error_y\":{\"color\":\"#2a3f5f\"},\"marker\":{\"line\":{\"color\":\"#E5ECF6\",\"width\":0.5},\"pattern\":{\"fillmode\":\"overlay\",\"size\":10,\"solidity\":0.2}},\"type\":\"bar\"}],\"barpolar\":[{\"marker\":{\"line\":{\"color\":\"#E5ECF6\",\"width\":0.5},\"pattern\":{\"fillmode\":\"overlay\",\"size\":10,\"solidity\":0.2}},\"type\":\"barpolar\"}],\"carpet\":[{\"aaxis\":{\"endlinecolor\":\"#2a3f5f\",\"gridcolor\":\"white\",\"linecolor\":\"white\",\"minorgridcolor\":\"white\",\"startlinecolor\":\"#2a3f5f\"},\"baxis\":{\"endlinecolor\":\"#2a3f5f\",\"gridcolor\":\"white\",\"linecolor\":\"white\",\"minorgridcolor\":\"white\",\"startlinecolor\":\"#2a3f5f\"},\"type\":\"carpet\"}],\"choropleth\":[{\"colorbar\":{\"outlinewidth\":0,\"ticks\":\"\"},\"type\":\"choropleth\"}],\"contour\":[{\"colorbar\":{\"outlinewidth\":0,\"ticks\":\"\"},\"colorscale\":[[0.0,\"#0d0887\"],[0.1111111111111111,\"#46039f\"],[0.2222222222222222,\"#7201a8\"],[0.3333333333333333,\"#9c179e\"],[0.4444444444444444,\"#bd3786\"],[0.5555555555555556,\"#d8576b\"],[0.6666666666666666,\"#ed7953\"],[0.7777777777777778,\"#fb9f3a\"],[0.8888888888888888,\"#fdca26\"],[1.0,\"#f0f921\"]],\"type\":\"contour\"}],\"contourcarpet\":[{\"colorbar\":{\"outlinewidth\":0,\"ticks\":\"\"},\"type\":\"contourcarpet\"}],\"heatmap\":[{\"colorbar\":{\"outlinewidth\":0,\"ticks\":\"\"},\"colorscale\":[[0.0,\"#0d0887\"],[0.1111111111111111,\"#46039f\"],[0.2222222222222222,\"#7201a8\"],[0.3333333333333333,\"#9c179e\"],[0.4444444444444444,\"#bd3786\"],[0.5555555555555556,\"#d8576b\"],[0.6666666666666666,\"#ed7953\"],[0.7777777777777778,\"#fb9f3a\"],[0.8888888888888888,\"#fdca26\"],[1.0,\"#f0f921\"]],\"type\":\"heatmap\"}],\"heatmapgl\":[{\"colorbar\":{\"outlinewidth\":0,\"ticks\":\"\"},\"colorscale\":[[0.0,\"#0d0887\"],[0.1111111111111111,\"#46039f\"],[0.2222222222222222,\"#7201a8\"],[0.3333333333333333,\"#9c179e\"],[0.4444444444444444,\"#bd3786\"],[0.5555555555555556,\"#d8576b\"],[0.6666666666666666,\"#ed7953\"],[0.7777777777777778,\"#fb9f3a\"],[0.8888888888888888,\"#fdca26\"],[1.0,\"#f0f921\"]],\"type\":\"heatmapgl\"}],\"histogram\":[{\"marker\":{\"pattern\":{\"fillmode\":\"overlay\",\"size\":10,\"solidity\":0.2}},\"type\":\"histogram\"}],\"histogram2d\":[{\"colorbar\":{\"outlinewidth\":0,\"ticks\":\"\"},\"colorscale\":[[0.0,\"#0d0887\"],[0.1111111111111111,\"#46039f\"],[0.2222222222222222,\"#7201a8\"],[0.3333333333333333,\"#9c179e\"],[0.4444444444444444,\"#bd3786\"],[0.5555555555555556,\"#d8576b\"],[0.6666666666666666,\"#ed7953\"],[0.7777777777777778,\"#fb9f3a\"],[0.8888888888888888,\"#fdca26\"],[1.0,\"#f0f921\"]],\"type\":\"histogram2d\"}],\"histogram2dcontour\":[{\"colorbar\":{\"outlinewidth\":0,\"ticks\":\"\"},\"colorscale\":[[0.0,\"#0d0887\"],[0.1111111111111111,\"#46039f\"],[0.2222222222222222,\"#7201a8\"],[0.3333333333333333,\"#9c179e\"],[0.4444444444444444,\"#bd3786\"],[0.5555555555555556,\"#d8576b\"],[0.6666666666666666,\"#ed7953\"],[0.7777777777777778,\"#fb9f3a\"],[0.8888888888888888,\"#fdca26\"],[1.0,\"#f0f921\"]],\"type\":\"histogram2dcontour\"}],\"mesh3d\":[{\"colorbar\":{\"outlinewidth\":0,\"ticks\":\"\"},\"type\":\"mesh3d\"}],\"parcoords\":[{\"line\":{\"colorbar\":{\"outlinewidth\":0,\"ticks\":\"\"}},\"type\":\"parcoords\"}],\"pie\":[{\"automargin\":true,\"type\":\"pie\"}],\"scatter\":[{\"marker\":{\"colorbar\":{\"outlinewidth\":0,\"ticks\":\"\"}},\"type\":\"scatter\"}],\"scatter3d\":[{\"line\":{\"colorbar\":{\"outlinewidth\":0,\"ticks\":\"\"}},\"marker\":{\"colorbar\":{\"outlinewidth\":0,\"ticks\":\"\"}},\"type\":\"scatter3d\"}],\"scattercarpet\":[{\"marker\":{\"colorbar\":{\"outlinewidth\":0,\"ticks\":\"\"}},\"type\":\"scattercarpet\"}],\"scattergeo\":[{\"marker\":{\"colorbar\":{\"outlinewidth\":0,\"ticks\":\"\"}},\"type\":\"scattergeo\"}],\"scattergl\":[{\"marker\":{\"colorbar\":{\"outlinewidth\":0,\"ticks\":\"\"}},\"type\":\"scattergl\"}],\"scattermapbox\":[{\"marker\":{\"colorbar\":{\"outlinewidth\":0,\"ticks\":\"\"}},\"type\":\"scattermapbox\"}],\"scatterpolar\":[{\"marker\":{\"colorbar\":{\"outlinewidth\":0,\"ticks\":\"\"}},\"type\":\"scatterpolar\"}],\"scatterpolargl\":[{\"marker\":{\"colorbar\":{\"outlinewidth\":0,\"ticks\":\"\"}},\"type\":\"scatterpolargl\"}],\"scatterternary\":[{\"marker\":{\"colorbar\":{\"outlinewidth\":0,\"ticks\":\"\"}},\"type\":\"scatterternary\"}],\"surface\":[{\"colorbar\":{\"outlinewidth\":0,\"ticks\":\"\"},\"colorscale\":[[0.0,\"#0d0887\"],[0.1111111111111111,\"#46039f\"],[0.2222222222222222,\"#7201a8\"],[0.3333333333333333,\"#9c179e\"],[0.4444444444444444,\"#bd3786\"],[0.5555555555555556,\"#d8576b\"],[0.6666666666666666,\"#ed7953\"],[0.7777777777777778,\"#fb9f3a\"],[0.8888888888888888,\"#fdca26\"],[1.0,\"#f0f921\"]],\"type\":\"surface\"}],\"table\":[{\"cells\":{\"fill\":{\"color\":\"#EBF0F8\"},\"line\":{\"color\":\"white\"}},\"header\":{\"fill\":{\"color\":\"#C8D4E3\"},\"line\":{\"color\":\"white\"}},\"type\":\"table\"}]},\"layout\":{\"annotationdefaults\":{\"arrowcolor\":\"#2a3f5f\",\"arrowhead\":0,\"arrowwidth\":1},\"autotypenumbers\":\"strict\",\"coloraxis\":{\"colorbar\":{\"outlinewidth\":0,\"ticks\":\"\"}},\"colorscale\":{\"diverging\":[[0,\"#8e0152\"],[0.1,\"#c51b7d\"],[0.2,\"#de77ae\"],[0.3,\"#f1b6da\"],[0.4,\"#fde0ef\"],[0.5,\"#f7f7f7\"],[0.6,\"#e6f5d0\"],[0.7,\"#b8e186\"],[0.8,\"#7fbc41\"],[0.9,\"#4d9221\"],[1,\"#276419\"]],\"sequential\":[[0.0,\"#0d0887\"],[0.1111111111111111,\"#46039f\"],[0.2222222222222222,\"#7201a8\"],[0.3333333333333333,\"#9c179e\"],[0.4444444444444444,\"#bd3786\"],[0.5555555555555556,\"#d8576b\"],[0.6666666666666666,\"#ed7953\"],[0.7777777777777778,\"#fb9f3a\"],[0.8888888888888888,\"#fdca26\"],[1.0,\"#f0f921\"]],\"sequentialminus\":[[0.0,\"#0d0887\"],[0.1111111111111111,\"#46039f\"],[0.2222222222222222,\"#7201a8\"],[0.3333333333333333,\"#9c179e\"],[0.4444444444444444,\"#bd3786\"],[0.5555555555555556,\"#d8576b\"],[0.6666666666666666,\"#ed7953\"],[0.7777777777777778,\"#fb9f3a\"],[0.8888888888888888,\"#fdca26\"],[1.0,\"#f0f921\"]]},\"colorway\":[\"#636efa\",\"#EF553B\",\"#00cc96\",\"#ab63fa\",\"#FFA15A\",\"#19d3f3\",\"#FF6692\",\"#B6E880\",\"#FF97FF\",\"#FECB52\"],\"font\":{\"color\":\"#2a3f5f\"},\"geo\":{\"bgcolor\":\"white\",\"lakecolor\":\"white\",\"landcolor\":\"#E5ECF6\",\"showlakes\":true,\"showland\":true,\"subunitcolor\":\"white\"},\"hoverlabel\":{\"align\":\"left\"},\"hovermode\":\"closest\",\"mapbox\":{\"style\":\"light\"},\"paper_bgcolor\":\"white\",\"plot_bgcolor\":\"#E5ECF6\",\"polar\":{\"angularaxis\":{\"gridcolor\":\"white\",\"linecolor\":\"white\",\"ticks\":\"\"},\"bgcolor\":\"#E5ECF6\",\"radialaxis\":{\"gridcolor\":\"white\",\"linecolor\":\"white\",\"ticks\":\"\"}},\"scene\":{\"xaxis\":{\"backgroundcolor\":\"#E5ECF6\",\"gridcolor\":\"white\",\"gridwidth\":2,\"linecolor\":\"white\",\"showbackground\":true,\"ticks\":\"\",\"zerolinecolor\":\"white\"},\"yaxis\":{\"backgroundcolor\":\"#E5ECF6\",\"gridcolor\":\"white\",\"gridwidth\":2,\"linecolor\":\"white\",\"showbackground\":true,\"ticks\":\"\",\"zerolinecolor\":\"white\"},\"zaxis\":{\"backgroundcolor\":\"#E5ECF6\",\"gridcolor\":\"white\",\"gridwidth\":2,\"linecolor\":\"white\",\"showbackground\":true,\"ticks\":\"\",\"zerolinecolor\":\"white\"}},\"shapedefaults\":{\"line\":{\"color\":\"#2a3f5f\"}},\"ternary\":{\"aaxis\":{\"gridcolor\":\"white\",\"linecolor\":\"white\",\"ticks\":\"\"},\"baxis\":{\"gridcolor\":\"white\",\"linecolor\":\"white\",\"ticks\":\"\"},\"bgcolor\":\"#E5ECF6\",\"caxis\":{\"gridcolor\":\"white\",\"linecolor\":\"white\",\"ticks\":\"\"}},\"title\":{\"x\":0.05},\"xaxis\":{\"automargin\":true,\"gridcolor\":\"white\",\"linecolor\":\"white\",\"ticks\":\"\",\"title\":{\"standoff\":15},\"zerolinecolor\":\"white\",\"zerolinewidth\":2},\"yaxis\":{\"automargin\":true,\"gridcolor\":\"white\",\"linecolor\":\"white\",\"ticks\":\"\",\"title\":{\"standoff\":15},\"zerolinecolor\":\"white\",\"zerolinewidth\":2}}}},                        {\"responsive\": true}                    ).then(function(){\n",
       "                            \n",
       "var gd = document.getElementById('8d107f0e-8d1e-4c60-b103-a91d4488f2f2');\n",
       "var x = new MutationObserver(function (mutations, observer) {{\n",
       "        var display = window.getComputedStyle(gd).display;\n",
       "        if (!display || display === 'none') {{\n",
       "            console.log([gd, 'removed!']);\n",
       "            Plotly.purge(gd);\n",
       "            observer.disconnect();\n",
       "        }}\n",
       "}});\n",
       "\n",
       "// Listen for the removal of the full notebook cells\n",
       "var notebookContainer = gd.closest('#notebook-container');\n",
       "if (notebookContainer) {{\n",
       "    x.observe(notebookContainer, {childList: true});\n",
       "}}\n",
       "\n",
       "// Listen for the clearing of the current output cell\n",
       "var outputEl = gd.closest('.output');\n",
       "if (outputEl) {{\n",
       "    x.observe(outputEl, {childList: true});\n",
       "}}\n",
       "\n",
       "                        })                };                            </script>        </div>\n",
       "</body>\n",
       "</html>"
      ]
     },
     "metadata": {
      "tags": []
     },
     "output_type": "display_data"
    }
   ],
   "source": [
    "fig = px.treemap(cars3_df, \n",
    "                 path = ['state','fuel'], \n",
    "                 values='price',\n",
    "                 color='odometer', \n",
    "                 color_continuous_scale='gnbu')\n",
    "\n",
    "fig.show()\n"
   ]
  },
  {
   "cell_type": "markdown",
   "metadata": {
    "id": "MKnneJA5Mrvy"
   },
   "source": [
    "From this treemap graph above alone, we can derive some insights already from our dataset:"
   ]
  },
  {
   "cell_type": "markdown",
   "metadata": {
    "id": "WDeQh1LH-cNi"
   },
   "source": [
    "* Most cars on this cars selling platform run on gas or petrol.\n",
    "* From the colors, the vehicles that use Diesel have a higher mileage which means they could be long distance journey vehicles.\n",
    "* The state of California has the highest sum for price of cars followed by florida, New York and Texas. These are among states with the highest population in the U.S so it won't be a surprise to see more cars there for sale."
   ]
  },
  {
   "cell_type": "markdown",
   "metadata": {
    "id": "JGUWucVV_5gJ"
   },
   "source": [
    "Lets work on a sample of the cars_df of length 10,000"
   ]
  },
  {
   "cell_type": "code",
   "execution_count": null,
   "metadata": {
    "id": "vbGIZ5m9naxJ"
   },
   "outputs": [],
   "source": [
    "cars_sample = cars3_df.sample(n = 10000)"
   ]
  },
  {
   "cell_type": "code",
   "execution_count": null,
   "metadata": {
    "colab": {
     "base_uri": "https://localhost:8080/",
     "height": 626
    },
    "executionInfo": {
     "elapsed": 62,
     "status": "ok",
     "timestamp": 1625094850237,
     "user": {
      "displayName": "nasiru sule",
      "photoUrl": "https://lh3.googleusercontent.com/a-/AOh14GiVuRFYjI43LxMj_Q8ZlQSSi4rs-Su2HdfNPNxp7A=s64",
      "userId": "16455627822583485460"
     },
     "user_tz": -60
    },
    "id": "u1PhphGH8SSR",
    "outputId": "92a10f07-4beb-49f7-b692-a21750fc9669"
   },
   "outputs": [
    {
     "data": {
      "text/html": [
       "<div>\n",
       "<style scoped>\n",
       "    .dataframe tbody tr th:only-of-type {\n",
       "        vertical-align: middle;\n",
       "    }\n",
       "\n",
       "    .dataframe tbody tr th {\n",
       "        vertical-align: top;\n",
       "    }\n",
       "\n",
       "    .dataframe thead th {\n",
       "        text-align: right;\n",
       "    }\n",
       "</style>\n",
       "<table border=\"1\" class=\"dataframe\">\n",
       "  <thead>\n",
       "    <tr style=\"text-align: right;\">\n",
       "      <th></th>\n",
       "      <th>region</th>\n",
       "      <th>price</th>\n",
       "      <th>year</th>\n",
       "      <th>manufacturer</th>\n",
       "      <th>model</th>\n",
       "      <th>condition</th>\n",
       "      <th>cylinders</th>\n",
       "      <th>fuel</th>\n",
       "      <th>odometer</th>\n",
       "      <th>title_status</th>\n",
       "      <th>drive</th>\n",
       "      <th>type</th>\n",
       "      <th>paint_color</th>\n",
       "      <th>state</th>\n",
       "      <th>lat</th>\n",
       "      <th>long</th>\n",
       "    </tr>\n",
       "  </thead>\n",
       "  <tbody>\n",
       "    <tr>\n",
       "      <th>419654</th>\n",
       "      <td>madison</td>\n",
       "      <td>11900</td>\n",
       "      <td>2009.0</td>\n",
       "      <td>nissan</td>\n",
       "      <td>rogue</td>\n",
       "      <td>good</td>\n",
       "      <td>4 cylinders</td>\n",
       "      <td>gas</td>\n",
       "      <td>35655.0</td>\n",
       "      <td>clean</td>\n",
       "      <td>4wd</td>\n",
       "      <td>wagon</td>\n",
       "      <td>silver</td>\n",
       "      <td>wi</td>\n",
       "      <td>43.029559</td>\n",
       "      <td>-89.397796</td>\n",
       "    </tr>\n",
       "    <tr>\n",
       "      <th>65604</th>\n",
       "      <td>stockton</td>\n",
       "      <td>22590</td>\n",
       "      <td>2015.0</td>\n",
       "      <td>hyundai</td>\n",
       "      <td>genesis 3.8 sedan 4d</td>\n",
       "      <td>good</td>\n",
       "      <td>6 cylinders</td>\n",
       "      <td>gas</td>\n",
       "      <td>51933.0</td>\n",
       "      <td>clean</td>\n",
       "      <td>rwd</td>\n",
       "      <td>sedan</td>\n",
       "      <td>silver</td>\n",
       "      <td>ca</td>\n",
       "      <td>33.786500</td>\n",
       "      <td>-84.445400</td>\n",
       "    </tr>\n",
       "    <tr>\n",
       "      <th>32609</th>\n",
       "      <td>inland empire</td>\n",
       "      <td>7975</td>\n",
       "      <td>2013.0</td>\n",
       "      <td>ford</td>\n",
       "      <td>c-max hybrid</td>\n",
       "      <td>excellent</td>\n",
       "      <td>4 cylinders</td>\n",
       "      <td>hybrid</td>\n",
       "      <td>139000.0</td>\n",
       "      <td>clean</td>\n",
       "      <td>fwd</td>\n",
       "      <td>hatchback</td>\n",
       "      <td>blue</td>\n",
       "      <td>ca</td>\n",
       "      <td>34.070612</td>\n",
       "      <td>-117.383384</td>\n",
       "    </tr>\n",
       "    <tr>\n",
       "      <th>193827</th>\n",
       "      <td>ann arbor</td>\n",
       "      <td>8000</td>\n",
       "      <td>2004.0</td>\n",
       "      <td>toyota</td>\n",
       "      <td>4runner</td>\n",
       "      <td>excellent</td>\n",
       "      <td>6 cylinders</td>\n",
       "      <td>gas</td>\n",
       "      <td>225000.0</td>\n",
       "      <td>clean</td>\n",
       "      <td>4wd</td>\n",
       "      <td>SUV</td>\n",
       "      <td>white</td>\n",
       "      <td>mi</td>\n",
       "      <td>42.508365</td>\n",
       "      <td>-83.530545</td>\n",
       "    </tr>\n",
       "    <tr>\n",
       "      <th>129315</th>\n",
       "      <td>hawaii</td>\n",
       "      <td>23500</td>\n",
       "      <td>2011.0</td>\n",
       "      <td>toyota</td>\n",
       "      <td>sequoia sr5</td>\n",
       "      <td>excellent</td>\n",
       "      <td>8 cylinders</td>\n",
       "      <td>gas</td>\n",
       "      <td>156000.0</td>\n",
       "      <td>clean</td>\n",
       "      <td>rwd</td>\n",
       "      <td>SUV</td>\n",
       "      <td>grey</td>\n",
       "      <td>hi</td>\n",
       "      <td>21.348800</td>\n",
       "      <td>-157.875900</td>\n",
       "    </tr>\n",
       "    <tr>\n",
       "      <th>...</th>\n",
       "      <td>...</td>\n",
       "      <td>...</td>\n",
       "      <td>...</td>\n",
       "      <td>...</td>\n",
       "      <td>...</td>\n",
       "      <td>...</td>\n",
       "      <td>...</td>\n",
       "      <td>...</td>\n",
       "      <td>...</td>\n",
       "      <td>...</td>\n",
       "      <td>...</td>\n",
       "      <td>...</td>\n",
       "      <td>...</td>\n",
       "      <td>...</td>\n",
       "      <td>...</td>\n",
       "      <td>...</td>\n",
       "    </tr>\n",
       "    <tr>\n",
       "      <th>74866</th>\n",
       "      <td>colorado springs</td>\n",
       "      <td>10500</td>\n",
       "      <td>2007.0</td>\n",
       "      <td>gmc</td>\n",
       "      <td>sierra 1500</td>\n",
       "      <td>good</td>\n",
       "      <td>8 cylinders</td>\n",
       "      <td>gas</td>\n",
       "      <td>165000.0</td>\n",
       "      <td>lien</td>\n",
       "      <td>4wd</td>\n",
       "      <td>pickup</td>\n",
       "      <td>grey</td>\n",
       "      <td>co</td>\n",
       "      <td>38.885100</td>\n",
       "      <td>-104.794100</td>\n",
       "    </tr>\n",
       "    <tr>\n",
       "      <th>279769</th>\n",
       "      <td>rochester</td>\n",
       "      <td>26995</td>\n",
       "      <td>2017.0</td>\n",
       "      <td>gmc</td>\n",
       "      <td>savana cargo van</td>\n",
       "      <td>good</td>\n",
       "      <td>8 cylinders</td>\n",
       "      <td>other</td>\n",
       "      <td>42763.0</td>\n",
       "      <td>clean</td>\n",
       "      <td>rwd</td>\n",
       "      <td>van</td>\n",
       "      <td>white</td>\n",
       "      <td>ny</td>\n",
       "      <td>43.220454</td>\n",
       "      <td>-77.819038</td>\n",
       "    </tr>\n",
       "    <tr>\n",
       "      <th>191764</th>\n",
       "      <td>worcester / central MA</td>\n",
       "      <td>1450</td>\n",
       "      <td>2000.0</td>\n",
       "      <td>acura</td>\n",
       "      <td>tl</td>\n",
       "      <td>good</td>\n",
       "      <td>6 cylinders</td>\n",
       "      <td>gas</td>\n",
       "      <td>208550.0</td>\n",
       "      <td>clean</td>\n",
       "      <td>fwd</td>\n",
       "      <td>sedan</td>\n",
       "      <td>black</td>\n",
       "      <td>ma</td>\n",
       "      <td>42.242556</td>\n",
       "      <td>-71.822519</td>\n",
       "    </tr>\n",
       "    <tr>\n",
       "      <th>142287</th>\n",
       "      <td>chicago</td>\n",
       "      <td>2500</td>\n",
       "      <td>2001.0</td>\n",
       "      <td>honda</td>\n",
       "      <td>civic ex sedan</td>\n",
       "      <td>good</td>\n",
       "      <td>4 cylinders</td>\n",
       "      <td>gas</td>\n",
       "      <td>179000.0</td>\n",
       "      <td>clean</td>\n",
       "      <td>fwd</td>\n",
       "      <td>sedan</td>\n",
       "      <td>black</td>\n",
       "      <td>il</td>\n",
       "      <td>41.725700</td>\n",
       "      <td>-87.556000</td>\n",
       "    </tr>\n",
       "    <tr>\n",
       "      <th>167701</th>\n",
       "      <td>salina</td>\n",
       "      <td>39985</td>\n",
       "      <td>2019.0</td>\n",
       "      <td>cadillac</td>\n",
       "      <td>xt4</td>\n",
       "      <td>excellent</td>\n",
       "      <td>4 cylinders</td>\n",
       "      <td>gas</td>\n",
       "      <td>16772.0</td>\n",
       "      <td>clean</td>\n",
       "      <td>4wd</td>\n",
       "      <td>SUV</td>\n",
       "      <td>red</td>\n",
       "      <td>ks</td>\n",
       "      <td>38.827171</td>\n",
       "      <td>-97.598398</td>\n",
       "    </tr>\n",
       "  </tbody>\n",
       "</table>\n",
       "<p>10000 rows × 16 columns</p>\n",
       "</div>"
      ],
      "text/plain": [
       "                        region  price    year  ... state        lat        long\n",
       "419654                 madison  11900  2009.0  ...    wi  43.029559  -89.397796\n",
       "65604                 stockton  22590  2015.0  ...    ca  33.786500  -84.445400\n",
       "32609            inland empire   7975  2013.0  ...    ca  34.070612 -117.383384\n",
       "193827               ann arbor   8000  2004.0  ...    mi  42.508365  -83.530545\n",
       "129315                  hawaii  23500  2011.0  ...    hi  21.348800 -157.875900\n",
       "...                        ...    ...     ...  ...   ...        ...         ...\n",
       "74866         colorado springs  10500  2007.0  ...    co  38.885100 -104.794100\n",
       "279769               rochester  26995  2017.0  ...    ny  43.220454  -77.819038\n",
       "191764  worcester / central MA   1450  2000.0  ...    ma  42.242556  -71.822519\n",
       "142287                 chicago   2500  2001.0  ...    il  41.725700  -87.556000\n",
       "167701                  salina  39985  2019.0  ...    ks  38.827171  -97.598398\n",
       "\n",
       "[10000 rows x 16 columns]"
      ]
     },
     "execution_count": 55,
     "metadata": {
      "tags": []
     },
     "output_type": "execute_result"
    }
   ],
   "source": [
    "cars_sample"
   ]
  },
  {
   "cell_type": "markdown",
   "metadata": {
    "id": "8gs1bRATDooa"
   },
   "source": [
    "What is the price ranges/distribution?"
   ]
  },
  {
   "cell_type": "markdown",
   "metadata": {
    "id": "_HQ57TwyNDAm"
   },
   "source": [
    "We can answer this using a histogram plot from plotly"
   ]
  },
  {
   "cell_type": "code",
   "execution_count": null,
   "metadata": {
    "colab": {
     "base_uri": "https://localhost:8080/",
     "height": 542
    },
    "executionInfo": {
     "elapsed": 484,
     "status": "ok",
     "timestamp": 1625094858261,
     "user": {
      "displayName": "nasiru sule",
      "photoUrl": "https://lh3.googleusercontent.com/a-/AOh14GiVuRFYjI43LxMj_Q8ZlQSSi4rs-Su2HdfNPNxp7A=s64",
      "userId": "16455627822583485460"
     },
     "user_tz": -60
    },
    "id": "7KLJYlOyo7Lt",
    "outputId": "a47dc9c0-e9a9-457b-c0a0-a285737b06c4"
   },
   "outputs": [
    {
     "data": {
      "text/html": [
       "<html>\n",
       "<head><meta charset=\"utf-8\" /></head>\n",
       "<body>\n",
       "    <div>            <script src=\"https://cdnjs.cloudflare.com/ajax/libs/mathjax/2.7.5/MathJax.js?config=TeX-AMS-MML_SVG\"></script><script type=\"text/javascript\">if (window.MathJax) {MathJax.Hub.Config({SVG: {font: \"STIX-Web\"}});}</script>                <script type=\"text/javascript\">window.PlotlyConfig = {MathJaxConfig: 'local'};</script>\n",
       "        <script src=\"https://cdn.plot.ly/plotly-2.2.0.min.js\"></script>                <div id=\"666d1ff9-b21c-49dd-9827-d7270d18c7d7\" class=\"plotly-graph-div\" style=\"height:525px; width:100%;\"></div>            <script type=\"text/javascript\">                                    window.PLOTLYENV=window.PLOTLYENV || {};                                    if (document.getElementById(\"666d1ff9-b21c-49dd-9827-d7270d18c7d7\")) {                    Plotly.newPlot(                        \"666d1ff9-b21c-49dd-9827-d7270d18c7d7\",                        [{\"alignmentgroup\":\"True\",\"bingroup\":\"x\",\"hovertemplate\":\"price=%{x}<br>count=%{y}<extra></extra>\",\"legendgroup\":\"\",\"marker\":{\"color\":\"#636efa\",\"pattern\":{\"shape\":\"\"}},\"name\":\"\",\"nbinsx\":20,\"offsetgroup\":\"\",\"orientation\":\"v\",\"showlegend\":false,\"type\":\"histogram\",\"x\":[11900,22590,7975,8000,23500,6495,11888,11491,8500,7600,11700,7950,19499,5995,15900,7500,6998,6980,8200,11000,27799,19590,13499,3999,8628,4495,19990,7995,13900,5900,8900,30000,3500,42900,16994,4990,13495,21998,8990,35590,3500,5000,14599,3500,3500,21590,5950,31990,1500,39900,35590,19733,20000,2595,4500,26590,6995,12990,2500,3500,11999,11490,9900,33999,8900,6375,18998,21500,19900,5500,8900,4100,11400,13195,34000,26590,6500,30590,4000,5900,12300,7990,17499,3500,53995,2500,8000,16900,3000,24900,19590,9300,6995,18000,23990,4500,28990,16999,4995,19995,20999,11500,21990,8995,8950,3495,5995,7150,9990,26700,32590,2500,3995,2500,19750,9990,40990,20000,3200,10999,19300,23590,68988,26495,10995,14998,11299,11900,24995,12498,5000,29990,15995,5800,5495,2000,6500,72000,7900,27995,29590,25990,9495,38990,3995,23950,8400,38900,7999,6750,21990,38590,7800,15990,25590,3400,43800,33990,7600,42000,39590,6995,5300,19949,9995,3995,48900,14905,15999,38590,3800,26995,4000,26990,38700,11000,6500,13495,10750,42500,3000,8995,20000,2000,28988,27990,8200,5200,34590,14295,32995,14500,13800,20988,8900,11495,3250,5460,18000,29990,24988,35950,2700,15000,5495,7950,5700,21990,17600,4400,5995,8200,5500,39990,4000,34590,12995,10598,10900,11495,38990,3800,25990,8000,22487,17995,25990,1,7500,5999,32990,100,6400,7500,22000,16793,12038,3400,9000,4900,4800,11000,38590,10495,36990,23990,9990,2500,30590,8000,6890,5400,15000,11500,3850,29990,4700,4950,10499,27500,2000,7999,4995,29900,18990,6900,8450,7999,9500,9250,6500,8000,32990,9500,13500,33990,3990,19800,16900,3000,11997,4950,53800,10995,59990,15999,5722,3395,8995,215,16951,28174,25990,13500,15900,19500,24000,22000,7500,2595,4500,5499,9100,4000,14000,4950,9795,5800,6000,44995,19775,15000,30883,9950,10950,3800,9488,16999,3998,8999,3500,41500,47990,2700,28900,12800,13999,39990,15500,20999,6500,14499,26990,28975,4000,500,15995,4900,24000,6295,7995,34590,29500,19700,6490,29990,5995,10950,8999,36990,37990,15300,23138,7500,20990,13800,1600,4200,4400,28000,5777,4995,6450,11995,14995,9900,6500,18500,26000,10995,22590,3999,38000,16000,995,5900,4950,3750,35000,8700,14895,6995,2700,2400,33990,26590,41000,10500,15000,6500,5995,2950,5950,4000,16900,16499,4599,9988,14995,10395,7995,13995,10980,16999,27995,39255,10750,1000,1400,5850,27990,30000,33590,15000,8000,18900,41990,38000,29990,5200,8500,3999,9799,4000,5995,4000,15990,34990,17997,8500,80999,2600,45300,14500,7495,12900,8950,9986,46990,9995,9995,15950,4500,5995,33366,2999,2500,11995,6995,3150,16799,5000,32990,25000,8200,30590,5650,35500,9988,12988,19900,4000,12500,28988,4873,35395,28901,4700,7475,11990,6995,3900,10800,39500,39995,33990,4995,1700,6495,11995,20495,17788,5900,7996,27000,12950,15995,7985,38995,9500,19990,31990,36590,8796,15000,5950,33990,24880,39995,59990,4650,3950,30750,9250,27995,6800,21500,7999,39590,9750,26990,14000,29590,15995,16990,47871,6995,6497,3895,12500,8495,54999,27990,24985,9,5277,13995,13850,31700,19500,7980,6995,16900,13990,34500,27899,27900,14449,38000,11999,13000,15000,500,10990,10950,19700,10495,2500,45999,9700,7995,20495,7288,7999,29990,8950,3495,6000,37590,8800,9000,3800,23995,33900,2800,25900,21900,10988,61988,9900,10999,27500,9995,5499,3500,23500,36900,29590,39590,23999,26590,36000,30990,12900,23995,5925,24590,24988,22995,3000,65955,14995,27950,11995,34590,12500,3100,7500,26995,11999,27500,7000,36990,5995,21990,7995,3500,14800,4000,10500,25990,16995,19900,1,12700,2600,20490,10500,11500,6400,16867,24499,8000,27990,24148,39590,39995,25990,12850,25990,9800,20990,8965,35590,21900,19700,1,2000,11995,7995,13900,199,32999,10900,8500,7500,10155,1,14500,23995,26480,25990,21990,33333,32619,1,2000,12500,16790,10490,13990,36900,6500,3500,10900,29990,17000,22900,5900,17455,4000,12300,25700,5250,4000,33350,4900,27294,4769,28977,34590,11500,7450,6000,27990,5900,2400,5200,28950,10995,35900,8795,43990,1,20590,3800,5000,8000,2900,6700,13977,5999,16995,6250,3500,8200,7999,9999,3000,6400,4950,8995,17900,17574,25995,3500,2700,16500,19900,6495,7273,2500,4500,9995,4999,15955,32700,28990,2350,9995,55000,5500,7700,9898,36500,26900,11999,8900,3600,3750,4200,15000,2500,6500,39900,70000,23500,13498,4000,4000,12788,6000,13450,11338,19999,26990,9750,6900,33990,189,13600,5000,7999,199,35590,3940,39990,11995,5997,16750,11500,41999,268,1800,34998,14495,14995,3999,12995,5995,8200,26994,32900,38300,9995,12900,22990,35990,3300,17999,26990,15000,4450,20000,25999,7999,3500,11500,4800,12995,4500,800,1199,1995,6200,4495,29990,6700,4500,8950,11500,9995,44950,3300,26888,7900,5400,8995,10743,9400,34500,3800,16995,13995,29990,2500,4550,6800,8900,6995,39990,16990,33590,19900,6900,29900,29500,8500,42995,29590,19500,36990,32500,35990,7200,5321,35990,25000,9995,33500,36990,7995,1,8000,7660,8500,11500,25000,37500,9995,15810,4800,5500,5995,33900,26900,25990,2900,20995,34500,150,4500,14500,12995,11000,3400,20995,10995,8995,65000,9725,1800,9799,4550,11995,24590,6820,38000,18995,32900,10900,3900,38900,29590,16800,12499,5999,5950,29500,26590,7500,6500,5400,17900,6995,29990,11000,10000,5995,22750,8495,29590,34990,20500,8700,38590,7488,4500,13500,6995,22995,17998,4995,69995,32995,17900,35000,47000,11950,11990,6000,3600,38990,35590,18900,26900,25950,75850,39500,7895,9800,11000,5490,9500,38990,5990,9000,2700,17900,10999,28500,10000,14787,26200,33990,5995,2550,7000,1200,1100,36590,10650,11999,8999,15900,49950,4995,1,6950,2500,19495,48500,8495,10500,8600,20888,54500,16900,9500,30990,4500,10900,8000,2000,298,27999,15750,5100,26000,8995,4200,18990,6595,39999,43700,7500,4800,6000,5996,4950,16200,20990,17788,24997,3750,7950,6750,29990,6850,2250,36490,32990,8299,27900,43900,25900,3995,8195,22995,7000,7500,3295,1100,3999,39000,8999,33590,8897,26900,6500,5500,17990,53995,5995,13900,9995,14999,8500,6400,3000,7995,11500,6200,35990,34900,32995,32995,21995,14595,39590,8500,31995,8995,30990,6000,7999,33590,18991,6000,4900,5200,6995,4399,8900,16500,28400,28990,11900,9298,9995,35990,4500,7996,15900,9500,900,4000,19999,9800,38990,37990,17995,7500,13238,19495,30000,12990,9895,8980,8000,29900,39900,15900,3500,5500,6950,7900,12635,7900,19800,12490,8000,12995,28995,35590,34990,15000,24988,21000,12000,7800,13995,1,17485,11695,1000,8990,7800,8995,31990,3992,13200,4499,13995,33000,12900,7900,65000,8995,6000,3998,6995,4975,20500,13500,5995,4500,32995,26900,48900,6500,8450,19995,1,41488,9995,13995,8295,11900,4350,17400,39995,5195,4800,27990,5800,28990,7800,9975,3500,2500,11995,24500,6999,12500,18900,33990,10999,41990,34990,8600,7495,21579,11995,5500,4995,27995,49000,51990,37990,22500,19990,28500,12500,29590,3495,15900,3800,27900,4900,9800,4200,23200,5000,5000,26590,4900,5990,13900,6900,43990,27995,32590,5400,11000,8200,20495,18500,33900,30990,19255,15275,17990,4950,9998,5495,5995,28400,6400,18900,13495,24900,19900,5991,46988,8900,6000,7700,4000,5000,7500,14995,3300,11500,20000,42988,32500,27875,26500,3795,14990,29990,13800,42995,1250,10995,3450,3000,27990,4749,18590,6000,26590,30,39995,19995,3700,7995,16500,14995,25980,8995,4500,28990,31988,16500,7995,44000,15999,6495,35590,3500,4500,7000,37590,2595,16900,6000,12999,21700,6999,17995,15000,12500,8695,21999,28400,13488,6995,4250,22000,36986,12995,45000,12000,7000,32500,10499,4850,3900,8000,11950,9200,12300,12500,16495,4000,1,13999,7300,6900,8490,3500,9300,18500,6495,17999,5500,15888,16995,45995,6995,22990,3300,9500,1750,23000,34990,8950,25500,16750,12800,8700,16995,26990,21990,18500,27495,33990,16995,29900,41990,5800,36990,10495,18900,13900,8995,29990,8000,25990,21000,6999,9995,30990,8000,17995,1900,6750,11988,8000,37990,5990,16287,22500,305,11988,34900,3500,11995,3500,25987,20590,5995,12995,27800,3500,19588,8975,8500,8900,15500,5988,17500,6000,9750,2200,15995,27990,10900,6750,2500,12999,11000,6500,5800,14995,34978,15995,22990,13900,31900,5895,10995,10950,20444,29590,7800,9995,3995,7900,16000,8500,40000,8990,4300,8900,6900,40000,9850,12095,98750,17999,9500,6700,11990,1500,10995,31990,22990,22000,13500,10995,12995,7950,18000,4500,199,14000,36500,24500,9499,12997,40888,12991,11950,10500,199,1,12000,4900,12000,2250,27990,12000,5490,12685,22995,4995,24983,11500,13000,38590,38990,5800,7500,23500,16495,44900,2800,26590,13995,25000,11975,8500,6800,42995,3499,4750,2450,8000,5400,7970,7900,5250,14500,5000,12990,6950,9999,5800,22900,24590,3200,18000,3850,5500,14699,9995,5800,16990,12000,23900,5850,8000,16995,4999,15000,5900,4550,5275,15998,14900,13991,11400,4400,35000,26500,44900,23590,32000,7000,9980,37900,17500,22990,3500,3450,3900,3400,2900,18995,6000,37998,10885,8950,5000,2750,16500,22500,35990,5750,58977,17995,6500,2995,25995,1500,7999,6900,17990,10995,24900,31990,4500,9495,4995,15500,6990,17995,3999,16000,39997,7995,3995,26990,4000,36990,6900,6500,8995,10290,15000,7980,19998,9995,10000,7750,12900,16300,4995,3000,2500,13973,5975,39500,28900,4200,14995,22995,3900,11000,56995,5500,10925,14500,3950,16998,3900,28988,17998,2800,8988,16988,34590,29990,6995,12500,38000,16995,38950,33877,8000,15000,35000,9650,34900,3995,7998,42900,8495,26995,8999,20995,39950,15950,3000,16995,33590,3000,3500,18995,4500,7250,25833,32990,900,8995,4200,12000,3700,3000,26350,11900,9300,18500,4900,4450,7500,4995,36990,2500,39900,74995,31995,28000,48900,6000,31990,12450,3000,23988,13900,3500,19995,6900,12000,5600,3700,16525,5000,37590,950,10970,9500,16495,12995,2500,7000,7495,12990,8995,13200,5999,6000,17956,11995,17800,4995,6500,11799,10995,35590,36590,11000,25990,14500,17995,1450,6000,27500,5000,13000,20000,8850,17990,3900,31992,100,17900,4500,37590,3995,5999,12795,8500,24795,32990,7399,29990,21499,9850,33990,36995,7000,8200,9499,10988,2500,3500,2500,29988,12995,9000,8800,8500,35990,10995,29590,9500,5500,8500,1499,3995,8000,10999,21990,11995,34990,39990,51500,11450,8900,8500,35590,14000,23500,6800,13995,4995,5300,6250,5000,2650,7975,21999,22990,3100,5500,26994,20988,8495,3500,53800,15995,5990,9999,17995,9,45000,29990,16990,13500,33990,31990,47900,41500,12979,20990,6999,12450,2950,5995,22495,7490,7999,9250,43995,7999,21995,6000,14500,3995,8900,13375,12995,12995,23999,8900,10950,9199,46800,27590,13000,8999,12988,6800,6495,6250,14900,1500,6995,6000,60990,11995,10900,23990,7000,6295,25990,26590,3200,29990,3300,23675,33500,8995,45300,34590,900,4300,7550,4800,17295,8850,15000,21288,30000,19900,15900,10500,31590,11000,25990,4500,29995,23559,6800,52000,18900,8695,17000,2800,4200,21990,30000,34000,1200,4000,16995,14777,38000,5400,9995,4995,10995,19499,29000,45590,15000,6995,20995,7000,4500,21000,375,3500,8200,25000,15900,31990,39990,4899,3950,6500,7000,7995,4000,15997,2850,11000,7800,21500,22900,34000,12700,3200,7500,23950,29950,21995,6995,4500,36590,10495,11250,27500,3000,4490,300,9975,5900,11500,11500,10500,5495,4495,8599,21899,28990,8300,3995,3900,8700,4000,16000,3800,28988,6200,2700,29590,14999,9900,13350,10990,29990,4500,22500,6500,3750,23000,5950,10995,16900,8990,10988,14500,4000,14177,2800,8000,7200,7000,17975,2300,9995,28988,10500,9950,33990,5900,36900,7949,39500,6900,6500,12990,3500,10995,29990,23200,8950,20500,14988,9450,5999,7700,31495,1950,33900,12995,29990,6500,5500,43590,5800,7995,1800,7000,9288,35900,8000,28700,24995,6800,3500,5250,9995,6295,34995,13997,7949,26875,15000,6999,19995,16495,9000,6990,26590,13590,24590,10450,11995,34590,5300,6995,26999,18399,14900,5495,11995,3800,21900,12000,5888,11950,44990,3500,38990,20990,15999,26590,18000,5500,22641,18950,19914,18000,19950,9995,1,19505,5950,7900,3750,22995,15470,19990,28990,38990,5495,10988,8699,9995,11995,3500,4450,31990,6499,47590,4700,4350,24990,4900,2450,2595,6500,32990,15499,24995,10999,52995,1900,28990,21000,9990,23500,5490,33600,19900,16400,35900,18000,35000,46000,11000,17000,5500,10900,13000,6095,11295,7000,7000,39500,5200,19990,7999,7950,5000,4800,33500,12495,2700,7600,4500,7800,6822,4995,11995,10950,24995,12000,2500,12500,45590,11999,15573,6900,18200,27100,3995,950,58792,3000,16900,38990,15995,13995,8999,34990,10950,6500,38990,16900,3300,6500,5950,8848,23900,1000,26990,13900,10500,10950,15500,2200,24995,12999,29000,7895,21999,6000,4695,8500,7499,40590,11000,10995,36590,36590,28490,3400,7000,8995,9500,9372,35990,16000,29990,27990,20995,888,6200,4300,4000,29590,14995,13995,6700,24995,21995,47500,19500,21950,4995,11700,5700,14800,21370,14500,13500,65900,36700,12991,39590,67003,3800,10995,1000,2000,5990,36590,5295,15000,8995,6000,30000,18995,29990,17900,4999,13995,8995,4000,1800,13995,18000,3999,11500,6400,5995,12995,14995,7500,17300,42990,5000,13999,8000,13200,34590,35590,51995,24988,48000,5800,23495,12000,8000,5999,25990,4900,19500,4900,6995,5900,10999,4100,7900,12990,3695,7200,9990,9999,34590,3050,31999,22495,17500,3995,10995,7995,29990,7000,17500,18999,2595,1950,53995,3800,13800,78900,5500,31999,2200,13995,5900,6100,21995,10999,24900,7500,9995,7000,6500,5195,24498,5800,22600,11495,1,21000,4000,8490,3400,44995,24990,7995,9990,4995,1299,39500,23990,7995,14000,6250,5995,29990,8200,22590,48590,28223,100,5598,16995,3500,3450,29995,8495,2500,14833,8800,42300,17980,1800,2800,1800,3700,8500,4600,6200,11950,20990,4850,5000,21900,25990,47990,12275,7995,14888,18000,36590,8495,3400,11995,10950,31990,3500,4000,14995,4500,5000,14249,17500,7995,8000,9950,5900,30990,7500,5500,5500,4700,33990,38590,3900,27495,39788,29000,23998,6400,1000,5000,27590,6450,33500,11000,29995,8250,22500,2999,24990,2795,3700,3900,4495,65085,2000,2800,21995,5600,10900,5995,22995,3990,3000,21900,16995,2500,500,1500,11900,2000,28490,4650,5900,6950,6499,16200,4995,10495,4300,20888,5995,34750,6995,37990,13995,12900,31990,6895,20995,34590,39733,5500,12900,10995,39988,17000,13500,7500,34590,9400,43999,26590,15000,2500,20999,4900,10500,10495,5900,8888,16900,5500,17950,19499,6995,40590,30900,5800,54900,4500,13000,10000,39990,6600,34990,16731,11499,13995,35590,7800,44650,45299,5995,16990,6907,15500,11000,13995,30000,22900,27990,37990,8995,2400,29990,14000,28999,129900,6995,29595,5500,10899,9950,10995,6300,10000,26990,47850,35590,24995,14998,25990,3250,18995,5900,16000,10500,12500,39990,17000,14775,29500,2750,22600,23900,31995,4000,13000,11988,4200,16795,33900,7650,21999,18000,27000,6900,6900,9500,17995,37900,15250,24295,37600,16990,9995,4995,6500,12500,4500,5000,6850,14900,5950,4500,4500,10680,36990,5599,18999,26990,37500,7200,9000,1500,41988,5000,15800,5000,200,13385,3500,1400,15988,10899,35590,9500,10950,6500,18700,3000,45300,19500,18995,3450,38990,1700,13495,28990,12997,22000,3695,15793,1,999,3300,6500,33990,9750,39590,1,6500,6490,6499,41998,20000,72995,34995,8900,4995,39000,13500,12900,36590,4250,43590,9700,19999,24990,22900,37990,49800,12700,7950,48900,195,4500,21500,11500,29000,14200,62999,500,1500,25000,16995,3500,12000,22000,31990,21943,7995,23995,14999,11000,37950,10233,15712,900,4000,12999,43990,24000,755,13490,6481,39590,5550,38990,1000,6500,22590,18500,3750,3500,3695,5895,39590,2300,9500,24737,14500,38990,7499,7499,33990,31995,13990,2500,36995,9995,30990,4000,11600,10999,29990,16793,12970,18900,13440,1,15500,34990,29990,17,16990,27500,9300,8000,25999,2200,7995,21495,27399,4000,3000,1,8847,68999,17995,9750,36590,4995,4000,2000,11000,3500,17500,7995,6495,22590,9999,4500,1800,16990,19500,5500,4500,6700,1700,18000,8850,2500,16700,10695,4500,7200,28995,9000,7488,14000,27995,5000,24950,8700,72995,32000,3000,19995,13250,46990,16988,36590,35990,15900,23500,1800,16999,13915,4800,17574,2000,24590,66995,11995,39990,16500,19990,9500,1400,6950,6491,25590,13999,2900,7999,35000,11995,3000,11500,15000,23990,26800,15000,68000,31590,3995,5350,7800,15000,7100,4200,7500,2500,15500,5450,6900,6995,3000,9900,34800,29590,800,9995,29590,9000,6000,27590,9900,36900,2500,36500,8900,6495,6490,4500,33990,23999,23500,1400,25995,3450,8000,4250,5800,18995,3800,6990,26900,32990,44000,22990,31990,4200,34990,32900,19588,28590,32995,17995,1950,20995,10900,15900,23995,2000,8200,14900,5999,43900,27990,11900,10999,4995,9495,11000,4600,7000,39990,3795,29995,34995,1250,7395,3900,19999,2981,34990,6500,47750,1200,22000,32590,6999,11999,36995,23395,4000,17900,37590,35900,39800,11995,14500,3000,17500,34990,537,13900,29990,11995,7995,9490,7495,26990,29990,15988,43988,12500,28990,4995,30990,32590,6500,4500,1850,20990,37500,33590,32590,8550,4999,5975,29900,32900,9999,4000,14495,3995,16900,10900,32995,10900,5250,4495,27700,9500,4995,15999,1700,6500,2000,7200,37990,14995,6995,7500,10945,8995,11999,11500,6000,21999,35990,8450,6500,6500,37900,7888,41990,9495,31990,4800,1200,7000,3500,6999,19500,45590,5470,21499,16995,28990,4495,16000,28990,7900,33900,3900,7500,5995,30995,26990,7950,18990,5800,5000,2600,26995,1900,17000,31990,24900,7600,11988,8995,5995,26990,4500,26590,5500,16500,14500,1700,10200,3800,5950,16000,2500,9950,47495,3300,12500,8995,2300,39590,1450,10000,6999,11632,17300,6799,15500,8500,4995,24590,5000,16988,7880,25900,13900,9100,3300,4450,3800,1000,17980,38900,5995,7495,10495,11950,9795,42000,18995,27777,29990,48795,6995,11497,10995,14995,32870,28000,3995,4000,7450,32999,10800,1400,12904,10950,12700,9500,21700,8900,9995,11500,21590,17990,100,1150,1,4800,11995,13500,10500,3650,35990,17800,28990,8900,21900,10993,3400,22500,16000,3800,15000,26590,1,28318,11495,10800,20590,12000,26000,22900,60000,19499,5500,3000,1250,6500,75000,9500,29900,21800,23995,16995,36590,19900,28990,12500,38990,11500,29850,12200,33950,20590,55998,37990,33500,6500,35999,15900,2000,9750,5500,16500,2000,38500,30990,27850,33990,16395,16800,6950,2200,26590,15995,8500,10999,37990,16900,41995,5995,36990,13977,29900,23900,2800,4500,8900,7999,2000,31500,6500,4000,5000,8000,18888,3400,23900,3999,2900,9495,6500,16499,31590,10499,9995,11000,39990,95000,24295,21995,2300,24980,26990,12900,9500,42590,3895,5300,5495,2800,4999,9800,8499,3000,10500,37990,3200,31795,7450,13990,47100,19900,23600,6850,4950,3900,9899,19900,4999,59990,2500,24995,4900,13000,2500,26000,5495,21590,6200,8900,6900,14999,8900,5900,15900,24990,31900,14898,41990,1,33590,15995,4600,7995,25000,14900,5500,27000,34588,76100,7999,29999,4300,1200,12900,10999,35590,7900,7995,48590,5950,33900,9750,26590,36000,22000,20888,8295,4900,6500,4700,9900,4850,29995,7500,5995,12900,9250,5800,4150,25995,3400,35990,4000,4495,175,20497,5450,6495,6500,28500,4155,38990,1750,7800,14900,23950,27000,26990,5995,6900,61995,7500,19500,5000,2900,11995,10995,34994,22990,3900,4495,9900,3000,5500,11900,6795,17991,25995,6199,29590,20590,10000,7500,1500,6500,9995,120000,3999,2500,10500,33990,24990,8499,18895,1500,12700,54988,1395,6500,5999,3999,8950,8999,7914,20590,24990,11900,13995,16995,3900,13495,6995,4900,22000,1000,16999,8500,9795,5500,8990,22300,16999,9000,7995,3650,22900,7999,36590,17990,6495,33922,8995,2500,17450,29990,3700,5100,16995,14495,7000,33990,21900,27995,3000,1850,27000,3700,5590,6250,5500,7400,3395,5000,8995,3500,14977,5500,9000,4950,7000,54995,13000,27990,3000,15975,13500,11495,10995,4500,13000,6000,33900,6500,4895,24590,1000,4999,18995,7200,6900,54900,9200,25995,13900,29590,23950,17900,2300,52000,9900,5500,23000,30000,8480,4999,10900,10500,9900,11500,6000,38590,5200,3500,21994,4500,5500,6995,48590,8500,2000,21495,5495,15490,7975,9900,6288,18000,999,18500,14900,8995,25990,3500,14995,11500,16000,9000,27990,21900,3200,4900,13799,8975,15000,46990,14499,6295,27990,3399,6800,899,11999,5999,26590,28990,3995,52999,1000,48000,6200,5995,4000,31000,36900,39590,15995,6500,1300,2000,12990,11950,19999,29995,30000,10600,8975,19999,36999,11400,4500,13900,3500,16000,33990,60000,6999,11900,5900,25590,1500,12900,1600,2000,17000,31590,3200,7999,3670,22450,39995,56895,5900,11995,215,31995,19995,13500,4988,14995,49995,6500,32000,5700,9673,10995,14950,43900,25500,5200,8999,8900,2500,20000,31395,43900,6995,23900,3991,27590,2395,7000,28990,2500,14500,12991,10000,15000,34590,5500,38590,8000,100,10500,5100,39995,2295,14500,9950,13990,27995,7490,3400,5995,20288,7500,13995,5995,17133,5500,1650,12000,31475,6499,5900,6900,13200,6950,9999,14000,8895,9000,34974,3495,2900,5495,3950,5999,2400,11000,11900,29900,4888,3000,7800,17800,5500,33000,7800,23999,1,15590,10000,37990,21988,33995,7985,15000,8500,8900,9500,16500,3975,12788,12000,58800,13500,29990,54500,15997,5500,9895,2995,9800,14500,38590,7800,14000,20590,10990,11900,24000,27860,14995,8500,10999,59998,20590,4800,2500,4000,7995,10595,3000,28590,13900,29990,4950,30000,10990,39500,54850,2500,8900,9495,11500,6500,8367,24995,26990,8000,6995,29900,24611,4500,8900,12995,14995,8750,7000,4495,28590,14700,39590,8750,4995,8650,44995,9700,5225,12900,9950,11500,39995,4400,23000,28548,18000,3999,6200,2400,18950,10995,8500,4500,9999,9900,13000,5999,3500,1,1,13900,21900,10998,9550,3995,7000,35990,3000,4490,12995,35995,35990,14995,9500,5800,22590,9900,1800,39590,6000,9499,27495,5300,8800,2990,13900,23990,13500,4490,6490,7500,35590,5500,17800,20990,2995,13288,4999,9990,9494,29990,9900,5998,31990,44500,35590,39999,28000,4500,11000,9800,1200,12995,2900,7299,44990,11000,2500,32800,36995,9495,13000,22900,15999,6660,34590,6800,27000,8500,1500,2495,29500,17500,3500,3995,25990,6000,14500,8500,2500,11988,16000,29900,4700,5950,54865,9500,27900,15950,5995,11000,11950,29990,10500,7500,1500,58000,54500,5900,21995,3800,25900,17995,11749,28495,10700,19840,8988,17427,6899,35000,5995,37500,13495,8499,12000,7495,24393,7500,31590,29990,9950,18990,23990,4400,5300,42900,13994,35900,24590,18895,7200,25500,25995,18999,50,7990,13900,5500,25995,13300,13995,6495,8995,9750,9200,11995,9995,6250,23998,10277,37500,7997,15999,20955,11995,29000,3500,18900,9950,9900,7995,19950,9200,41990,25990,15893,16495,14470,20000,248,11930,5800,16988,19500,27986,29990,25990,5500,5495,42995,6990,28350,8990,39590,3500,35990,36990,11995,8990,11495,9250,13500,14995,28990,27900,9995,23310,20900,3800,41590,5200,44995,14999,20000,40488,2000,10995,11500,3599,9500,8500,7995,48900,9500,5200,500,17500,31700,3300,7900,28490,12985,30990,29590,4740,6495,65000,33590,7900,3250,6000,14985,24000,1,4500,14900,29990,7750,34990,5500,4650,25990,10495,7995,9950,6488,4950,2500,22495,8599,5700,22990,33990,8995,12995,8950,44990,6988,9500,800,2895,3495,33995,10800,27500,9985,24590,21500,8500,38990,3900,12995,17500,7500,5500,9991,8700,1800,33999,5500,6300,9888,14549,3000,15500,666,32990,32995,21000,6880,28500,4000,28990,1550,8900,6950,17699,26995,4500,5500,6995,7749,31800,3999,3499,6800,5499,11757,3600,6400,3995,13500,4495,6000,3683,38990,3400,85,14200,84965,19999,37990,16888,6990,89950,5500,9396,7995,38495,15900,18325,4000,6500,35900,33990,800,39590,26900,24900,5000,18000,4495,7500,34950,4000,4200,3500,10995,17495,7995,5999,31990,12995,6995,1,7495,5995,9000,15000,4250,15997,11900,13000,10950,22990,10491,1,23999,144832,12495,31000,13700,1500,14900,6700,7900,11980,32995,8500,16000,38900,32500,6995,31995,5495,18995,20000,35590,8395,11000,7450,20500,39900,8990,46000,6300,11000,2700,3800,12900,20000,33590,9900,537,14500,3900,10900,33590,5000,35999,50345,39995,30999,4795,11200,11400,7500,16900,15500,7900,9995,37855,7900,1000,39900,2695,21598,4000,7995,8500,5995,6495,8400,6488,17995,4200,16900,35990,5900,10999,4500,6995,10995,5995,16990,27590,10497,26990,10950,48900,4495,5200,13995,12750,11998,18900,14990,18495,4000,19995,18900,6499,35000,8300,5995,33867,29990,12450,3995,4799,37900,6500,9500,7995,21500,6300,8950,54900,44900,4500,9200,3300,32000,12985,8995,17299,24990,34995,1500,58800,3995,18900,4900,20990,49995,18888,3695,11490,12000,28590,25590,899,11884,4200,37495,6700,7500,23900,6500,40850,34900,19995,35990,34500,7995,4600,28990,9980,8995,8950,4000,7999,10500,11995,15500,45300,8995,38900,5200,30900,4550,9950,12885,19997,3000,31995,16000,25,8500,6500,2350,12990,7900,30995,4500,7950,12000,7850,15500,12500,24990,8995,9000,10991,6000,5899,13990,16500,36990,3995,23900,6495,6700,1295,11000,10975,22599,34990,18134,7420,4850,15400,19995,39590,31890,26800,4990,21700,39590,18000,5995,6995,21000,74000,7995,11500,19995,10000,15495,3800,26995,41990,18880,38990,7995,800,6950,17990,5700,37990,35990,7500,29105,5500,11995,23990,9995,5750,23989,26998,10000,37900,3650,6500,3495,29990,27995,36590,16990,6500,4500,18900,18495,15900,6500,4950,9000,13500,7150,8900,8900,23395,12000,39000,16500,36990,4500,35000,13600,16988,7495,4250,3300,49750,14900,9000,29990,44995,11950,1,15995,17088,3400,11500,18500,21900,2400,5999,24000,13900,24000,750,3500,5995,14000,2900,16950,3000,17900,6000,16995,5900,3900,4000,2500,15995,33990,50990,16500,44990,2650,8900,4500,59999,13500,12995,10900,1700,8200,29990,6495,9500,37990,6000,39590,11973,6081,12000,25989,13500,17995,8000,35000,4990,11000,11999,4699,6995,18444,36990,5500,27990,1599,4200,2500,6500,21500,5500,21995,9599,9975,59900,35590,10600,21000,10699,25590,12000,21995,9500,53000,4000,3850,12500,14995,41788,13200,31990,23800,1100,40990,8500,31000,31900,6995,9950,4495,15900,2650,39590,9500,42500,6800,21995,37999,21590,12500,24900,5495,7950,38900,7900,10995,6250,3000,25590,4500,10900,11990,5800,24990,300,4000,14995,17995,15995,4295,4500,10000,1500,8000,25995,14995,10495,31990,16990,7000,4575,13890,25990,4000,7000,33990,9900,27900,13500,16990,8950,8500,3995,11000,24995,11500,11200,4800,27990,5500,20000,7900,3500,9980,12999,5900,11900,7990,10995,17900,4500,29990,55000,31995,1200,13499,16900,20590,6450,27495,8500,6000,16000,6490,5000,25990,6495,22499,16980,16000,34775,13845,5500,75000,17995,6900,6895,19800,29990,3800,55000,12500,43900,5900,5488,4495,33990,34590,9500,28495,5900,3990,7995,5499,27990,10999,7500,24590,15589,7450,24999,2800,38990,3295,8000,4999,8995,34500,2899,34590,12288,7450,18995,2800,5500,4800,12995,16995,36900,56977,36490,7999,3500,31995,8250,5300,5995,21000,12997,15400,33995,5700,20590,15900,1,7995,15990,1900,19988,5900,14900,38990,21000,24000,10000,41500,10800,13599,18000,12600,8000,19900,87700,9700,5995,8500,7990,32999,7900,12995,5500,16499,14000,10000,12950,30990,1800,13899,8499,19900,10250,50995,22900,15995,25590,24590,7500,28500,14990,39590,16997,2500,14995,34990,27990,45300,2750,10950,24900,15900,20995,27995,79995,6800,5495,9000,38988,37990,34990,21999,51990,4500,6499,7850,26990,21500,3588,36990,14995,4000,29990,24595,7000,13995,35990,8995,3995,6960,4500,4990,6995,4400,15800,33990,24990,8995,15000,44900,34590,25990,7000,1000,13900,27900,3988,6900,2999,18500,19998,15991,37500,10995,11490,16999,10799,1100,4200,15000,26990,17000,14500,29990,7500,52500,18995,6200,6500,1,4800,190,37990,8888,6590,20995,10000,2000,29590,26000,31590,25800,22500,26990,8500,8900,11498,37990,9995,16995,12990,5600,25900,5300,22556,10995,4000,1499,27990,13899,13750,9000,27990,24000,52900,23990,22500,6500,5395,13999,37990,24995,20990,7900,5471,4200,12999,16000,43590,3150,13375,28990,1500,3995,4250,43990,6200,34990,43952,1000,36590,29590,9900,12999,3000,6995,6495,32000,18900,2800,10995,1500,35590,15495,34998,9000,24900,2999,4300,10995,35000,9000,6999,24900,14999,25500,22995,14388,16995,4999,850,15950,25590,8700,11990,9995,23395,2800,40990,8995,9900,25300,17699,19390,10950,37990,8900,10000,2800,3995,13500,5000,1,10495,2500,10950,4950,8000,2500,24900,6500,7500,59900,9999,16995,4500,4998,4500,14950,9900,8995,4488,10499,44000,6800,2800,18997,12999,4995,15500,26500,3000,44995,4300,13500,5000,12995,12995,37500,27850,15000,7300,11995,18988,25590,26900,37990,26995,14999,29999,16000,2800,38990,34990,9995,15998,6995,47850,32990,8500,5300,37990,4000,7995,24995,5800,750,16500,12495,6450,9900,9500,3995,3950,29990,7995,2498,16000,34990,4900,7479,5500,26590,14000,1000,5500,16990,31700,8490,7750,930,24500,27990,9995,18533,27500,7500,24990,4500,12990,28990,12997,7995,7900,8995,43500,12400,9995,25995,4950,38990,2500,8000,4500,11689,4500,24987,21950,29950,8500,16995,11995,12000,16590,24995,5499,8000,17000,36990,4500,7500,5350,19990,6995,7500,8900,2300,33675,19500,30990,5800,4997,32990,18495,12995,21000,4950,7500,9950,10743,36990,13996,15000,17999,43990,3495,4950,12850,5000,4500,39950,5490,21650,29590,7985,6895,8522,6300,11995,36999,8900,7600,9580,19500,27288,4995,19500,9999,3990,20590,8999,5500,6500,4995,4300,3995,4450,10500,13921,24995,3700,9500,8495,8495,6299,10499,24500,9600,5900,8300,7495,28990,16599,4700,8900,15785,2500,8500,29590,24000,14977,19999,8000,19995,26500,25000,14000,31995,21500,5990,28500,6000,18999,16995,14495,8995,32990,6000,13500,7950,35590,9995,36590,95000,10995,6995,46900,18999,2995,3200,21900,17900,4995,19995,65700,12200,3500,13500,15995,13795,15900,15000,12500,35590,5998,11495,7800,13900,14495,39990,17900,8800,1,12000,6300,9995,12999,10500,27000,19995,2950,11000,10450,8500,52900,5900,39990,9000,19500,10898,11995,1500,14995,18495,3000,12999,34990,10900,8800,190,8988,9995,33900,6800,3800,6300,9995,29900,5500,6995,14500,1,19999,5995,6000,18295,5000,34995,3900,36950,49000,30990,3200,9699,24000,28990,36590,6995,7995,3799,9999,19999,8999,11950,33590,15999,25000,7800,19590,32888,36990,6500,17977,24500,4950,35000,8000,9450,6500,19900,81000,3995,8410,22795,28000,8500,4300,8795,23999,3400,15995,15995,9950,13000,7200,7490,12900,49995,40990,72999,5500,13999,16995,2000,45590,6450,57900,5500,6495,10500,23900,16995,10980,12995,18497,7800,5995,3950,35990,3999,34995,9950,3700,6795,3700,24600,1,11999,25000,29590,9995,11500,24995,16990,6495,1,32988,10995,9499,37990,6000,16900,15000,15995,15590,59900,3850,5200,19990,2850,48900,35590,14430,9995,32990,26900,4995,10338,11950,42990,15997,2900,3550,6500,19995,4500,13900,14997,25990,2100,15995,13999,6400,26700,35000,34990,4500,3900,36900,7499,14900,14950,37400,9500,11995,6995,7800,7500,4950,6975,29590,11500,24995,9900,9999,2999,41590,4990,20300,30491,7500,3780,13000,11500,33995,3950,17995,10500,12995,12999,16500,2995,7500,9000,8999,19900,15998,5695,4500,14999,2300,4000,8995,4495,10233,22995,15833,19500,1,31000,16995,52999,4997,5800,7500,8000,19500,7995,8995,5700,10999,18900,12500,7995,29300,8950,31590,11198,7995,6500,3995,6300,14900,6788,18388,17000,2000,8800,29995,31900,8850,150,6700,16995,4500,7500,4900,8599,25999,34900,21999,13985,6000,5000,3000,3200,27684,39590,4000,23990,17988,3988,4775,35990,8799,8595,10000,5988,10995,7300,4000,7900,5000,35590,37550,1500,11000,11495,25990,3995,2790,1500,23997,38990,5900,11990,5995,29990,15900,33590,19990,3995,5995,40590,9000,6950,25990,23500,7995,10600,9999,4500,14995,16900,15988,6995,10000,51495,1900,3488,4999,38900,13500,599,9995,6700,19990,4800,35590,8900,6900,19995,36900,2995,9900,19914,26990,28750,14995,2500,38990,27990,6995,4100,8995,5495,9900,11495,20250,9495,16895,7500,42500,13950,4988,9995,10000,11500,7495,2595,16950,8900,5999,4995,15900,6500,5000,6500,9500,17995,16977,33990,1600,5350,3800,3000,12999,28000,7000,11994,7950,10500,2000,11950,14995,29990,24488,12000,14900,7000,38590,5750,27000,44900,10000,6950,34590,7500,35000,500,12000,20999,8999,27999,6600,16000,9995,5495,13495,2900,124,8995,8490,4995,500,26990,8995,12900,3695,7500,8000,17000,22500,8950,20975,19500,45990,3900,12900,26995,50990,5499,49750,1000,1000,30990,1300,4500,4600,4500,4600,7000,5800,7350,18995,4495,11000,14000,17995,7400,1800,32990,21000,15997,21999,12500,22000,6700,46990,35590,13400,4500,21500,24895,22000,7500,4500,15800,14900,6000,29900,11995,12999,53900,18500,27990,5500,9999,11995,5500,29590,199,21650,10000,6995,6500,15900,3995,15500,7900,14999,15500,9400,11500,11988,16995,23000,39990,8000,16999,5200,3800,9995,1200,4250,8250,38990,2995,17278,18900,26590,6900,14995,1,8995,6000,3239,9800,7500,4100,9900,23500,2900,12000,56988,4981,38900,13999,12995,29990,9995,3450,29590,64995,26590,11988,11532,17995,20980,5950,9995,6495,6000,4300,11500,16998,47990,7450,15999,18900,5999,29999,14975,5995,46995,15500,14995,35000,9949,2595,13163,13495,4475,15793,9999,28500,10500,3500,7950,4295,15997,8900,8999,11500,22499,7800,10990,7911,36990,6995,7495,10500,7750,9988,18995,10499,33768,2995,281,5999,1,29990,1500,51900,10995,17900,11990,12995,9000,23500,10999,18990,24990,9500,40590,7300,4399,8900,24000,17900,3000,2500,8995,31995,14000,1550,19990,6995,39990,37990,2700,16900,2900,10995,22998,10399,1500,2000,7774,24590,34788,12999,12000,39990,36590,23590,11500,40990,9300,19000,5200,7000,2100,7390,1999,32990,12988,4200,6800,12900,24000,35990,12777,36990,58900,8875,1195,11900,39990,13900,4490,24590,4500,5500,12895,4900,25990,3200,36990,195,21000,8500,11999,38590,24990,9999,62995,8195,36990,12900,33900,32990,21995,7995,1100,3800,38900,4995,3499,4200,10700,12199,7250,49995,11000,8500,12900,6495,7990,23999,3000,3800,22990,5900,30990,14900,2750,23990,8999,7700,24255,5000,19983,16950,4995,4700,22450,8950,46990,20500,8395,3900,9999,17549,3500,14995,3200,4900,24995,1495,3450,15900,11912,8950,34990,7995,9499,24862,8500,10999,12500,11950,5600,15500,27990,18499,6900,25000,4500,6500,5000,5995,43990,51990,8995,21800,3000,11995,10495,9495,26785,27990,2000,4300,32590,2000,15000,7700,1,31000,12995,21500,11450,6700,23481,7950,13454,6000,37923,13950,20067,18500,3000,15500,28990,36500,6500,49999,4515,4300,17450,8000,14700,7000,7995,5500,3500,15590,24995,36998,30985,10995,8975,4995,7999,8950,25900,2250,5200,14990,45995,8800,9997,33990,11800,39500,2950,14995,26999,13950,43990,295,37990,2995,8000,29590,14000,2200,33990,18500,22167,7995,4500,25590,5499,29990,25990,10995,3900,9000,2200,17500,20990,15995,4900,56995,10990,6800,7900,1800,52900,9995,9500,10991,6690,7995,3000,12225,2595,6900,9588,10500,10995,1900,9300,40000,2500,24900,18995,6495,13888,22590,22000,16500,9898,12995,15999,40990,7995,32000,37990,17278,35590,6000,12000,6495,3995,6000,6000,6500,5995,16000,12500,5488,7800,5499,45995,5995,10995,4990,13250,71499,12995,34500,3800,10999,4900,15800,10800,5500,29990,39999,9895,40990,8995,10399,14913,20995,10750,5500,2500,10500,24900,12995,6995,12500,2500,5950,16888,299,3000,29800,29500,11500,29990,5900,4000,30990,32900,5200,3400,36590,41900,7500,22900,1,34990,4969,16999,13700,23590,8900,4200,3300,12999,14900,7995,36500,8950,7980,6800,12500,24995,19988,1500,13250,6450,1695,4200,34997,38590,7500,3500,5000,25000,4500,24250,6000,8300,42500,7995,27900,3800,29999,25950,31995,10500,17590,6995,20677,29590,14998,10999,4995,13999,1000,15500,12900,37000,4299,41995,25000,38590,34997,3200,28000,36995,44990,1700,6000,9950,7000,31590,4250,2900,9999,9999,18500,29000,14200,35990,38590,7500,5300,33900,18999,7000,7500,15999,31990,36000,4999,7377,10950,30990,31800,4595,33990,41990,11995,7995,3400,7996,37400,18998,29900,13000,8995,10988,4250,4950,41990,16249,2000,13500,11495,19850,4900,12995,19900,9995,9800,6500,4950,4999,6800,9500,36990,6995,6777,27500,21950,26999,7000,15000,29990,5500,41990,6000,39999,6000,35990,43990,3675,21595,8000,10000,31989,26995,12500,8500,29590,39000,73995,4000,5000,8000,5900,20000,7500,43499,38590,69995,12995,16990,8955,6500,6000,2800,5495,7895,9900,20900,15500,13999,1000,19998,14250,14995,29590,27995,4800,3000,17500,36990,5800,5995,32990,24900,21500,2990,17927,8000,2500,800,12000,17800,2400,32900,4300,5994,9995,25990,61988,21995,6999,1,16900,17991,43590,25500,32990,8950,6500,35990,30750,16500,6500,8998,11995,6550,3900,8450,3950,8900,1800,10995,30000,34500,9495,18950,3950,17000,49990,16977,28490,13995,18200,37990,3500,18985,28590,26900,6850,34590,1800,14988,17990,11995,8200,5600,4950,24999,27495,11750,3700,11699,13995,33950,27990,33499,11995,9995,34500,6500,14900,3300,2650,2995,6995,3600,35590,40990,34590,5800,38990,6795,23995,26590,11900,5900,3300,9000,13995,29590,8900,8997,3700,35990,11515,20500,30994,12500,7950,49995,9995,17995,5500,37990,4500,10000,495,39990,13500,4995,13995,6500,2250,7500,32990,4909,33990,19500,2800,19000,38590,37990,10995,8890,37990,26900,8750,37590,32995,35590,8900,61995,2500,11980,7450,20790,35990,13000,6495,7500,5900,5000,21995,8975,13988,14999,10900,3900,14995,37590,29500,54999,12999,19000,17999,26000,29995,1,6600,15000,7995,39995,39590,26850,6995,1400,24950,6500,11995,15900,10000,7800,14000,19995,14995,3750,32800,16695,7995,13500,23990,22300,26995,65995,38590,36490,27000,7995,4500,15995,16500,12995,71995,19999,17995,22990,6995,1,4999,9995,5900,8500,12490,3600,5200,32375,11800,5900,6500,7850,9995,19995,18377,57000,3995,9995,32995,8500,2750,1800,39999,5495,4885,44900,8999,8500,5975,8800,10500,17050,14000,5800,29990,27900,10999,11900,20000,10980,6500,4650,37400,7995,8295,9500,2750,10500,5500,9500,3200,5500,3000,25990,40000,24660,3000,33900,19800,5950,500,5950,7900,1800,8000,4500,16988,8500,8500,7500,7950,24110,18999,20990,40590,15900,18888,17800,22000,5900,6200,24590,5995,1495,2995,3695,14600,5000,38990,40000,2100,7800,14999,33999,7995,6000,12995,43900,8975,33888,55950,27990,14000,10950,5990,13899,9990,1,19995,8470,3500,24995,1900,9500,4500,9995,1700,22995,14999,6500,14500,28000,799,19914,36590,11800,9500,21995,6995,33750,27990,27990,40590,6000,15999,7999,7499,5995,1500,6995,9499,9800,8800,10500,32649,27590,2995,21997,18995,18500,9995,5495,6000,6000,32988,29440,53988,5900,7995,35000,29485,850,19850,2450,16495,8975,6575,4295,2500,2000,5500,11500,26990,9725,16000,14753,41990,9950,7000,24590,20000,6650,32590,3250,27990,4900,34990,4990,14990,18895,17500,25995,16000,22788,22990,25995,10995,4995,25000,5300,6900,13220,34995,3700,6200,9995,6500,10999,14600,4999,2500,2900,8500,50000,17999,1500,10500,8900,11950,24900,8400,3500,20990,3500,13800,36590,29600,11495,2800,6999,4495,10995,6970,35999,29990,13500,33495,104900,9875,26995,9950,7700,369,2500,3995,5400,3200,11999,7999,21000,24995,12000,10495,10995,29590,2650,18990,11900,20000,29990,16750,12500,37990,36000,4950,12500,31750,7295,28500,6579,2000,23990,1,23792,36950,7500,7999,19000,25990,3500,8000,17995,11995,298,4000,12495,7900,18800,19990,19800,12995,3000,37400,38990,12995,2000,3000,10995,2999,19995,22990,4900,25990,25590,8500,13950,23590,31390,4995,45000,10000,16800,9500,13900,18255,49995,8900,11995,7490,25990,11995,3499,9295,24788,17995,8895,14950,5990,27590,16700,3000,3000,18900,3850,9500,48975,36990,3500,31999,6500,13000,38900,18295,6000,8995,5200,4988,6500,5999,38590,11500,12500,13700,19914,4200,33590,3999,9895,14995,1,5000,9597,45000,4985,3000,9900,32997,9900,15500,33700,5,3500,13000,5250,26975,13997,35999,19800,5275,16793,67000,2995,8900,2500,25998,2200,900,29999,3700,9500,18995,3500,28000,7000,36990,12995,53990,45590,1600,15900,8500,2900,33990,5200,29590,18500,21000,6900,14995,65555,21945,39900,4800,14950,2900,4500,10500,23990,4495,1200,2935,2099,6995,4500,3999,40590,17980,33990,8995,13400,12995,26590,3500,15500,36990,51945,10500,19990,8995,29000,4495,28990,6000,18900,13500,5500,1,39590,15200,3300,31990,7500,17500,17995,8900,19999,5000,85,9495,30990,12500,5000,31590,22995,32000,5995,2200,2600,22999,2499,13500,14500,85,7295,30990,7995,13907,32000,175,24000,11300,9880,8500,4900,19565,39590,9995,5500,4999,6000,41900,42900,6995,18990,39590,24995,6000,4999,13950,7500,24990,3500,1800,23500,9497,27990,4950,7498,199,25900,8999,11999,9990,8000,8997,2700,39590,4250,9900,4500,21900,4900,5500,19995,2000,17500,8500,9995,8888,24590,11995,5800,5000,45000,8991,31990,36990,39900,3350,2000,29990,1,3000,6499,12950,4300,12999,7000,18995,16995,7900,6200,14995,12995,18200,6000,123456,8500,34000,36590,69950,11950,8000,3350,35590,5500,11000,4995,12500,76950,4990,8995,38875,34900,13000,38990,17888,36590,199,8995,2600,5500,2995,32990,39995,7250,59900,12995,12983,3200,7500,8950,13500,13995,7950,12000,6000,23000,10950,10500,13400,10990,31990,49000,23990,21000,34590,13499,21590,39750,3300,47850,29590,28000,5995,19900,17995,15299,6500,20995,11699,14985,15000,33590,10999,34590,37590,3000,600,10295,23000,33900,34999,10800,5995,36590,31500,9399,10900,13495,26500,5995,3000,5950,15793,14995,42590,4900,36000,10888,8500,11950,22900,6995,21800,31000,37900,5700,19700,8900,6588,5500,33590,2950,7999,5295,4800,9900,7595,14999,3200,14990,2000,7499,6990,7599,11910,5999,41990,6988,8250,31990,3233,2500,32990,8000,29999,6395,800,36590,23990,20000,37990,8500,11995,4900,6800,9000,4250,29990,26995,3500,28500,6500,9500,15995,9999,37590,41990,14747,22300,85,19995,48995,6995,7500,16500,14995,9995,12900,13995,12500,19000,26000,6995,46990,8250,9999,8400,19995,18999,1000,28590,34990,6000,3400,32590,34990,2500,7500,39950,33990,7990,29900,17000,6950,1400,6997,39499,39590,199,19600,5000,44990,9911,15997,46900,10233,9938,6910,4500,10000,26900,12994,21995,9500,2500,28990,33000,15000,6999,6995,29995,12904,5800,43990,2300,12995,8900,52500,15450,24590,20988,3900,19995,5500,8500,39500,2000,12000,7950,11500,14900,13980,7980,17800,7480,21995,48900,8999,8000,9495,8945,14000,35995,4200,8900,3995,21990,19775,8900,9999,33990,36990,12888,18994,29995,4000,27990,11995,22500,15357,5500,33995,18000,38971,29900,5477,6995,9995,11995,59990,2300,9999,43990,29990,18495,2600,65999,27990,5990,21990,12490,34990,2200,47990,18550,4950,38990,8500,13950,29990,20990,7995,10995,6995,4998,17000,16000,3900,23832,13573,19999,14500,12495,1,12995,1950,6270,10000,13499,3500,10500,17000,6495,37990,7495,36700,4995,16800,11237,4995,34867,8981,28990,4900,40000,8195,28990,8650,9900,17995,19500,21590,4975,12000,10995,4500,7500,14500,8000,24995,8995,2500,13575,24900,24999,26995,30998,5499,12500,5600,6500,6975,11597,3750,31995,16999,5900,9900,8500,31900,9995,9900,9995,10000,1995,2800,36990,10000,29988,39995,25590,16499,39990,1,24590,12900,7995,25995,3500,3995,29900,58988,9995,7988,16900,18500,36990,22500,4995,10900,28400,29995,9000,14498,5100,2000,12999,36590,6285,13999,24590,8290,7950,14900,20300,11900,23704,18840,16995,36990,14100,24900,29990,5595,26900,4500,2950,7795,42990,4995,51995,15999,4500,11995,12000,7700,16995,28995,27990,11500,37900,400,18990,13999,37590,2500,34990,24500,6000,6995,24995,61998,20826,32995,15000,35590,23000,34900,14495,24995,3000,24990,810,10997,4500,12999,12495,16673,8500,12500,5850,7860,10720,3900,29950,8500,46400,8500,16500,5800,12500,34950,8995,5900,45000,3000,10990,33990,9990,4500,18990,26899,1500,23900,12900,16600,16500,9495,19500,12900,33990,18490,9500,12900,33990,14913,7995,9800,39500,2000,9800,10996,14600,49990,22950,13700,39995,35590,6995,8800,41990,5200,15995,15495,6000,16999,2750,1800,10999,5877,36990,29990,10500,16450,1000,24000,12800,29990,6488,29900,5495,10000,5500,16999,10900,12695,8950,14500,3995,4500,22995,16497,12498,36590,35990,5250,38590,14970,11785,12950,11950,54900,35000,13497,2495,13450,24990,2995,3999,15900,2895,27990,9500,1600,39990,38900,11750,5295,6677,46988,2500,5450,22600,11900,17000,1,5733,4600,4900,41995,5999,26995,3500,29990,7500,15995,21990,6000,6499,14999,7200,5495,2500,39788,39500,4950,13991,18995,5000,4500,42900,19895,15000,21750,22995,19000,27500,50985,17900,4400,39990,3800,34487,3990,9995,1995,5800,18500,8500,6990,3800,5450,28590,10200,9800,28990,3600,16000,8750,5798,5500,33990,27721,16500,4150,4999,5400,15990,19995,4999,4970,9900,7900,13500,13900,18995,3800,34990,27000,13500,4800,11500,7495,6900,41995,7995,6500,6995,1500,8800,11995,37990,7500,35524,17500,6700,2995,28990,24900,3500,15999,15500,6995,2495,9000,10000,10499,3981,6995,16895,43900,5600,10500,3500,39590,4250,11995,45950,33990,48999,24995,10990,10995,5499,15950,10999,1,29590,79950,30434,13899,6499,5900,20800,6000,20888,9998,25000,7995,1850,87700,4500,5927,31995,36995,6495,38590,9900,29990,21650,29900,32950,8900,6995,8900,21950,36995,3995,2000,19995,8995,35590,9990,52900,4500,7795,38999,2000,9450,20000,31987,5995,5000,4980,6500,11500,17750,30500,14999,6500,14000,1,5500,10500,4000,11995,35990,15995,7500,100,10122,25990,5995,8500,39990,1000,4995,8500,5500,5995,39590,9999,7000,500,18000,10995,13500,7495,34990,36200,12900,19995,11300,51995,17990,8999,21500,16995,49795,5480,49990,9995,6800,1200,11995,7995,2100,9300,6300,19390,3995,4500,7200,1,29590,1250,3500,33990,14895,7550,4750,9950,21990,9900,46990,31990,53900,48995,32990,34590,7490,21988,8950,7850,26990,12988,3900,26990,2000,35990,14999,4300,4995,10990,30990,29590,11200,16999,5500,4900,35000,7999,3500,5200,3900,2398,25990,45000,9500,50000,34995,36995,24999,26995,8900,26800,12000,13500,23500,10000,2000,59995,3300,6995,38590,34500,8795,18500,31990,12995,10900,2495,39590,3500,29990,3800,44990,9900,14995,5900,39590,15995,23250,26590,29000,18000,9999,5500,16491,7495,19495,18995,7995,4000,11995,10594,18995,32500,29990,5500,11000,7995,7200,8700,5600,5000,7000,7999,20500,3900,9000,14000,11875,3650,18546,10987,3500,3450,11800,1995,22999,32990,32995,3995,6250,4000,61000,3499,4500,7990,27990,3900,5999,34995,6900,43000,43995,10900,34990,2100,5995,29995,10800,29590,45900,35590,15999,600,17900,6999,12999,14500,25990,4999,29590,46990,28590,15950,6500,1,1500,9000,15000,32500,8000,13950,6000,12995,9999,1195,10999,18950,35990,6000,59990,3900,26590,15000,9500,39590,20997,18750,51900,10795,24500,6500,52875,98500,43999,7000,2500,9200,38990,1950,29995,4199,8350,17977,6990,3200,17500,33995,27590,3995,17995,2495,7977,33995,8995,7500,5900,3500,4700,7500,1700,49995,26895,16999,23500,31900,14750,36990,30800,45000,29990,12950,2800,7300,5950,46000,5995,165,21250,10000,1,4500,6999,16500,20089,3600,3800,16000,21900,25990,3200,5999,13900,10950,11995,3500,11800,9500,11995,4950,26000,2995,12500,22990,8950,3999,36995,14000,17999,1,13995,8488,99700,37900,16995,22940,4900,15900,399,9900,8000,9500,4750,1675,2700,8850,6995,15999,3995,3000,14980,14133,3200,2000,6982,9800,2500,10999,18200,14295,30500,6999,17984,29990,3600,6995,17500,30000,20444,28000,4500,7999,37990,33990,10393,8950,12995,13999,16995,1500,37990,13750,3600,23900,31000,14500,17488,7000,10500,16500,5495,39500,5995,28990,59900,17300,14950,8500,17500,5500,4495,17901,12500,4800,5895,14900,34990,5895,8500,29990,16990,29990,12495,1300,7500,7500,5700,17500,6000,3500,28590,32995,5500,4995,9000,7995,32590,24990,6500,35990,6390,7774,4500,24988,15999,20695,5995,3200,1700,3500,14500,9997,30590,6000,4800,23977,7500,6500,8900,5495,7995,5495,6495,16000,10995,43590,37900,18900,17899,8499,3950,13950,10000,38990,32959,14499,4490,24988,6995,11900,5800,7900,15000,7860,3999,6999,36990,2000,6500,26590,35590,31990,12990,26950,4900,3999,6495,5999,5995,24700,33990,23990,6300,5995,35900,15988,4500,6000,6950,42000,37995,2300,32850,39990,30990,8200,13950,7997,7000,18950,19990,12999,3300,3600,7000,5980,9500,12900,5900,8495,26999,6500,11700,13900,1500,15890,6800,20700,24995,9995,7999,22500,2500,36500,4595,2995,3800,15995,53900,1000,23749,13950,40990,28590,28990,190,35990,10990,14,16800,8600,7000,39590,10000,28500,12990,28500,11995,13991,3500,30990,6500,26590,4695,31990,7000,4450,33500,3500,10290,2795,3499,4200,6600,5500,7800,12999,6800,7950,11380,32995,4800,8999,10495,18500,7495,12800,9995,14400,29900,32990,8995,8915,8000,18777,16901,11499,9500,6999,8499,4500,10995,46900,150000,8995,13333,11900,12900,8900,8000,3300,6000,35990,16495,3725,13250,17080,35590,35990,7870,6449,35590,399,38999,14000,6900,5900,2800,52500,17999,9500,15500,4899,3995,6995,4000,8995,31500,17999,1000,5495,7000,4500,3000,1700,13950,14497,3500,11500,14000,8295,3500,31950,22500,18990,10996,7600,18495,19000,38990,14995,11995,8450,27990,29990,7495,1800,11995,55999,12250,28500,4500,7995,9995,35389,87995,34990,6600,7000,47500,6495,2500,10495,8950,9999,2500,13990,12995,3000,4996,9500,19990,6997,9990,3600,29751,10682,31888,10900,3900,25000,25950,4900,45590,2500,27995,9000,29981,7200,5600,45988,6500,11999,18900,43900,13900,5750,16888,8000,8900,4300,7945,10200,13500,4950,7999,21980,1,6200,32998,4700,12000,21900,23500,8500,5999,4200,26000,13999,30990,3500,20995,6300,32000,28995,34999,14500,15995,2500,6999,5995,2795,14750,4990,110000,3999,4000,3500,7500,16995,21264,43590,6000,55000,13000,29590,33990,2000,4995,24750,10500,3000,32000,8900,27995,11000,18999,3995,37990,12900,11799,2900,29500,13999,5000,1,24990,5900,20900,2750,3000,4200,11200,44900,12900,14900,29900,25000,12997,4299,7400,25990,7950,37399,26995,4400,3400,1500,3500,6500,14995,8995,14995,10500,43900,25990,3900,8995,31990,7000,16995,10750,35990,11500,39990,32999,7595,7999,11000,10900,5999,4000,5500,11500,1,7250,6800,14500,26990,22222,8900,29990,4000,4995,34500,35990,28500,23997,5500,10000,39500,17950,38990,30995,17500,41590,9400,24590,8500,22500,3500,12500,4900,29977,7995,5000,3400,8000,14550,18999,28900,4850,10950,17995,3500,6800,36990,2000,38900,11499,41990,8500,9500,26590,23590,15500,18995,33590,1,4995,39999,25990,3300,6995,31999,4799,9500,36990,5595,995,7250,7950,7500,6995,2700,4100,28990,29755,22000,17995,18500,299,7985,6800,27990,10000,24900,3995,37990,5995,8650,17977,39590,19000,1,9985,12900,8999,14495,7995,18950,7500,12995,8995,8995,27590,39590,37990,5900,16988,27990,3200,5000,14200,4000,10500,8000,9900,6000,44990,14599,3250,6500,29975,7995,3995,14900,10995,16,7400,8950,1200,5500,9500,28590,19995,6000,7500,27995,28990,15000,16990,18785,11300,6900,9500,12000,17900,6199,7400,17888,14900,1800,15995,13500,31990,38990,8995,2700,30,18799,10575,9995,250,34990,34590,5900,6999,11597,19600,7200,31590,18999,7995,11950,19500,4900,37000,7800,10788,3950,9699,34590,8900,3000,17950,27990,19999,7950,5995,29990,4950,9988,4500,5995,4900,32990,20974,1000,37990,7200,25750,85,38590,8500,8500,26990,5999,17200,4900,11998,66000,4990,8500,14999,25800,7650,10000,30000,35395,12995,10500,24590,40603,69990,32500,27995,11900,3000,5500,14450,43590,36590,29900,3800,8950,19995,28590,29995,48590,24995,12000,2000,30000,5650,6500,1,9000,2695,13500,5997,3995,9000,24800,34990,4500,8429,8200,6800,1900,39990,9995,24590,7550,13000,27990,7900,38590,5995,1,34800,23900,5895,4800,27990,9191,8495,13475,8700,8000,8900,28590,16900,14500,7995,4995,2850,15000,9000,18500,24900,32000,2300,39590,26757,37990,19720,3999,8990,6950,20898,39590,6995,5000,17900,2750,6200,18890,33426,750,17995,11990,3995,15000,4495,37999,33500,29990,3700,14500,8495,6500,6000,12600,1,2600,1000,29990,2500,13800,14990,7700,4995,27990,11988,2500,899,15999,7850,6000,199,39990,16589,23990,19995,7400,37590,4500,6995,5800,6500,9900,19500,7000,16975,24590,39900,2995,28590,22995,84950,8500,500,31990,800,14355,36590,25990,12900,3499,10495,24997,4500,2500,27999,1000,7995,14901,16395,44995,26990,27990,11495,9700,17995,7995,7000,9995,6888,23295,39590,16995,37990,15999,2000,16500,40590,5995,33995,4000,11995,20700,4995,13500,37900,4200,18900,33900,9995,22998,4690,9850,2900,6977,10500,4925,15500,4990,5500,10999,9995,30900,10995,8399,26900,15999,4200,6995,2800,21995,6890,29900,5995,4500,13995,999,38990,32245,13999,14500,17500,35900,18995,9500,6200,15900,18477,6850,8995,9975,39590,8981,6999,21995,16600,8975,8250,5999,22900,14430,9100,9595,9650,31990,12750,1500,13500,14875,49995,16990,2595,7800,6500,6100,16986,23995,3995,9980,13999,10999,4300,17900,5995,38500,5999,28888,3800,2999,47995,50000,6995,20500,27900,45000,7995,27500,19250,29990,5900,18999,6500,35000,3000,6499,7500,2700,8500,30000,17999,8900,6200,5999,49990,13990,80000,22490,215,13995,26500,14900,1500,5950,10990,7790,7991,29990,4995,1000,3500,6999,7777,5750,11000,1500,47990,7500,4000,39990,32990,8500,31475,12000,28995,24800,33590,26590,14500,14900,10000,29900,9500,9800,7999,15950,23590,13995,12895,13900,12573,4995,34500,52995,11779,7495,8990,9900,16900,7995,6500,6695,3700,5495,18246,20423,3500,9900,5850,18498,40880,14900,12999,22995,800,31900,2500,3500,9997,24999,29500,23500,5995,995,4800,3850,18750,17900,2900,24590,43500,10000,52995,9500,10995,38590,12900,41990,22900,34990,8995,3999,16985,21900,33590,3500,28990,14500,13750,3000,33000,5000,11000,4900,7500,7490,11222,9500,3200,3250,21750,27500,2995,19500,6800,31500,8800,15893,18999,32288,12800,35900,15900,28990,6995,37900,23590,18900,34590,16995,21800,23900,37590,4500,23922,2800,35590,7995,8800,17995,36990,3500,13899,9995,7400,18900,1995,5900,18000,22995,19900,9200,31865,18990,750,3999,21700,4699,3000,19988,16990,18990,2500,19500,39000,6977,30990,1500,6995,33590,17000,5900,32990,22580,5800,4000,21590,3995,5995,34590,3750,5900,46990,35500,42590,425,5500,29990,7500,3000,6995,14913,2500,7995,25500,9995,29611,6500,22487,26500,27500,34995,7500,8500,47000,3500,39900,26500,3600,5749,18990,17500,3200,37900,6370,13788,4975,2495,8995,14500,15880,3900,20995,10999,8995,11499,4000,10995,23900,2900,3200,1995,46990,14500,7490,15500,6995,30990,8975,49990,12950,7000,9450,9450,8950,5895,19995,28900,17000,28000,12900,9995,12000,16990,31990,12750,44000,1000,3500,1750,23500,38900,24000,6900,28590,2500,3995,34990,65995,5499,5995,8999,11999,26485,18900,7999,19900,3995,57925,11500,19798,8600,5850,10500,5000,26990,5500,11995,11990,3000,8999,1,16495,5975,13900,8995,9999,7998,20900,10500,6995,38990,28975,8000,4000,34998,3900,21590,41990,5995,9900,4500,500,4990,21590,16995,6750,2000,4995,33700,2800,13995,5950,12999,14995,5700,3995,5981,12208,21900,8950,30500,4800,16995,26400,8000,7500,25000,600,19998,3995,5970,1500,8500,14500,4400,3750,6995,27350,6749,13995,22990,33000,5200,9995,12950,36590,15250,8995,9500,9999,8995,2000,38990,18995,4900,12500,7000,8250,7500,12900,6495,5900,5495,19900,26995,24590,1500,23000,18900,15890,24590,19950,1400,9999,1,12900,16700,6995,4995,7450,16995,22990,28000,12500,6999,5000,12990,39995,5995,1,8450,21000,1995,36590,7995,9950,19750,14470,4000,4985,10893,31500,14500,17267,900,12888,6500,49950,17895,11495,9995,8900,7000,9898,36988,5999,12990,16900,12990,27990,32590,3500,3300,5000,33900,32600,10000,14995,38990,4650,12950,19999,22995,3600,12900,12000,29990,3900,12000,5500,8300,13000,28590,2200,31990,2850,19000,12000,5500,23995,8500,7450,7999,5200,25990,6750,1995,31500,7295,31950,39590,3200,2995,6200,17980,12500,34990,16495,19995,5500,10800,33990,39990,35590,29988,12900,5000,3600,4500,36590,8500,1950,6995,19995,2995,12999,6995,4300,6495,21288,14500,12500,3450,3500,7995,17900,2700,33888,9500,13500,33000,8500,4295,6000,14990,19995,9977,15000,24990,5800,18900,36590,8000,38990,32600,10500,43900,33990,28990,6500,4900,4981,11888,8950,5500,11499,8500,8888,2700,63990,2500,3800,190,23700,8990,32990,33990,5498,17600,11750,7500,3495,1595,5975,28990,18990,24900,13995,6500,39900,4999,4100,3400,11799,30990,32995,2600,17500,6900,5450,40990,12999,40590,1500,8995,18000,26999,4995,14975,7495,8995,408,7500,8000,10800,6000,33990,47989,3895,7900,10900,1000,18998,13995,7500,27990,16900,21995,8995,8495,15900,7295,9800,32990,4800,5500,6981,8500,22900,19995,20999,17995,7495,6695,3200,26590,43000,11499,5495,11900,33590,1,22990,13950,6995,36990,6250,19900,16994,13500,30590,5995,5960,14899,12000,4988,34990,44995,34590,18700,4200,15500,11500,16500,23480,2200,9500,10995,4750,27990,3995,12999,20590,22900,14500,7500,4900,1,21495,19999,5500,28990,19000,31990,11995,1000,7999,8499,3997,8950,7500,6400,12695,6600,43800,78500,11237,43990,3000,10995,39590,5500,27777,18900,25000,600,2800,28990,7000,27500,14995,2500,17000,17000,5850,24990,7999,4100,12998,26000,5500,4800,7000,54999,47881,1995,13000,42500,6900,6500,33990,11913,35990,18995,34990,25995,13500,6200,22995,5900,3981,650,4995,4950,10000,4975,5900,44990,22900,4995,11995,2450,2500,4975,3800,15995,17999,5500,7900,23999,5995,56000,7480,4500,32950,16999,2000,16000,8500,82995,4900,34990,5300,7995,4000,2200,116,8299,2995,29895,35000,19950,22600,4550,31990,9500,29990,2500,22500,22950,10950,6495,58800,38222,3000,5500,3995,21449,39995,27999,7000,10995,6000,4500,7995,8500,11500,2495,3500,10988,7575,18999,26990,44500,9900,11000,34990,56500,10500,10995,34500,39995,6995,9400,7500,27500,6995,32499,10995,14995,29998,39590,37990,6500,20590,5500,28490,1200,7999,37995,7750,6000,4495,14999,9995,17995,12950,1500,36990,4900,6499,8500,9000,11995,15763,21950,21990,23900,11995,46911,12995,12500,1800,9490,8995,6000,17500,4900,26000,8850,18988,31590,6500,9995,13995,7000,11220,12499,12999,5695,13949,33590,13995,8000,23595,5500,22500,2200,30990,19994,22000,14823,20995,6980,2995,2500,6500,5450,299,7800,18950,13900,28900,7888,36990,42590,22990,17990,4400,1,29999,37995,3700,15900,46995,23900,39990,10900,10000,30000,7997,5500,29700,35800,3900,5500,16995,10995,8200,6985,27000,6800,49990,43675,33900,18980,10500,26995,1450,2500,39985],\"xaxis\":\"x\",\"yaxis\":\"y\"}],                        {\"barmode\":\"relative\",\"font\":{\"color\":\"green\",\"family\":\"Courier New\",\"size\":20},\"legend\":{\"tracegroupgap\":0},\"template\":{\"data\":{\"bar\":[{\"error_x\":{\"color\":\"#2a3f5f\"},\"error_y\":{\"color\":\"#2a3f5f\"},\"marker\":{\"line\":{\"color\":\"#E5ECF6\",\"width\":0.5},\"pattern\":{\"fillmode\":\"overlay\",\"size\":10,\"solidity\":0.2}},\"type\":\"bar\"}],\"barpolar\":[{\"marker\":{\"line\":{\"color\":\"#E5ECF6\",\"width\":0.5},\"pattern\":{\"fillmode\":\"overlay\",\"size\":10,\"solidity\":0.2}},\"type\":\"barpolar\"}],\"carpet\":[{\"aaxis\":{\"endlinecolor\":\"#2a3f5f\",\"gridcolor\":\"white\",\"linecolor\":\"white\",\"minorgridcolor\":\"white\",\"startlinecolor\":\"#2a3f5f\"},\"baxis\":{\"endlinecolor\":\"#2a3f5f\",\"gridcolor\":\"white\",\"linecolor\":\"white\",\"minorgridcolor\":\"white\",\"startlinecolor\":\"#2a3f5f\"},\"type\":\"carpet\"}],\"choropleth\":[{\"colorbar\":{\"outlinewidth\":0,\"ticks\":\"\"},\"type\":\"choropleth\"}],\"contour\":[{\"colorbar\":{\"outlinewidth\":0,\"ticks\":\"\"},\"colorscale\":[[0.0,\"#0d0887\"],[0.1111111111111111,\"#46039f\"],[0.2222222222222222,\"#7201a8\"],[0.3333333333333333,\"#9c179e\"],[0.4444444444444444,\"#bd3786\"],[0.5555555555555556,\"#d8576b\"],[0.6666666666666666,\"#ed7953\"],[0.7777777777777778,\"#fb9f3a\"],[0.8888888888888888,\"#fdca26\"],[1.0,\"#f0f921\"]],\"type\":\"contour\"}],\"contourcarpet\":[{\"colorbar\":{\"outlinewidth\":0,\"ticks\":\"\"},\"type\":\"contourcarpet\"}],\"heatmap\":[{\"colorbar\":{\"outlinewidth\":0,\"ticks\":\"\"},\"colorscale\":[[0.0,\"#0d0887\"],[0.1111111111111111,\"#46039f\"],[0.2222222222222222,\"#7201a8\"],[0.3333333333333333,\"#9c179e\"],[0.4444444444444444,\"#bd3786\"],[0.5555555555555556,\"#d8576b\"],[0.6666666666666666,\"#ed7953\"],[0.7777777777777778,\"#fb9f3a\"],[0.8888888888888888,\"#fdca26\"],[1.0,\"#f0f921\"]],\"type\":\"heatmap\"}],\"heatmapgl\":[{\"colorbar\":{\"outlinewidth\":0,\"ticks\":\"\"},\"colorscale\":[[0.0,\"#0d0887\"],[0.1111111111111111,\"#46039f\"],[0.2222222222222222,\"#7201a8\"],[0.3333333333333333,\"#9c179e\"],[0.4444444444444444,\"#bd3786\"],[0.5555555555555556,\"#d8576b\"],[0.6666666666666666,\"#ed7953\"],[0.7777777777777778,\"#fb9f3a\"],[0.8888888888888888,\"#fdca26\"],[1.0,\"#f0f921\"]],\"type\":\"heatmapgl\"}],\"histogram\":[{\"marker\":{\"pattern\":{\"fillmode\":\"overlay\",\"size\":10,\"solidity\":0.2}},\"type\":\"histogram\"}],\"histogram2d\":[{\"colorbar\":{\"outlinewidth\":0,\"ticks\":\"\"},\"colorscale\":[[0.0,\"#0d0887\"],[0.1111111111111111,\"#46039f\"],[0.2222222222222222,\"#7201a8\"],[0.3333333333333333,\"#9c179e\"],[0.4444444444444444,\"#bd3786\"],[0.5555555555555556,\"#d8576b\"],[0.6666666666666666,\"#ed7953\"],[0.7777777777777778,\"#fb9f3a\"],[0.8888888888888888,\"#fdca26\"],[1.0,\"#f0f921\"]],\"type\":\"histogram2d\"}],\"histogram2dcontour\":[{\"colorbar\":{\"outlinewidth\":0,\"ticks\":\"\"},\"colorscale\":[[0.0,\"#0d0887\"],[0.1111111111111111,\"#46039f\"],[0.2222222222222222,\"#7201a8\"],[0.3333333333333333,\"#9c179e\"],[0.4444444444444444,\"#bd3786\"],[0.5555555555555556,\"#d8576b\"],[0.6666666666666666,\"#ed7953\"],[0.7777777777777778,\"#fb9f3a\"],[0.8888888888888888,\"#fdca26\"],[1.0,\"#f0f921\"]],\"type\":\"histogram2dcontour\"}],\"mesh3d\":[{\"colorbar\":{\"outlinewidth\":0,\"ticks\":\"\"},\"type\":\"mesh3d\"}],\"parcoords\":[{\"line\":{\"colorbar\":{\"outlinewidth\":0,\"ticks\":\"\"}},\"type\":\"parcoords\"}],\"pie\":[{\"automargin\":true,\"type\":\"pie\"}],\"scatter\":[{\"marker\":{\"colorbar\":{\"outlinewidth\":0,\"ticks\":\"\"}},\"type\":\"scatter\"}],\"scatter3d\":[{\"line\":{\"colorbar\":{\"outlinewidth\":0,\"ticks\":\"\"}},\"marker\":{\"colorbar\":{\"outlinewidth\":0,\"ticks\":\"\"}},\"type\":\"scatter3d\"}],\"scattercarpet\":[{\"marker\":{\"colorbar\":{\"outlinewidth\":0,\"ticks\":\"\"}},\"type\":\"scattercarpet\"}],\"scattergeo\":[{\"marker\":{\"colorbar\":{\"outlinewidth\":0,\"ticks\":\"\"}},\"type\":\"scattergeo\"}],\"scattergl\":[{\"marker\":{\"colorbar\":{\"outlinewidth\":0,\"ticks\":\"\"}},\"type\":\"scattergl\"}],\"scattermapbox\":[{\"marker\":{\"colorbar\":{\"outlinewidth\":0,\"ticks\":\"\"}},\"type\":\"scattermapbox\"}],\"scatterpolar\":[{\"marker\":{\"colorbar\":{\"outlinewidth\":0,\"ticks\":\"\"}},\"type\":\"scatterpolar\"}],\"scatterpolargl\":[{\"marker\":{\"colorbar\":{\"outlinewidth\":0,\"ticks\":\"\"}},\"type\":\"scatterpolargl\"}],\"scatterternary\":[{\"marker\":{\"colorbar\":{\"outlinewidth\":0,\"ticks\":\"\"}},\"type\":\"scatterternary\"}],\"surface\":[{\"colorbar\":{\"outlinewidth\":0,\"ticks\":\"\"},\"colorscale\":[[0.0,\"#0d0887\"],[0.1111111111111111,\"#46039f\"],[0.2222222222222222,\"#7201a8\"],[0.3333333333333333,\"#9c179e\"],[0.4444444444444444,\"#bd3786\"],[0.5555555555555556,\"#d8576b\"],[0.6666666666666666,\"#ed7953\"],[0.7777777777777778,\"#fb9f3a\"],[0.8888888888888888,\"#fdca26\"],[1.0,\"#f0f921\"]],\"type\":\"surface\"}],\"table\":[{\"cells\":{\"fill\":{\"color\":\"#EBF0F8\"},\"line\":{\"color\":\"white\"}},\"header\":{\"fill\":{\"color\":\"#C8D4E3\"},\"line\":{\"color\":\"white\"}},\"type\":\"table\"}]},\"layout\":{\"annotationdefaults\":{\"arrowcolor\":\"#2a3f5f\",\"arrowhead\":0,\"arrowwidth\":1},\"autotypenumbers\":\"strict\",\"coloraxis\":{\"colorbar\":{\"outlinewidth\":0,\"ticks\":\"\"}},\"colorscale\":{\"diverging\":[[0,\"#8e0152\"],[0.1,\"#c51b7d\"],[0.2,\"#de77ae\"],[0.3,\"#f1b6da\"],[0.4,\"#fde0ef\"],[0.5,\"#f7f7f7\"],[0.6,\"#e6f5d0\"],[0.7,\"#b8e186\"],[0.8,\"#7fbc41\"],[0.9,\"#4d9221\"],[1,\"#276419\"]],\"sequential\":[[0.0,\"#0d0887\"],[0.1111111111111111,\"#46039f\"],[0.2222222222222222,\"#7201a8\"],[0.3333333333333333,\"#9c179e\"],[0.4444444444444444,\"#bd3786\"],[0.5555555555555556,\"#d8576b\"],[0.6666666666666666,\"#ed7953\"],[0.7777777777777778,\"#fb9f3a\"],[0.8888888888888888,\"#fdca26\"],[1.0,\"#f0f921\"]],\"sequentialminus\":[[0.0,\"#0d0887\"],[0.1111111111111111,\"#46039f\"],[0.2222222222222222,\"#7201a8\"],[0.3333333333333333,\"#9c179e\"],[0.4444444444444444,\"#bd3786\"],[0.5555555555555556,\"#d8576b\"],[0.6666666666666666,\"#ed7953\"],[0.7777777777777778,\"#fb9f3a\"],[0.8888888888888888,\"#fdca26\"],[1.0,\"#f0f921\"]]},\"colorway\":[\"#636efa\",\"#EF553B\",\"#00cc96\",\"#ab63fa\",\"#FFA15A\",\"#19d3f3\",\"#FF6692\",\"#B6E880\",\"#FF97FF\",\"#FECB52\"],\"font\":{\"color\":\"#2a3f5f\"},\"geo\":{\"bgcolor\":\"white\",\"lakecolor\":\"white\",\"landcolor\":\"#E5ECF6\",\"showlakes\":true,\"showland\":true,\"subunitcolor\":\"white\"},\"hoverlabel\":{\"align\":\"left\"},\"hovermode\":\"closest\",\"mapbox\":{\"style\":\"light\"},\"paper_bgcolor\":\"white\",\"plot_bgcolor\":\"#E5ECF6\",\"polar\":{\"angularaxis\":{\"gridcolor\":\"white\",\"linecolor\":\"white\",\"ticks\":\"\"},\"bgcolor\":\"#E5ECF6\",\"radialaxis\":{\"gridcolor\":\"white\",\"linecolor\":\"white\",\"ticks\":\"\"}},\"scene\":{\"xaxis\":{\"backgroundcolor\":\"#E5ECF6\",\"gridcolor\":\"white\",\"gridwidth\":2,\"linecolor\":\"white\",\"showbackground\":true,\"ticks\":\"\",\"zerolinecolor\":\"white\"},\"yaxis\":{\"backgroundcolor\":\"#E5ECF6\",\"gridcolor\":\"white\",\"gridwidth\":2,\"linecolor\":\"white\",\"showbackground\":true,\"ticks\":\"\",\"zerolinecolor\":\"white\"},\"zaxis\":{\"backgroundcolor\":\"#E5ECF6\",\"gridcolor\":\"white\",\"gridwidth\":2,\"linecolor\":\"white\",\"showbackground\":true,\"ticks\":\"\",\"zerolinecolor\":\"white\"}},\"shapedefaults\":{\"line\":{\"color\":\"#2a3f5f\"}},\"ternary\":{\"aaxis\":{\"gridcolor\":\"white\",\"linecolor\":\"white\",\"ticks\":\"\"},\"baxis\":{\"gridcolor\":\"white\",\"linecolor\":\"white\",\"ticks\":\"\"},\"bgcolor\":\"#E5ECF6\",\"caxis\":{\"gridcolor\":\"white\",\"linecolor\":\"white\",\"ticks\":\"\"}},\"title\":{\"x\":0.05},\"xaxis\":{\"automargin\":true,\"gridcolor\":\"white\",\"linecolor\":\"white\",\"ticks\":\"\",\"title\":{\"standoff\":15},\"zerolinecolor\":\"white\",\"zerolinewidth\":2},\"yaxis\":{\"automargin\":true,\"gridcolor\":\"white\",\"linecolor\":\"white\",\"ticks\":\"\",\"title\":{\"standoff\":15},\"zerolinecolor\":\"white\",\"zerolinewidth\":2}}},\"title\":{\"font\":{\"family\":\"Arial\",\"size\":30},\"text\":\"Price Distribution\"},\"xaxis\":{\"anchor\":\"y\",\"domain\":[0.0,1.0],\"title\":{\"text\":\"price\"}},\"yaxis\":{\"anchor\":\"x\",\"domain\":[0.0,1.0],\"title\":{\"text\":\"count\"}}},                        {\"responsive\": true}                    ).then(function(){\n",
       "                            \n",
       "var gd = document.getElementById('666d1ff9-b21c-49dd-9827-d7270d18c7d7');\n",
       "var x = new MutationObserver(function (mutations, observer) {{\n",
       "        var display = window.getComputedStyle(gd).display;\n",
       "        if (!display || display === 'none') {{\n",
       "            console.log([gd, 'removed!']);\n",
       "            Plotly.purge(gd);\n",
       "            observer.disconnect();\n",
       "        }}\n",
       "}});\n",
       "\n",
       "// Listen for the removal of the full notebook cells\n",
       "var notebookContainer = gd.closest('#notebook-container');\n",
       "if (notebookContainer) {{\n",
       "    x.observe(notebookContainer, {childList: true});\n",
       "}}\n",
       "\n",
       "// Listen for the clearing of the current output cell\n",
       "var outputEl = gd.closest('.output');\n",
       "if (outputEl) {{\n",
       "    x.observe(outputEl, {childList: true});\n",
       "}}\n",
       "\n",
       "                        })                };                            </script>        </div>\n",
       "</body>\n",
       "</html>"
      ]
     },
     "metadata": {
      "tags": []
     },
     "output_type": "display_data"
    }
   ],
   "source": [
    "fig = px.histogram(cars_sample, x = \"price\", nbins= 20, title= \"Price Distribution\")\n",
    "fig.update_layout(\n",
    "    font_family = \"Courier New\",\n",
    "    font_size = 20,\n",
    "    title_font_family = \"Arial\",\n",
    "    title_font_size = 30,\n",
    "    font_color = \"green\"\n",
    ")\n",
    "fig.show()"
   ]
  },
  {
   "cell_type": "markdown",
   "metadata": {
    "id": "4CqDekvBERbz"
   },
   "source": [
    "What type of vehicle are most available?"
   ]
  },
  {
   "cell_type": "markdown",
   "metadata": {
    "id": "T81onub0NPGs"
   },
   "source": [
    "The .unique() property in pandas can give us unique values of a dataset column. It is especially useful when the values are discrete."
   ]
  },
  {
   "cell_type": "code",
   "execution_count": null,
   "metadata": {
    "colab": {
     "base_uri": "https://localhost:8080/"
    },
    "executionInfo": {
     "elapsed": 391,
     "status": "ok",
     "timestamp": 1625094864419,
     "user": {
      "displayName": "nasiru sule",
      "photoUrl": "https://lh3.googleusercontent.com/a-/AOh14GiVuRFYjI43LxMj_Q8ZlQSSi4rs-Su2HdfNPNxp7A=s64",
      "userId": "16455627822583485460"
     },
     "user_tz": -60
    },
    "id": "kakuAX-uuQuS",
    "outputId": "27b07326-52cf-4dd8-8d93-e1a0271a196f"
   },
   "outputs": [
    {
     "data": {
      "text/plain": [
       "array(['wagon', 'sedan', 'hatchback', 'SUV', 'offroad', 'convertible',\n",
       "       'mini-van', 'truck', 'pickup', 'coupe', 'van', 'bus', 'other'],\n",
       "      dtype=object)"
      ]
     },
     "execution_count": 57,
     "metadata": {
      "tags": []
     },
     "output_type": "execute_result"
    }
   ],
   "source": [
    "cars_sample.type.unique()"
   ]
  },
  {
   "cell_type": "markdown",
   "metadata": {
    "id": "Po1UqURrNyvg"
   },
   "source": [
    "Using the .value_counts() property, we can get the total number of vehicles for each vehicle type. This is what we have done below."
   ]
  },
  {
   "cell_type": "code",
   "execution_count": null,
   "metadata": {
    "colab": {
     "base_uri": "https://localhost:8080/"
    },
    "executionInfo": {
     "elapsed": 460,
     "status": "ok",
     "timestamp": 1625094867051,
     "user": {
      "displayName": "nasiru sule",
      "photoUrl": "https://lh3.googleusercontent.com/a-/AOh14GiVuRFYjI43LxMj_Q8ZlQSSi4rs-Su2HdfNPNxp7A=s64",
      "userId": "16455627822583485460"
     },
     "user_tz": -60
    },
    "id": "UeweEhU7Ko1v",
    "outputId": "37851182-b234-41c1-accf-97f210d65b93"
   },
   "outputs": [
    {
     "data": {
      "text/plain": [
       "sedan          2605\n",
       "SUV            2430\n",
       "truck          1316\n",
       "pickup         1096\n",
       "coupe           700\n",
       "hatchback       387\n",
       "van             312\n",
       "convertible     289\n",
       "wagon           285\n",
       "other           269\n",
       "mini-van        250\n",
       "offroad          42\n",
       "bus              19\n",
       "Name: type, dtype: int64"
      ]
     },
     "execution_count": 58,
     "metadata": {
      "tags": []
     },
     "output_type": "execute_result"
    }
   ],
   "source": [
    "cars_sample.type.value_counts()"
   ]
  },
  {
   "cell_type": "markdown",
   "metadata": {
    "id": "YMnO-fGgEaUH"
   },
   "source": [
    "Lets create a dataframe of the vehicle types and the number of counts."
   ]
  },
  {
   "cell_type": "code",
   "execution_count": null,
   "metadata": {
    "id": "f5L9v0kxwQKN"
   },
   "outputs": [],
   "source": [
    "type_df = pd.DataFrame(cars_sample.type.value_counts().reset_index())"
   ]
  },
  {
   "cell_type": "code",
   "execution_count": null,
   "metadata": {
    "colab": {
     "base_uri": "https://localhost:8080/",
     "height": 452
    },
    "executionInfo": {
     "elapsed": 57,
     "status": "ok",
     "timestamp": 1625095193344,
     "user": {
      "displayName": "nasiru sule",
      "photoUrl": "https://lh3.googleusercontent.com/a-/AOh14GiVuRFYjI43LxMj_Q8ZlQSSi4rs-Su2HdfNPNxp7A=s64",
      "userId": "16455627822583485460"
     },
     "user_tz": -60
    },
    "id": "e5v6cl-awYo-",
    "outputId": "63e23476-3417-4c79-af07-eb6823ea98a7"
   },
   "outputs": [
    {
     "data": {
      "text/html": [
       "<div>\n",
       "<style scoped>\n",
       "    .dataframe tbody tr th:only-of-type {\n",
       "        vertical-align: middle;\n",
       "    }\n",
       "\n",
       "    .dataframe tbody tr th {\n",
       "        vertical-align: top;\n",
       "    }\n",
       "\n",
       "    .dataframe thead th {\n",
       "        text-align: right;\n",
       "    }\n",
       "</style>\n",
       "<table border=\"1\" class=\"dataframe\">\n",
       "  <thead>\n",
       "    <tr style=\"text-align: right;\">\n",
       "      <th></th>\n",
       "      <th>index</th>\n",
       "      <th>type</th>\n",
       "    </tr>\n",
       "  </thead>\n",
       "  <tbody>\n",
       "    <tr>\n",
       "      <th>0</th>\n",
       "      <td>sedan</td>\n",
       "      <td>2605</td>\n",
       "    </tr>\n",
       "    <tr>\n",
       "      <th>1</th>\n",
       "      <td>SUV</td>\n",
       "      <td>2430</td>\n",
       "    </tr>\n",
       "    <tr>\n",
       "      <th>2</th>\n",
       "      <td>truck</td>\n",
       "      <td>1316</td>\n",
       "    </tr>\n",
       "    <tr>\n",
       "      <th>3</th>\n",
       "      <td>pickup</td>\n",
       "      <td>1096</td>\n",
       "    </tr>\n",
       "    <tr>\n",
       "      <th>4</th>\n",
       "      <td>coupe</td>\n",
       "      <td>700</td>\n",
       "    </tr>\n",
       "    <tr>\n",
       "      <th>5</th>\n",
       "      <td>hatchback</td>\n",
       "      <td>387</td>\n",
       "    </tr>\n",
       "    <tr>\n",
       "      <th>6</th>\n",
       "      <td>van</td>\n",
       "      <td>312</td>\n",
       "    </tr>\n",
       "    <tr>\n",
       "      <th>7</th>\n",
       "      <td>convertible</td>\n",
       "      <td>289</td>\n",
       "    </tr>\n",
       "    <tr>\n",
       "      <th>8</th>\n",
       "      <td>wagon</td>\n",
       "      <td>285</td>\n",
       "    </tr>\n",
       "    <tr>\n",
       "      <th>9</th>\n",
       "      <td>other</td>\n",
       "      <td>269</td>\n",
       "    </tr>\n",
       "    <tr>\n",
       "      <th>10</th>\n",
       "      <td>mini-van</td>\n",
       "      <td>250</td>\n",
       "    </tr>\n",
       "    <tr>\n",
       "      <th>11</th>\n",
       "      <td>offroad</td>\n",
       "      <td>42</td>\n",
       "    </tr>\n",
       "    <tr>\n",
       "      <th>12</th>\n",
       "      <td>bus</td>\n",
       "      <td>19</td>\n",
       "    </tr>\n",
       "  </tbody>\n",
       "</table>\n",
       "</div>"
      ],
      "text/plain": [
       "          index  type\n",
       "0         sedan  2605\n",
       "1           SUV  2430\n",
       "2         truck  1316\n",
       "3        pickup  1096\n",
       "4         coupe   700\n",
       "5     hatchback   387\n",
       "6           van   312\n",
       "7   convertible   289\n",
       "8         wagon   285\n",
       "9         other   269\n",
       "10     mini-van   250\n",
       "11      offroad    42\n",
       "12          bus    19"
      ]
     },
     "execution_count": 60,
     "metadata": {
      "tags": []
     },
     "output_type": "execute_result"
    }
   ],
   "source": [
    "type_df"
   ]
  },
  {
   "cell_type": "markdown",
   "metadata": {
    "id": "Gjn3Y78FnvFk"
   },
   "source": [
    "Let's give the columns more appropriate names"
   ]
  },
  {
   "cell_type": "code",
   "execution_count": null,
   "metadata": {
    "id": "CrnmgKsLwPPj"
   },
   "outputs": [],
   "source": [
    "type_df.columns = [\"Vehicle type\",\"counts\"]"
   ]
  },
  {
   "cell_type": "code",
   "execution_count": null,
   "metadata": {
    "colab": {
     "base_uri": "https://localhost:8080/",
     "height": 452
    },
    "executionInfo": {
     "elapsed": 47,
     "status": "ok",
     "timestamp": 1625095198775,
     "user": {
      "displayName": "nasiru sule",
      "photoUrl": "https://lh3.googleusercontent.com/a-/AOh14GiVuRFYjI43LxMj_Q8ZlQSSi4rs-Su2HdfNPNxp7A=s64",
      "userId": "16455627822583485460"
     },
     "user_tz": -60
    },
    "id": "INp2HzXlw3Yp",
    "outputId": "96ec5a2e-449f-4a24-d557-5ab565c0b916"
   },
   "outputs": [
    {
     "data": {
      "text/html": [
       "<div>\n",
       "<style scoped>\n",
       "    .dataframe tbody tr th:only-of-type {\n",
       "        vertical-align: middle;\n",
       "    }\n",
       "\n",
       "    .dataframe tbody tr th {\n",
       "        vertical-align: top;\n",
       "    }\n",
       "\n",
       "    .dataframe thead th {\n",
       "        text-align: right;\n",
       "    }\n",
       "</style>\n",
       "<table border=\"1\" class=\"dataframe\">\n",
       "  <thead>\n",
       "    <tr style=\"text-align: right;\">\n",
       "      <th></th>\n",
       "      <th>Vehicle type</th>\n",
       "      <th>counts</th>\n",
       "    </tr>\n",
       "  </thead>\n",
       "  <tbody>\n",
       "    <tr>\n",
       "      <th>0</th>\n",
       "      <td>sedan</td>\n",
       "      <td>2605</td>\n",
       "    </tr>\n",
       "    <tr>\n",
       "      <th>1</th>\n",
       "      <td>SUV</td>\n",
       "      <td>2430</td>\n",
       "    </tr>\n",
       "    <tr>\n",
       "      <th>2</th>\n",
       "      <td>truck</td>\n",
       "      <td>1316</td>\n",
       "    </tr>\n",
       "    <tr>\n",
       "      <th>3</th>\n",
       "      <td>pickup</td>\n",
       "      <td>1096</td>\n",
       "    </tr>\n",
       "    <tr>\n",
       "      <th>4</th>\n",
       "      <td>coupe</td>\n",
       "      <td>700</td>\n",
       "    </tr>\n",
       "    <tr>\n",
       "      <th>5</th>\n",
       "      <td>hatchback</td>\n",
       "      <td>387</td>\n",
       "    </tr>\n",
       "    <tr>\n",
       "      <th>6</th>\n",
       "      <td>van</td>\n",
       "      <td>312</td>\n",
       "    </tr>\n",
       "    <tr>\n",
       "      <th>7</th>\n",
       "      <td>convertible</td>\n",
       "      <td>289</td>\n",
       "    </tr>\n",
       "    <tr>\n",
       "      <th>8</th>\n",
       "      <td>wagon</td>\n",
       "      <td>285</td>\n",
       "    </tr>\n",
       "    <tr>\n",
       "      <th>9</th>\n",
       "      <td>other</td>\n",
       "      <td>269</td>\n",
       "    </tr>\n",
       "    <tr>\n",
       "      <th>10</th>\n",
       "      <td>mini-van</td>\n",
       "      <td>250</td>\n",
       "    </tr>\n",
       "    <tr>\n",
       "      <th>11</th>\n",
       "      <td>offroad</td>\n",
       "      <td>42</td>\n",
       "    </tr>\n",
       "    <tr>\n",
       "      <th>12</th>\n",
       "      <td>bus</td>\n",
       "      <td>19</td>\n",
       "    </tr>\n",
       "  </tbody>\n",
       "</table>\n",
       "</div>"
      ],
      "text/plain": [
       "   Vehicle type  counts\n",
       "0         sedan    2605\n",
       "1           SUV    2430\n",
       "2         truck    1316\n",
       "3        pickup    1096\n",
       "4         coupe     700\n",
       "5     hatchback     387\n",
       "6           van     312\n",
       "7   convertible     289\n",
       "8         wagon     285\n",
       "9         other     269\n",
       "10     mini-van     250\n",
       "11      offroad      42\n",
       "12          bus      19"
      ]
     },
     "execution_count": 62,
     "metadata": {
      "tags": []
     },
     "output_type": "execute_result"
    }
   ],
   "source": [
    "type_df"
   ]
  },
  {
   "cell_type": "markdown",
   "metadata": {
    "id": "5_kwHeltErxD"
   },
   "source": [
    "We will represent this in a barplot."
   ]
  },
  {
   "cell_type": "code",
   "execution_count": null,
   "metadata": {
    "colab": {
     "base_uri": "https://localhost:8080/",
     "height": 542
    },
    "executionInfo": {
     "elapsed": 441,
     "status": "ok",
     "timestamp": 1625095204304,
     "user": {
      "displayName": "nasiru sule",
      "photoUrl": "https://lh3.googleusercontent.com/a-/AOh14GiVuRFYjI43LxMj_Q8ZlQSSi4rs-Su2HdfNPNxp7A=s64",
      "userId": "16455627822583485460"
     },
     "user_tz": -60
    },
    "id": "f5OPghfutoJJ",
    "outputId": "c7343e08-6c0c-4e81-9a63-7b0aaacf840a"
   },
   "outputs": [
    {
     "data": {
      "text/html": [
       "<html>\n",
       "<head><meta charset=\"utf-8\" /></head>\n",
       "<body>\n",
       "    <div>            <script src=\"https://cdnjs.cloudflare.com/ajax/libs/mathjax/2.7.5/MathJax.js?config=TeX-AMS-MML_SVG\"></script><script type=\"text/javascript\">if (window.MathJax) {MathJax.Hub.Config({SVG: {font: \"STIX-Web\"}});}</script>                <script type=\"text/javascript\">window.PlotlyConfig = {MathJaxConfig: 'local'};</script>\n",
       "        <script src=\"https://cdn.plot.ly/plotly-2.2.0.min.js\"></script>                <div id=\"0597fbf7-c9e1-41ed-8950-7e8db763de94\" class=\"plotly-graph-div\" style=\"height:525px; width:100%;\"></div>            <script type=\"text/javascript\">                                    window.PLOTLYENV=window.PLOTLYENV || {};                                    if (document.getElementById(\"0597fbf7-c9e1-41ed-8950-7e8db763de94\")) {                    Plotly.newPlot(                        \"0597fbf7-c9e1-41ed-8950-7e8db763de94\",                        [{\"alignmentgroup\":\"True\",\"hovertemplate\":\"Vehicle type=%{x}<br>counts=%{y}<extra></extra>\",\"legendgroup\":\"\",\"marker\":{\"color\":\"#636efa\",\"pattern\":{\"shape\":\"\"}},\"name\":\"\",\"offsetgroup\":\"\",\"orientation\":\"v\",\"showlegend\":false,\"textposition\":\"auto\",\"type\":\"bar\",\"x\":[\"sedan\",\"SUV\",\"truck\",\"pickup\",\"coupe\",\"hatchback\",\"van\",\"convertible\",\"wagon\",\"other\",\"mini-van\",\"offroad\",\"bus\"],\"xaxis\":\"x\",\"y\":[2605,2430,1316,1096,700,387,312,289,285,269,250,42,19],\"yaxis\":\"y\"}],                        {\"barmode\":\"relative\",\"legend\":{\"tracegroupgap\":0},\"template\":{\"data\":{\"bar\":[{\"error_x\":{\"color\":\"#2a3f5f\"},\"error_y\":{\"color\":\"#2a3f5f\"},\"marker\":{\"line\":{\"color\":\"#E5ECF6\",\"width\":0.5},\"pattern\":{\"fillmode\":\"overlay\",\"size\":10,\"solidity\":0.2}},\"type\":\"bar\"}],\"barpolar\":[{\"marker\":{\"line\":{\"color\":\"#E5ECF6\",\"width\":0.5},\"pattern\":{\"fillmode\":\"overlay\",\"size\":10,\"solidity\":0.2}},\"type\":\"barpolar\"}],\"carpet\":[{\"aaxis\":{\"endlinecolor\":\"#2a3f5f\",\"gridcolor\":\"white\",\"linecolor\":\"white\",\"minorgridcolor\":\"white\",\"startlinecolor\":\"#2a3f5f\"},\"baxis\":{\"endlinecolor\":\"#2a3f5f\",\"gridcolor\":\"white\",\"linecolor\":\"white\",\"minorgridcolor\":\"white\",\"startlinecolor\":\"#2a3f5f\"},\"type\":\"carpet\"}],\"choropleth\":[{\"colorbar\":{\"outlinewidth\":0,\"ticks\":\"\"},\"type\":\"choropleth\"}],\"contour\":[{\"colorbar\":{\"outlinewidth\":0,\"ticks\":\"\"},\"colorscale\":[[0.0,\"#0d0887\"],[0.1111111111111111,\"#46039f\"],[0.2222222222222222,\"#7201a8\"],[0.3333333333333333,\"#9c179e\"],[0.4444444444444444,\"#bd3786\"],[0.5555555555555556,\"#d8576b\"],[0.6666666666666666,\"#ed7953\"],[0.7777777777777778,\"#fb9f3a\"],[0.8888888888888888,\"#fdca26\"],[1.0,\"#f0f921\"]],\"type\":\"contour\"}],\"contourcarpet\":[{\"colorbar\":{\"outlinewidth\":0,\"ticks\":\"\"},\"type\":\"contourcarpet\"}],\"heatmap\":[{\"colorbar\":{\"outlinewidth\":0,\"ticks\":\"\"},\"colorscale\":[[0.0,\"#0d0887\"],[0.1111111111111111,\"#46039f\"],[0.2222222222222222,\"#7201a8\"],[0.3333333333333333,\"#9c179e\"],[0.4444444444444444,\"#bd3786\"],[0.5555555555555556,\"#d8576b\"],[0.6666666666666666,\"#ed7953\"],[0.7777777777777778,\"#fb9f3a\"],[0.8888888888888888,\"#fdca26\"],[1.0,\"#f0f921\"]],\"type\":\"heatmap\"}],\"heatmapgl\":[{\"colorbar\":{\"outlinewidth\":0,\"ticks\":\"\"},\"colorscale\":[[0.0,\"#0d0887\"],[0.1111111111111111,\"#46039f\"],[0.2222222222222222,\"#7201a8\"],[0.3333333333333333,\"#9c179e\"],[0.4444444444444444,\"#bd3786\"],[0.5555555555555556,\"#d8576b\"],[0.6666666666666666,\"#ed7953\"],[0.7777777777777778,\"#fb9f3a\"],[0.8888888888888888,\"#fdca26\"],[1.0,\"#f0f921\"]],\"type\":\"heatmapgl\"}],\"histogram\":[{\"marker\":{\"pattern\":{\"fillmode\":\"overlay\",\"size\":10,\"solidity\":0.2}},\"type\":\"histogram\"}],\"histogram2d\":[{\"colorbar\":{\"outlinewidth\":0,\"ticks\":\"\"},\"colorscale\":[[0.0,\"#0d0887\"],[0.1111111111111111,\"#46039f\"],[0.2222222222222222,\"#7201a8\"],[0.3333333333333333,\"#9c179e\"],[0.4444444444444444,\"#bd3786\"],[0.5555555555555556,\"#d8576b\"],[0.6666666666666666,\"#ed7953\"],[0.7777777777777778,\"#fb9f3a\"],[0.8888888888888888,\"#fdca26\"],[1.0,\"#f0f921\"]],\"type\":\"histogram2d\"}],\"histogram2dcontour\":[{\"colorbar\":{\"outlinewidth\":0,\"ticks\":\"\"},\"colorscale\":[[0.0,\"#0d0887\"],[0.1111111111111111,\"#46039f\"],[0.2222222222222222,\"#7201a8\"],[0.3333333333333333,\"#9c179e\"],[0.4444444444444444,\"#bd3786\"],[0.5555555555555556,\"#d8576b\"],[0.6666666666666666,\"#ed7953\"],[0.7777777777777778,\"#fb9f3a\"],[0.8888888888888888,\"#fdca26\"],[1.0,\"#f0f921\"]],\"type\":\"histogram2dcontour\"}],\"mesh3d\":[{\"colorbar\":{\"outlinewidth\":0,\"ticks\":\"\"},\"type\":\"mesh3d\"}],\"parcoords\":[{\"line\":{\"colorbar\":{\"outlinewidth\":0,\"ticks\":\"\"}},\"type\":\"parcoords\"}],\"pie\":[{\"automargin\":true,\"type\":\"pie\"}],\"scatter\":[{\"marker\":{\"colorbar\":{\"outlinewidth\":0,\"ticks\":\"\"}},\"type\":\"scatter\"}],\"scatter3d\":[{\"line\":{\"colorbar\":{\"outlinewidth\":0,\"ticks\":\"\"}},\"marker\":{\"colorbar\":{\"outlinewidth\":0,\"ticks\":\"\"}},\"type\":\"scatter3d\"}],\"scattercarpet\":[{\"marker\":{\"colorbar\":{\"outlinewidth\":0,\"ticks\":\"\"}},\"type\":\"scattercarpet\"}],\"scattergeo\":[{\"marker\":{\"colorbar\":{\"outlinewidth\":0,\"ticks\":\"\"}},\"type\":\"scattergeo\"}],\"scattergl\":[{\"marker\":{\"colorbar\":{\"outlinewidth\":0,\"ticks\":\"\"}},\"type\":\"scattergl\"}],\"scattermapbox\":[{\"marker\":{\"colorbar\":{\"outlinewidth\":0,\"ticks\":\"\"}},\"type\":\"scattermapbox\"}],\"scatterpolar\":[{\"marker\":{\"colorbar\":{\"outlinewidth\":0,\"ticks\":\"\"}},\"type\":\"scatterpolar\"}],\"scatterpolargl\":[{\"marker\":{\"colorbar\":{\"outlinewidth\":0,\"ticks\":\"\"}},\"type\":\"scatterpolargl\"}],\"scatterternary\":[{\"marker\":{\"colorbar\":{\"outlinewidth\":0,\"ticks\":\"\"}},\"type\":\"scatterternary\"}],\"surface\":[{\"colorbar\":{\"outlinewidth\":0,\"ticks\":\"\"},\"colorscale\":[[0.0,\"#0d0887\"],[0.1111111111111111,\"#46039f\"],[0.2222222222222222,\"#7201a8\"],[0.3333333333333333,\"#9c179e\"],[0.4444444444444444,\"#bd3786\"],[0.5555555555555556,\"#d8576b\"],[0.6666666666666666,\"#ed7953\"],[0.7777777777777778,\"#fb9f3a\"],[0.8888888888888888,\"#fdca26\"],[1.0,\"#f0f921\"]],\"type\":\"surface\"}],\"table\":[{\"cells\":{\"fill\":{\"color\":\"#EBF0F8\"},\"line\":{\"color\":\"white\"}},\"header\":{\"fill\":{\"color\":\"#C8D4E3\"},\"line\":{\"color\":\"white\"}},\"type\":\"table\"}]},\"layout\":{\"annotationdefaults\":{\"arrowcolor\":\"#2a3f5f\",\"arrowhead\":0,\"arrowwidth\":1},\"autotypenumbers\":\"strict\",\"coloraxis\":{\"colorbar\":{\"outlinewidth\":0,\"ticks\":\"\"}},\"colorscale\":{\"diverging\":[[0,\"#8e0152\"],[0.1,\"#c51b7d\"],[0.2,\"#de77ae\"],[0.3,\"#f1b6da\"],[0.4,\"#fde0ef\"],[0.5,\"#f7f7f7\"],[0.6,\"#e6f5d0\"],[0.7,\"#b8e186\"],[0.8,\"#7fbc41\"],[0.9,\"#4d9221\"],[1,\"#276419\"]],\"sequential\":[[0.0,\"#0d0887\"],[0.1111111111111111,\"#46039f\"],[0.2222222222222222,\"#7201a8\"],[0.3333333333333333,\"#9c179e\"],[0.4444444444444444,\"#bd3786\"],[0.5555555555555556,\"#d8576b\"],[0.6666666666666666,\"#ed7953\"],[0.7777777777777778,\"#fb9f3a\"],[0.8888888888888888,\"#fdca26\"],[1.0,\"#f0f921\"]],\"sequentialminus\":[[0.0,\"#0d0887\"],[0.1111111111111111,\"#46039f\"],[0.2222222222222222,\"#7201a8\"],[0.3333333333333333,\"#9c179e\"],[0.4444444444444444,\"#bd3786\"],[0.5555555555555556,\"#d8576b\"],[0.6666666666666666,\"#ed7953\"],[0.7777777777777778,\"#fb9f3a\"],[0.8888888888888888,\"#fdca26\"],[1.0,\"#f0f921\"]]},\"colorway\":[\"#636efa\",\"#EF553B\",\"#00cc96\",\"#ab63fa\",\"#FFA15A\",\"#19d3f3\",\"#FF6692\",\"#B6E880\",\"#FF97FF\",\"#FECB52\"],\"font\":{\"color\":\"#2a3f5f\"},\"geo\":{\"bgcolor\":\"white\",\"lakecolor\":\"white\",\"landcolor\":\"#E5ECF6\",\"showlakes\":true,\"showland\":true,\"subunitcolor\":\"white\"},\"hoverlabel\":{\"align\":\"left\"},\"hovermode\":\"closest\",\"mapbox\":{\"style\":\"light\"},\"paper_bgcolor\":\"white\",\"plot_bgcolor\":\"#E5ECF6\",\"polar\":{\"angularaxis\":{\"gridcolor\":\"white\",\"linecolor\":\"white\",\"ticks\":\"\"},\"bgcolor\":\"#E5ECF6\",\"radialaxis\":{\"gridcolor\":\"white\",\"linecolor\":\"white\",\"ticks\":\"\"}},\"scene\":{\"xaxis\":{\"backgroundcolor\":\"#E5ECF6\",\"gridcolor\":\"white\",\"gridwidth\":2,\"linecolor\":\"white\",\"showbackground\":true,\"ticks\":\"\",\"zerolinecolor\":\"white\"},\"yaxis\":{\"backgroundcolor\":\"#E5ECF6\",\"gridcolor\":\"white\",\"gridwidth\":2,\"linecolor\":\"white\",\"showbackground\":true,\"ticks\":\"\",\"zerolinecolor\":\"white\"},\"zaxis\":{\"backgroundcolor\":\"#E5ECF6\",\"gridcolor\":\"white\",\"gridwidth\":2,\"linecolor\":\"white\",\"showbackground\":true,\"ticks\":\"\",\"zerolinecolor\":\"white\"}},\"shapedefaults\":{\"line\":{\"color\":\"#2a3f5f\"}},\"ternary\":{\"aaxis\":{\"gridcolor\":\"white\",\"linecolor\":\"white\",\"ticks\":\"\"},\"baxis\":{\"gridcolor\":\"white\",\"linecolor\":\"white\",\"ticks\":\"\"},\"bgcolor\":\"#E5ECF6\",\"caxis\":{\"gridcolor\":\"white\",\"linecolor\":\"white\",\"ticks\":\"\"}},\"title\":{\"x\":0.05},\"xaxis\":{\"automargin\":true,\"gridcolor\":\"white\",\"linecolor\":\"white\",\"ticks\":\"\",\"title\":{\"standoff\":15},\"zerolinecolor\":\"white\",\"zerolinewidth\":2},\"yaxis\":{\"automargin\":true,\"gridcolor\":\"white\",\"linecolor\":\"white\",\"ticks\":\"\",\"title\":{\"standoff\":15},\"zerolinecolor\":\"white\",\"zerolinewidth\":2}}},\"title\":{\"text\":\"Vehicle Types And Their Numbers\"},\"xaxis\":{\"anchor\":\"y\",\"domain\":[0.0,1.0],\"title\":{\"text\":\"Vehicle type\"}},\"yaxis\":{\"anchor\":\"x\",\"domain\":[0.0,1.0],\"title\":{\"text\":\"counts\"}}},                        {\"responsive\": true}                    ).then(function(){\n",
       "                            \n",
       "var gd = document.getElementById('0597fbf7-c9e1-41ed-8950-7e8db763de94');\n",
       "var x = new MutationObserver(function (mutations, observer) {{\n",
       "        var display = window.getComputedStyle(gd).display;\n",
       "        if (!display || display === 'none') {{\n",
       "            console.log([gd, 'removed!']);\n",
       "            Plotly.purge(gd);\n",
       "            observer.disconnect();\n",
       "        }}\n",
       "}});\n",
       "\n",
       "// Listen for the removal of the full notebook cells\n",
       "var notebookContainer = gd.closest('#notebook-container');\n",
       "if (notebookContainer) {{\n",
       "    x.observe(notebookContainer, {childList: true});\n",
       "}}\n",
       "\n",
       "// Listen for the clearing of the current output cell\n",
       "var outputEl = gd.closest('.output');\n",
       "if (outputEl) {{\n",
       "    x.observe(outputEl, {childList: true});\n",
       "}}\n",
       "\n",
       "                        })                };                            </script>        </div>\n",
       "</body>\n",
       "</html>"
      ]
     },
     "metadata": {
      "tags": []
     },
     "output_type": "display_data"
    }
   ],
   "source": [
    "fig = px.bar(type_df,\n",
    "             x= \"Vehicle type\",\n",
    "             y = \"counts\",\n",
    "             title= \"Vehicle Types And Their Numbers\"\n",
    "             )\n",
    "\n",
    "fig.show()"
   ]
  },
  {
   "cell_type": "markdown",
   "metadata": {
    "id": "ESxDMP_qrwXT"
   },
   "source": [
    "The sedan and the SUVs seem to be the most advertised vehicles, meaning they are the type of cars mostly purchased or liked by Americans."
   ]
  },
  {
   "cell_type": "markdown",
   "metadata": {
    "id": "XkJ8-VPEn9ic"
   },
   "source": [
    "How about the manufacturer with the most car on this site."
   ]
  },
  {
   "cell_type": "markdown",
   "metadata": {
    "id": "K15piB1jOaHS"
   },
   "source": [
    "We can use the pandas groupby method to gain insights into a particular column and its values. In this case, we are grouping the \"manufacturer\" column of our dataset and using the \"type\" column, we get the number of vehicles for each manufacturer."
   ]
  },
  {
   "cell_type": "code",
   "execution_count": null,
   "metadata": {
    "id": "iXBBUKupKFN3"
   },
   "outputs": [],
   "source": [
    "manufacturer_df = cars_sample.groupby('manufacturer')[['type']].count()"
   ]
  },
  {
   "cell_type": "code",
   "execution_count": null,
   "metadata": {
    "colab": {
     "base_uri": "https://localhost:8080/",
     "height": 1000
    },
    "executionInfo": {
     "elapsed": 722,
     "status": "ok",
     "timestamp": 1625095421759,
     "user": {
      "displayName": "nasiru sule",
      "photoUrl": "https://lh3.googleusercontent.com/a-/AOh14GiVuRFYjI43LxMj_Q8ZlQSSi4rs-Su2HdfNPNxp7A=s64",
      "userId": "16455627822583485460"
     },
     "user_tz": -60
    },
    "id": "hs76GUnKLaFk",
    "outputId": "e9f5288c-6f36-4eca-9b5c-d893ab8615d9"
   },
   "outputs": [
    {
     "data": {
      "text/html": [
       "<div>\n",
       "<style scoped>\n",
       "    .dataframe tbody tr th:only-of-type {\n",
       "        vertical-align: middle;\n",
       "    }\n",
       "\n",
       "    .dataframe tbody tr th {\n",
       "        vertical-align: top;\n",
       "    }\n",
       "\n",
       "    .dataframe thead th {\n",
       "        text-align: right;\n",
       "    }\n",
       "</style>\n",
       "<table border=\"1\" class=\"dataframe\">\n",
       "  <thead>\n",
       "    <tr style=\"text-align: right;\">\n",
       "      <th></th>\n",
       "      <th>type</th>\n",
       "    </tr>\n",
       "    <tr>\n",
       "      <th>manufacturer</th>\n",
       "      <th></th>\n",
       "    </tr>\n",
       "  </thead>\n",
       "  <tbody>\n",
       "    <tr>\n",
       "      <th>acura</th>\n",
       "      <td>98</td>\n",
       "    </tr>\n",
       "    <tr>\n",
       "      <th>alfa-romeo</th>\n",
       "      <td>5</td>\n",
       "    </tr>\n",
       "    <tr>\n",
       "      <th>audi</th>\n",
       "      <td>115</td>\n",
       "    </tr>\n",
       "    <tr>\n",
       "      <th>bmw</th>\n",
       "      <td>292</td>\n",
       "    </tr>\n",
       "    <tr>\n",
       "      <th>buick</th>\n",
       "      <td>113</td>\n",
       "    </tr>\n",
       "    <tr>\n",
       "      <th>cadillac</th>\n",
       "      <td>149</td>\n",
       "    </tr>\n",
       "    <tr>\n",
       "      <th>chevrolet</th>\n",
       "      <td>1503</td>\n",
       "    </tr>\n",
       "    <tr>\n",
       "      <th>chrysler</th>\n",
       "      <td>187</td>\n",
       "    </tr>\n",
       "    <tr>\n",
       "      <th>datsun</th>\n",
       "      <td>1</td>\n",
       "    </tr>\n",
       "    <tr>\n",
       "      <th>dodge</th>\n",
       "      <td>369</td>\n",
       "    </tr>\n",
       "    <tr>\n",
       "      <th>ferrari</th>\n",
       "      <td>2</td>\n",
       "    </tr>\n",
       "    <tr>\n",
       "      <th>fiat</th>\n",
       "      <td>13</td>\n",
       "    </tr>\n",
       "    <tr>\n",
       "      <th>ford</th>\n",
       "      <td>1835</td>\n",
       "    </tr>\n",
       "    <tr>\n",
       "      <th>gmc</th>\n",
       "      <td>419</td>\n",
       "    </tr>\n",
       "    <tr>\n",
       "      <th>harley-davidson</th>\n",
       "      <td>4</td>\n",
       "    </tr>\n",
       "    <tr>\n",
       "      <th>honda</th>\n",
       "      <td>560</td>\n",
       "    </tr>\n",
       "    <tr>\n",
       "      <th>hyundai</th>\n",
       "      <td>224</td>\n",
       "    </tr>\n",
       "    <tr>\n",
       "      <th>infiniti</th>\n",
       "      <td>141</td>\n",
       "    </tr>\n",
       "    <tr>\n",
       "      <th>jaguar</th>\n",
       "      <td>28</td>\n",
       "    </tr>\n",
       "    <tr>\n",
       "      <th>jeep</th>\n",
       "      <td>525</td>\n",
       "    </tr>\n",
       "    <tr>\n",
       "      <th>kia</th>\n",
       "      <td>181</td>\n",
       "    </tr>\n",
       "    <tr>\n",
       "      <th>land rover</th>\n",
       "      <td>1</td>\n",
       "    </tr>\n",
       "    <tr>\n",
       "      <th>lexus</th>\n",
       "      <td>197</td>\n",
       "    </tr>\n",
       "    <tr>\n",
       "      <th>lincoln</th>\n",
       "      <td>100</td>\n",
       "    </tr>\n",
       "    <tr>\n",
       "      <th>mazda</th>\n",
       "      <td>108</td>\n",
       "    </tr>\n",
       "    <tr>\n",
       "      <th>mercedes-benz</th>\n",
       "      <td>242</td>\n",
       "    </tr>\n",
       "    <tr>\n",
       "      <th>mercury</th>\n",
       "      <td>46</td>\n",
       "    </tr>\n",
       "    <tr>\n",
       "      <th>mini</th>\n",
       "      <td>56</td>\n",
       "    </tr>\n",
       "    <tr>\n",
       "      <th>mitsubishi</th>\n",
       "      <td>82</td>\n",
       "    </tr>\n",
       "    <tr>\n",
       "      <th>nissan</th>\n",
       "      <td>555</td>\n",
       "    </tr>\n",
       "    <tr>\n",
       "      <th>pontiac</th>\n",
       "      <td>77</td>\n",
       "    </tr>\n",
       "    <tr>\n",
       "      <th>porsche</th>\n",
       "      <td>33</td>\n",
       "    </tr>\n",
       "    <tr>\n",
       "      <th>ram</th>\n",
       "      <td>351</td>\n",
       "    </tr>\n",
       "    <tr>\n",
       "      <th>rover</th>\n",
       "      <td>32</td>\n",
       "    </tr>\n",
       "    <tr>\n",
       "      <th>saturn</th>\n",
       "      <td>33</td>\n",
       "    </tr>\n",
       "    <tr>\n",
       "      <th>subaru</th>\n",
       "      <td>237</td>\n",
       "    </tr>\n",
       "    <tr>\n",
       "      <th>tesla</th>\n",
       "      <td>4</td>\n",
       "    </tr>\n",
       "    <tr>\n",
       "      <th>toyota</th>\n",
       "      <td>831</td>\n",
       "    </tr>\n",
       "    <tr>\n",
       "      <th>volkswagen</th>\n",
       "      <td>181</td>\n",
       "    </tr>\n",
       "    <tr>\n",
       "      <th>volvo</th>\n",
       "      <td>70</td>\n",
       "    </tr>\n",
       "  </tbody>\n",
       "</table>\n",
       "</div>"
      ],
      "text/plain": [
       "                 type\n",
       "manufacturer         \n",
       "acura              98\n",
       "alfa-romeo          5\n",
       "audi              115\n",
       "bmw               292\n",
       "buick             113\n",
       "cadillac          149\n",
       "chevrolet        1503\n",
       "chrysler          187\n",
       "datsun              1\n",
       "dodge             369\n",
       "ferrari             2\n",
       "fiat               13\n",
       "ford             1835\n",
       "gmc               419\n",
       "harley-davidson     4\n",
       "honda             560\n",
       "hyundai           224\n",
       "infiniti          141\n",
       "jaguar             28\n",
       "jeep              525\n",
       "kia               181\n",
       "land rover          1\n",
       "lexus             197\n",
       "lincoln           100\n",
       "mazda             108\n",
       "mercedes-benz     242\n",
       "mercury            46\n",
       "mini               56\n",
       "mitsubishi         82\n",
       "nissan            555\n",
       "pontiac            77\n",
       "porsche            33\n",
       "ram               351\n",
       "rover              32\n",
       "saturn             33\n",
       "subaru            237\n",
       "tesla               4\n",
       "toyota            831\n",
       "volkswagen        181\n",
       "volvo              70"
      ]
     },
     "execution_count": 66,
     "metadata": {
      "tags": []
     },
     "output_type": "execute_result"
    }
   ],
   "source": [
    "manufacturer_df"
   ]
  },
  {
   "cell_type": "markdown",
   "metadata": {
    "id": "opxCdmbESKxL"
   },
   "source": [
    "We will change the column name 'type' to 'counts'."
   ]
  },
  {
   "cell_type": "code",
   "execution_count": null,
   "metadata": {
    "id": "ewxZWjVZXIXs"
   },
   "outputs": [],
   "source": [
    "manufacturer_df.columns = ['counts']"
   ]
  },
  {
   "cell_type": "code",
   "execution_count": null,
   "metadata": {
    "colab": {
     "base_uri": "https://localhost:8080/",
     "height": 1000
    },
    "executionInfo": {
     "elapsed": 395,
     "status": "ok",
     "timestamp": 1625095442416,
     "user": {
      "displayName": "nasiru sule",
      "photoUrl": "https://lh3.googleusercontent.com/a-/AOh14GiVuRFYjI43LxMj_Q8ZlQSSi4rs-Su2HdfNPNxp7A=s64",
      "userId": "16455627822583485460"
     },
     "user_tz": -60
    },
    "id": "nW5CET9IFx1-",
    "outputId": "1d8ed69d-9fc8-4558-8d0c-edce86f0804b"
   },
   "outputs": [
    {
     "data": {
      "text/html": [
       "<div>\n",
       "<style scoped>\n",
       "    .dataframe tbody tr th:only-of-type {\n",
       "        vertical-align: middle;\n",
       "    }\n",
       "\n",
       "    .dataframe tbody tr th {\n",
       "        vertical-align: top;\n",
       "    }\n",
       "\n",
       "    .dataframe thead th {\n",
       "        text-align: right;\n",
       "    }\n",
       "</style>\n",
       "<table border=\"1\" class=\"dataframe\">\n",
       "  <thead>\n",
       "    <tr style=\"text-align: right;\">\n",
       "      <th></th>\n",
       "      <th>counts</th>\n",
       "    </tr>\n",
       "    <tr>\n",
       "      <th>manufacturer</th>\n",
       "      <th></th>\n",
       "    </tr>\n",
       "  </thead>\n",
       "  <tbody>\n",
       "    <tr>\n",
       "      <th>acura</th>\n",
       "      <td>98</td>\n",
       "    </tr>\n",
       "    <tr>\n",
       "      <th>alfa-romeo</th>\n",
       "      <td>5</td>\n",
       "    </tr>\n",
       "    <tr>\n",
       "      <th>audi</th>\n",
       "      <td>115</td>\n",
       "    </tr>\n",
       "    <tr>\n",
       "      <th>bmw</th>\n",
       "      <td>292</td>\n",
       "    </tr>\n",
       "    <tr>\n",
       "      <th>buick</th>\n",
       "      <td>113</td>\n",
       "    </tr>\n",
       "    <tr>\n",
       "      <th>cadillac</th>\n",
       "      <td>149</td>\n",
       "    </tr>\n",
       "    <tr>\n",
       "      <th>chevrolet</th>\n",
       "      <td>1503</td>\n",
       "    </tr>\n",
       "    <tr>\n",
       "      <th>chrysler</th>\n",
       "      <td>187</td>\n",
       "    </tr>\n",
       "    <tr>\n",
       "      <th>datsun</th>\n",
       "      <td>1</td>\n",
       "    </tr>\n",
       "    <tr>\n",
       "      <th>dodge</th>\n",
       "      <td>369</td>\n",
       "    </tr>\n",
       "    <tr>\n",
       "      <th>ferrari</th>\n",
       "      <td>2</td>\n",
       "    </tr>\n",
       "    <tr>\n",
       "      <th>fiat</th>\n",
       "      <td>13</td>\n",
       "    </tr>\n",
       "    <tr>\n",
       "      <th>ford</th>\n",
       "      <td>1835</td>\n",
       "    </tr>\n",
       "    <tr>\n",
       "      <th>gmc</th>\n",
       "      <td>419</td>\n",
       "    </tr>\n",
       "    <tr>\n",
       "      <th>harley-davidson</th>\n",
       "      <td>4</td>\n",
       "    </tr>\n",
       "    <tr>\n",
       "      <th>honda</th>\n",
       "      <td>560</td>\n",
       "    </tr>\n",
       "    <tr>\n",
       "      <th>hyundai</th>\n",
       "      <td>224</td>\n",
       "    </tr>\n",
       "    <tr>\n",
       "      <th>infiniti</th>\n",
       "      <td>141</td>\n",
       "    </tr>\n",
       "    <tr>\n",
       "      <th>jaguar</th>\n",
       "      <td>28</td>\n",
       "    </tr>\n",
       "    <tr>\n",
       "      <th>jeep</th>\n",
       "      <td>525</td>\n",
       "    </tr>\n",
       "    <tr>\n",
       "      <th>kia</th>\n",
       "      <td>181</td>\n",
       "    </tr>\n",
       "    <tr>\n",
       "      <th>land rover</th>\n",
       "      <td>1</td>\n",
       "    </tr>\n",
       "    <tr>\n",
       "      <th>lexus</th>\n",
       "      <td>197</td>\n",
       "    </tr>\n",
       "    <tr>\n",
       "      <th>lincoln</th>\n",
       "      <td>100</td>\n",
       "    </tr>\n",
       "    <tr>\n",
       "      <th>mazda</th>\n",
       "      <td>108</td>\n",
       "    </tr>\n",
       "    <tr>\n",
       "      <th>mercedes-benz</th>\n",
       "      <td>242</td>\n",
       "    </tr>\n",
       "    <tr>\n",
       "      <th>mercury</th>\n",
       "      <td>46</td>\n",
       "    </tr>\n",
       "    <tr>\n",
       "      <th>mini</th>\n",
       "      <td>56</td>\n",
       "    </tr>\n",
       "    <tr>\n",
       "      <th>mitsubishi</th>\n",
       "      <td>82</td>\n",
       "    </tr>\n",
       "    <tr>\n",
       "      <th>nissan</th>\n",
       "      <td>555</td>\n",
       "    </tr>\n",
       "    <tr>\n",
       "      <th>pontiac</th>\n",
       "      <td>77</td>\n",
       "    </tr>\n",
       "    <tr>\n",
       "      <th>porsche</th>\n",
       "      <td>33</td>\n",
       "    </tr>\n",
       "    <tr>\n",
       "      <th>ram</th>\n",
       "      <td>351</td>\n",
       "    </tr>\n",
       "    <tr>\n",
       "      <th>rover</th>\n",
       "      <td>32</td>\n",
       "    </tr>\n",
       "    <tr>\n",
       "      <th>saturn</th>\n",
       "      <td>33</td>\n",
       "    </tr>\n",
       "    <tr>\n",
       "      <th>subaru</th>\n",
       "      <td>237</td>\n",
       "    </tr>\n",
       "    <tr>\n",
       "      <th>tesla</th>\n",
       "      <td>4</td>\n",
       "    </tr>\n",
       "    <tr>\n",
       "      <th>toyota</th>\n",
       "      <td>831</td>\n",
       "    </tr>\n",
       "    <tr>\n",
       "      <th>volkswagen</th>\n",
       "      <td>181</td>\n",
       "    </tr>\n",
       "    <tr>\n",
       "      <th>volvo</th>\n",
       "      <td>70</td>\n",
       "    </tr>\n",
       "  </tbody>\n",
       "</table>\n",
       "</div>"
      ],
      "text/plain": [
       "                 counts\n",
       "manufacturer           \n",
       "acura                98\n",
       "alfa-romeo            5\n",
       "audi                115\n",
       "bmw                 292\n",
       "buick               113\n",
       "cadillac            149\n",
       "chevrolet          1503\n",
       "chrysler            187\n",
       "datsun                1\n",
       "dodge               369\n",
       "ferrari               2\n",
       "fiat                 13\n",
       "ford               1835\n",
       "gmc                 419\n",
       "harley-davidson       4\n",
       "honda               560\n",
       "hyundai             224\n",
       "infiniti            141\n",
       "jaguar               28\n",
       "jeep                525\n",
       "kia                 181\n",
       "land rover            1\n",
       "lexus               197\n",
       "lincoln             100\n",
       "mazda               108\n",
       "mercedes-benz       242\n",
       "mercury              46\n",
       "mini                 56\n",
       "mitsubishi           82\n",
       "nissan              555\n",
       "pontiac              77\n",
       "porsche              33\n",
       "ram                 351\n",
       "rover                32\n",
       "saturn               33\n",
       "subaru              237\n",
       "tesla                 4\n",
       "toyota              831\n",
       "volkswagen          181\n",
       "volvo                70"
      ]
     },
     "execution_count": 68,
     "metadata": {
      "tags": []
     },
     "output_type": "execute_result"
    }
   ],
   "source": [
    "manufacturer_df"
   ]
  },
  {
   "cell_type": "markdown",
   "metadata": {
    "id": "glrA-5BQRmWu"
   },
   "source": [
    "We will convert the manufacturer dataframe index, which contains the manufacturers' names, to an array in order to be able to use it to create a piechart."
   ]
  },
  {
   "cell_type": "code",
   "execution_count": null,
   "metadata": {
    "id": "rhG1TvNBQ-Gw"
   },
   "outputs": [],
   "source": [
    "Types = np.array(manufacturer_df.index)"
   ]
  },
  {
   "cell_type": "code",
   "execution_count": null,
   "metadata": {
    "colab": {
     "base_uri": "https://localhost:8080/",
     "height": 542
    },
    "executionInfo": {
     "elapsed": 51,
     "status": "ok",
     "timestamp": 1625095448674,
     "user": {
      "displayName": "nasiru sule",
      "photoUrl": "https://lh3.googleusercontent.com/a-/AOh14GiVuRFYjI43LxMj_Q8ZlQSSi4rs-Su2HdfNPNxp7A=s64",
      "userId": "16455627822583485460"
     },
     "user_tz": -60
    },
    "id": "sEl5Osd8PMUW",
    "outputId": "b1473146-74b2-41fd-fd0d-44a2bb2d9a0d"
   },
   "outputs": [
    {
     "data": {
      "text/html": [
       "<html>\n",
       "<head><meta charset=\"utf-8\" /></head>\n",
       "<body>\n",
       "    <div>            <script src=\"https://cdnjs.cloudflare.com/ajax/libs/mathjax/2.7.5/MathJax.js?config=TeX-AMS-MML_SVG\"></script><script type=\"text/javascript\">if (window.MathJax) {MathJax.Hub.Config({SVG: {font: \"STIX-Web\"}});}</script>                <script type=\"text/javascript\">window.PlotlyConfig = {MathJaxConfig: 'local'};</script>\n",
       "        <script src=\"https://cdn.plot.ly/plotly-2.2.0.min.js\"></script>                <div id=\"29ee956e-bec7-48db-a8b6-f7437f9e6f65\" class=\"plotly-graph-div\" style=\"height:525px; width:100%;\"></div>            <script type=\"text/javascript\">                                    window.PLOTLYENV=window.PLOTLYENV || {};                                    if (document.getElementById(\"29ee956e-bec7-48db-a8b6-f7437f9e6f65\")) {                    Plotly.newPlot(                        \"29ee956e-bec7-48db-a8b6-f7437f9e6f65\",                        [{\"domain\":{\"x\":[0.0,1.0],\"y\":[0.0,1.0]},\"hovertemplate\":\"label=%{label}<br>counts=%{value}<extra></extra>\",\"labels\":[\"acura\",\"alfa-romeo\",\"audi\",\"bmw\",\"buick\",\"cadillac\",\"chevrolet\",\"chrysler\",\"datsun\",\"dodge\",\"ferrari\",\"fiat\",\"ford\",\"gmc\",\"harley-davidson\",\"honda\",\"hyundai\",\"infiniti\",\"jaguar\",\"jeep\",\"kia\",\"land rover\",\"lexus\",\"lincoln\",\"mazda\",\"mercedes-benz\",\"mercury\",\"mini\",\"mitsubishi\",\"nissan\",\"pontiac\",\"porsche\",\"ram\",\"rover\",\"saturn\",\"subaru\",\"tesla\",\"toyota\",\"volkswagen\",\"volvo\"],\"legendgroup\":\"\",\"name\":\"\",\"showlegend\":true,\"type\":\"pie\",\"values\":[98,5,115,292,113,149,1503,187,1,369,2,13,1835,419,4,560,224,141,28,525,181,1,197,100,108,242,46,56,82,555,77,33,351,32,33,237,4,831,181,70]}],                        {\"legend\":{\"tracegroupgap\":0},\"template\":{\"data\":{\"bar\":[{\"error_x\":{\"color\":\"#2a3f5f\"},\"error_y\":{\"color\":\"#2a3f5f\"},\"marker\":{\"line\":{\"color\":\"#E5ECF6\",\"width\":0.5},\"pattern\":{\"fillmode\":\"overlay\",\"size\":10,\"solidity\":0.2}},\"type\":\"bar\"}],\"barpolar\":[{\"marker\":{\"line\":{\"color\":\"#E5ECF6\",\"width\":0.5},\"pattern\":{\"fillmode\":\"overlay\",\"size\":10,\"solidity\":0.2}},\"type\":\"barpolar\"}],\"carpet\":[{\"aaxis\":{\"endlinecolor\":\"#2a3f5f\",\"gridcolor\":\"white\",\"linecolor\":\"white\",\"minorgridcolor\":\"white\",\"startlinecolor\":\"#2a3f5f\"},\"baxis\":{\"endlinecolor\":\"#2a3f5f\",\"gridcolor\":\"white\",\"linecolor\":\"white\",\"minorgridcolor\":\"white\",\"startlinecolor\":\"#2a3f5f\"},\"type\":\"carpet\"}],\"choropleth\":[{\"colorbar\":{\"outlinewidth\":0,\"ticks\":\"\"},\"type\":\"choropleth\"}],\"contour\":[{\"colorbar\":{\"outlinewidth\":0,\"ticks\":\"\"},\"colorscale\":[[0.0,\"#0d0887\"],[0.1111111111111111,\"#46039f\"],[0.2222222222222222,\"#7201a8\"],[0.3333333333333333,\"#9c179e\"],[0.4444444444444444,\"#bd3786\"],[0.5555555555555556,\"#d8576b\"],[0.6666666666666666,\"#ed7953\"],[0.7777777777777778,\"#fb9f3a\"],[0.8888888888888888,\"#fdca26\"],[1.0,\"#f0f921\"]],\"type\":\"contour\"}],\"contourcarpet\":[{\"colorbar\":{\"outlinewidth\":0,\"ticks\":\"\"},\"type\":\"contourcarpet\"}],\"heatmap\":[{\"colorbar\":{\"outlinewidth\":0,\"ticks\":\"\"},\"colorscale\":[[0.0,\"#0d0887\"],[0.1111111111111111,\"#46039f\"],[0.2222222222222222,\"#7201a8\"],[0.3333333333333333,\"#9c179e\"],[0.4444444444444444,\"#bd3786\"],[0.5555555555555556,\"#d8576b\"],[0.6666666666666666,\"#ed7953\"],[0.7777777777777778,\"#fb9f3a\"],[0.8888888888888888,\"#fdca26\"],[1.0,\"#f0f921\"]],\"type\":\"heatmap\"}],\"heatmapgl\":[{\"colorbar\":{\"outlinewidth\":0,\"ticks\":\"\"},\"colorscale\":[[0.0,\"#0d0887\"],[0.1111111111111111,\"#46039f\"],[0.2222222222222222,\"#7201a8\"],[0.3333333333333333,\"#9c179e\"],[0.4444444444444444,\"#bd3786\"],[0.5555555555555556,\"#d8576b\"],[0.6666666666666666,\"#ed7953\"],[0.7777777777777778,\"#fb9f3a\"],[0.8888888888888888,\"#fdca26\"],[1.0,\"#f0f921\"]],\"type\":\"heatmapgl\"}],\"histogram\":[{\"marker\":{\"pattern\":{\"fillmode\":\"overlay\",\"size\":10,\"solidity\":0.2}},\"type\":\"histogram\"}],\"histogram2d\":[{\"colorbar\":{\"outlinewidth\":0,\"ticks\":\"\"},\"colorscale\":[[0.0,\"#0d0887\"],[0.1111111111111111,\"#46039f\"],[0.2222222222222222,\"#7201a8\"],[0.3333333333333333,\"#9c179e\"],[0.4444444444444444,\"#bd3786\"],[0.5555555555555556,\"#d8576b\"],[0.6666666666666666,\"#ed7953\"],[0.7777777777777778,\"#fb9f3a\"],[0.8888888888888888,\"#fdca26\"],[1.0,\"#f0f921\"]],\"type\":\"histogram2d\"}],\"histogram2dcontour\":[{\"colorbar\":{\"outlinewidth\":0,\"ticks\":\"\"},\"colorscale\":[[0.0,\"#0d0887\"],[0.1111111111111111,\"#46039f\"],[0.2222222222222222,\"#7201a8\"],[0.3333333333333333,\"#9c179e\"],[0.4444444444444444,\"#bd3786\"],[0.5555555555555556,\"#d8576b\"],[0.6666666666666666,\"#ed7953\"],[0.7777777777777778,\"#fb9f3a\"],[0.8888888888888888,\"#fdca26\"],[1.0,\"#f0f921\"]],\"type\":\"histogram2dcontour\"}],\"mesh3d\":[{\"colorbar\":{\"outlinewidth\":0,\"ticks\":\"\"},\"type\":\"mesh3d\"}],\"parcoords\":[{\"line\":{\"colorbar\":{\"outlinewidth\":0,\"ticks\":\"\"}},\"type\":\"parcoords\"}],\"pie\":[{\"automargin\":true,\"type\":\"pie\"}],\"scatter\":[{\"marker\":{\"colorbar\":{\"outlinewidth\":0,\"ticks\":\"\"}},\"type\":\"scatter\"}],\"scatter3d\":[{\"line\":{\"colorbar\":{\"outlinewidth\":0,\"ticks\":\"\"}},\"marker\":{\"colorbar\":{\"outlinewidth\":0,\"ticks\":\"\"}},\"type\":\"scatter3d\"}],\"scattercarpet\":[{\"marker\":{\"colorbar\":{\"outlinewidth\":0,\"ticks\":\"\"}},\"type\":\"scattercarpet\"}],\"scattergeo\":[{\"marker\":{\"colorbar\":{\"outlinewidth\":0,\"ticks\":\"\"}},\"type\":\"scattergeo\"}],\"scattergl\":[{\"marker\":{\"colorbar\":{\"outlinewidth\":0,\"ticks\":\"\"}},\"type\":\"scattergl\"}],\"scattermapbox\":[{\"marker\":{\"colorbar\":{\"outlinewidth\":0,\"ticks\":\"\"}},\"type\":\"scattermapbox\"}],\"scatterpolar\":[{\"marker\":{\"colorbar\":{\"outlinewidth\":0,\"ticks\":\"\"}},\"type\":\"scatterpolar\"}],\"scatterpolargl\":[{\"marker\":{\"colorbar\":{\"outlinewidth\":0,\"ticks\":\"\"}},\"type\":\"scatterpolargl\"}],\"scatterternary\":[{\"marker\":{\"colorbar\":{\"outlinewidth\":0,\"ticks\":\"\"}},\"type\":\"scatterternary\"}],\"surface\":[{\"colorbar\":{\"outlinewidth\":0,\"ticks\":\"\"},\"colorscale\":[[0.0,\"#0d0887\"],[0.1111111111111111,\"#46039f\"],[0.2222222222222222,\"#7201a8\"],[0.3333333333333333,\"#9c179e\"],[0.4444444444444444,\"#bd3786\"],[0.5555555555555556,\"#d8576b\"],[0.6666666666666666,\"#ed7953\"],[0.7777777777777778,\"#fb9f3a\"],[0.8888888888888888,\"#fdca26\"],[1.0,\"#f0f921\"]],\"type\":\"surface\"}],\"table\":[{\"cells\":{\"fill\":{\"color\":\"#EBF0F8\"},\"line\":{\"color\":\"white\"}},\"header\":{\"fill\":{\"color\":\"#C8D4E3\"},\"line\":{\"color\":\"white\"}},\"type\":\"table\"}]},\"layout\":{\"annotationdefaults\":{\"arrowcolor\":\"#2a3f5f\",\"arrowhead\":0,\"arrowwidth\":1},\"autotypenumbers\":\"strict\",\"coloraxis\":{\"colorbar\":{\"outlinewidth\":0,\"ticks\":\"\"}},\"colorscale\":{\"diverging\":[[0,\"#8e0152\"],[0.1,\"#c51b7d\"],[0.2,\"#de77ae\"],[0.3,\"#f1b6da\"],[0.4,\"#fde0ef\"],[0.5,\"#f7f7f7\"],[0.6,\"#e6f5d0\"],[0.7,\"#b8e186\"],[0.8,\"#7fbc41\"],[0.9,\"#4d9221\"],[1,\"#276419\"]],\"sequential\":[[0.0,\"#0d0887\"],[0.1111111111111111,\"#46039f\"],[0.2222222222222222,\"#7201a8\"],[0.3333333333333333,\"#9c179e\"],[0.4444444444444444,\"#bd3786\"],[0.5555555555555556,\"#d8576b\"],[0.6666666666666666,\"#ed7953\"],[0.7777777777777778,\"#fb9f3a\"],[0.8888888888888888,\"#fdca26\"],[1.0,\"#f0f921\"]],\"sequentialminus\":[[0.0,\"#0d0887\"],[0.1111111111111111,\"#46039f\"],[0.2222222222222222,\"#7201a8\"],[0.3333333333333333,\"#9c179e\"],[0.4444444444444444,\"#bd3786\"],[0.5555555555555556,\"#d8576b\"],[0.6666666666666666,\"#ed7953\"],[0.7777777777777778,\"#fb9f3a\"],[0.8888888888888888,\"#fdca26\"],[1.0,\"#f0f921\"]]},\"colorway\":[\"#636efa\",\"#EF553B\",\"#00cc96\",\"#ab63fa\",\"#FFA15A\",\"#19d3f3\",\"#FF6692\",\"#B6E880\",\"#FF97FF\",\"#FECB52\"],\"font\":{\"color\":\"#2a3f5f\"},\"geo\":{\"bgcolor\":\"white\",\"lakecolor\":\"white\",\"landcolor\":\"#E5ECF6\",\"showlakes\":true,\"showland\":true,\"subunitcolor\":\"white\"},\"hoverlabel\":{\"align\":\"left\"},\"hovermode\":\"closest\",\"mapbox\":{\"style\":\"light\"},\"paper_bgcolor\":\"white\",\"plot_bgcolor\":\"#E5ECF6\",\"polar\":{\"angularaxis\":{\"gridcolor\":\"white\",\"linecolor\":\"white\",\"ticks\":\"\"},\"bgcolor\":\"#E5ECF6\",\"radialaxis\":{\"gridcolor\":\"white\",\"linecolor\":\"white\",\"ticks\":\"\"}},\"scene\":{\"xaxis\":{\"backgroundcolor\":\"#E5ECF6\",\"gridcolor\":\"white\",\"gridwidth\":2,\"linecolor\":\"white\",\"showbackground\":true,\"ticks\":\"\",\"zerolinecolor\":\"white\"},\"yaxis\":{\"backgroundcolor\":\"#E5ECF6\",\"gridcolor\":\"white\",\"gridwidth\":2,\"linecolor\":\"white\",\"showbackground\":true,\"ticks\":\"\",\"zerolinecolor\":\"white\"},\"zaxis\":{\"backgroundcolor\":\"#E5ECF6\",\"gridcolor\":\"white\",\"gridwidth\":2,\"linecolor\":\"white\",\"showbackground\":true,\"ticks\":\"\",\"zerolinecolor\":\"white\"}},\"shapedefaults\":{\"line\":{\"color\":\"#2a3f5f\"}},\"ternary\":{\"aaxis\":{\"gridcolor\":\"white\",\"linecolor\":\"white\",\"ticks\":\"\"},\"baxis\":{\"gridcolor\":\"white\",\"linecolor\":\"white\",\"ticks\":\"\"},\"bgcolor\":\"#E5ECF6\",\"caxis\":{\"gridcolor\":\"white\",\"linecolor\":\"white\",\"ticks\":\"\"}},\"title\":{\"x\":0.05},\"xaxis\":{\"automargin\":true,\"gridcolor\":\"white\",\"linecolor\":\"white\",\"ticks\":\"\",\"title\":{\"standoff\":15},\"zerolinecolor\":\"white\",\"zerolinewidth\":2},\"yaxis\":{\"automargin\":true,\"gridcolor\":\"white\",\"linecolor\":\"white\",\"ticks\":\"\",\"title\":{\"standoff\":15},\"zerolinecolor\":\"white\",\"zerolinewidth\":2}}},\"title\":{\"text\":\"Distribution Of Vehicle By Manufacturers\"}},                        {\"responsive\": true}                    ).then(function(){\n",
       "                            \n",
       "var gd = document.getElementById('29ee956e-bec7-48db-a8b6-f7437f9e6f65');\n",
       "var x = new MutationObserver(function (mutations, observer) {{\n",
       "        var display = window.getComputedStyle(gd).display;\n",
       "        if (!display || display === 'none') {{\n",
       "            console.log([gd, 'removed!']);\n",
       "            Plotly.purge(gd);\n",
       "            observer.disconnect();\n",
       "        }}\n",
       "}});\n",
       "\n",
       "// Listen for the removal of the full notebook cells\n",
       "var notebookContainer = gd.closest('#notebook-container');\n",
       "if (notebookContainer) {{\n",
       "    x.observe(notebookContainer, {childList: true});\n",
       "}}\n",
       "\n",
       "// Listen for the clearing of the current output cell\n",
       "var outputEl = gd.closest('.output');\n",
       "if (outputEl) {{\n",
       "    x.observe(outputEl, {childList: true});\n",
       "}}\n",
       "\n",
       "                        })                };                            </script>        </div>\n",
       "</body>\n",
       "</html>"
      ]
     },
     "metadata": {
      "tags": []
     },
     "output_type": "display_data"
    }
   ],
   "source": [
    "fig = px.pie(manufacturer_df, \n",
    "             values = 'counts' , \n",
    "             names = Types , \n",
    "             title = \"Distribution Of Vehicle By Manufacturers\")\n",
    "fig.show()"
   ]
  },
  {
   "cell_type": "markdown",
   "metadata": {
    "id": "PGYs3JQsoRdJ"
   },
   "source": [
    "The Ford vehicle manufacturer has the most cars on this car selling site, as seen from the piechart."
   ]
  },
  {
   "cell_type": "code",
   "execution_count": null,
   "metadata": {
    "colab": {
     "base_uri": "https://localhost:8080/",
     "height": 626
    },
    "executionInfo": {
     "elapsed": 505,
     "status": "ok",
     "timestamp": 1625095480795,
     "user": {
      "displayName": "nasiru sule",
      "photoUrl": "https://lh3.googleusercontent.com/a-/AOh14GiVuRFYjI43LxMj_Q8ZlQSSi4rs-Su2HdfNPNxp7A=s64",
      "userId": "16455627822583485460"
     },
     "user_tz": -60
    },
    "id": "1j81U7ATS4iL",
    "outputId": "8247ff8f-5118-4635-e571-09bfa6dcf27d"
   },
   "outputs": [
    {
     "data": {
      "text/html": [
       "<div>\n",
       "<style scoped>\n",
       "    .dataframe tbody tr th:only-of-type {\n",
       "        vertical-align: middle;\n",
       "    }\n",
       "\n",
       "    .dataframe tbody tr th {\n",
       "        vertical-align: top;\n",
       "    }\n",
       "\n",
       "    .dataframe thead th {\n",
       "        text-align: right;\n",
       "    }\n",
       "</style>\n",
       "<table border=\"1\" class=\"dataframe\">\n",
       "  <thead>\n",
       "    <tr style=\"text-align: right;\">\n",
       "      <th></th>\n",
       "      <th>region</th>\n",
       "      <th>price</th>\n",
       "      <th>year</th>\n",
       "      <th>manufacturer</th>\n",
       "      <th>model</th>\n",
       "      <th>condition</th>\n",
       "      <th>cylinders</th>\n",
       "      <th>fuel</th>\n",
       "      <th>odometer</th>\n",
       "      <th>title_status</th>\n",
       "      <th>drive</th>\n",
       "      <th>type</th>\n",
       "      <th>paint_color</th>\n",
       "      <th>state</th>\n",
       "      <th>lat</th>\n",
       "      <th>long</th>\n",
       "    </tr>\n",
       "  </thead>\n",
       "  <tbody>\n",
       "    <tr>\n",
       "      <th>419654</th>\n",
       "      <td>madison</td>\n",
       "      <td>11900</td>\n",
       "      <td>2009.0</td>\n",
       "      <td>nissan</td>\n",
       "      <td>rogue</td>\n",
       "      <td>good</td>\n",
       "      <td>4 cylinders</td>\n",
       "      <td>gas</td>\n",
       "      <td>35655.0</td>\n",
       "      <td>clean</td>\n",
       "      <td>4wd</td>\n",
       "      <td>wagon</td>\n",
       "      <td>silver</td>\n",
       "      <td>wi</td>\n",
       "      <td>43.029559</td>\n",
       "      <td>-89.397796</td>\n",
       "    </tr>\n",
       "    <tr>\n",
       "      <th>65604</th>\n",
       "      <td>stockton</td>\n",
       "      <td>22590</td>\n",
       "      <td>2015.0</td>\n",
       "      <td>hyundai</td>\n",
       "      <td>genesis 3.8 sedan 4d</td>\n",
       "      <td>good</td>\n",
       "      <td>6 cylinders</td>\n",
       "      <td>gas</td>\n",
       "      <td>51933.0</td>\n",
       "      <td>clean</td>\n",
       "      <td>rwd</td>\n",
       "      <td>sedan</td>\n",
       "      <td>silver</td>\n",
       "      <td>ca</td>\n",
       "      <td>33.786500</td>\n",
       "      <td>-84.445400</td>\n",
       "    </tr>\n",
       "    <tr>\n",
       "      <th>32609</th>\n",
       "      <td>inland empire</td>\n",
       "      <td>7975</td>\n",
       "      <td>2013.0</td>\n",
       "      <td>ford</td>\n",
       "      <td>c-max hybrid</td>\n",
       "      <td>excellent</td>\n",
       "      <td>4 cylinders</td>\n",
       "      <td>hybrid</td>\n",
       "      <td>139000.0</td>\n",
       "      <td>clean</td>\n",
       "      <td>fwd</td>\n",
       "      <td>hatchback</td>\n",
       "      <td>blue</td>\n",
       "      <td>ca</td>\n",
       "      <td>34.070612</td>\n",
       "      <td>-117.383384</td>\n",
       "    </tr>\n",
       "    <tr>\n",
       "      <th>193827</th>\n",
       "      <td>ann arbor</td>\n",
       "      <td>8000</td>\n",
       "      <td>2004.0</td>\n",
       "      <td>toyota</td>\n",
       "      <td>4runner</td>\n",
       "      <td>excellent</td>\n",
       "      <td>6 cylinders</td>\n",
       "      <td>gas</td>\n",
       "      <td>225000.0</td>\n",
       "      <td>clean</td>\n",
       "      <td>4wd</td>\n",
       "      <td>SUV</td>\n",
       "      <td>white</td>\n",
       "      <td>mi</td>\n",
       "      <td>42.508365</td>\n",
       "      <td>-83.530545</td>\n",
       "    </tr>\n",
       "    <tr>\n",
       "      <th>129315</th>\n",
       "      <td>hawaii</td>\n",
       "      <td>23500</td>\n",
       "      <td>2011.0</td>\n",
       "      <td>toyota</td>\n",
       "      <td>sequoia sr5</td>\n",
       "      <td>excellent</td>\n",
       "      <td>8 cylinders</td>\n",
       "      <td>gas</td>\n",
       "      <td>156000.0</td>\n",
       "      <td>clean</td>\n",
       "      <td>rwd</td>\n",
       "      <td>SUV</td>\n",
       "      <td>grey</td>\n",
       "      <td>hi</td>\n",
       "      <td>21.348800</td>\n",
       "      <td>-157.875900</td>\n",
       "    </tr>\n",
       "    <tr>\n",
       "      <th>...</th>\n",
       "      <td>...</td>\n",
       "      <td>...</td>\n",
       "      <td>...</td>\n",
       "      <td>...</td>\n",
       "      <td>...</td>\n",
       "      <td>...</td>\n",
       "      <td>...</td>\n",
       "      <td>...</td>\n",
       "      <td>...</td>\n",
       "      <td>...</td>\n",
       "      <td>...</td>\n",
       "      <td>...</td>\n",
       "      <td>...</td>\n",
       "      <td>...</td>\n",
       "      <td>...</td>\n",
       "      <td>...</td>\n",
       "    </tr>\n",
       "    <tr>\n",
       "      <th>74866</th>\n",
       "      <td>colorado springs</td>\n",
       "      <td>10500</td>\n",
       "      <td>2007.0</td>\n",
       "      <td>gmc</td>\n",
       "      <td>sierra 1500</td>\n",
       "      <td>good</td>\n",
       "      <td>8 cylinders</td>\n",
       "      <td>gas</td>\n",
       "      <td>165000.0</td>\n",
       "      <td>lien</td>\n",
       "      <td>4wd</td>\n",
       "      <td>pickup</td>\n",
       "      <td>grey</td>\n",
       "      <td>co</td>\n",
       "      <td>38.885100</td>\n",
       "      <td>-104.794100</td>\n",
       "    </tr>\n",
       "    <tr>\n",
       "      <th>279769</th>\n",
       "      <td>rochester</td>\n",
       "      <td>26995</td>\n",
       "      <td>2017.0</td>\n",
       "      <td>gmc</td>\n",
       "      <td>savana cargo van</td>\n",
       "      <td>good</td>\n",
       "      <td>8 cylinders</td>\n",
       "      <td>other</td>\n",
       "      <td>42763.0</td>\n",
       "      <td>clean</td>\n",
       "      <td>rwd</td>\n",
       "      <td>van</td>\n",
       "      <td>white</td>\n",
       "      <td>ny</td>\n",
       "      <td>43.220454</td>\n",
       "      <td>-77.819038</td>\n",
       "    </tr>\n",
       "    <tr>\n",
       "      <th>191764</th>\n",
       "      <td>worcester / central MA</td>\n",
       "      <td>1450</td>\n",
       "      <td>2000.0</td>\n",
       "      <td>acura</td>\n",
       "      <td>tl</td>\n",
       "      <td>good</td>\n",
       "      <td>6 cylinders</td>\n",
       "      <td>gas</td>\n",
       "      <td>208550.0</td>\n",
       "      <td>clean</td>\n",
       "      <td>fwd</td>\n",
       "      <td>sedan</td>\n",
       "      <td>black</td>\n",
       "      <td>ma</td>\n",
       "      <td>42.242556</td>\n",
       "      <td>-71.822519</td>\n",
       "    </tr>\n",
       "    <tr>\n",
       "      <th>142287</th>\n",
       "      <td>chicago</td>\n",
       "      <td>2500</td>\n",
       "      <td>2001.0</td>\n",
       "      <td>honda</td>\n",
       "      <td>civic ex sedan</td>\n",
       "      <td>good</td>\n",
       "      <td>4 cylinders</td>\n",
       "      <td>gas</td>\n",
       "      <td>179000.0</td>\n",
       "      <td>clean</td>\n",
       "      <td>fwd</td>\n",
       "      <td>sedan</td>\n",
       "      <td>black</td>\n",
       "      <td>il</td>\n",
       "      <td>41.725700</td>\n",
       "      <td>-87.556000</td>\n",
       "    </tr>\n",
       "    <tr>\n",
       "      <th>167701</th>\n",
       "      <td>salina</td>\n",
       "      <td>39985</td>\n",
       "      <td>2019.0</td>\n",
       "      <td>cadillac</td>\n",
       "      <td>xt4</td>\n",
       "      <td>excellent</td>\n",
       "      <td>4 cylinders</td>\n",
       "      <td>gas</td>\n",
       "      <td>16772.0</td>\n",
       "      <td>clean</td>\n",
       "      <td>4wd</td>\n",
       "      <td>SUV</td>\n",
       "      <td>red</td>\n",
       "      <td>ks</td>\n",
       "      <td>38.827171</td>\n",
       "      <td>-97.598398</td>\n",
       "    </tr>\n",
       "  </tbody>\n",
       "</table>\n",
       "<p>10000 rows × 16 columns</p>\n",
       "</div>"
      ],
      "text/plain": [
       "                        region  price    year  ... state        lat        long\n",
       "419654                 madison  11900  2009.0  ...    wi  43.029559  -89.397796\n",
       "65604                 stockton  22590  2015.0  ...    ca  33.786500  -84.445400\n",
       "32609            inland empire   7975  2013.0  ...    ca  34.070612 -117.383384\n",
       "193827               ann arbor   8000  2004.0  ...    mi  42.508365  -83.530545\n",
       "129315                  hawaii  23500  2011.0  ...    hi  21.348800 -157.875900\n",
       "...                        ...    ...     ...  ...   ...        ...         ...\n",
       "74866         colorado springs  10500  2007.0  ...    co  38.885100 -104.794100\n",
       "279769               rochester  26995  2017.0  ...    ny  43.220454  -77.819038\n",
       "191764  worcester / central MA   1450  2000.0  ...    ma  42.242556  -71.822519\n",
       "142287                 chicago   2500  2001.0  ...    il  41.725700  -87.556000\n",
       "167701                  salina  39985  2019.0  ...    ks  38.827171  -97.598398\n",
       "\n",
       "[10000 rows x 16 columns]"
      ]
     },
     "execution_count": 71,
     "metadata": {
      "tags": []
     },
     "output_type": "execute_result"
    }
   ],
   "source": [
    "cars_sample"
   ]
  },
  {
   "cell_type": "markdown",
   "metadata": {
    "id": "bPM01RQSVYvi"
   },
   "source": [
    "With the aide of a seaborn scatterplot, let us view the relationship between the price of a vehicle and its mileage i.e odometer reading."
   ]
  },
  {
   "cell_type": "code",
   "execution_count": null,
   "metadata": {
    "colab": {
     "base_uri": "https://localhost:8080/",
     "height": 526
    },
    "executionInfo": {
     "elapsed": 1797,
     "status": "ok",
     "timestamp": 1625095506062,
     "user": {
      "displayName": "nasiru sule",
      "photoUrl": "https://lh3.googleusercontent.com/a-/AOh14GiVuRFYjI43LxMj_Q8ZlQSSi4rs-Su2HdfNPNxp7A=s64",
      "userId": "16455627822583485460"
     },
     "user_tz": -60
    },
    "id": "iuz_5VpKSuV5",
    "outputId": "c340713b-0dc8-4a99-a0d2-fd5ad97b5679"
   },
   "outputs": [
    {
     "data": {
      "image/png": "[encoded data removed]",
      "text/plain": [
       "<Figure size 720x576 with 1 Axes>"
      ]
     },
     "metadata": {
      "needs_background": "light",
      "tags": []
     },
     "output_type": "display_data"
    }
   ],
   "source": [
    "plt.figure(figsize=(10,8))\n",
    "plt.title(\"Relationship Between Price And Odometer Of Cars\", fontsize= 30)\n",
    "sns.scatterplot(x = cars_sample.odometer, \n",
    "                y= cars_sample.price, \n",
    "                hue = cars_sample.title_status,\n",
    "                s = 100);"
   ]
  },
  {
   "cell_type": "markdown",
   "metadata": {
    "id": "_kp1Y48aW0HI"
   },
   "source": [
    "From the scatterplot above, observing the two extreme points on both axis, we can see that a lower odometer value attracts good price and vice versa."
   ]
  },
  {
   "cell_type": "code",
   "execution_count": null,
   "metadata": {
    "colab": {
     "base_uri": "https://localhost:8080/",
     "height": 120
    },
    "executionInfo": {
     "elapsed": 37512,
     "status": "ok",
     "timestamp": 1625095566312,
     "user": {
      "displayName": "nasiru sule",
      "photoUrl": "https://lh3.googleusercontent.com/a-/AOh14GiVuRFYjI43LxMj_Q8ZlQSSi4rs-Su2HdfNPNxp7A=s64",
      "userId": "16455627822583485460"
     },
     "user_tz": -60
    },
    "id": "7MmvcgHdULLg",
    "outputId": "9415ec22-64dc-4725-b8bb-f146c78c5f5a"
   },
   "outputs": [
    {
     "name": "stdout",
     "output_type": "stream",
     "text": [
      "[jovian] Detected Colab notebook...\u001b[0m\n",
      "[jovian] Please enter your API key ( from https://jovian.ai/ ):\u001b[0m\n",
      "API KEY: ··········\n",
      "[jovian] Uploading colab notebook to Jovian...\u001b[0m\n",
      "Committed successfully! https://jovian.ai/sulenas/eda-project\n"
     ]
    },
    {
     "data": {
      "application/vnd.google.colaboratory.intrinsic+json": {
       "type": "string"
      },
      "text/plain": [
       "'https://jovian.ai/sulenas/eda-project'"
      ]
     },
     "execution_count": 73,
     "metadata": {
      "tags": []
     },
     "output_type": "execute_result"
    }
   ],
   "source": [
    "jovian.commit()"
   ]
  },
  {
   "cell_type": "markdown",
   "metadata": {
    "id": "9bury7TOp33W"
   },
   "source": [
    "Next, we will answer some simple questions about the dataframe."
   ]
  },
  {
   "cell_type": "markdown",
   "metadata": {
    "id": "yYQG5Lt7QAjr"
   },
   "source": [
    "### Asking And Answering Simple Questions"
   ]
  },
  {
   "cell_type": "markdown",
   "metadata": {
    "id": "bg0exPmCZM2G"
   },
   "source": [
    "##### Q1: WHICH STATE HAS THE MOST VEHICLES?"
   ]
  },
  {
   "cell_type": "code",
   "execution_count": null,
   "metadata": {
    "colab": {
     "base_uri": "https://localhost:8080/",
     "height": 640
    },
    "executionInfo": {
     "elapsed": 593,
     "status": "ok",
     "timestamp": 1625095743185,
     "user": {
      "displayName": "nasiru sule",
      "photoUrl": "https://lh3.googleusercontent.com/a-/AOh14GiVuRFYjI43LxMj_Q8ZlQSSi4rs-Su2HdfNPNxp7A=s64",
      "userId": "16455627822583485460"
     },
     "user_tz": -60
    },
    "id": "PvYHuTbYZvig",
    "outputId": "1afe4117-3b77-44b0-84d0-bb50e26d28bf"
   },
   "outputs": [
    {
     "data": {
      "text/html": [
       "<div>\n",
       "<style scoped>\n",
       "    .dataframe tbody tr th:only-of-type {\n",
       "        vertical-align: middle;\n",
       "    }\n",
       "\n",
       "    .dataframe tbody tr th {\n",
       "        vertical-align: top;\n",
       "    }\n",
       "\n",
       "    .dataframe thead th {\n",
       "        text-align: right;\n",
       "    }\n",
       "</style>\n",
       "<table border=\"1\" class=\"dataframe\">\n",
       "  <thead>\n",
       "    <tr style=\"text-align: right;\">\n",
       "      <th></th>\n",
       "      <th>region</th>\n",
       "      <th>price</th>\n",
       "      <th>year</th>\n",
       "      <th>manufacturer</th>\n",
       "      <th>model</th>\n",
       "      <th>condition</th>\n",
       "      <th>cylinders</th>\n",
       "      <th>fuel</th>\n",
       "      <th>odometer</th>\n",
       "      <th>title_status</th>\n",
       "      <th>drive</th>\n",
       "      <th>type</th>\n",
       "      <th>paint_color</th>\n",
       "      <th>state</th>\n",
       "      <th>lat</th>\n",
       "      <th>long</th>\n",
       "    </tr>\n",
       "  </thead>\n",
       "  <tbody>\n",
       "    <tr>\n",
       "      <th>31</th>\n",
       "      <td>auburn</td>\n",
       "      <td>15000</td>\n",
       "      <td>2013.0</td>\n",
       "      <td>ford</td>\n",
       "      <td>f-150 xlt</td>\n",
       "      <td>excellent</td>\n",
       "      <td>6 cylinders</td>\n",
       "      <td>gas</td>\n",
       "      <td>128000.0</td>\n",
       "      <td>clean</td>\n",
       "      <td>rwd</td>\n",
       "      <td>truck</td>\n",
       "      <td>black</td>\n",
       "      <td>al</td>\n",
       "      <td>32.592000</td>\n",
       "      <td>-85.518900</td>\n",
       "    </tr>\n",
       "    <tr>\n",
       "      <th>32</th>\n",
       "      <td>auburn</td>\n",
       "      <td>27990</td>\n",
       "      <td>2012.0</td>\n",
       "      <td>gmc</td>\n",
       "      <td>sierra 2500 hd extended cab</td>\n",
       "      <td>good</td>\n",
       "      <td>8 cylinders</td>\n",
       "      <td>gas</td>\n",
       "      <td>68696.0</td>\n",
       "      <td>clean</td>\n",
       "      <td>4wd</td>\n",
       "      <td>pickup</td>\n",
       "      <td>black</td>\n",
       "      <td>al</td>\n",
       "      <td>32.590000</td>\n",
       "      <td>-85.480000</td>\n",
       "    </tr>\n",
       "    <tr>\n",
       "      <th>33</th>\n",
       "      <td>auburn</td>\n",
       "      <td>34590</td>\n",
       "      <td>2016.0</td>\n",
       "      <td>chevrolet</td>\n",
       "      <td>silverado 1500 double</td>\n",
       "      <td>good</td>\n",
       "      <td>6 cylinders</td>\n",
       "      <td>gas</td>\n",
       "      <td>29499.0</td>\n",
       "      <td>clean</td>\n",
       "      <td>4wd</td>\n",
       "      <td>pickup</td>\n",
       "      <td>silver</td>\n",
       "      <td>al</td>\n",
       "      <td>32.590000</td>\n",
       "      <td>-85.480000</td>\n",
       "    </tr>\n",
       "    <tr>\n",
       "      <th>34</th>\n",
       "      <td>auburn</td>\n",
       "      <td>35000</td>\n",
       "      <td>2019.0</td>\n",
       "      <td>toyota</td>\n",
       "      <td>tacoma</td>\n",
       "      <td>excellent</td>\n",
       "      <td>6 cylinders</td>\n",
       "      <td>gas</td>\n",
       "      <td>43000.0</td>\n",
       "      <td>clean</td>\n",
       "      <td>4wd</td>\n",
       "      <td>truck</td>\n",
       "      <td>grey</td>\n",
       "      <td>al</td>\n",
       "      <td>32.601300</td>\n",
       "      <td>-85.443974</td>\n",
       "    </tr>\n",
       "    <tr>\n",
       "      <th>35</th>\n",
       "      <td>auburn</td>\n",
       "      <td>29990</td>\n",
       "      <td>2016.0</td>\n",
       "      <td>chevrolet</td>\n",
       "      <td>colorado extended cab</td>\n",
       "      <td>good</td>\n",
       "      <td>6 cylinders</td>\n",
       "      <td>gas</td>\n",
       "      <td>17302.0</td>\n",
       "      <td>clean</td>\n",
       "      <td>4wd</td>\n",
       "      <td>pickup</td>\n",
       "      <td>red</td>\n",
       "      <td>al</td>\n",
       "      <td>32.590000</td>\n",
       "      <td>-85.480000</td>\n",
       "    </tr>\n",
       "    <tr>\n",
       "      <th>...</th>\n",
       "      <td>...</td>\n",
       "      <td>...</td>\n",
       "      <td>...</td>\n",
       "      <td>...</td>\n",
       "      <td>...</td>\n",
       "      <td>...</td>\n",
       "      <td>...</td>\n",
       "      <td>...</td>\n",
       "      <td>...</td>\n",
       "      <td>...</td>\n",
       "      <td>...</td>\n",
       "      <td>...</td>\n",
       "      <td>...</td>\n",
       "      <td>...</td>\n",
       "      <td>...</td>\n",
       "      <td>...</td>\n",
       "    </tr>\n",
       "    <tr>\n",
       "      <th>426859</th>\n",
       "      <td>wyoming</td>\n",
       "      <td>48590</td>\n",
       "      <td>2020.0</td>\n",
       "      <td>cadillac</td>\n",
       "      <td>xt6 premium luxury</td>\n",
       "      <td>good</td>\n",
       "      <td>6 cylinders</td>\n",
       "      <td>gas</td>\n",
       "      <td>7701.0</td>\n",
       "      <td>clean</td>\n",
       "      <td>fwd</td>\n",
       "      <td>other</td>\n",
       "      <td>black</td>\n",
       "      <td>wy</td>\n",
       "      <td>33.779214</td>\n",
       "      <td>-84.411811</td>\n",
       "    </tr>\n",
       "    <tr>\n",
       "      <th>426860</th>\n",
       "      <td>wyoming</td>\n",
       "      <td>39990</td>\n",
       "      <td>2017.0</td>\n",
       "      <td>infiniti</td>\n",
       "      <td>qx80 sport utility 4d</td>\n",
       "      <td>good</td>\n",
       "      <td>8 cylinders</td>\n",
       "      <td>gas</td>\n",
       "      <td>41664.0</td>\n",
       "      <td>clean</td>\n",
       "      <td>4wd</td>\n",
       "      <td>other</td>\n",
       "      <td>black</td>\n",
       "      <td>wy</td>\n",
       "      <td>33.779214</td>\n",
       "      <td>-84.411811</td>\n",
       "    </tr>\n",
       "    <tr>\n",
       "      <th>426866</th>\n",
       "      <td>wyoming</td>\n",
       "      <td>32990</td>\n",
       "      <td>2016.0</td>\n",
       "      <td>infiniti</td>\n",
       "      <td>qx80 sport utility 4d</td>\n",
       "      <td>good</td>\n",
       "      <td>8 cylinders</td>\n",
       "      <td>gas</td>\n",
       "      <td>55612.0</td>\n",
       "      <td>clean</td>\n",
       "      <td>rwd</td>\n",
       "      <td>other</td>\n",
       "      <td>black</td>\n",
       "      <td>wy</td>\n",
       "      <td>33.779214</td>\n",
       "      <td>-84.411811</td>\n",
       "    </tr>\n",
       "    <tr>\n",
       "      <th>426874</th>\n",
       "      <td>wyoming</td>\n",
       "      <td>33590</td>\n",
       "      <td>2018.0</td>\n",
       "      <td>lexus</td>\n",
       "      <td>gs 350 sedan 4d</td>\n",
       "      <td>good</td>\n",
       "      <td>6 cylinders</td>\n",
       "      <td>gas</td>\n",
       "      <td>30814.0</td>\n",
       "      <td>clean</td>\n",
       "      <td>rwd</td>\n",
       "      <td>sedan</td>\n",
       "      <td>white</td>\n",
       "      <td>wy</td>\n",
       "      <td>33.779214</td>\n",
       "      <td>-84.411811</td>\n",
       "    </tr>\n",
       "    <tr>\n",
       "      <th>426878</th>\n",
       "      <td>wyoming</td>\n",
       "      <td>28990</td>\n",
       "      <td>2018.0</td>\n",
       "      <td>lexus</td>\n",
       "      <td>es 350 sedan 4d</td>\n",
       "      <td>good</td>\n",
       "      <td>6 cylinders</td>\n",
       "      <td>gas</td>\n",
       "      <td>30112.0</td>\n",
       "      <td>clean</td>\n",
       "      <td>fwd</td>\n",
       "      <td>sedan</td>\n",
       "      <td>silver</td>\n",
       "      <td>wy</td>\n",
       "      <td>33.786500</td>\n",
       "      <td>-84.445400</td>\n",
       "    </tr>\n",
       "  </tbody>\n",
       "</table>\n",
       "<p>110811 rows × 16 columns</p>\n",
       "</div>"
      ],
      "text/plain": [
       "         region  price    year  ... state        lat       long\n",
       "31       auburn  15000  2013.0  ...    al  32.592000 -85.518900\n",
       "32       auburn  27990  2012.0  ...    al  32.590000 -85.480000\n",
       "33       auburn  34590  2016.0  ...    al  32.590000 -85.480000\n",
       "34       auburn  35000  2019.0  ...    al  32.601300 -85.443974\n",
       "35       auburn  29990  2016.0  ...    al  32.590000 -85.480000\n",
       "...         ...    ...     ...  ...   ...        ...        ...\n",
       "426859  wyoming  48590  2020.0  ...    wy  33.779214 -84.411811\n",
       "426860  wyoming  39990  2017.0  ...    wy  33.779214 -84.411811\n",
       "426866  wyoming  32990  2016.0  ...    wy  33.779214 -84.411811\n",
       "426874  wyoming  33590  2018.0  ...    wy  33.779214 -84.411811\n",
       "426878  wyoming  28990  2018.0  ...    wy  33.786500 -84.445400\n",
       "\n",
       "[110811 rows x 16 columns]"
      ]
     },
     "execution_count": 74,
     "metadata": {
      "tags": []
     },
     "output_type": "execute_result"
    }
   ],
   "source": [
    "cars3_df"
   ]
  },
  {
   "cell_type": "markdown",
   "metadata": {
    "id": "SvP7McYlub1L"
   },
   "source": [
    "We will represent this in a dataframe using pd.DataFrame. Using the .value_counts() property on the \"states\" column, we can solve this question."
   ]
  },
  {
   "cell_type": "code",
   "execution_count": null,
   "metadata": {
    "id": "j1KjGeH1aMY-"
   },
   "outputs": [],
   "source": [
    "state_counts = pd.DataFrame(cars3_df.state.value_counts().reset_index())"
   ]
  },
  {
   "cell_type": "markdown",
   "metadata": {
    "id": "XhZmzl5bQYJp"
   },
   "source": [
    "Lets rename the columns"
   ]
  },
  {
   "cell_type": "code",
   "execution_count": null,
   "metadata": {
    "id": "QhXXbRwUcfKr"
   },
   "outputs": [],
   "source": [
    "state_counts.columns = [\"state\",\"counts\"]"
   ]
  },
  {
   "cell_type": "code",
   "execution_count": null,
   "metadata": {
    "colab": {
     "base_uri": "https://localhost:8080/",
     "height": 1000
    },
    "executionInfo": {
     "elapsed": 57,
     "status": "ok",
     "timestamp": 1625095852240,
     "user": {
      "displayName": "nasiru sule",
      "photoUrl": "https://lh3.googleusercontent.com/a-/AOh14GiVuRFYjI43LxMj_Q8ZlQSSi4rs-Su2HdfNPNxp7A=s64",
      "userId": "16455627822583485460"
     },
     "user_tz": -60
    },
    "id": "QUE6Egexct8U",
    "outputId": "9242624f-07da-42c2-d605-7be6e40df7c1"
   },
   "outputs": [
    {
     "data": {
      "text/html": [
       "<div>\n",
       "<style scoped>\n",
       "    .dataframe tbody tr th:only-of-type {\n",
       "        vertical-align: middle;\n",
       "    }\n",
       "\n",
       "    .dataframe tbody tr th {\n",
       "        vertical-align: top;\n",
       "    }\n",
       "\n",
       "    .dataframe thead th {\n",
       "        text-align: right;\n",
       "    }\n",
       "</style>\n",
       "<table border=\"1\" class=\"dataframe\">\n",
       "  <thead>\n",
       "    <tr style=\"text-align: right;\">\n",
       "      <th></th>\n",
       "      <th>state</th>\n",
       "      <th>counts</th>\n",
       "    </tr>\n",
       "  </thead>\n",
       "  <tbody>\n",
       "    <tr>\n",
       "      <th>0</th>\n",
       "      <td>ca</td>\n",
       "      <td>12119</td>\n",
       "    </tr>\n",
       "    <tr>\n",
       "      <th>1</th>\n",
       "      <td>fl</td>\n",
       "      <td>7877</td>\n",
       "    </tr>\n",
       "    <tr>\n",
       "      <th>2</th>\n",
       "      <td>ny</td>\n",
       "      <td>6352</td>\n",
       "    </tr>\n",
       "    <tr>\n",
       "      <th>3</th>\n",
       "      <td>tx</td>\n",
       "      <td>5430</td>\n",
       "    </tr>\n",
       "    <tr>\n",
       "      <th>4</th>\n",
       "      <td>oh</td>\n",
       "      <td>5096</td>\n",
       "    </tr>\n",
       "    <tr>\n",
       "      <th>5</th>\n",
       "      <td>mi</td>\n",
       "      <td>4303</td>\n",
       "    </tr>\n",
       "    <tr>\n",
       "      <th>6</th>\n",
       "      <td>pa</td>\n",
       "      <td>4189</td>\n",
       "    </tr>\n",
       "    <tr>\n",
       "      <th>7</th>\n",
       "      <td>nc</td>\n",
       "      <td>4170</td>\n",
       "    </tr>\n",
       "    <tr>\n",
       "      <th>8</th>\n",
       "      <td>wi</td>\n",
       "      <td>3726</td>\n",
       "    </tr>\n",
       "    <tr>\n",
       "      <th>9</th>\n",
       "      <td>va</td>\n",
       "      <td>2949</td>\n",
       "    </tr>\n",
       "    <tr>\n",
       "      <th>10</th>\n",
       "      <td>or</td>\n",
       "      <td>2874</td>\n",
       "    </tr>\n",
       "    <tr>\n",
       "      <th>11</th>\n",
       "      <td>nj</td>\n",
       "      <td>2816</td>\n",
       "    </tr>\n",
       "    <tr>\n",
       "      <th>12</th>\n",
       "      <td>ia</td>\n",
       "      <td>2808</td>\n",
       "    </tr>\n",
       "    <tr>\n",
       "      <th>13</th>\n",
       "      <td>ma</td>\n",
       "      <td>2688</td>\n",
       "    </tr>\n",
       "    <tr>\n",
       "      <th>14</th>\n",
       "      <td>tn</td>\n",
       "      <td>2680</td>\n",
       "    </tr>\n",
       "    <tr>\n",
       "      <th>15</th>\n",
       "      <td>mn</td>\n",
       "      <td>2631</td>\n",
       "    </tr>\n",
       "    <tr>\n",
       "      <th>16</th>\n",
       "      <td>il</td>\n",
       "      <td>2494</td>\n",
       "    </tr>\n",
       "    <tr>\n",
       "      <th>17</th>\n",
       "      <td>co</td>\n",
       "      <td>2422</td>\n",
       "    </tr>\n",
       "    <tr>\n",
       "      <th>18</th>\n",
       "      <td>az</td>\n",
       "      <td>2259</td>\n",
       "    </tr>\n",
       "    <tr>\n",
       "      <th>19</th>\n",
       "      <td>in</td>\n",
       "      <td>2062</td>\n",
       "    </tr>\n",
       "    <tr>\n",
       "      <th>20</th>\n",
       "      <td>ks</td>\n",
       "      <td>1826</td>\n",
       "    </tr>\n",
       "    <tr>\n",
       "      <th>21</th>\n",
       "      <td>id</td>\n",
       "      <td>1705</td>\n",
       "    </tr>\n",
       "    <tr>\n",
       "      <th>22</th>\n",
       "      <td>ok</td>\n",
       "      <td>1700</td>\n",
       "    </tr>\n",
       "    <tr>\n",
       "      <th>23</th>\n",
       "      <td>sc</td>\n",
       "      <td>1644</td>\n",
       "    </tr>\n",
       "    <tr>\n",
       "      <th>24</th>\n",
       "      <td>wa</td>\n",
       "      <td>1518</td>\n",
       "    </tr>\n",
       "    <tr>\n",
       "      <th>25</th>\n",
       "      <td>ga</td>\n",
       "      <td>1514</td>\n",
       "    </tr>\n",
       "    <tr>\n",
       "      <th>26</th>\n",
       "      <td>ky</td>\n",
       "      <td>1492</td>\n",
       "    </tr>\n",
       "    <tr>\n",
       "      <th>27</th>\n",
       "      <td>ct</td>\n",
       "      <td>1405</td>\n",
       "    </tr>\n",
       "    <tr>\n",
       "      <th>28</th>\n",
       "      <td>vt</td>\n",
       "      <td>1360</td>\n",
       "    </tr>\n",
       "    <tr>\n",
       "      <th>29</th>\n",
       "      <td>al</td>\n",
       "      <td>1235</td>\n",
       "    </tr>\n",
       "    <tr>\n",
       "      <th>30</th>\n",
       "      <td>mt</td>\n",
       "      <td>1149</td>\n",
       "    </tr>\n",
       "    <tr>\n",
       "      <th>31</th>\n",
       "      <td>nm</td>\n",
       "      <td>1140</td>\n",
       "    </tr>\n",
       "    <tr>\n",
       "      <th>32</th>\n",
       "      <td>mo</td>\n",
       "      <td>1119</td>\n",
       "    </tr>\n",
       "    <tr>\n",
       "      <th>33</th>\n",
       "      <td>md</td>\n",
       "      <td>1029</td>\n",
       "    </tr>\n",
       "    <tr>\n",
       "      <th>34</th>\n",
       "      <td>ak</td>\n",
       "      <td>907</td>\n",
       "    </tr>\n",
       "    <tr>\n",
       "      <th>35</th>\n",
       "      <td>nh</td>\n",
       "      <td>808</td>\n",
       "    </tr>\n",
       "    <tr>\n",
       "      <th>36</th>\n",
       "      <td>ri</td>\n",
       "      <td>780</td>\n",
       "    </tr>\n",
       "    <tr>\n",
       "      <th>37</th>\n",
       "      <td>ar</td>\n",
       "      <td>778</td>\n",
       "    </tr>\n",
       "    <tr>\n",
       "      <th>38</th>\n",
       "      <td>me</td>\n",
       "      <td>771</td>\n",
       "    </tr>\n",
       "    <tr>\n",
       "      <th>39</th>\n",
       "      <td>dc</td>\n",
       "      <td>754</td>\n",
       "    </tr>\n",
       "    <tr>\n",
       "      <th>40</th>\n",
       "      <td>nv</td>\n",
       "      <td>726</td>\n",
       "    </tr>\n",
       "    <tr>\n",
       "      <th>41</th>\n",
       "      <td>la</td>\n",
       "      <td>576</td>\n",
       "    </tr>\n",
       "    <tr>\n",
       "      <th>42</th>\n",
       "      <td>hi</td>\n",
       "      <td>559</td>\n",
       "    </tr>\n",
       "    <tr>\n",
       "      <th>43</th>\n",
       "      <td>sd</td>\n",
       "      <td>390</td>\n",
       "    </tr>\n",
       "    <tr>\n",
       "      <th>44</th>\n",
       "      <td>de</td>\n",
       "      <td>350</td>\n",
       "    </tr>\n",
       "    <tr>\n",
       "      <th>45</th>\n",
       "      <td>ne</td>\n",
       "      <td>336</td>\n",
       "    </tr>\n",
       "    <tr>\n",
       "      <th>46</th>\n",
       "      <td>ms</td>\n",
       "      <td>335</td>\n",
       "    </tr>\n",
       "    <tr>\n",
       "      <th>47</th>\n",
       "      <td>ut</td>\n",
       "      <td>294</td>\n",
       "    </tr>\n",
       "    <tr>\n",
       "      <th>48</th>\n",
       "      <td>wv</td>\n",
       "      <td>260</td>\n",
       "    </tr>\n",
       "    <tr>\n",
       "      <th>49</th>\n",
       "      <td>nd</td>\n",
       "      <td>221</td>\n",
       "    </tr>\n",
       "    <tr>\n",
       "      <th>50</th>\n",
       "      <td>wy</td>\n",
       "      <td>185</td>\n",
       "    </tr>\n",
       "  </tbody>\n",
       "</table>\n",
       "</div>"
      ],
      "text/plain": [
       "   state  counts\n",
       "0     ca   12119\n",
       "1     fl    7877\n",
       "2     ny    6352\n",
       "3     tx    5430\n",
       "4     oh    5096\n",
       "5     mi    4303\n",
       "6     pa    4189\n",
       "7     nc    4170\n",
       "8     wi    3726\n",
       "9     va    2949\n",
       "10    or    2874\n",
       "11    nj    2816\n",
       "12    ia    2808\n",
       "13    ma    2688\n",
       "14    tn    2680\n",
       "15    mn    2631\n",
       "16    il    2494\n",
       "17    co    2422\n",
       "18    az    2259\n",
       "19    in    2062\n",
       "20    ks    1826\n",
       "21    id    1705\n",
       "22    ok    1700\n",
       "23    sc    1644\n",
       "24    wa    1518\n",
       "25    ga    1514\n",
       "26    ky    1492\n",
       "27    ct    1405\n",
       "28    vt    1360\n",
       "29    al    1235\n",
       "30    mt    1149\n",
       "31    nm    1140\n",
       "32    mo    1119\n",
       "33    md    1029\n",
       "34    ak     907\n",
       "35    nh     808\n",
       "36    ri     780\n",
       "37    ar     778\n",
       "38    me     771\n",
       "39    dc     754\n",
       "40    nv     726\n",
       "41    la     576\n",
       "42    hi     559\n",
       "43    sd     390\n",
       "44    de     350\n",
       "45    ne     336\n",
       "46    ms     335\n",
       "47    ut     294\n",
       "48    wv     260\n",
       "49    nd     221\n",
       "50    wy     185"
      ]
     },
     "execution_count": 79,
     "metadata": {
      "tags": []
     },
     "output_type": "execute_result"
    }
   ],
   "source": [
    "state_counts"
   ]
  },
  {
   "cell_type": "markdown",
   "metadata": {
    "id": "1v3wooPaQv38"
   },
   "source": [
    "Lets represent this in a matplotlib bar graph."
   ]
  },
  {
   "cell_type": "code",
   "execution_count": null,
   "metadata": {
    "colab": {
     "base_uri": "https://localhost:8080/",
     "height": 522
    },
    "executionInfo": {
     "elapsed": 1162,
     "status": "ok",
     "timestamp": 1625095889134,
     "user": {
      "displayName": "nasiru sule",
      "photoUrl": "https://lh3.googleusercontent.com/a-/AOh14GiVuRFYjI43LxMj_Q8ZlQSSi4rs-Su2HdfNPNxp7A=s64",
      "userId": "16455627822583485460"
     },
     "user_tz": -60
    },
    "id": "95U1Kfv5aicS",
    "outputId": "2b9ec992-a7c6-40c7-c57a-9bd39affa6d7"
   },
   "outputs": [
    {
     "data": {
      "image/png": "[encoded data removed]",
      "text/plain": [
       "<Figure size 1152x576 with 1 Axes>"
      ]
     },
     "metadata": {
      "needs_background": "light",
      "tags": []
     },
     "output_type": "display_data"
    }
   ],
   "source": [
    "plt.figure(figsize=(16,8))\n",
    "plt.title(\"NUMBER OF CARS PER STATE\", fontsize= 25)\n",
    "sns.barplot(x = state_counts.state, y = state_counts.counts, data = state_counts);"
   ]
  },
  {
   "cell_type": "markdown",
   "metadata": {
    "id": "umFceAibe03L"
   },
   "source": [
    "From the barplot above, we can see that California has the highest number of listed cars."
   ]
  },
  {
   "cell_type": "markdown",
   "metadata": {
    "id": "XYslojWMeJLk"
   },
   "source": [
    "This confirms our earlier assumption from the treemap that there is higher cummulative price of vehicles in the state of California because there are more cars there, mainly due to the population."
   ]
  },
  {
   "cell_type": "markdown",
   "metadata": {
    "id": "J1touKg4qp2N"
   },
   "source": [
    "##### Q2: WHICH HAS BEEN THE MOST EXPENSIVE CAR SINCE 2010?"
   ]
  },
  {
   "cell_type": "markdown",
   "metadata": {
    "id": "4-CnnZDWq_8z"
   },
   "source": [
    "To answer this, lets have a look at the number of car model years we are dealing with here."
   ]
  },
  {
   "cell_type": "code",
   "execution_count": null,
   "metadata": {
    "colab": {
     "base_uri": "https://localhost:8080/"
    },
    "executionInfo": {
     "elapsed": 564,
     "status": "ok",
     "timestamp": 1625095916702,
     "user": {
      "displayName": "nasiru sule",
      "photoUrl": "https://lh3.googleusercontent.com/a-/AOh14GiVuRFYjI43LxMj_Q8ZlQSSi4rs-Su2HdfNPNxp7A=s64",
      "userId": "16455627822583485460"
     },
     "user_tz": -60
    },
    "id": "n7slUZWsZItd",
    "outputId": "ce793726-0f42-4311-91e4-8df92cfc89cf"
   },
   "outputs": [
    {
     "data": {
      "text/plain": [
       "72"
      ]
     },
     "execution_count": 81,
     "metadata": {
      "tags": []
     },
     "output_type": "execute_result"
    }
   ],
   "source": [
    "cars3_df.year.nunique()"
   ]
  },
  {
   "cell_type": "markdown",
   "metadata": {
    "id": "gKQBJkCkrMiO"
   },
   "source": [
    "Now lets consider car model years from 2010"
   ]
  },
  {
   "cell_type": "code",
   "execution_count": null,
   "metadata": {
    "id": "nAshlSXWq3Kc"
   },
   "outputs": [],
   "source": [
    "cars_recent = cars3_df.loc[cars3_df['year'] > 2009]"
   ]
  },
  {
   "cell_type": "code",
   "execution_count": null,
   "metadata": {
    "colab": {
     "base_uri": "https://localhost:8080/",
     "height": 640
    },
    "executionInfo": {
     "elapsed": 470,
     "status": "ok",
     "timestamp": 1625095924297,
     "user": {
      "displayName": "nasiru sule",
      "photoUrl": "https://lh3.googleusercontent.com/a-/AOh14GiVuRFYjI43LxMj_Q8ZlQSSi4rs-Su2HdfNPNxp7A=s64",
      "userId": "16455627822583485460"
     },
     "user_tz": -60
    },
    "id": "A6-R06F2rW2Y",
    "outputId": "dacbaeac-32e5-4938-a82a-f69b03216b72"
   },
   "outputs": [
    {
     "data": {
      "text/html": [
       "<div>\n",
       "<style scoped>\n",
       "    .dataframe tbody tr th:only-of-type {\n",
       "        vertical-align: middle;\n",
       "    }\n",
       "\n",
       "    .dataframe tbody tr th {\n",
       "        vertical-align: top;\n",
       "    }\n",
       "\n",
       "    .dataframe thead th {\n",
       "        text-align: right;\n",
       "    }\n",
       "</style>\n",
       "<table border=\"1\" class=\"dataframe\">\n",
       "  <thead>\n",
       "    <tr style=\"text-align: right;\">\n",
       "      <th></th>\n",
       "      <th>region</th>\n",
       "      <th>price</th>\n",
       "      <th>year</th>\n",
       "      <th>manufacturer</th>\n",
       "      <th>model</th>\n",
       "      <th>condition</th>\n",
       "      <th>cylinders</th>\n",
       "      <th>fuel</th>\n",
       "      <th>odometer</th>\n",
       "      <th>title_status</th>\n",
       "      <th>drive</th>\n",
       "      <th>type</th>\n",
       "      <th>paint_color</th>\n",
       "      <th>state</th>\n",
       "      <th>lat</th>\n",
       "      <th>long</th>\n",
       "    </tr>\n",
       "  </thead>\n",
       "  <tbody>\n",
       "    <tr>\n",
       "      <th>31</th>\n",
       "      <td>auburn</td>\n",
       "      <td>15000</td>\n",
       "      <td>2013.0</td>\n",
       "      <td>ford</td>\n",
       "      <td>f-150 xlt</td>\n",
       "      <td>excellent</td>\n",
       "      <td>6 cylinders</td>\n",
       "      <td>gas</td>\n",
       "      <td>128000.0</td>\n",
       "      <td>clean</td>\n",
       "      <td>rwd</td>\n",
       "      <td>truck</td>\n",
       "      <td>black</td>\n",
       "      <td>al</td>\n",
       "      <td>32.592000</td>\n",
       "      <td>-85.518900</td>\n",
       "    </tr>\n",
       "    <tr>\n",
       "      <th>32</th>\n",
       "      <td>auburn</td>\n",
       "      <td>27990</td>\n",
       "      <td>2012.0</td>\n",
       "      <td>gmc</td>\n",
       "      <td>sierra 2500 hd extended cab</td>\n",
       "      <td>good</td>\n",
       "      <td>8 cylinders</td>\n",
       "      <td>gas</td>\n",
       "      <td>68696.0</td>\n",
       "      <td>clean</td>\n",
       "      <td>4wd</td>\n",
       "      <td>pickup</td>\n",
       "      <td>black</td>\n",
       "      <td>al</td>\n",
       "      <td>32.590000</td>\n",
       "      <td>-85.480000</td>\n",
       "    </tr>\n",
       "    <tr>\n",
       "      <th>33</th>\n",
       "      <td>auburn</td>\n",
       "      <td>34590</td>\n",
       "      <td>2016.0</td>\n",
       "      <td>chevrolet</td>\n",
       "      <td>silverado 1500 double</td>\n",
       "      <td>good</td>\n",
       "      <td>6 cylinders</td>\n",
       "      <td>gas</td>\n",
       "      <td>29499.0</td>\n",
       "      <td>clean</td>\n",
       "      <td>4wd</td>\n",
       "      <td>pickup</td>\n",
       "      <td>silver</td>\n",
       "      <td>al</td>\n",
       "      <td>32.590000</td>\n",
       "      <td>-85.480000</td>\n",
       "    </tr>\n",
       "    <tr>\n",
       "      <th>34</th>\n",
       "      <td>auburn</td>\n",
       "      <td>35000</td>\n",
       "      <td>2019.0</td>\n",
       "      <td>toyota</td>\n",
       "      <td>tacoma</td>\n",
       "      <td>excellent</td>\n",
       "      <td>6 cylinders</td>\n",
       "      <td>gas</td>\n",
       "      <td>43000.0</td>\n",
       "      <td>clean</td>\n",
       "      <td>4wd</td>\n",
       "      <td>truck</td>\n",
       "      <td>grey</td>\n",
       "      <td>al</td>\n",
       "      <td>32.601300</td>\n",
       "      <td>-85.443974</td>\n",
       "    </tr>\n",
       "    <tr>\n",
       "      <th>35</th>\n",
       "      <td>auburn</td>\n",
       "      <td>29990</td>\n",
       "      <td>2016.0</td>\n",
       "      <td>chevrolet</td>\n",
       "      <td>colorado extended cab</td>\n",
       "      <td>good</td>\n",
       "      <td>6 cylinders</td>\n",
       "      <td>gas</td>\n",
       "      <td>17302.0</td>\n",
       "      <td>clean</td>\n",
       "      <td>4wd</td>\n",
       "      <td>pickup</td>\n",
       "      <td>red</td>\n",
       "      <td>al</td>\n",
       "      <td>32.590000</td>\n",
       "      <td>-85.480000</td>\n",
       "    </tr>\n",
       "    <tr>\n",
       "      <th>...</th>\n",
       "      <td>...</td>\n",
       "      <td>...</td>\n",
       "      <td>...</td>\n",
       "      <td>...</td>\n",
       "      <td>...</td>\n",
       "      <td>...</td>\n",
       "      <td>...</td>\n",
       "      <td>...</td>\n",
       "      <td>...</td>\n",
       "      <td>...</td>\n",
       "      <td>...</td>\n",
       "      <td>...</td>\n",
       "      <td>...</td>\n",
       "      <td>...</td>\n",
       "      <td>...</td>\n",
       "      <td>...</td>\n",
       "    </tr>\n",
       "    <tr>\n",
       "      <th>426859</th>\n",
       "      <td>wyoming</td>\n",
       "      <td>48590</td>\n",
       "      <td>2020.0</td>\n",
       "      <td>cadillac</td>\n",
       "      <td>xt6 premium luxury</td>\n",
       "      <td>good</td>\n",
       "      <td>6 cylinders</td>\n",
       "      <td>gas</td>\n",
       "      <td>7701.0</td>\n",
       "      <td>clean</td>\n",
       "      <td>fwd</td>\n",
       "      <td>other</td>\n",
       "      <td>black</td>\n",
       "      <td>wy</td>\n",
       "      <td>33.779214</td>\n",
       "      <td>-84.411811</td>\n",
       "    </tr>\n",
       "    <tr>\n",
       "      <th>426860</th>\n",
       "      <td>wyoming</td>\n",
       "      <td>39990</td>\n",
       "      <td>2017.0</td>\n",
       "      <td>infiniti</td>\n",
       "      <td>qx80 sport utility 4d</td>\n",
       "      <td>good</td>\n",
       "      <td>8 cylinders</td>\n",
       "      <td>gas</td>\n",
       "      <td>41664.0</td>\n",
       "      <td>clean</td>\n",
       "      <td>4wd</td>\n",
       "      <td>other</td>\n",
       "      <td>black</td>\n",
       "      <td>wy</td>\n",
       "      <td>33.779214</td>\n",
       "      <td>-84.411811</td>\n",
       "    </tr>\n",
       "    <tr>\n",
       "      <th>426866</th>\n",
       "      <td>wyoming</td>\n",
       "      <td>32990</td>\n",
       "      <td>2016.0</td>\n",
       "      <td>infiniti</td>\n",
       "      <td>qx80 sport utility 4d</td>\n",
       "      <td>good</td>\n",
       "      <td>8 cylinders</td>\n",
       "      <td>gas</td>\n",
       "      <td>55612.0</td>\n",
       "      <td>clean</td>\n",
       "      <td>rwd</td>\n",
       "      <td>other</td>\n",
       "      <td>black</td>\n",
       "      <td>wy</td>\n",
       "      <td>33.779214</td>\n",
       "      <td>-84.411811</td>\n",
       "    </tr>\n",
       "    <tr>\n",
       "      <th>426874</th>\n",
       "      <td>wyoming</td>\n",
       "      <td>33590</td>\n",
       "      <td>2018.0</td>\n",
       "      <td>lexus</td>\n",
       "      <td>gs 350 sedan 4d</td>\n",
       "      <td>good</td>\n",
       "      <td>6 cylinders</td>\n",
       "      <td>gas</td>\n",
       "      <td>30814.0</td>\n",
       "      <td>clean</td>\n",
       "      <td>rwd</td>\n",
       "      <td>sedan</td>\n",
       "      <td>white</td>\n",
       "      <td>wy</td>\n",
       "      <td>33.779214</td>\n",
       "      <td>-84.411811</td>\n",
       "    </tr>\n",
       "    <tr>\n",
       "      <th>426878</th>\n",
       "      <td>wyoming</td>\n",
       "      <td>28990</td>\n",
       "      <td>2018.0</td>\n",
       "      <td>lexus</td>\n",
       "      <td>es 350 sedan 4d</td>\n",
       "      <td>good</td>\n",
       "      <td>6 cylinders</td>\n",
       "      <td>gas</td>\n",
       "      <td>30112.0</td>\n",
       "      <td>clean</td>\n",
       "      <td>fwd</td>\n",
       "      <td>sedan</td>\n",
       "      <td>silver</td>\n",
       "      <td>wy</td>\n",
       "      <td>33.786500</td>\n",
       "      <td>-84.445400</td>\n",
       "    </tr>\n",
       "  </tbody>\n",
       "</table>\n",
       "<p>67438 rows × 16 columns</p>\n",
       "</div>"
      ],
      "text/plain": [
       "         region  price    year  ... state        lat       long\n",
       "31       auburn  15000  2013.0  ...    al  32.592000 -85.518900\n",
       "32       auburn  27990  2012.0  ...    al  32.590000 -85.480000\n",
       "33       auburn  34590  2016.0  ...    al  32.590000 -85.480000\n",
       "34       auburn  35000  2019.0  ...    al  32.601300 -85.443974\n",
       "35       auburn  29990  2016.0  ...    al  32.590000 -85.480000\n",
       "...         ...    ...     ...  ...   ...        ...        ...\n",
       "426859  wyoming  48590  2020.0  ...    wy  33.779214 -84.411811\n",
       "426860  wyoming  39990  2017.0  ...    wy  33.779214 -84.411811\n",
       "426866  wyoming  32990  2016.0  ...    wy  33.779214 -84.411811\n",
       "426874  wyoming  33590  2018.0  ...    wy  33.779214 -84.411811\n",
       "426878  wyoming  28990  2018.0  ...    wy  33.786500 -84.445400\n",
       "\n",
       "[67438 rows x 16 columns]"
      ]
     },
     "execution_count": 83,
     "metadata": {
      "tags": []
     },
     "output_type": "execute_result"
    }
   ],
   "source": [
    "cars_recent"
   ]
  },
  {
   "cell_type": "markdown",
   "metadata": {
    "id": "DQSx4Rrlrk8x"
   },
   "source": [
    "Using the groupby method, we can figure out the maximum price in each year."
   ]
  },
  {
   "cell_type": "code",
   "execution_count": null,
   "metadata": {
    "id": "qKYs5r0ir6ic"
   },
   "outputs": [],
   "source": [
    "most_expensive = cars_recent.groupby('year')[['price']].max()"
   ]
  },
  {
   "cell_type": "code",
   "execution_count": null,
   "metadata": {
    "colab": {
     "base_uri": "https://localhost:8080/",
     "height": 452
    },
    "executionInfo": {
     "elapsed": 51,
     "status": "ok",
     "timestamp": 1625095933189,
     "user": {
      "displayName": "nasiru sule",
      "photoUrl": "https://lh3.googleusercontent.com/a-/AOh14GiVuRFYjI43LxMj_Q8ZlQSSi4rs-Su2HdfNPNxp7A=s64",
      "userId": "16455627822583485460"
     },
     "user_tz": -60
    },
    "id": "hkhJb8sasE_R",
    "outputId": "19cee102-77d6-4873-c240-5e0aa3934e2e"
   },
   "outputs": [
    {
     "data": {
      "text/html": [
       "<div>\n",
       "<style scoped>\n",
       "    .dataframe tbody tr th:only-of-type {\n",
       "        vertical-align: middle;\n",
       "    }\n",
       "\n",
       "    .dataframe tbody tr th {\n",
       "        vertical-align: top;\n",
       "    }\n",
       "\n",
       "    .dataframe thead th {\n",
       "        text-align: right;\n",
       "    }\n",
       "</style>\n",
       "<table border=\"1\" class=\"dataframe\">\n",
       "  <thead>\n",
       "    <tr style=\"text-align: right;\">\n",
       "      <th></th>\n",
       "      <th>price</th>\n",
       "    </tr>\n",
       "    <tr>\n",
       "      <th>year</th>\n",
       "      <th></th>\n",
       "    </tr>\n",
       "  </thead>\n",
       "  <tbody>\n",
       "    <tr>\n",
       "      <th>2010.0</th>\n",
       "      <td>169999</td>\n",
       "    </tr>\n",
       "    <tr>\n",
       "      <th>2011.0</th>\n",
       "      <td>95000</td>\n",
       "    </tr>\n",
       "    <tr>\n",
       "      <th>2012.0</th>\n",
       "      <td>120000</td>\n",
       "    </tr>\n",
       "    <tr>\n",
       "      <th>2013.0</th>\n",
       "      <td>144832</td>\n",
       "    </tr>\n",
       "    <tr>\n",
       "      <th>2014.0</th>\n",
       "      <td>131500</td>\n",
       "    </tr>\n",
       "    <tr>\n",
       "      <th>2015.0</th>\n",
       "      <td>140000</td>\n",
       "    </tr>\n",
       "    <tr>\n",
       "      <th>2016.0</th>\n",
       "      <td>103500</td>\n",
       "    </tr>\n",
       "    <tr>\n",
       "      <th>2017.0</th>\n",
       "      <td>195000</td>\n",
       "    </tr>\n",
       "    <tr>\n",
       "      <th>2018.0</th>\n",
       "      <td>165000</td>\n",
       "    </tr>\n",
       "    <tr>\n",
       "      <th>2019.0</th>\n",
       "      <td>130000</td>\n",
       "    </tr>\n",
       "    <tr>\n",
       "      <th>2020.0</th>\n",
       "      <td>155000</td>\n",
       "    </tr>\n",
       "    <tr>\n",
       "      <th>2021.0</th>\n",
       "      <td>128945</td>\n",
       "    </tr>\n",
       "  </tbody>\n",
       "</table>\n",
       "</div>"
      ],
      "text/plain": [
       "         price\n",
       "year          \n",
       "2010.0  169999\n",
       "2011.0   95000\n",
       "2012.0  120000\n",
       "2013.0  144832\n",
       "2014.0  131500\n",
       "2015.0  140000\n",
       "2016.0  103500\n",
       "2017.0  195000\n",
       "2018.0  165000\n",
       "2019.0  130000\n",
       "2020.0  155000\n",
       "2021.0  128945"
      ]
     },
     "execution_count": 85,
     "metadata": {
      "tags": []
     },
     "output_type": "execute_result"
    }
   ],
   "source": [
    "most_expensive"
   ]
  },
  {
   "cell_type": "markdown",
   "metadata": {
    "id": "NxjBxuzVRDP7"
   },
   "source": [
    "Lets sort them in descending order using sort_values property of pandas."
   ]
  },
  {
   "cell_type": "code",
   "execution_count": null,
   "metadata": {
    "colab": {
     "base_uri": "https://localhost:8080/",
     "height": 452
    },
    "executionInfo": {
     "elapsed": 483,
     "status": "ok",
     "timestamp": 1625095976975,
     "user": {
      "displayName": "nasiru sule",
      "photoUrl": "https://lh3.googleusercontent.com/a-/AOh14GiVuRFYjI43LxMj_Q8ZlQSSi4rs-Su2HdfNPNxp7A=s64",
      "userId": "16455627822583485460"
     },
     "user_tz": -60
    },
    "id": "QfNli4mwsFZW",
    "outputId": "af71bcfb-a56e-4e95-eaf5-5a635b56d608"
   },
   "outputs": [
    {
     "data": {
      "text/html": [
       "<div>\n",
       "<style scoped>\n",
       "    .dataframe tbody tr th:only-of-type {\n",
       "        vertical-align: middle;\n",
       "    }\n",
       "\n",
       "    .dataframe tbody tr th {\n",
       "        vertical-align: top;\n",
       "    }\n",
       "\n",
       "    .dataframe thead th {\n",
       "        text-align: right;\n",
       "    }\n",
       "</style>\n",
       "<table border=\"1\" class=\"dataframe\">\n",
       "  <thead>\n",
       "    <tr style=\"text-align: right;\">\n",
       "      <th></th>\n",
       "      <th>price</th>\n",
       "    </tr>\n",
       "    <tr>\n",
       "      <th>year</th>\n",
       "      <th></th>\n",
       "    </tr>\n",
       "  </thead>\n",
       "  <tbody>\n",
       "    <tr>\n",
       "      <th>2017.0</th>\n",
       "      <td>195000</td>\n",
       "    </tr>\n",
       "    <tr>\n",
       "      <th>2010.0</th>\n",
       "      <td>169999</td>\n",
       "    </tr>\n",
       "    <tr>\n",
       "      <th>2018.0</th>\n",
       "      <td>165000</td>\n",
       "    </tr>\n",
       "    <tr>\n",
       "      <th>2020.0</th>\n",
       "      <td>155000</td>\n",
       "    </tr>\n",
       "    <tr>\n",
       "      <th>2013.0</th>\n",
       "      <td>144832</td>\n",
       "    </tr>\n",
       "    <tr>\n",
       "      <th>2015.0</th>\n",
       "      <td>140000</td>\n",
       "    </tr>\n",
       "    <tr>\n",
       "      <th>2014.0</th>\n",
       "      <td>131500</td>\n",
       "    </tr>\n",
       "    <tr>\n",
       "      <th>2019.0</th>\n",
       "      <td>130000</td>\n",
       "    </tr>\n",
       "    <tr>\n",
       "      <th>2021.0</th>\n",
       "      <td>128945</td>\n",
       "    </tr>\n",
       "    <tr>\n",
       "      <th>2012.0</th>\n",
       "      <td>120000</td>\n",
       "    </tr>\n",
       "    <tr>\n",
       "      <th>2016.0</th>\n",
       "      <td>103500</td>\n",
       "    </tr>\n",
       "    <tr>\n",
       "      <th>2011.0</th>\n",
       "      <td>95000</td>\n",
       "    </tr>\n",
       "  </tbody>\n",
       "</table>\n",
       "</div>"
      ],
      "text/plain": [
       "         price\n",
       "year          \n",
       "2017.0  195000\n",
       "2010.0  169999\n",
       "2018.0  165000\n",
       "2020.0  155000\n",
       "2013.0  144832\n",
       "2015.0  140000\n",
       "2014.0  131500\n",
       "2019.0  130000\n",
       "2021.0  128945\n",
       "2012.0  120000\n",
       "2016.0  103500\n",
       "2011.0   95000"
      ]
     },
     "execution_count": 86,
     "metadata": {
      "tags": []
     },
     "output_type": "execute_result"
    }
   ],
   "source": [
    "most_expensive.sort_values(by='price', ascending=False)"
   ]
  },
  {
   "cell_type": "markdown",
   "metadata": {
    "id": "HpvEsU00RMx1"
   },
   "source": [
    "Lets have a look at what type of vehicle is this 195000."
   ]
  },
  {
   "cell_type": "code",
   "execution_count": null,
   "metadata": {
    "colab": {
     "base_uri": "https://localhost:8080/",
     "height": 80
    },
    "executionInfo": {
     "elapsed": 422,
     "status": "ok",
     "timestamp": 1625096042701,
     "user": {
      "displayName": "nasiru sule",
      "photoUrl": "https://lh3.googleusercontent.com/a-/AOh14GiVuRFYjI43LxMj_Q8ZlQSSi4rs-Su2HdfNPNxp7A=s64",
      "userId": "16455627822583485460"
     },
     "user_tz": -60
    },
    "id": "rckQv_u43vd1",
    "outputId": "b2dc01cc-240d-4ecc-cc55-2ac68bf82ba4"
   },
   "outputs": [
    {
     "data": {
      "text/html": [
       "<div>\n",
       "<style scoped>\n",
       "    .dataframe tbody tr th:only-of-type {\n",
       "        vertical-align: middle;\n",
       "    }\n",
       "\n",
       "    .dataframe tbody tr th {\n",
       "        vertical-align: top;\n",
       "    }\n",
       "\n",
       "    .dataframe thead th {\n",
       "        text-align: right;\n",
       "    }\n",
       "</style>\n",
       "<table border=\"1\" class=\"dataframe\">\n",
       "  <thead>\n",
       "    <tr style=\"text-align: right;\">\n",
       "      <th></th>\n",
       "      <th>region</th>\n",
       "      <th>price</th>\n",
       "      <th>year</th>\n",
       "      <th>manufacturer</th>\n",
       "      <th>model</th>\n",
       "      <th>condition</th>\n",
       "      <th>cylinders</th>\n",
       "      <th>fuel</th>\n",
       "      <th>odometer</th>\n",
       "      <th>title_status</th>\n",
       "      <th>drive</th>\n",
       "      <th>type</th>\n",
       "      <th>paint_color</th>\n",
       "      <th>state</th>\n",
       "      <th>lat</th>\n",
       "      <th>long</th>\n",
       "    </tr>\n",
       "  </thead>\n",
       "  <tbody>\n",
       "    <tr>\n",
       "      <th>201823</th>\n",
       "      <td>grand rapids</td>\n",
       "      <td>195000</td>\n",
       "      <td>2017.0</td>\n",
       "      <td>subaru</td>\n",
       "      <td>wrx</td>\n",
       "      <td>like new</td>\n",
       "      <td>4 cylinders</td>\n",
       "      <td>gas</td>\n",
       "      <td>73000.0</td>\n",
       "      <td>lien</td>\n",
       "      <td>4wd</td>\n",
       "      <td>sedan</td>\n",
       "      <td>grey</td>\n",
       "      <td>mi</td>\n",
       "      <td>42.9104</td>\n",
       "      <td>-85.8276</td>\n",
       "    </tr>\n",
       "  </tbody>\n",
       "</table>\n",
       "</div>"
      ],
      "text/plain": [
       "              region   price    year  ... state      lat     long\n",
       "201823  grand rapids  195000  2017.0  ...    mi  42.9104 -85.8276\n",
       "\n",
       "[1 rows x 16 columns]"
      ]
     },
     "execution_count": 87,
     "metadata": {
      "tags": []
     },
     "output_type": "execute_result"
    }
   ],
   "source": [
    "expensive_car = cars3_df.loc[cars3_df['price']== 195000]\n",
    "expensive_car"
   ]
  },
  {
   "cell_type": "markdown",
   "metadata": {
    "id": "AVIJZdvFt0oU"
   },
   "source": [
    "So, the subaru\twrx is the most expensive car up for sale since 2010 from our dataframe. Remember that we have dropped some rows from our Dataframe, hence, in reality, this might not necessarily be the most expensive car out there since 2010."
   ]
  },
  {
   "cell_type": "markdown",
   "metadata": {
    "id": "LhHo9NSB5A0h"
   },
   "source": [
    "Using folium, we can have a view of the region where this car is located on a map. From the \"expensive_car\" dataset above, we can see that this car is located at latitude 42.9104 and longitude -85.8276."
   ]
  },
  {
   "cell_type": "markdown",
   "metadata": {
    "id": "RXnICLv854GD"
   },
   "source": [
    "First, we will install and import the folium library."
   ]
  },
  {
   "cell_type": "code",
   "execution_count": null,
   "metadata": {
    "id": "lSExNSdjx6h6"
   },
   "outputs": [],
   "source": [
    "!pip install folium --q"
   ]
  },
  {
   "cell_type": "code",
   "execution_count": null,
   "metadata": {
    "id": "NEBgcfDwyAge"
   },
   "outputs": [],
   "source": [
    "import folium"
   ]
  },
  {
   "cell_type": "markdown",
   "metadata": {
    "id": "9jnhssCa1eTH"
   },
   "source": [
    "In our map, we will be adding a clickable marker to show the exact location using folium.marker."
   ]
  },
  {
   "cell_type": "code",
   "execution_count": null,
   "metadata": {
    "colab": {
     "base_uri": "https://localhost:8080/",
     "height": 763
    },
    "executionInfo": {
     "elapsed": 364,
     "status": "ok",
     "timestamp": 1625096069143,
     "user": {
      "displayName": "nasiru sule",
      "photoUrl": "https://lh3.googleusercontent.com/a-/AOh14GiVuRFYjI43LxMj_Q8ZlQSSi4rs-Su2HdfNPNxp7A=s64",
      "userId": "16455627822583485460"
     },
     "user_tz": -60
    },
    "id": "K5g-7Xii3qTy",
    "outputId": "e7f99138-0d12-47e8-e2de-d5cd68f2999b"
   },
   "outputs": [
    {
     "data": {
      "text/html": [
       "<div style=\"width:100%;\"><div style=\"position:relative;width:100%;height:0;padding-bottom:60%;\"><span style=\"color:#565656\">Make this Notebook Trusted to load map: File -> Trust Notebook</span><iframe src=\"about:blank\" style=\"position:absolute;width:100%;height:100%;left:0;top:0;border:none !important;\" data-html=%3C%21DOCTYPE%20html%3E%0A%3Chead%3E%20%20%20%20%0A%20%20%20%20%3Cmeta%20http-equiv%3D%22content-type%22%20content%3D%22text/html%3B%20charset%3DUTF-8%22%20/%3E%0A%20%20%20%20%3Cscript%3EL_PREFER_CANVAS%3Dfalse%3B%20L_NO_TOUCH%3Dfalse%3B%20L_DISABLE_3D%3Dfalse%3B%3C/script%3E%0A%20%20%20%20%3Cscript%20src%3D%22https%3A//cdn.jsdelivr.net/npm/leaflet%401.4.0/dist/leaflet.js%22%3E%3C/script%3E%0A%20%20%20%20%3Cscript%20src%3D%22https%3A//code.jquery.com/jquery-1.12.4.min.js%22%3E%3C/script%3E%0A%20%20%20%20%3Cscript%20src%3D%22https%3A//maxcdn.bootstrapcdn.com/bootstrap/3.2.0/js/bootstrap.min.js%22%3E%3C/script%3E%0A%20%20%20%20%3Cscript%20src%3D%22https%3A//cdnjs.cloudflare.com/ajax/libs/Leaflet.awesome-markers/2.0.2/leaflet.awesome-markers.js%22%3E%3C/script%3E%0A%20%20%20%20%3Clink%20rel%3D%22stylesheet%22%20href%3D%22https%3A//cdn.jsdelivr.net/npm/leaflet%401.4.0/dist/leaflet.css%22/%3E%0A%20%20%20%20%3Clink%20rel%3D%22stylesheet%22%20href%3D%22https%3A//maxcdn.bootstrapcdn.com/bootstrap/3.2.0/css/bootstrap.min.css%22/%3E%0A%20%20%20%20%3Clink%20rel%3D%22stylesheet%22%20href%3D%22https%3A//maxcdn.bootstrapcdn.com/bootstrap/3.2.0/css/bootstrap-theme.min.css%22/%3E%0A%20%20%20%20%3Clink%20rel%3D%22stylesheet%22%20href%3D%22https%3A//maxcdn.bootstrapcdn.com/font-awesome/4.6.3/css/font-awesome.min.css%22/%3E%0A%20%20%20%20%3Clink%20rel%3D%22stylesheet%22%20href%3D%22https%3A//cdnjs.cloudflare.com/ajax/libs/Leaflet.awesome-markers/2.0.2/leaflet.awesome-markers.css%22/%3E%0A%20%20%20%20%3Clink%20rel%3D%22stylesheet%22%20href%3D%22https%3A//rawcdn.githack.com/python-visualization/folium/master/folium/templates/leaflet.awesome.rotate.css%22/%3E%0A%20%20%20%20%3Cstyle%3Ehtml%2C%20body%20%7Bwidth%3A%20100%25%3Bheight%3A%20100%25%3Bmargin%3A%200%3Bpadding%3A%200%3B%7D%3C/style%3E%0A%20%20%20%20%3Cstyle%3E%23map%20%7Bposition%3Aabsolute%3Btop%3A0%3Bbottom%3A0%3Bright%3A0%3Bleft%3A0%3B%7D%3C/style%3E%0A%20%20%20%20%0A%20%20%20%20%3Cmeta%20name%3D%22viewport%22%20content%3D%22width%3Ddevice-width%2C%0A%20%20%20%20%20%20%20%20initial-scale%3D1.0%2C%20maximum-scale%3D1.0%2C%20user-scalable%3Dno%22%20/%3E%0A%20%20%20%20%3Cstyle%3E%23map_283fb02a3c5b45cd8e4f4a8854a5e96f%20%7B%0A%20%20%20%20%20%20%20%20position%3A%20relative%3B%0A%20%20%20%20%20%20%20%20width%3A%20100.0%25%3B%0A%20%20%20%20%20%20%20%20height%3A%20100.0%25%3B%0A%20%20%20%20%20%20%20%20left%3A%200.0%25%3B%0A%20%20%20%20%20%20%20%20top%3A%200.0%25%3B%0A%20%20%20%20%20%20%20%20%7D%0A%20%20%20%20%3C/style%3E%0A%3C/head%3E%0A%3Cbody%3E%20%20%20%20%0A%20%20%20%20%0A%20%20%20%20%3Cdiv%20class%3D%22folium-map%22%20id%3D%22map_283fb02a3c5b45cd8e4f4a8854a5e96f%22%20%3E%3C/div%3E%0A%3C/body%3E%0A%3Cscript%3E%20%20%20%20%0A%20%20%20%20%0A%20%20%20%20%0A%20%20%20%20%20%20%20%20var%20bounds%20%3D%20null%3B%0A%20%20%20%20%0A%0A%20%20%20%20var%20map_283fb02a3c5b45cd8e4f4a8854a5e96f%20%3D%20L.map%28%0A%20%20%20%20%20%20%20%20%27map_283fb02a3c5b45cd8e4f4a8854a5e96f%27%2C%20%7B%0A%20%20%20%20%20%20%20%20center%3A%20%5B42.9104%2C%20-85.8276%5D%2C%0A%20%20%20%20%20%20%20%20zoom%3A%2010%2C%0A%20%20%20%20%20%20%20%20maxBounds%3A%20bounds%2C%0A%20%20%20%20%20%20%20%20layers%3A%20%5B%5D%2C%0A%20%20%20%20%20%20%20%20worldCopyJump%3A%20false%2C%0A%20%20%20%20%20%20%20%20crs%3A%20L.CRS.EPSG3857%2C%0A%20%20%20%20%20%20%20%20zoomControl%3A%20true%2C%0A%20%20%20%20%20%20%20%20%7D%29%3B%0A%0A%0A%20%20%20%20%0A%20%20%20%20var%20tile_layer_7057e31f92a3475fa4f43ef305d09e01%20%3D%20L.tileLayer%28%0A%20%20%20%20%20%20%20%20%27https%3A//stamen-tiles-%7Bs%7D.a.ssl.fastly.net/terrain/%7Bz%7D/%7Bx%7D/%7By%7D.jpg%27%2C%0A%20%20%20%20%20%20%20%20%7B%0A%20%20%20%20%20%20%20%20%22attribution%22%3A%20null%2C%0A%20%20%20%20%20%20%20%20%22detectRetina%22%3A%20false%2C%0A%20%20%20%20%20%20%20%20%22maxNativeZoom%22%3A%2018%2C%0A%20%20%20%20%20%20%20%20%22maxZoom%22%3A%2018%2C%0A%20%20%20%20%20%20%20%20%22minZoom%22%3A%200%2C%0A%20%20%20%20%20%20%20%20%22noWrap%22%3A%20false%2C%0A%20%20%20%20%20%20%20%20%22opacity%22%3A%201%2C%0A%20%20%20%20%20%20%20%20%22subdomains%22%3A%20%22abc%22%2C%0A%20%20%20%20%20%20%20%20%22tms%22%3A%20false%0A%7D%29.addTo%28map_283fb02a3c5b45cd8e4f4a8854a5e96f%29%3B%0A%20%20%20%20%0A%20%20%20%20%20%20%20%20var%20marker_ba157e65f739406db46a0a719b96e2ac%20%3D%20L.marker%28%0A%20%20%20%20%20%20%20%20%20%20%20%20%5B42.9104%2C%20-85.8276%5D%2C%0A%20%20%20%20%20%20%20%20%20%20%20%20%7B%0A%20%20%20%20%20%20%20%20%20%20%20%20%20%20%20%20icon%3A%20new%20L.Icon.Default%28%29%2C%0A%20%20%20%20%20%20%20%20%20%20%20%20%20%20%20%20%7D%0A%20%20%20%20%20%20%20%20%20%20%20%20%29.addTo%28map_283fb02a3c5b45cd8e4f4a8854a5e96f%29%3B%0A%20%20%20%20%20%20%20%20%0A%20%20%20%20%0A%20%20%20%20%20%20%20%20%20%20%20%20var%20popup_cd7d6413479b43b6ac7b7659ac804bf9%20%3D%20L.popup%28%7BmaxWidth%3A%20%27100%25%27%0A%20%20%20%20%20%20%20%20%20%20%20%20%0A%20%20%20%20%20%20%20%20%20%20%20%20%7D%29%3B%0A%0A%20%20%20%20%20%20%20%20%20%20%20%20%0A%20%20%20%20%20%20%20%20%20%20%20%20%20%20%20%20var%20html_59a3933a5e8b4ee98b475aa737da4210%20%3D%20%24%28%60%3Cdiv%20id%3D%22html_59a3933a5e8b4ee98b475aa737da4210%22%20style%3D%22width%3A%20100.0%25%3B%20height%3A%20100.0%25%3B%22%3E%3Ci%3EGrand%20Rapids%2C%20Michigan%3C/i%3E%3C/div%3E%60%29%5B0%5D%3B%0A%20%20%20%20%20%20%20%20%20%20%20%20%20%20%20%20popup_cd7d6413479b43b6ac7b7659ac804bf9.setContent%28html_59a3933a5e8b4ee98b475aa737da4210%29%3B%0A%20%20%20%20%20%20%20%20%20%20%20%20%0A%0A%20%20%20%20%20%20%20%20%20%20%20%20marker_ba157e65f739406db46a0a719b96e2ac.bindPopup%28popup_cd7d6413479b43b6ac7b7659ac804bf9%29%0A%20%20%20%20%20%20%20%20%20%20%20%20%3B%0A%0A%20%20%20%20%20%20%20%20%20%20%20%20%0A%20%20%20%20%20%20%20%20%0A%20%20%20%20%0A%20%20%20%20%20%20%20%20marker_ba157e65f739406db46a0a719b96e2ac.bindTooltip%28%0A%20%20%20%20%20%20%20%20%20%20%20%20%60%3Cdiv%3E%60%0A%20%20%20%20%20%20%20%20%20%20%20%20%2B%20%60click%60%20%2B%20%60%3C/div%3E%60%2C%0A%20%20%20%20%20%20%20%20%20%20%20%20%7B%22sticky%22%3A%20true%7D%0A%20%20%20%20%20%20%20%20%29%3B%0A%20%20%20%20%20%20%20%20%0A%3C/script%3E onload=\"this.contentDocument.open();this.contentDocument.write(    decodeURIComponent(this.getAttribute('data-html')));this.contentDocument.close();\" allowfullscreen webkitallowfullscreen mozallowfullscreen></iframe></div></div>"
      ],
      "text/plain": [
       "<folium.folium.Map at 0x7efe416940d0>"
      ]
     },
     "execution_count": 90,
     "metadata": {
      "tags": []
     },
     "output_type": "execute_result"
    }
   ],
   "source": [
    "m = folium.Map(location=[42.9104,\t-85.8276], zoom_start= 10, tiles=\"stamen terrain\")\n",
    "\n",
    "tooltip = \"click\"\n",
    "\n",
    "folium.Marker(\n",
    "    [42.9104,\t-85.8276], popup=\"<i>Grand Rapids, Michigan</i>\", tooltip=tooltip\n",
    ").add_to(m)\n",
    "\n",
    "m"
   ]
  },
  {
   "cell_type": "markdown",
   "metadata": {
    "id": "GY4iRsP36YUI"
   },
   "source": [
    "From the map, we can see the Grand rapids region."
   ]
  },
  {
   "cell_type": "markdown",
   "metadata": {
    "id": "XEqlNGUT7z6Z"
   },
   "source": [
    "##### Q3: USING THE ODOMETER READING, WHICH IS THE MOST TRAVELLED TYPE OF VEHICLE?"
   ]
  },
  {
   "cell_type": "markdown",
   "metadata": {
    "id": "RlBnstPk1sUJ"
   },
   "source": [
    "We will first sort out the dataframe by the highest odometer value and look at the first 100."
   ]
  },
  {
   "cell_type": "code",
   "execution_count": null,
   "metadata": {
    "colab": {
     "base_uri": "https://localhost:8080/",
     "height": 575
    },
    "executionInfo": {
     "elapsed": 466,
     "status": "ok",
     "timestamp": 1625096151780,
     "user": {
      "displayName": "nasiru sule",
      "photoUrl": "https://lh3.googleusercontent.com/a-/AOh14GiVuRFYjI43LxMj_Q8ZlQSSi4rs-Su2HdfNPNxp7A=s64",
      "userId": "16455627822583485460"
     },
     "user_tz": -60
    },
    "id": "7Hr3Orj80YYs",
    "outputId": "6bbad669-d2aa-4569-cab3-78dcdd06a040"
   },
   "outputs": [
    {
     "data": {
      "text/html": [
       "<div>\n",
       "<style scoped>\n",
       "    .dataframe tbody tr th:only-of-type {\n",
       "        vertical-align: middle;\n",
       "    }\n",
       "\n",
       "    .dataframe tbody tr th {\n",
       "        vertical-align: top;\n",
       "    }\n",
       "\n",
       "    .dataframe thead th {\n",
       "        text-align: right;\n",
       "    }\n",
       "</style>\n",
       "<table border=\"1\" class=\"dataframe\">\n",
       "  <thead>\n",
       "    <tr style=\"text-align: right;\">\n",
       "      <th></th>\n",
       "      <th>region</th>\n",
       "      <th>price</th>\n",
       "      <th>year</th>\n",
       "      <th>manufacturer</th>\n",
       "      <th>model</th>\n",
       "      <th>condition</th>\n",
       "      <th>cylinders</th>\n",
       "      <th>fuel</th>\n",
       "      <th>odometer</th>\n",
       "      <th>title_status</th>\n",
       "      <th>drive</th>\n",
       "      <th>type</th>\n",
       "      <th>paint_color</th>\n",
       "      <th>state</th>\n",
       "      <th>lat</th>\n",
       "      <th>long</th>\n",
       "    </tr>\n",
       "  </thead>\n",
       "  <tbody>\n",
       "    <tr>\n",
       "      <th>191629</th>\n",
       "      <td>western massachusetts</td>\n",
       "      <td>7500</td>\n",
       "      <td>1970.0</td>\n",
       "      <td>chevrolet</td>\n",
       "      <td>chevelle</td>\n",
       "      <td>fair</td>\n",
       "      <td>8 cylinders</td>\n",
       "      <td>gas</td>\n",
       "      <td>10000000.0</td>\n",
       "      <td>parts only</td>\n",
       "      <td>rwd</td>\n",
       "      <td>coupe</td>\n",
       "      <td>red</td>\n",
       "      <td>ma</td>\n",
       "      <td>42.542900</td>\n",
       "      <td>-72.532800</td>\n",
       "    </tr>\n",
       "    <tr>\n",
       "      <th>260971</th>\n",
       "      <td>albuquerque</td>\n",
       "      <td>4000</td>\n",
       "      <td>1973.0</td>\n",
       "      <td>jeep</td>\n",
       "      <td>cj5</td>\n",
       "      <td>good</td>\n",
       "      <td>8 cylinders</td>\n",
       "      <td>gas</td>\n",
       "      <td>10000000.0</td>\n",
       "      <td>clean</td>\n",
       "      <td>4wd</td>\n",
       "      <td>offroad</td>\n",
       "      <td>black</td>\n",
       "      <td>nm</td>\n",
       "      <td>35.150898</td>\n",
       "      <td>-106.615356</td>\n",
       "    </tr>\n",
       "    <tr>\n",
       "      <th>305172</th>\n",
       "      <td>oklahoma city</td>\n",
       "      <td>4500</td>\n",
       "      <td>1995.0</td>\n",
       "      <td>chevrolet</td>\n",
       "      <td>impala ss 1995</td>\n",
       "      <td>fair</td>\n",
       "      <td>8 cylinders</td>\n",
       "      <td>gas</td>\n",
       "      <td>10000000.0</td>\n",
       "      <td>clean</td>\n",
       "      <td>rwd</td>\n",
       "      <td>sedan</td>\n",
       "      <td>custom</td>\n",
       "      <td>ok</td>\n",
       "      <td>35.796482</td>\n",
       "      <td>-97.674127</td>\n",
       "    </tr>\n",
       "    <tr>\n",
       "      <th>208157</th>\n",
       "      <td>northern michigan</td>\n",
       "      <td>9000</td>\n",
       "      <td>1975.0</td>\n",
       "      <td>chevrolet</td>\n",
       "      <td>monza 2+2</td>\n",
       "      <td>good</td>\n",
       "      <td>8 cylinders</td>\n",
       "      <td>gas</td>\n",
       "      <td>10000000.0</td>\n",
       "      <td>clean</td>\n",
       "      <td>rwd</td>\n",
       "      <td>hatchback</td>\n",
       "      <td>red</td>\n",
       "      <td>mi</td>\n",
       "      <td>44.584980</td>\n",
       "      <td>-85.535603</td>\n",
       "    </tr>\n",
       "    <tr>\n",
       "      <th>28738</th>\n",
       "      <td>gold country</td>\n",
       "      <td>20000</td>\n",
       "      <td>1951.0</td>\n",
       "      <td>chevrolet</td>\n",
       "      <td>coe</td>\n",
       "      <td>good</td>\n",
       "      <td>8 cylinders</td>\n",
       "      <td>gas</td>\n",
       "      <td>10000000.0</td>\n",
       "      <td>clean</td>\n",
       "      <td>rwd</td>\n",
       "      <td>truck</td>\n",
       "      <td>custom</td>\n",
       "      <td>ca</td>\n",
       "      <td>37.956759</td>\n",
       "      <td>-120.311279</td>\n",
       "    </tr>\n",
       "    <tr>\n",
       "      <th>...</th>\n",
       "      <td>...</td>\n",
       "      <td>...</td>\n",
       "      <td>...</td>\n",
       "      <td>...</td>\n",
       "      <td>...</td>\n",
       "      <td>...</td>\n",
       "      <td>...</td>\n",
       "      <td>...</td>\n",
       "      <td>...</td>\n",
       "      <td>...</td>\n",
       "      <td>...</td>\n",
       "      <td>...</td>\n",
       "      <td>...</td>\n",
       "      <td>...</td>\n",
       "      <td>...</td>\n",
       "      <td>...</td>\n",
       "    </tr>\n",
       "    <tr>\n",
       "      <th>258932</th>\n",
       "      <td>south jersey</td>\n",
       "      <td>4800</td>\n",
       "      <td>2009.0</td>\n",
       "      <td>chrysler</td>\n",
       "      <td>town &amp; country</td>\n",
       "      <td>new</td>\n",
       "      <td>6 cylinders</td>\n",
       "      <td>gas</td>\n",
       "      <td>1225000.0</td>\n",
       "      <td>clean</td>\n",
       "      <td>4wd</td>\n",
       "      <td>sedan</td>\n",
       "      <td>grey</td>\n",
       "      <td>nj</td>\n",
       "      <td>39.972300</td>\n",
       "      <td>-75.060700</td>\n",
       "    </tr>\n",
       "    <tr>\n",
       "      <th>151648</th>\n",
       "      <td>indianapolis</td>\n",
       "      <td>6495</td>\n",
       "      <td>2010.0</td>\n",
       "      <td>chrysler</td>\n",
       "      <td>town country touring</td>\n",
       "      <td>good</td>\n",
       "      <td>6 cylinders</td>\n",
       "      <td>gas</td>\n",
       "      <td>1200290.0</td>\n",
       "      <td>clean</td>\n",
       "      <td>fwd</td>\n",
       "      <td>mini-van</td>\n",
       "      <td>red</td>\n",
       "      <td>in</td>\n",
       "      <td>39.925801</td>\n",
       "      <td>-85.344455</td>\n",
       "    </tr>\n",
       "    <tr>\n",
       "      <th>53805</th>\n",
       "      <td>sacramento</td>\n",
       "      <td>12000</td>\n",
       "      <td>1965.0</td>\n",
       "      <td>ford</td>\n",
       "      <td>thunderbird</td>\n",
       "      <td>good</td>\n",
       "      <td>other</td>\n",
       "      <td>gas</td>\n",
       "      <td>1200000.0</td>\n",
       "      <td>clean</td>\n",
       "      <td>fwd</td>\n",
       "      <td>other</td>\n",
       "      <td>custom</td>\n",
       "      <td>ca</td>\n",
       "      <td>38.941300</td>\n",
       "      <td>-122.011100</td>\n",
       "    </tr>\n",
       "    <tr>\n",
       "      <th>138186</th>\n",
       "      <td>spokane / coeur d'alene</td>\n",
       "      <td>1500</td>\n",
       "      <td>2000.0</td>\n",
       "      <td>ford</td>\n",
       "      <td>windstar limited</td>\n",
       "      <td>fair</td>\n",
       "      <td>6 cylinders</td>\n",
       "      <td>gas</td>\n",
       "      <td>1195885.0</td>\n",
       "      <td>clean</td>\n",
       "      <td>fwd</td>\n",
       "      <td>van</td>\n",
       "      <td>red</td>\n",
       "      <td>id</td>\n",
       "      <td>47.652600</td>\n",
       "      <td>-117.329900</td>\n",
       "    </tr>\n",
       "    <tr>\n",
       "      <th>94608</th>\n",
       "      <td>ft myers / SW florida</td>\n",
       "      <td>9500</td>\n",
       "      <td>1999.0</td>\n",
       "      <td>ford</td>\n",
       "      <td>f350</td>\n",
       "      <td>good</td>\n",
       "      <td>8 cylinders</td>\n",
       "      <td>diesel</td>\n",
       "      <td>1176458.0</td>\n",
       "      <td>clean</td>\n",
       "      <td>4wd</td>\n",
       "      <td>pickup</td>\n",
       "      <td>silver</td>\n",
       "      <td>fl</td>\n",
       "      <td>27.216000</td>\n",
       "      <td>-81.859900</td>\n",
       "    </tr>\n",
       "  </tbody>\n",
       "</table>\n",
       "<p>100 rows × 16 columns</p>\n",
       "</div>"
      ],
      "text/plain": [
       "                         region  price    year  ... state        lat        long\n",
       "191629    western massachusetts   7500  1970.0  ...    ma  42.542900  -72.532800\n",
       "260971              albuquerque   4000  1973.0  ...    nm  35.150898 -106.615356\n",
       "305172            oklahoma city   4500  1995.0  ...    ok  35.796482  -97.674127\n",
       "208157        northern michigan   9000  1975.0  ...    mi  44.584980  -85.535603\n",
       "28738              gold country  20000  1951.0  ...    ca  37.956759 -120.311279\n",
       "...                         ...    ...     ...  ...   ...        ...         ...\n",
       "258932             south jersey   4800  2009.0  ...    nj  39.972300  -75.060700\n",
       "151648             indianapolis   6495  2010.0  ...    in  39.925801  -85.344455\n",
       "53805                sacramento  12000  1965.0  ...    ca  38.941300 -122.011100\n",
       "138186  spokane / coeur d'alene   1500  2000.0  ...    id  47.652600 -117.329900\n",
       "94608     ft myers / SW florida   9500  1999.0  ...    fl  27.216000  -81.859900\n",
       "\n",
       "[100 rows x 16 columns]"
      ]
     },
     "execution_count": 91,
     "metadata": {
      "tags": []
     },
     "output_type": "execute_result"
    }
   ],
   "source": [
    "most_travelled = cars3_df.sort_values(by='odometer', ascending=False).head(100)\n",
    "most_travelled"
   ]
  },
  {
   "cell_type": "code",
   "execution_count": null,
   "metadata": {
    "colab": {
     "base_uri": "https://localhost:8080/"
    },
    "executionInfo": {
     "elapsed": 404,
     "status": "ok",
     "timestamp": 1625096154855,
     "user": {
      "displayName": "nasiru sule",
      "photoUrl": "https://lh3.googleusercontent.com/a-/AOh14GiVuRFYjI43LxMj_Q8ZlQSSi4rs-Su2HdfNPNxp7A=s64",
      "userId": "16455627822583485460"
     },
     "user_tz": -60
    },
    "id": "M1mDsdrt1lKI",
    "outputId": "a7a52d13-a991-4e74-871d-4fd10375f0ad"
   },
   "outputs": [
    {
     "data": {
      "text/plain": [
       "type\n",
       "sedan        20\n",
       "SUV          18\n",
       "truck        15\n",
       "pickup       13\n",
       "coupe        12\n",
       "offroad       5\n",
       "wagon         4\n",
       "other         4\n",
       "hatchback     4\n",
       "van           3\n",
       "mini-van      2\n",
       "dtype: int64"
      ]
     },
     "execution_count": 92,
     "metadata": {
      "tags": []
     },
     "output_type": "execute_result"
    }
   ],
   "source": [
    "most_travelled.value_counts(\"type\")"
   ]
  },
  {
   "cell_type": "markdown",
   "metadata": {
    "id": "KYhwIZw72H7Q"
   },
   "source": [
    "Looks like the sedans are still the most travelled, obviously they are the most used. It is closely followed by the SUV."
   ]
  },
  {
   "cell_type": "markdown",
   "metadata": {
    "id": "araDQtI7-7IH"
   },
   "source": [
    "##### Q4: WHAT ARE THE NUMBER OF  WHEEL DRIVE MODELS ADOPTED BY MANUFACTURERS?"
   ]
  },
  {
   "cell_type": "markdown",
   "metadata": {
    "id": "uvl6g-oD_bhW"
   },
   "source": [
    "In this question, we are trying to count the number of drive models by each vehicle manufacturer. We know that the \"drive\" column is a categorical column of 3 unique values, 4wd, rwd and fwd. Hence we will use the OneHot encoding system to create additional columns that will identify the type of wheel drive for each vehicle. The OneHot strategy converts a value to 1 if it is a yes for the drive type and 0 otherwise. This will make it easier to sum up."
   ]
  },
  {
   "cell_type": "code",
   "execution_count": null,
   "metadata": {
    "colab": {
     "base_uri": "https://localhost:8080/",
     "height": 640
    },
    "executionInfo": {
     "elapsed": 525,
     "status": "ok",
     "timestamp": 1625096202453,
     "user": {
      "displayName": "nasiru sule",
      "photoUrl": "https://lh3.googleusercontent.com/a-/AOh14GiVuRFYjI43LxMj_Q8ZlQSSi4rs-Su2HdfNPNxp7A=s64",
      "userId": "16455627822583485460"
     },
     "user_tz": -60
    },
    "id": "zGzyX6e72WuD",
    "outputId": "6ce58a49-eb79-4a61-f5f0-4f845e6b4329"
   },
   "outputs": [
    {
     "data": {
      "text/html": [
       "<div>\n",
       "<style scoped>\n",
       "    .dataframe tbody tr th:only-of-type {\n",
       "        vertical-align: middle;\n",
       "    }\n",
       "\n",
       "    .dataframe tbody tr th {\n",
       "        vertical-align: top;\n",
       "    }\n",
       "\n",
       "    .dataframe thead th {\n",
       "        text-align: right;\n",
       "    }\n",
       "</style>\n",
       "<table border=\"1\" class=\"dataframe\">\n",
       "  <thead>\n",
       "    <tr style=\"text-align: right;\">\n",
       "      <th></th>\n",
       "      <th>region</th>\n",
       "      <th>price</th>\n",
       "      <th>year</th>\n",
       "      <th>manufacturer</th>\n",
       "      <th>model</th>\n",
       "      <th>condition</th>\n",
       "      <th>cylinders</th>\n",
       "      <th>fuel</th>\n",
       "      <th>odometer</th>\n",
       "      <th>title_status</th>\n",
       "      <th>drive</th>\n",
       "      <th>type</th>\n",
       "      <th>paint_color</th>\n",
       "      <th>state</th>\n",
       "      <th>lat</th>\n",
       "      <th>long</th>\n",
       "    </tr>\n",
       "  </thead>\n",
       "  <tbody>\n",
       "    <tr>\n",
       "      <th>31</th>\n",
       "      <td>auburn</td>\n",
       "      <td>15000</td>\n",
       "      <td>2013.0</td>\n",
       "      <td>ford</td>\n",
       "      <td>f-150 xlt</td>\n",
       "      <td>excellent</td>\n",
       "      <td>6 cylinders</td>\n",
       "      <td>gas</td>\n",
       "      <td>128000.0</td>\n",
       "      <td>clean</td>\n",
       "      <td>rwd</td>\n",
       "      <td>truck</td>\n",
       "      <td>black</td>\n",
       "      <td>al</td>\n",
       "      <td>32.592000</td>\n",
       "      <td>-85.518900</td>\n",
       "    </tr>\n",
       "    <tr>\n",
       "      <th>32</th>\n",
       "      <td>auburn</td>\n",
       "      <td>27990</td>\n",
       "      <td>2012.0</td>\n",
       "      <td>gmc</td>\n",
       "      <td>sierra 2500 hd extended cab</td>\n",
       "      <td>good</td>\n",
       "      <td>8 cylinders</td>\n",
       "      <td>gas</td>\n",
       "      <td>68696.0</td>\n",
       "      <td>clean</td>\n",
       "      <td>4wd</td>\n",
       "      <td>pickup</td>\n",
       "      <td>black</td>\n",
       "      <td>al</td>\n",
       "      <td>32.590000</td>\n",
       "      <td>-85.480000</td>\n",
       "    </tr>\n",
       "    <tr>\n",
       "      <th>33</th>\n",
       "      <td>auburn</td>\n",
       "      <td>34590</td>\n",
       "      <td>2016.0</td>\n",
       "      <td>chevrolet</td>\n",
       "      <td>silverado 1500 double</td>\n",
       "      <td>good</td>\n",
       "      <td>6 cylinders</td>\n",
       "      <td>gas</td>\n",
       "      <td>29499.0</td>\n",
       "      <td>clean</td>\n",
       "      <td>4wd</td>\n",
       "      <td>pickup</td>\n",
       "      <td>silver</td>\n",
       "      <td>al</td>\n",
       "      <td>32.590000</td>\n",
       "      <td>-85.480000</td>\n",
       "    </tr>\n",
       "    <tr>\n",
       "      <th>34</th>\n",
       "      <td>auburn</td>\n",
       "      <td>35000</td>\n",
       "      <td>2019.0</td>\n",
       "      <td>toyota</td>\n",
       "      <td>tacoma</td>\n",
       "      <td>excellent</td>\n",
       "      <td>6 cylinders</td>\n",
       "      <td>gas</td>\n",
       "      <td>43000.0</td>\n",
       "      <td>clean</td>\n",
       "      <td>4wd</td>\n",
       "      <td>truck</td>\n",
       "      <td>grey</td>\n",
       "      <td>al</td>\n",
       "      <td>32.601300</td>\n",
       "      <td>-85.443974</td>\n",
       "    </tr>\n",
       "    <tr>\n",
       "      <th>35</th>\n",
       "      <td>auburn</td>\n",
       "      <td>29990</td>\n",
       "      <td>2016.0</td>\n",
       "      <td>chevrolet</td>\n",
       "      <td>colorado extended cab</td>\n",
       "      <td>good</td>\n",
       "      <td>6 cylinders</td>\n",
       "      <td>gas</td>\n",
       "      <td>17302.0</td>\n",
       "      <td>clean</td>\n",
       "      <td>4wd</td>\n",
       "      <td>pickup</td>\n",
       "      <td>red</td>\n",
       "      <td>al</td>\n",
       "      <td>32.590000</td>\n",
       "      <td>-85.480000</td>\n",
       "    </tr>\n",
       "    <tr>\n",
       "      <th>...</th>\n",
       "      <td>...</td>\n",
       "      <td>...</td>\n",
       "      <td>...</td>\n",
       "      <td>...</td>\n",
       "      <td>...</td>\n",
       "      <td>...</td>\n",
       "      <td>...</td>\n",
       "      <td>...</td>\n",
       "      <td>...</td>\n",
       "      <td>...</td>\n",
       "      <td>...</td>\n",
       "      <td>...</td>\n",
       "      <td>...</td>\n",
       "      <td>...</td>\n",
       "      <td>...</td>\n",
       "      <td>...</td>\n",
       "    </tr>\n",
       "    <tr>\n",
       "      <th>426859</th>\n",
       "      <td>wyoming</td>\n",
       "      <td>48590</td>\n",
       "      <td>2020.0</td>\n",
       "      <td>cadillac</td>\n",
       "      <td>xt6 premium luxury</td>\n",
       "      <td>good</td>\n",
       "      <td>6 cylinders</td>\n",
       "      <td>gas</td>\n",
       "      <td>7701.0</td>\n",
       "      <td>clean</td>\n",
       "      <td>fwd</td>\n",
       "      <td>other</td>\n",
       "      <td>black</td>\n",
       "      <td>wy</td>\n",
       "      <td>33.779214</td>\n",
       "      <td>-84.411811</td>\n",
       "    </tr>\n",
       "    <tr>\n",
       "      <th>426860</th>\n",
       "      <td>wyoming</td>\n",
       "      <td>39990</td>\n",
       "      <td>2017.0</td>\n",
       "      <td>infiniti</td>\n",
       "      <td>qx80 sport utility 4d</td>\n",
       "      <td>good</td>\n",
       "      <td>8 cylinders</td>\n",
       "      <td>gas</td>\n",
       "      <td>41664.0</td>\n",
       "      <td>clean</td>\n",
       "      <td>4wd</td>\n",
       "      <td>other</td>\n",
       "      <td>black</td>\n",
       "      <td>wy</td>\n",
       "      <td>33.779214</td>\n",
       "      <td>-84.411811</td>\n",
       "    </tr>\n",
       "    <tr>\n",
       "      <th>426866</th>\n",
       "      <td>wyoming</td>\n",
       "      <td>32990</td>\n",
       "      <td>2016.0</td>\n",
       "      <td>infiniti</td>\n",
       "      <td>qx80 sport utility 4d</td>\n",
       "      <td>good</td>\n",
       "      <td>8 cylinders</td>\n",
       "      <td>gas</td>\n",
       "      <td>55612.0</td>\n",
       "      <td>clean</td>\n",
       "      <td>rwd</td>\n",
       "      <td>other</td>\n",
       "      <td>black</td>\n",
       "      <td>wy</td>\n",
       "      <td>33.779214</td>\n",
       "      <td>-84.411811</td>\n",
       "    </tr>\n",
       "    <tr>\n",
       "      <th>426874</th>\n",
       "      <td>wyoming</td>\n",
       "      <td>33590</td>\n",
       "      <td>2018.0</td>\n",
       "      <td>lexus</td>\n",
       "      <td>gs 350 sedan 4d</td>\n",
       "      <td>good</td>\n",
       "      <td>6 cylinders</td>\n",
       "      <td>gas</td>\n",
       "      <td>30814.0</td>\n",
       "      <td>clean</td>\n",
       "      <td>rwd</td>\n",
       "      <td>sedan</td>\n",
       "      <td>white</td>\n",
       "      <td>wy</td>\n",
       "      <td>33.779214</td>\n",
       "      <td>-84.411811</td>\n",
       "    </tr>\n",
       "    <tr>\n",
       "      <th>426878</th>\n",
       "      <td>wyoming</td>\n",
       "      <td>28990</td>\n",
       "      <td>2018.0</td>\n",
       "      <td>lexus</td>\n",
       "      <td>es 350 sedan 4d</td>\n",
       "      <td>good</td>\n",
       "      <td>6 cylinders</td>\n",
       "      <td>gas</td>\n",
       "      <td>30112.0</td>\n",
       "      <td>clean</td>\n",
       "      <td>fwd</td>\n",
       "      <td>sedan</td>\n",
       "      <td>silver</td>\n",
       "      <td>wy</td>\n",
       "      <td>33.786500</td>\n",
       "      <td>-84.445400</td>\n",
       "    </tr>\n",
       "  </tbody>\n",
       "</table>\n",
       "<p>110811 rows × 16 columns</p>\n",
       "</div>"
      ],
      "text/plain": [
       "         region  price    year  ... state        lat       long\n",
       "31       auburn  15000  2013.0  ...    al  32.592000 -85.518900\n",
       "32       auburn  27990  2012.0  ...    al  32.590000 -85.480000\n",
       "33       auburn  34590  2016.0  ...    al  32.590000 -85.480000\n",
       "34       auburn  35000  2019.0  ...    al  32.601300 -85.443974\n",
       "35       auburn  29990  2016.0  ...    al  32.590000 -85.480000\n",
       "...         ...    ...     ...  ...   ...        ...        ...\n",
       "426859  wyoming  48590  2020.0  ...    wy  33.779214 -84.411811\n",
       "426860  wyoming  39990  2017.0  ...    wy  33.779214 -84.411811\n",
       "426866  wyoming  32990  2016.0  ...    wy  33.779214 -84.411811\n",
       "426874  wyoming  33590  2018.0  ...    wy  33.779214 -84.411811\n",
       "426878  wyoming  28990  2018.0  ...    wy  33.786500 -84.445400\n",
       "\n",
       "[110811 rows x 16 columns]"
      ]
     },
     "execution_count": 93,
     "metadata": {
      "tags": []
     },
     "output_type": "execute_result"
    }
   ],
   "source": [
    "cars3_df"
   ]
  },
  {
   "cell_type": "markdown",
   "metadata": {
    "id": "WchB9MLzAZmp"
   },
   "source": [
    "We will be working with just a few of the columns from the original dataset."
   ]
  },
  {
   "cell_type": "code",
   "execution_count": null,
   "metadata": {
    "id": "g9GlzjAS2Wlo"
   },
   "outputs": [],
   "source": [
    "cars4 = cars3_df[[\"price\",\"year\",\"manufacturer\",\"type\",\"drive\",\"state\"]]"
   ]
  },
  {
   "cell_type": "code",
   "execution_count": null,
   "metadata": {
    "colab": {
     "base_uri": "https://localhost:8080/",
     "height": 419
    },
    "executionInfo": {
     "elapsed": 55,
     "status": "ok",
     "timestamp": 1625096209442,
     "user": {
      "displayName": "nasiru sule",
      "photoUrl": "https://lh3.googleusercontent.com/a-/AOh14GiVuRFYjI43LxMj_Q8ZlQSSi4rs-Su2HdfNPNxp7A=s64",
      "userId": "16455627822583485460"
     },
     "user_tz": -60
    },
    "id": "JPraurTH2WfE",
    "outputId": "b957e42b-3d25-4433-f699-9f80cda34922"
   },
   "outputs": [
    {
     "data": {
      "text/html": [
       "<div>\n",
       "<style scoped>\n",
       "    .dataframe tbody tr th:only-of-type {\n",
       "        vertical-align: middle;\n",
       "    }\n",
       "\n",
       "    .dataframe tbody tr th {\n",
       "        vertical-align: top;\n",
       "    }\n",
       "\n",
       "    .dataframe thead th {\n",
       "        text-align: right;\n",
       "    }\n",
       "</style>\n",
       "<table border=\"1\" class=\"dataframe\">\n",
       "  <thead>\n",
       "    <tr style=\"text-align: right;\">\n",
       "      <th></th>\n",
       "      <th>price</th>\n",
       "      <th>year</th>\n",
       "      <th>manufacturer</th>\n",
       "      <th>type</th>\n",
       "      <th>drive</th>\n",
       "      <th>state</th>\n",
       "    </tr>\n",
       "  </thead>\n",
       "  <tbody>\n",
       "    <tr>\n",
       "      <th>31</th>\n",
       "      <td>15000</td>\n",
       "      <td>2013.0</td>\n",
       "      <td>ford</td>\n",
       "      <td>truck</td>\n",
       "      <td>rwd</td>\n",
       "      <td>al</td>\n",
       "    </tr>\n",
       "    <tr>\n",
       "      <th>32</th>\n",
       "      <td>27990</td>\n",
       "      <td>2012.0</td>\n",
       "      <td>gmc</td>\n",
       "      <td>pickup</td>\n",
       "      <td>4wd</td>\n",
       "      <td>al</td>\n",
       "    </tr>\n",
       "    <tr>\n",
       "      <th>33</th>\n",
       "      <td>34590</td>\n",
       "      <td>2016.0</td>\n",
       "      <td>chevrolet</td>\n",
       "      <td>pickup</td>\n",
       "      <td>4wd</td>\n",
       "      <td>al</td>\n",
       "    </tr>\n",
       "    <tr>\n",
       "      <th>34</th>\n",
       "      <td>35000</td>\n",
       "      <td>2019.0</td>\n",
       "      <td>toyota</td>\n",
       "      <td>truck</td>\n",
       "      <td>4wd</td>\n",
       "      <td>al</td>\n",
       "    </tr>\n",
       "    <tr>\n",
       "      <th>35</th>\n",
       "      <td>29990</td>\n",
       "      <td>2016.0</td>\n",
       "      <td>chevrolet</td>\n",
       "      <td>pickup</td>\n",
       "      <td>4wd</td>\n",
       "      <td>al</td>\n",
       "    </tr>\n",
       "    <tr>\n",
       "      <th>...</th>\n",
       "      <td>...</td>\n",
       "      <td>...</td>\n",
       "      <td>...</td>\n",
       "      <td>...</td>\n",
       "      <td>...</td>\n",
       "      <td>...</td>\n",
       "    </tr>\n",
       "    <tr>\n",
       "      <th>426859</th>\n",
       "      <td>48590</td>\n",
       "      <td>2020.0</td>\n",
       "      <td>cadillac</td>\n",
       "      <td>other</td>\n",
       "      <td>fwd</td>\n",
       "      <td>wy</td>\n",
       "    </tr>\n",
       "    <tr>\n",
       "      <th>426860</th>\n",
       "      <td>39990</td>\n",
       "      <td>2017.0</td>\n",
       "      <td>infiniti</td>\n",
       "      <td>other</td>\n",
       "      <td>4wd</td>\n",
       "      <td>wy</td>\n",
       "    </tr>\n",
       "    <tr>\n",
       "      <th>426866</th>\n",
       "      <td>32990</td>\n",
       "      <td>2016.0</td>\n",
       "      <td>infiniti</td>\n",
       "      <td>other</td>\n",
       "      <td>rwd</td>\n",
       "      <td>wy</td>\n",
       "    </tr>\n",
       "    <tr>\n",
       "      <th>426874</th>\n",
       "      <td>33590</td>\n",
       "      <td>2018.0</td>\n",
       "      <td>lexus</td>\n",
       "      <td>sedan</td>\n",
       "      <td>rwd</td>\n",
       "      <td>wy</td>\n",
       "    </tr>\n",
       "    <tr>\n",
       "      <th>426878</th>\n",
       "      <td>28990</td>\n",
       "      <td>2018.0</td>\n",
       "      <td>lexus</td>\n",
       "      <td>sedan</td>\n",
       "      <td>fwd</td>\n",
       "      <td>wy</td>\n",
       "    </tr>\n",
       "  </tbody>\n",
       "</table>\n",
       "<p>110811 rows × 6 columns</p>\n",
       "</div>"
      ],
      "text/plain": [
       "        price    year manufacturer    type drive state\n",
       "31      15000  2013.0         ford   truck   rwd    al\n",
       "32      27990  2012.0          gmc  pickup   4wd    al\n",
       "33      34590  2016.0    chevrolet  pickup   4wd    al\n",
       "34      35000  2019.0       toyota   truck   4wd    al\n",
       "35      29990  2016.0    chevrolet  pickup   4wd    al\n",
       "...       ...     ...          ...     ...   ...   ...\n",
       "426859  48590  2020.0     cadillac   other   fwd    wy\n",
       "426860  39990  2017.0     infiniti   other   4wd    wy\n",
       "426866  32990  2016.0     infiniti   other   rwd    wy\n",
       "426874  33590  2018.0        lexus   sedan   rwd    wy\n",
       "426878  28990  2018.0        lexus   sedan   fwd    wy\n",
       "\n",
       "[110811 rows x 6 columns]"
      ]
     },
     "execution_count": 95,
     "metadata": {
      "tags": []
     },
     "output_type": "execute_result"
    }
   ],
   "source": [
    "cars4"
   ]
  },
  {
   "cell_type": "code",
   "execution_count": null,
   "metadata": {
    "id": "aMl1Kj2e2WFi"
   },
   "outputs": [],
   "source": [
    "pd.set_option(\"max_columns\", None)"
   ]
  },
  {
   "cell_type": "markdown",
   "metadata": {
    "id": "4_1WVNfJAiRr"
   },
   "source": [
    "Now lets implement the OneHot code using the .get_dummies() method."
   ]
  },
  {
   "cell_type": "code",
   "execution_count": null,
   "metadata": {
    "colab": {
     "base_uri": "https://localhost:8080/",
     "height": 419
    },
    "executionInfo": {
     "elapsed": 474,
     "status": "ok",
     "timestamp": 1625096216057,
     "user": {
      "displayName": "nasiru sule",
      "photoUrl": "https://lh3.googleusercontent.com/a-/AOh14GiVuRFYjI43LxMj_Q8ZlQSSi4rs-Su2HdfNPNxp7A=s64",
      "userId": "16455627822583485460"
     },
     "user_tz": -60
    },
    "id": "4A1EaHf833Ns",
    "outputId": "520508b9-c79a-42b5-9c79-f1f46248b28f"
   },
   "outputs": [
    {
     "data": {
      "text/html": [
       "<div>\n",
       "<style scoped>\n",
       "    .dataframe tbody tr th:only-of-type {\n",
       "        vertical-align: middle;\n",
       "    }\n",
       "\n",
       "    .dataframe tbody tr th {\n",
       "        vertical-align: top;\n",
       "    }\n",
       "\n",
       "    .dataframe thead th {\n",
       "        text-align: right;\n",
       "    }\n",
       "</style>\n",
       "<table border=\"1\" class=\"dataframe\">\n",
       "  <thead>\n",
       "    <tr style=\"text-align: right;\">\n",
       "      <th></th>\n",
       "      <th>price</th>\n",
       "      <th>year</th>\n",
       "      <th>manufacturer</th>\n",
       "      <th>type</th>\n",
       "      <th>state</th>\n",
       "      <th>Drive_type_4wd</th>\n",
       "      <th>Drive_type_fwd</th>\n",
       "      <th>Drive_type_rwd</th>\n",
       "    </tr>\n",
       "  </thead>\n",
       "  <tbody>\n",
       "    <tr>\n",
       "      <th>31</th>\n",
       "      <td>15000</td>\n",
       "      <td>2013.0</td>\n",
       "      <td>ford</td>\n",
       "      <td>truck</td>\n",
       "      <td>al</td>\n",
       "      <td>0</td>\n",
       "      <td>0</td>\n",
       "      <td>1</td>\n",
       "    </tr>\n",
       "    <tr>\n",
       "      <th>32</th>\n",
       "      <td>27990</td>\n",
       "      <td>2012.0</td>\n",
       "      <td>gmc</td>\n",
       "      <td>pickup</td>\n",
       "      <td>al</td>\n",
       "      <td>1</td>\n",
       "      <td>0</td>\n",
       "      <td>0</td>\n",
       "    </tr>\n",
       "    <tr>\n",
       "      <th>33</th>\n",
       "      <td>34590</td>\n",
       "      <td>2016.0</td>\n",
       "      <td>chevrolet</td>\n",
       "      <td>pickup</td>\n",
       "      <td>al</td>\n",
       "      <td>1</td>\n",
       "      <td>0</td>\n",
       "      <td>0</td>\n",
       "    </tr>\n",
       "    <tr>\n",
       "      <th>34</th>\n",
       "      <td>35000</td>\n",
       "      <td>2019.0</td>\n",
       "      <td>toyota</td>\n",
       "      <td>truck</td>\n",
       "      <td>al</td>\n",
       "      <td>1</td>\n",
       "      <td>0</td>\n",
       "      <td>0</td>\n",
       "    </tr>\n",
       "    <tr>\n",
       "      <th>35</th>\n",
       "      <td>29990</td>\n",
       "      <td>2016.0</td>\n",
       "      <td>chevrolet</td>\n",
       "      <td>pickup</td>\n",
       "      <td>al</td>\n",
       "      <td>1</td>\n",
       "      <td>0</td>\n",
       "      <td>0</td>\n",
       "    </tr>\n",
       "    <tr>\n",
       "      <th>...</th>\n",
       "      <td>...</td>\n",
       "      <td>...</td>\n",
       "      <td>...</td>\n",
       "      <td>...</td>\n",
       "      <td>...</td>\n",
       "      <td>...</td>\n",
       "      <td>...</td>\n",
       "      <td>...</td>\n",
       "    </tr>\n",
       "    <tr>\n",
       "      <th>426859</th>\n",
       "      <td>48590</td>\n",
       "      <td>2020.0</td>\n",
       "      <td>cadillac</td>\n",
       "      <td>other</td>\n",
       "      <td>wy</td>\n",
       "      <td>0</td>\n",
       "      <td>1</td>\n",
       "      <td>0</td>\n",
       "    </tr>\n",
       "    <tr>\n",
       "      <th>426860</th>\n",
       "      <td>39990</td>\n",
       "      <td>2017.0</td>\n",
       "      <td>infiniti</td>\n",
       "      <td>other</td>\n",
       "      <td>wy</td>\n",
       "      <td>1</td>\n",
       "      <td>0</td>\n",
       "      <td>0</td>\n",
       "    </tr>\n",
       "    <tr>\n",
       "      <th>426866</th>\n",
       "      <td>32990</td>\n",
       "      <td>2016.0</td>\n",
       "      <td>infiniti</td>\n",
       "      <td>other</td>\n",
       "      <td>wy</td>\n",
       "      <td>0</td>\n",
       "      <td>0</td>\n",
       "      <td>1</td>\n",
       "    </tr>\n",
       "    <tr>\n",
       "      <th>426874</th>\n",
       "      <td>33590</td>\n",
       "      <td>2018.0</td>\n",
       "      <td>lexus</td>\n",
       "      <td>sedan</td>\n",
       "      <td>wy</td>\n",
       "      <td>0</td>\n",
       "      <td>0</td>\n",
       "      <td>1</td>\n",
       "    </tr>\n",
       "    <tr>\n",
       "      <th>426878</th>\n",
       "      <td>28990</td>\n",
       "      <td>2018.0</td>\n",
       "      <td>lexus</td>\n",
       "      <td>sedan</td>\n",
       "      <td>wy</td>\n",
       "      <td>0</td>\n",
       "      <td>1</td>\n",
       "      <td>0</td>\n",
       "    </tr>\n",
       "  </tbody>\n",
       "</table>\n",
       "<p>110811 rows × 8 columns</p>\n",
       "</div>"
      ],
      "text/plain": [
       "        price    year manufacturer    type state  Drive_type_4wd  \\\n",
       "31      15000  2013.0         ford   truck    al               0   \n",
       "32      27990  2012.0          gmc  pickup    al               1   \n",
       "33      34590  2016.0    chevrolet  pickup    al               1   \n",
       "34      35000  2019.0       toyota   truck    al               1   \n",
       "35      29990  2016.0    chevrolet  pickup    al               1   \n",
       "...       ...     ...          ...     ...   ...             ...   \n",
       "426859  48590  2020.0     cadillac   other    wy               0   \n",
       "426860  39990  2017.0     infiniti   other    wy               1   \n",
       "426866  32990  2016.0     infiniti   other    wy               0   \n",
       "426874  33590  2018.0        lexus   sedan    wy               0   \n",
       "426878  28990  2018.0        lexus   sedan    wy               0   \n",
       "\n",
       "        Drive_type_fwd  Drive_type_rwd  \n",
       "31                   0               1  \n",
       "32                   0               0  \n",
       "33                   0               0  \n",
       "34                   0               0  \n",
       "35                   0               0  \n",
       "...                ...             ...  \n",
       "426859               1               0  \n",
       "426860               0               0  \n",
       "426866               0               1  \n",
       "426874               0               1  \n",
       "426878               1               0  \n",
       "\n",
       "[110811 rows x 8 columns]"
      ]
     },
     "execution_count": 97,
     "metadata": {
      "tags": []
     },
     "output_type": "execute_result"
    }
   ],
   "source": [
    "cars_OneHot = pd.get_dummies(cars4, columns= [\"drive\"], prefix= \"Drive_type\")\n",
    "cars_OneHot"
   ]
  },
  {
   "cell_type": "code",
   "execution_count": null,
   "metadata": {
    "colab": {
     "base_uri": "https://localhost:8080/",
     "height": 419
    },
    "executionInfo": {
     "elapsed": 389,
     "status": "ok",
     "timestamp": 1625096323677,
     "user": {
      "displayName": "nasiru sule",
      "photoUrl": "https://lh3.googleusercontent.com/a-/AOh14GiVuRFYjI43LxMj_Q8ZlQSSi4rs-Su2HdfNPNxp7A=s64",
      "userId": "16455627822583485460"
     },
     "user_tz": -60
    },
    "id": "vGuStPDRVaB7",
    "outputId": "2a4dec17-3d01-4965-9bb3-d6548ccd30b4"
   },
   "outputs": [
    {
     "data": {
      "text/html": [
       "<div>\n",
       "<style scoped>\n",
       "    .dataframe tbody tr th:only-of-type {\n",
       "        vertical-align: middle;\n",
       "    }\n",
       "\n",
       "    .dataframe tbody tr th {\n",
       "        vertical-align: top;\n",
       "    }\n",
       "\n",
       "    .dataframe thead th {\n",
       "        text-align: right;\n",
       "    }\n",
       "</style>\n",
       "<table border=\"1\" class=\"dataframe\">\n",
       "  <thead>\n",
       "    <tr style=\"text-align: right;\">\n",
       "      <th></th>\n",
       "      <th>price</th>\n",
       "      <th>year</th>\n",
       "      <th>manufacturer</th>\n",
       "      <th>type</th>\n",
       "      <th>state</th>\n",
       "      <th>Drive_type_4wd</th>\n",
       "      <th>Drive_type_fwd</th>\n",
       "      <th>Drive_type_rwd</th>\n",
       "      <th>drive</th>\n",
       "    </tr>\n",
       "  </thead>\n",
       "  <tbody>\n",
       "    <tr>\n",
       "      <th>31</th>\n",
       "      <td>15000</td>\n",
       "      <td>2013.0</td>\n",
       "      <td>ford</td>\n",
       "      <td>truck</td>\n",
       "      <td>al</td>\n",
       "      <td>0</td>\n",
       "      <td>0</td>\n",
       "      <td>1</td>\n",
       "      <td>rwd</td>\n",
       "    </tr>\n",
       "    <tr>\n",
       "      <th>32</th>\n",
       "      <td>27990</td>\n",
       "      <td>2012.0</td>\n",
       "      <td>gmc</td>\n",
       "      <td>pickup</td>\n",
       "      <td>al</td>\n",
       "      <td>1</td>\n",
       "      <td>0</td>\n",
       "      <td>0</td>\n",
       "      <td>4wd</td>\n",
       "    </tr>\n",
       "    <tr>\n",
       "      <th>33</th>\n",
       "      <td>34590</td>\n",
       "      <td>2016.0</td>\n",
       "      <td>chevrolet</td>\n",
       "      <td>pickup</td>\n",
       "      <td>al</td>\n",
       "      <td>1</td>\n",
       "      <td>0</td>\n",
       "      <td>0</td>\n",
       "      <td>4wd</td>\n",
       "    </tr>\n",
       "    <tr>\n",
       "      <th>34</th>\n",
       "      <td>35000</td>\n",
       "      <td>2019.0</td>\n",
       "      <td>toyota</td>\n",
       "      <td>truck</td>\n",
       "      <td>al</td>\n",
       "      <td>1</td>\n",
       "      <td>0</td>\n",
       "      <td>0</td>\n",
       "      <td>4wd</td>\n",
       "    </tr>\n",
       "    <tr>\n",
       "      <th>35</th>\n",
       "      <td>29990</td>\n",
       "      <td>2016.0</td>\n",
       "      <td>chevrolet</td>\n",
       "      <td>pickup</td>\n",
       "      <td>al</td>\n",
       "      <td>1</td>\n",
       "      <td>0</td>\n",
       "      <td>0</td>\n",
       "      <td>4wd</td>\n",
       "    </tr>\n",
       "    <tr>\n",
       "      <th>...</th>\n",
       "      <td>...</td>\n",
       "      <td>...</td>\n",
       "      <td>...</td>\n",
       "      <td>...</td>\n",
       "      <td>...</td>\n",
       "      <td>...</td>\n",
       "      <td>...</td>\n",
       "      <td>...</td>\n",
       "      <td>...</td>\n",
       "    </tr>\n",
       "    <tr>\n",
       "      <th>426859</th>\n",
       "      <td>48590</td>\n",
       "      <td>2020.0</td>\n",
       "      <td>cadillac</td>\n",
       "      <td>other</td>\n",
       "      <td>wy</td>\n",
       "      <td>0</td>\n",
       "      <td>1</td>\n",
       "      <td>0</td>\n",
       "      <td>fwd</td>\n",
       "    </tr>\n",
       "    <tr>\n",
       "      <th>426860</th>\n",
       "      <td>39990</td>\n",
       "      <td>2017.0</td>\n",
       "      <td>infiniti</td>\n",
       "      <td>other</td>\n",
       "      <td>wy</td>\n",
       "      <td>1</td>\n",
       "      <td>0</td>\n",
       "      <td>0</td>\n",
       "      <td>4wd</td>\n",
       "    </tr>\n",
       "    <tr>\n",
       "      <th>426866</th>\n",
       "      <td>32990</td>\n",
       "      <td>2016.0</td>\n",
       "      <td>infiniti</td>\n",
       "      <td>other</td>\n",
       "      <td>wy</td>\n",
       "      <td>0</td>\n",
       "      <td>0</td>\n",
       "      <td>1</td>\n",
       "      <td>rwd</td>\n",
       "    </tr>\n",
       "    <tr>\n",
       "      <th>426874</th>\n",
       "      <td>33590</td>\n",
       "      <td>2018.0</td>\n",
       "      <td>lexus</td>\n",
       "      <td>sedan</td>\n",
       "      <td>wy</td>\n",
       "      <td>0</td>\n",
       "      <td>0</td>\n",
       "      <td>1</td>\n",
       "      <td>rwd</td>\n",
       "    </tr>\n",
       "    <tr>\n",
       "      <th>426878</th>\n",
       "      <td>28990</td>\n",
       "      <td>2018.0</td>\n",
       "      <td>lexus</td>\n",
       "      <td>sedan</td>\n",
       "      <td>wy</td>\n",
       "      <td>0</td>\n",
       "      <td>1</td>\n",
       "      <td>0</td>\n",
       "      <td>fwd</td>\n",
       "    </tr>\n",
       "  </tbody>\n",
       "</table>\n",
       "<p>110811 rows × 9 columns</p>\n",
       "</div>"
      ],
      "text/plain": [
       "        price    year manufacturer    type state  Drive_type_4wd  \\\n",
       "31      15000  2013.0         ford   truck    al               0   \n",
       "32      27990  2012.0          gmc  pickup    al               1   \n",
       "33      34590  2016.0    chevrolet  pickup    al               1   \n",
       "34      35000  2019.0       toyota   truck    al               1   \n",
       "35      29990  2016.0    chevrolet  pickup    al               1   \n",
       "...       ...     ...          ...     ...   ...             ...   \n",
       "426859  48590  2020.0     cadillac   other    wy               0   \n",
       "426860  39990  2017.0     infiniti   other    wy               1   \n",
       "426866  32990  2016.0     infiniti   other    wy               0   \n",
       "426874  33590  2018.0        lexus   sedan    wy               0   \n",
       "426878  28990  2018.0        lexus   sedan    wy               0   \n",
       "\n",
       "        Drive_type_fwd  Drive_type_rwd drive  \n",
       "31                   0               1   rwd  \n",
       "32                   0               0   4wd  \n",
       "33                   0               0   4wd  \n",
       "34                   0               0   4wd  \n",
       "35                   0               0   4wd  \n",
       "...                ...             ...   ...  \n",
       "426859               1               0   fwd  \n",
       "426860               0               0   4wd  \n",
       "426866               0               1   rwd  \n",
       "426874               0               1   rwd  \n",
       "426878               1               0   fwd  \n",
       "\n",
       "[110811 rows x 9 columns]"
      ]
     },
     "execution_count": 99,
     "metadata": {
      "tags": []
     },
     "output_type": "execute_result"
    }
   ],
   "source": [
    "cars_OneHot[\"drive\"] = cars4.drive\n",
    "cars_OneHot"
   ]
  },
  {
   "cell_type": "markdown",
   "metadata": {
    "id": "nxUqDPe_bIu6"
   },
   "source": [
    "We will add the original drive column back to the cars_OneHot df."
   ]
  },
  {
   "cell_type": "markdown",
   "metadata": {
    "id": "acnq1p6eA2Yy"
   },
   "source": [
    "Next, we will create a dataframe grouped by the manufacturer names."
   ]
  },
  {
   "cell_type": "code",
   "execution_count": null,
   "metadata": {
    "id": "YY29uL364zSx"
   },
   "outputs": [],
   "source": [
    "manufacturer_DriveType = cars_OneHot.groupby('manufacturer')[[\"Drive_type_4wd\", \"Drive_type_fwd\", \"Drive_type_rwd\"]].sum()"
   ]
  },
  {
   "cell_type": "code",
   "execution_count": null,
   "metadata": {
    "colab": {
     "base_uri": "https://localhost:8080/",
     "height": 1000
    },
    "executionInfo": {
     "elapsed": 64,
     "status": "ok",
     "timestamp": 1625096335698,
     "user": {
      "displayName": "nasiru sule",
      "photoUrl": "https://lh3.googleusercontent.com/a-/AOh14GiVuRFYjI43LxMj_Q8ZlQSSi4rs-Su2HdfNPNxp7A=s64",
      "userId": "16455627822583485460"
     },
     "user_tz": -60
    },
    "id": "UilNQVlT71jX",
    "outputId": "e78e2bba-b2f8-4e1a-8081-09559f8f7636"
   },
   "outputs": [
    {
     "data": {
      "text/html": [
       "<div>\n",
       "<style scoped>\n",
       "    .dataframe tbody tr th:only-of-type {\n",
       "        vertical-align: middle;\n",
       "    }\n",
       "\n",
       "    .dataframe tbody tr th {\n",
       "        vertical-align: top;\n",
       "    }\n",
       "\n",
       "    .dataframe thead th {\n",
       "        text-align: right;\n",
       "    }\n",
       "</style>\n",
       "<table border=\"1\" class=\"dataframe\">\n",
       "  <thead>\n",
       "    <tr style=\"text-align: right;\">\n",
       "      <th></th>\n",
       "      <th>Drive_type_4wd</th>\n",
       "      <th>Drive_type_fwd</th>\n",
       "      <th>Drive_type_rwd</th>\n",
       "    </tr>\n",
       "    <tr>\n",
       "      <th>manufacturer</th>\n",
       "      <th></th>\n",
       "      <th></th>\n",
       "      <th></th>\n",
       "    </tr>\n",
       "  </thead>\n",
       "  <tbody>\n",
       "    <tr>\n",
       "      <th>acura</th>\n",
       "      <td>366.0</td>\n",
       "      <td>804.0</td>\n",
       "      <td>29.0</td>\n",
       "    </tr>\n",
       "    <tr>\n",
       "      <th>alfa-romeo</th>\n",
       "      <td>13.0</td>\n",
       "      <td>3.0</td>\n",
       "      <td>29.0</td>\n",
       "    </tr>\n",
       "    <tr>\n",
       "      <th>aston-martin</th>\n",
       "      <td>0.0</td>\n",
       "      <td>0.0</td>\n",
       "      <td>5.0</td>\n",
       "    </tr>\n",
       "    <tr>\n",
       "      <th>audi</th>\n",
       "      <td>1010.0</td>\n",
       "      <td>205.0</td>\n",
       "      <td>20.0</td>\n",
       "    </tr>\n",
       "    <tr>\n",
       "      <th>bmw</th>\n",
       "      <td>1404.0</td>\n",
       "      <td>150.0</td>\n",
       "      <td>1572.0</td>\n",
       "    </tr>\n",
       "    <tr>\n",
       "      <th>buick</th>\n",
       "      <td>261.0</td>\n",
       "      <td>1104.0</td>\n",
       "      <td>129.0</td>\n",
       "    </tr>\n",
       "    <tr>\n",
       "      <th>cadillac</th>\n",
       "      <td>592.0</td>\n",
       "      <td>608.0</td>\n",
       "      <td>415.0</td>\n",
       "    </tr>\n",
       "    <tr>\n",
       "      <th>chevrolet</th>\n",
       "      <td>6871.0</td>\n",
       "      <td>4191.0</td>\n",
       "      <td>5750.0</td>\n",
       "    </tr>\n",
       "    <tr>\n",
       "      <th>chrysler</th>\n",
       "      <td>126.0</td>\n",
       "      <td>1331.0</td>\n",
       "      <td>478.0</td>\n",
       "    </tr>\n",
       "    <tr>\n",
       "      <th>datsun</th>\n",
       "      <td>0.0</td>\n",
       "      <td>0.0</td>\n",
       "      <td>22.0</td>\n",
       "    </tr>\n",
       "    <tr>\n",
       "      <th>dodge</th>\n",
       "      <td>708.0</td>\n",
       "      <td>1496.0</td>\n",
       "      <td>1808.0</td>\n",
       "    </tr>\n",
       "    <tr>\n",
       "      <th>ferrari</th>\n",
       "      <td>0.0</td>\n",
       "      <td>0.0</td>\n",
       "      <td>19.0</td>\n",
       "    </tr>\n",
       "    <tr>\n",
       "      <th>fiat</th>\n",
       "      <td>2.0</td>\n",
       "      <td>132.0</td>\n",
       "      <td>33.0</td>\n",
       "    </tr>\n",
       "    <tr>\n",
       "      <th>ford</th>\n",
       "      <td>8999.0</td>\n",
       "      <td>4160.0</td>\n",
       "      <td>6515.0</td>\n",
       "    </tr>\n",
       "    <tr>\n",
       "      <th>gmc</th>\n",
       "      <td>3422.0</td>\n",
       "      <td>354.0</td>\n",
       "      <td>809.0</td>\n",
       "    </tr>\n",
       "    <tr>\n",
       "      <th>harley-davidson</th>\n",
       "      <td>7.0</td>\n",
       "      <td>3.0</td>\n",
       "      <td>21.0</td>\n",
       "    </tr>\n",
       "    <tr>\n",
       "      <th>honda</th>\n",
       "      <td>1471.0</td>\n",
       "      <td>4833.0</td>\n",
       "      <td>123.0</td>\n",
       "    </tr>\n",
       "    <tr>\n",
       "      <th>hyundai</th>\n",
       "      <td>351.0</td>\n",
       "      <td>1924.0</td>\n",
       "      <td>231.0</td>\n",
       "    </tr>\n",
       "    <tr>\n",
       "      <th>infiniti</th>\n",
       "      <td>542.0</td>\n",
       "      <td>284.0</td>\n",
       "      <td>596.0</td>\n",
       "    </tr>\n",
       "    <tr>\n",
       "      <th>jaguar</th>\n",
       "      <td>45.0</td>\n",
       "      <td>25.0</td>\n",
       "      <td>295.0</td>\n",
       "    </tr>\n",
       "    <tr>\n",
       "      <th>jeep</th>\n",
       "      <td>5041.0</td>\n",
       "      <td>308.0</td>\n",
       "      <td>204.0</td>\n",
       "    </tr>\n",
       "    <tr>\n",
       "      <th>kia</th>\n",
       "      <td>229.0</td>\n",
       "      <td>1564.0</td>\n",
       "      <td>108.0</td>\n",
       "    </tr>\n",
       "    <tr>\n",
       "      <th>land rover</th>\n",
       "      <td>8.0</td>\n",
       "      <td>0.0</td>\n",
       "      <td>0.0</td>\n",
       "    </tr>\n",
       "    <tr>\n",
       "      <th>lexus</th>\n",
       "      <td>701.0</td>\n",
       "      <td>761.0</td>\n",
       "      <td>692.0</td>\n",
       "    </tr>\n",
       "    <tr>\n",
       "      <th>lincoln</th>\n",
       "      <td>386.0</td>\n",
       "      <td>485.0</td>\n",
       "      <td>274.0</td>\n",
       "    </tr>\n",
       "    <tr>\n",
       "      <th>mazda</th>\n",
       "      <td>195.0</td>\n",
       "      <td>901.0</td>\n",
       "      <td>209.0</td>\n",
       "    </tr>\n",
       "    <tr>\n",
       "      <th>mercedes-benz</th>\n",
       "      <td>1063.0</td>\n",
       "      <td>170.0</td>\n",
       "      <td>1594.0</td>\n",
       "    </tr>\n",
       "    <tr>\n",
       "      <th>mercury</th>\n",
       "      <td>83.0</td>\n",
       "      <td>175.0</td>\n",
       "      <td>217.0</td>\n",
       "    </tr>\n",
       "    <tr>\n",
       "      <th>mini</th>\n",
       "      <td>63.0</td>\n",
       "      <td>438.0</td>\n",
       "      <td>16.0</td>\n",
       "    </tr>\n",
       "    <tr>\n",
       "      <th>mitsubishi</th>\n",
       "      <td>277.0</td>\n",
       "      <td>392.0</td>\n",
       "      <td>197.0</td>\n",
       "    </tr>\n",
       "    <tr>\n",
       "      <th>nissan</th>\n",
       "      <td>1911.0</td>\n",
       "      <td>3132.0</td>\n",
       "      <td>920.0</td>\n",
       "    </tr>\n",
       "    <tr>\n",
       "      <th>pontiac</th>\n",
       "      <td>37.0</td>\n",
       "      <td>531.0</td>\n",
       "      <td>326.0</td>\n",
       "    </tr>\n",
       "    <tr>\n",
       "      <th>porsche</th>\n",
       "      <td>145.0</td>\n",
       "      <td>1.0</td>\n",
       "      <td>203.0</td>\n",
       "    </tr>\n",
       "    <tr>\n",
       "      <th>ram</th>\n",
       "      <td>3080.0</td>\n",
       "      <td>159.0</td>\n",
       "      <td>690.0</td>\n",
       "    </tr>\n",
       "    <tr>\n",
       "      <th>rover</th>\n",
       "      <td>396.0</td>\n",
       "      <td>6.0</td>\n",
       "      <td>2.0</td>\n",
       "    </tr>\n",
       "    <tr>\n",
       "      <th>saturn</th>\n",
       "      <td>44.0</td>\n",
       "      <td>329.0</td>\n",
       "      <td>41.0</td>\n",
       "    </tr>\n",
       "    <tr>\n",
       "      <th>subaru</th>\n",
       "      <td>2557.0</td>\n",
       "      <td>97.0</td>\n",
       "      <td>16.0</td>\n",
       "    </tr>\n",
       "    <tr>\n",
       "      <th>tesla</th>\n",
       "      <td>24.0</td>\n",
       "      <td>1.0</td>\n",
       "      <td>17.0</td>\n",
       "    </tr>\n",
       "    <tr>\n",
       "      <th>toyota</th>\n",
       "      <td>3830.0</td>\n",
       "      <td>4738.0</td>\n",
       "      <td>1034.0</td>\n",
       "    </tr>\n",
       "    <tr>\n",
       "      <th>volkswagen</th>\n",
       "      <td>243.0</td>\n",
       "      <td>1854.0</td>\n",
       "      <td>193.0</td>\n",
       "    </tr>\n",
       "    <tr>\n",
       "      <th>volvo</th>\n",
       "      <td>382.0</td>\n",
       "      <td>356.0</td>\n",
       "      <td>69.0</td>\n",
       "    </tr>\n",
       "  </tbody>\n",
       "</table>\n",
       "</div>"
      ],
      "text/plain": [
       "                 Drive_type_4wd  Drive_type_fwd  Drive_type_rwd\n",
       "manufacturer                                                   \n",
       "acura                     366.0           804.0            29.0\n",
       "alfa-romeo                 13.0             3.0            29.0\n",
       "aston-martin                0.0             0.0             5.0\n",
       "audi                     1010.0           205.0            20.0\n",
       "bmw                      1404.0           150.0          1572.0\n",
       "buick                     261.0          1104.0           129.0\n",
       "cadillac                  592.0           608.0           415.0\n",
       "chevrolet                6871.0          4191.0          5750.0\n",
       "chrysler                  126.0          1331.0           478.0\n",
       "datsun                      0.0             0.0            22.0\n",
       "dodge                     708.0          1496.0          1808.0\n",
       "ferrari                     0.0             0.0            19.0\n",
       "fiat                        2.0           132.0            33.0\n",
       "ford                     8999.0          4160.0          6515.0\n",
       "gmc                      3422.0           354.0           809.0\n",
       "harley-davidson             7.0             3.0            21.0\n",
       "honda                    1471.0          4833.0           123.0\n",
       "hyundai                   351.0          1924.0           231.0\n",
       "infiniti                  542.0           284.0           596.0\n",
       "jaguar                     45.0            25.0           295.0\n",
       "jeep                     5041.0           308.0           204.0\n",
       "kia                       229.0          1564.0           108.0\n",
       "land rover                  8.0             0.0             0.0\n",
       "lexus                     701.0           761.0           692.0\n",
       "lincoln                   386.0           485.0           274.0\n",
       "mazda                     195.0           901.0           209.0\n",
       "mercedes-benz            1063.0           170.0          1594.0\n",
       "mercury                    83.0           175.0           217.0\n",
       "mini                       63.0           438.0            16.0\n",
       "mitsubishi                277.0           392.0           197.0\n",
       "nissan                   1911.0          3132.0           920.0\n",
       "pontiac                    37.0           531.0           326.0\n",
       "porsche                   145.0             1.0           203.0\n",
       "ram                      3080.0           159.0           690.0\n",
       "rover                     396.0             6.0             2.0\n",
       "saturn                     44.0           329.0            41.0\n",
       "subaru                   2557.0            97.0            16.0\n",
       "tesla                      24.0             1.0            17.0\n",
       "toyota                   3830.0          4738.0          1034.0\n",
       "volkswagen                243.0          1854.0           193.0\n",
       "volvo                     382.0           356.0            69.0"
      ]
     },
     "execution_count": 101,
     "metadata": {
      "tags": []
     },
     "output_type": "execute_result"
    }
   ],
   "source": [
    "manufacturer_DriveType"
   ]
  },
  {
   "cell_type": "code",
   "execution_count": null,
   "metadata": {
    "id": "Qi3fADNRbX_p"
   },
   "outputs": [],
   "source": [
    "manufacturer_DriveType= pd.DataFrame(manufacturer_DriveType.reset_index())"
   ]
  },
  {
   "cell_type": "code",
   "execution_count": null,
   "metadata": {
    "colab": {
     "base_uri": "https://localhost:8080/",
     "height": 1000
    },
    "executionInfo": {
     "elapsed": 365,
     "status": "ok",
     "timestamp": 1625096343276,
     "user": {
      "displayName": "nasiru sule",
      "photoUrl": "https://lh3.googleusercontent.com/a-/AOh14GiVuRFYjI43LxMj_Q8ZlQSSi4rs-Su2HdfNPNxp7A=s64",
      "userId": "16455627822583485460"
     },
     "user_tz": -60
    },
    "id": "7LgyNCVQd3OQ",
    "outputId": "d9de5887-3f0b-4662-e1cf-8f49bc2b30a0"
   },
   "outputs": [
    {
     "data": {
      "text/html": [
       "<div>\n",
       "<style scoped>\n",
       "    .dataframe tbody tr th:only-of-type {\n",
       "        vertical-align: middle;\n",
       "    }\n",
       "\n",
       "    .dataframe tbody tr th {\n",
       "        vertical-align: top;\n",
       "    }\n",
       "\n",
       "    .dataframe thead th {\n",
       "        text-align: right;\n",
       "    }\n",
       "</style>\n",
       "<table border=\"1\" class=\"dataframe\">\n",
       "  <thead>\n",
       "    <tr style=\"text-align: right;\">\n",
       "      <th></th>\n",
       "      <th>manufacturer</th>\n",
       "      <th>Drive_type_4wd</th>\n",
       "      <th>Drive_type_fwd</th>\n",
       "      <th>Drive_type_rwd</th>\n",
       "    </tr>\n",
       "  </thead>\n",
       "  <tbody>\n",
       "    <tr>\n",
       "      <th>0</th>\n",
       "      <td>acura</td>\n",
       "      <td>366.0</td>\n",
       "      <td>804.0</td>\n",
       "      <td>29.0</td>\n",
       "    </tr>\n",
       "    <tr>\n",
       "      <th>1</th>\n",
       "      <td>alfa-romeo</td>\n",
       "      <td>13.0</td>\n",
       "      <td>3.0</td>\n",
       "      <td>29.0</td>\n",
       "    </tr>\n",
       "    <tr>\n",
       "      <th>2</th>\n",
       "      <td>aston-martin</td>\n",
       "      <td>0.0</td>\n",
       "      <td>0.0</td>\n",
       "      <td>5.0</td>\n",
       "    </tr>\n",
       "    <tr>\n",
       "      <th>3</th>\n",
       "      <td>audi</td>\n",
       "      <td>1010.0</td>\n",
       "      <td>205.0</td>\n",
       "      <td>20.0</td>\n",
       "    </tr>\n",
       "    <tr>\n",
       "      <th>4</th>\n",
       "      <td>bmw</td>\n",
       "      <td>1404.0</td>\n",
       "      <td>150.0</td>\n",
       "      <td>1572.0</td>\n",
       "    </tr>\n",
       "    <tr>\n",
       "      <th>5</th>\n",
       "      <td>buick</td>\n",
       "      <td>261.0</td>\n",
       "      <td>1104.0</td>\n",
       "      <td>129.0</td>\n",
       "    </tr>\n",
       "    <tr>\n",
       "      <th>6</th>\n",
       "      <td>cadillac</td>\n",
       "      <td>592.0</td>\n",
       "      <td>608.0</td>\n",
       "      <td>415.0</td>\n",
       "    </tr>\n",
       "    <tr>\n",
       "      <th>7</th>\n",
       "      <td>chevrolet</td>\n",
       "      <td>6871.0</td>\n",
       "      <td>4191.0</td>\n",
       "      <td>5750.0</td>\n",
       "    </tr>\n",
       "    <tr>\n",
       "      <th>8</th>\n",
       "      <td>chrysler</td>\n",
       "      <td>126.0</td>\n",
       "      <td>1331.0</td>\n",
       "      <td>478.0</td>\n",
       "    </tr>\n",
       "    <tr>\n",
       "      <th>9</th>\n",
       "      <td>datsun</td>\n",
       "      <td>0.0</td>\n",
       "      <td>0.0</td>\n",
       "      <td>22.0</td>\n",
       "    </tr>\n",
       "    <tr>\n",
       "      <th>10</th>\n",
       "      <td>dodge</td>\n",
       "      <td>708.0</td>\n",
       "      <td>1496.0</td>\n",
       "      <td>1808.0</td>\n",
       "    </tr>\n",
       "    <tr>\n",
       "      <th>11</th>\n",
       "      <td>ferrari</td>\n",
       "      <td>0.0</td>\n",
       "      <td>0.0</td>\n",
       "      <td>19.0</td>\n",
       "    </tr>\n",
       "    <tr>\n",
       "      <th>12</th>\n",
       "      <td>fiat</td>\n",
       "      <td>2.0</td>\n",
       "      <td>132.0</td>\n",
       "      <td>33.0</td>\n",
       "    </tr>\n",
       "    <tr>\n",
       "      <th>13</th>\n",
       "      <td>ford</td>\n",
       "      <td>8999.0</td>\n",
       "      <td>4160.0</td>\n",
       "      <td>6515.0</td>\n",
       "    </tr>\n",
       "    <tr>\n",
       "      <th>14</th>\n",
       "      <td>gmc</td>\n",
       "      <td>3422.0</td>\n",
       "      <td>354.0</td>\n",
       "      <td>809.0</td>\n",
       "    </tr>\n",
       "    <tr>\n",
       "      <th>15</th>\n",
       "      <td>harley-davidson</td>\n",
       "      <td>7.0</td>\n",
       "      <td>3.0</td>\n",
       "      <td>21.0</td>\n",
       "    </tr>\n",
       "    <tr>\n",
       "      <th>16</th>\n",
       "      <td>honda</td>\n",
       "      <td>1471.0</td>\n",
       "      <td>4833.0</td>\n",
       "      <td>123.0</td>\n",
       "    </tr>\n",
       "    <tr>\n",
       "      <th>17</th>\n",
       "      <td>hyundai</td>\n",
       "      <td>351.0</td>\n",
       "      <td>1924.0</td>\n",
       "      <td>231.0</td>\n",
       "    </tr>\n",
       "    <tr>\n",
       "      <th>18</th>\n",
       "      <td>infiniti</td>\n",
       "      <td>542.0</td>\n",
       "      <td>284.0</td>\n",
       "      <td>596.0</td>\n",
       "    </tr>\n",
       "    <tr>\n",
       "      <th>19</th>\n",
       "      <td>jaguar</td>\n",
       "      <td>45.0</td>\n",
       "      <td>25.0</td>\n",
       "      <td>295.0</td>\n",
       "    </tr>\n",
       "    <tr>\n",
       "      <th>20</th>\n",
       "      <td>jeep</td>\n",
       "      <td>5041.0</td>\n",
       "      <td>308.0</td>\n",
       "      <td>204.0</td>\n",
       "    </tr>\n",
       "    <tr>\n",
       "      <th>21</th>\n",
       "      <td>kia</td>\n",
       "      <td>229.0</td>\n",
       "      <td>1564.0</td>\n",
       "      <td>108.0</td>\n",
       "    </tr>\n",
       "    <tr>\n",
       "      <th>22</th>\n",
       "      <td>land rover</td>\n",
       "      <td>8.0</td>\n",
       "      <td>0.0</td>\n",
       "      <td>0.0</td>\n",
       "    </tr>\n",
       "    <tr>\n",
       "      <th>23</th>\n",
       "      <td>lexus</td>\n",
       "      <td>701.0</td>\n",
       "      <td>761.0</td>\n",
       "      <td>692.0</td>\n",
       "    </tr>\n",
       "    <tr>\n",
       "      <th>24</th>\n",
       "      <td>lincoln</td>\n",
       "      <td>386.0</td>\n",
       "      <td>485.0</td>\n",
       "      <td>274.0</td>\n",
       "    </tr>\n",
       "    <tr>\n",
       "      <th>25</th>\n",
       "      <td>mazda</td>\n",
       "      <td>195.0</td>\n",
       "      <td>901.0</td>\n",
       "      <td>209.0</td>\n",
       "    </tr>\n",
       "    <tr>\n",
       "      <th>26</th>\n",
       "      <td>mercedes-benz</td>\n",
       "      <td>1063.0</td>\n",
       "      <td>170.0</td>\n",
       "      <td>1594.0</td>\n",
       "    </tr>\n",
       "    <tr>\n",
       "      <th>27</th>\n",
       "      <td>mercury</td>\n",
       "      <td>83.0</td>\n",
       "      <td>175.0</td>\n",
       "      <td>217.0</td>\n",
       "    </tr>\n",
       "    <tr>\n",
       "      <th>28</th>\n",
       "      <td>mini</td>\n",
       "      <td>63.0</td>\n",
       "      <td>438.0</td>\n",
       "      <td>16.0</td>\n",
       "    </tr>\n",
       "    <tr>\n",
       "      <th>29</th>\n",
       "      <td>mitsubishi</td>\n",
       "      <td>277.0</td>\n",
       "      <td>392.0</td>\n",
       "      <td>197.0</td>\n",
       "    </tr>\n",
       "    <tr>\n",
       "      <th>30</th>\n",
       "      <td>nissan</td>\n",
       "      <td>1911.0</td>\n",
       "      <td>3132.0</td>\n",
       "      <td>920.0</td>\n",
       "    </tr>\n",
       "    <tr>\n",
       "      <th>31</th>\n",
       "      <td>pontiac</td>\n",
       "      <td>37.0</td>\n",
       "      <td>531.0</td>\n",
       "      <td>326.0</td>\n",
       "    </tr>\n",
       "    <tr>\n",
       "      <th>32</th>\n",
       "      <td>porsche</td>\n",
       "      <td>145.0</td>\n",
       "      <td>1.0</td>\n",
       "      <td>203.0</td>\n",
       "    </tr>\n",
       "    <tr>\n",
       "      <th>33</th>\n",
       "      <td>ram</td>\n",
       "      <td>3080.0</td>\n",
       "      <td>159.0</td>\n",
       "      <td>690.0</td>\n",
       "    </tr>\n",
       "    <tr>\n",
       "      <th>34</th>\n",
       "      <td>rover</td>\n",
       "      <td>396.0</td>\n",
       "      <td>6.0</td>\n",
       "      <td>2.0</td>\n",
       "    </tr>\n",
       "    <tr>\n",
       "      <th>35</th>\n",
       "      <td>saturn</td>\n",
       "      <td>44.0</td>\n",
       "      <td>329.0</td>\n",
       "      <td>41.0</td>\n",
       "    </tr>\n",
       "    <tr>\n",
       "      <th>36</th>\n",
       "      <td>subaru</td>\n",
       "      <td>2557.0</td>\n",
       "      <td>97.0</td>\n",
       "      <td>16.0</td>\n",
       "    </tr>\n",
       "    <tr>\n",
       "      <th>37</th>\n",
       "      <td>tesla</td>\n",
       "      <td>24.0</td>\n",
       "      <td>1.0</td>\n",
       "      <td>17.0</td>\n",
       "    </tr>\n",
       "    <tr>\n",
       "      <th>38</th>\n",
       "      <td>toyota</td>\n",
       "      <td>3830.0</td>\n",
       "      <td>4738.0</td>\n",
       "      <td>1034.0</td>\n",
       "    </tr>\n",
       "    <tr>\n",
       "      <th>39</th>\n",
       "      <td>volkswagen</td>\n",
       "      <td>243.0</td>\n",
       "      <td>1854.0</td>\n",
       "      <td>193.0</td>\n",
       "    </tr>\n",
       "    <tr>\n",
       "      <th>40</th>\n",
       "      <td>volvo</td>\n",
       "      <td>382.0</td>\n",
       "      <td>356.0</td>\n",
       "      <td>69.0</td>\n",
       "    </tr>\n",
       "  </tbody>\n",
       "</table>\n",
       "</div>"
      ],
      "text/plain": [
       "       manufacturer  Drive_type_4wd  Drive_type_fwd  Drive_type_rwd\n",
       "0             acura           366.0           804.0            29.0\n",
       "1        alfa-romeo            13.0             3.0            29.0\n",
       "2      aston-martin             0.0             0.0             5.0\n",
       "3              audi          1010.0           205.0            20.0\n",
       "4               bmw          1404.0           150.0          1572.0\n",
       "5             buick           261.0          1104.0           129.0\n",
       "6          cadillac           592.0           608.0           415.0\n",
       "7         chevrolet          6871.0          4191.0          5750.0\n",
       "8          chrysler           126.0          1331.0           478.0\n",
       "9            datsun             0.0             0.0            22.0\n",
       "10            dodge           708.0          1496.0          1808.0\n",
       "11          ferrari             0.0             0.0            19.0\n",
       "12             fiat             2.0           132.0            33.0\n",
       "13             ford          8999.0          4160.0          6515.0\n",
       "14              gmc          3422.0           354.0           809.0\n",
       "15  harley-davidson             7.0             3.0            21.0\n",
       "16            honda          1471.0          4833.0           123.0\n",
       "17          hyundai           351.0          1924.0           231.0\n",
       "18         infiniti           542.0           284.0           596.0\n",
       "19           jaguar            45.0            25.0           295.0\n",
       "20             jeep          5041.0           308.0           204.0\n",
       "21              kia           229.0          1564.0           108.0\n",
       "22       land rover             8.0             0.0             0.0\n",
       "23            lexus           701.0           761.0           692.0\n",
       "24          lincoln           386.0           485.0           274.0\n",
       "25            mazda           195.0           901.0           209.0\n",
       "26    mercedes-benz          1063.0           170.0          1594.0\n",
       "27          mercury            83.0           175.0           217.0\n",
       "28             mini            63.0           438.0            16.0\n",
       "29       mitsubishi           277.0           392.0           197.0\n",
       "30           nissan          1911.0          3132.0           920.0\n",
       "31          pontiac            37.0           531.0           326.0\n",
       "32          porsche           145.0             1.0           203.0\n",
       "33              ram          3080.0           159.0           690.0\n",
       "34            rover           396.0             6.0             2.0\n",
       "35           saturn            44.0           329.0            41.0\n",
       "36           subaru          2557.0            97.0            16.0\n",
       "37            tesla            24.0             1.0            17.0\n",
       "38           toyota          3830.0          4738.0          1034.0\n",
       "39       volkswagen           243.0          1854.0           193.0\n",
       "40            volvo           382.0           356.0            69.0"
      ]
     },
     "execution_count": 103,
     "metadata": {
      "tags": []
     },
     "output_type": "execute_result"
    }
   ],
   "source": [
    "manufacturer_DriveType"
   ]
  },
  {
   "cell_type": "markdown",
   "metadata": {
    "id": "D_H269tOSqeE"
   },
   "source": [
    "Lets display this in a grouped bar graph for easy interpretation."
   ]
  },
  {
   "cell_type": "code",
   "execution_count": null,
   "metadata": {
    "id": "v1kMyeqgpzdF"
   },
   "outputs": [],
   "source": [
    "import matplotlib"
   ]
  },
  {
   "cell_type": "code",
   "execution_count": null,
   "metadata": {
    "id": "hW94Jh9ppSym"
   },
   "outputs": [],
   "source": [
    "matplotlib.rcParams['font.size'] = 14\n",
    "matplotlib.rcParams['figure.figsize'] = (18, 6)\n",
    "matplotlib.rcParams['figure.facecolor'] = '#00000000'"
   ]
  },
  {
   "cell_type": "code",
   "execution_count": null,
   "metadata": {
    "colab": {
     "base_uri": "https://localhost:8080/",
     "height": 494
    },
    "executionInfo": {
     "elapsed": 1436,
     "status": "ok",
     "timestamp": 1625096394815,
     "user": {
      "displayName": "nasiru sule",
      "photoUrl": "https://lh3.googleusercontent.com/a-/AOh14GiVuRFYjI43LxMj_Q8ZlQSSi4rs-Su2HdfNPNxp7A=s64",
      "userId": "16455627822583485460"
     },
     "user_tz": -60
    },
    "id": "wjiTba0leGf8",
    "outputId": "fc2ee0d4-060b-4316-b949-48d0088d32d1"
   },
   "outputs": [
    {
     "data": {
      "image/png": "[encoded data removed]",
      "text/plain": [
       "<Figure size 1296x432 with 1 Axes>"
      ]
     },
     "metadata": {
      "needs_background": "light",
      "tags": []
     },
     "output_type": "display_data"
    }
   ],
   "source": [
    "manufacturer_DriveType.plot(y = [\"Drive_type_4wd\",\"Drive_type_fwd\", \"Drive_type_rwd\"], x = \"manufacturer\", kind = \"bar\");\n",
    "\n",
    "\n"
   ]
  },
  {
   "cell_type": "markdown",
   "metadata": {
    "id": "QuK8IxqXrwME"
   },
   "source": [
    "From the barchart above, we can see that some of the very popular American brand cars like Ford, chevrolet, Jeep and GMC do favor 4 wheel drive model while the Asian brands are of the front wheel drive model. Perhaps it has something to do with the weather and topography."
   ]
  },
  {
   "cell_type": "markdown",
   "metadata": {
    "id": "kNa3zhO25y_t"
   },
   "source": [
    "##### Q5: WHAT TYPE OF VEHICLES USE DIESEL THE MOST?"
   ]
  },
  {
   "cell_type": "markdown",
   "metadata": {
    "id": "I0tP5rhn6CWC"
   },
   "source": [
    "To answer this question, we will follow a similar approach as question 4. Since we also know that the fuel column has limited values(5 in particular), we will use the OneHot code system to make it easy to analyse. \n",
    "\n",
    "First, we wil create a dataframe with the columns that we require."
   ]
  },
  {
   "cell_type": "code",
   "execution_count": null,
   "metadata": {
    "colab": {
     "base_uri": "https://localhost:8080/",
     "height": 419
    },
    "executionInfo": {
     "elapsed": 409,
     "status": "ok",
     "timestamp": 1625096424208,
     "user": {
      "displayName": "nasiru sule",
      "photoUrl": "https://lh3.googleusercontent.com/a-/AOh14GiVuRFYjI43LxMj_Q8ZlQSSi4rs-Su2HdfNPNxp7A=s64",
      "userId": "16455627822583485460"
     },
     "user_tz": -60
    },
    "id": "GhQY-TagLta9",
    "outputId": "c100291c-b1a5-459c-d152-a38ccc7a98c0"
   },
   "outputs": [
    {
     "data": {
      "text/html": [
       "<div>\n",
       "<style scoped>\n",
       "    .dataframe tbody tr th:only-of-type {\n",
       "        vertical-align: middle;\n",
       "    }\n",
       "\n",
       "    .dataframe tbody tr th {\n",
       "        vertical-align: top;\n",
       "    }\n",
       "\n",
       "    .dataframe thead th {\n",
       "        text-align: right;\n",
       "    }\n",
       "</style>\n",
       "<table border=\"1\" class=\"dataframe\">\n",
       "  <thead>\n",
       "    <tr style=\"text-align: right;\">\n",
       "      <th></th>\n",
       "      <th>price</th>\n",
       "      <th>year</th>\n",
       "      <th>manufacturer</th>\n",
       "      <th>type</th>\n",
       "      <th>fuel</th>\n",
       "    </tr>\n",
       "  </thead>\n",
       "  <tbody>\n",
       "    <tr>\n",
       "      <th>31</th>\n",
       "      <td>15000</td>\n",
       "      <td>2013.0</td>\n",
       "      <td>ford</td>\n",
       "      <td>truck</td>\n",
       "      <td>gas</td>\n",
       "    </tr>\n",
       "    <tr>\n",
       "      <th>32</th>\n",
       "      <td>27990</td>\n",
       "      <td>2012.0</td>\n",
       "      <td>gmc</td>\n",
       "      <td>pickup</td>\n",
       "      <td>gas</td>\n",
       "    </tr>\n",
       "    <tr>\n",
       "      <th>33</th>\n",
       "      <td>34590</td>\n",
       "      <td>2016.0</td>\n",
       "      <td>chevrolet</td>\n",
       "      <td>pickup</td>\n",
       "      <td>gas</td>\n",
       "    </tr>\n",
       "    <tr>\n",
       "      <th>34</th>\n",
       "      <td>35000</td>\n",
       "      <td>2019.0</td>\n",
       "      <td>toyota</td>\n",
       "      <td>truck</td>\n",
       "      <td>gas</td>\n",
       "    </tr>\n",
       "    <tr>\n",
       "      <th>35</th>\n",
       "      <td>29990</td>\n",
       "      <td>2016.0</td>\n",
       "      <td>chevrolet</td>\n",
       "      <td>pickup</td>\n",
       "      <td>gas</td>\n",
       "    </tr>\n",
       "    <tr>\n",
       "      <th>...</th>\n",
       "      <td>...</td>\n",
       "      <td>...</td>\n",
       "      <td>...</td>\n",
       "      <td>...</td>\n",
       "      <td>...</td>\n",
       "    </tr>\n",
       "    <tr>\n",
       "      <th>426859</th>\n",
       "      <td>48590</td>\n",
       "      <td>2020.0</td>\n",
       "      <td>cadillac</td>\n",
       "      <td>other</td>\n",
       "      <td>gas</td>\n",
       "    </tr>\n",
       "    <tr>\n",
       "      <th>426860</th>\n",
       "      <td>39990</td>\n",
       "      <td>2017.0</td>\n",
       "      <td>infiniti</td>\n",
       "      <td>other</td>\n",
       "      <td>gas</td>\n",
       "    </tr>\n",
       "    <tr>\n",
       "      <th>426866</th>\n",
       "      <td>32990</td>\n",
       "      <td>2016.0</td>\n",
       "      <td>infiniti</td>\n",
       "      <td>other</td>\n",
       "      <td>gas</td>\n",
       "    </tr>\n",
       "    <tr>\n",
       "      <th>426874</th>\n",
       "      <td>33590</td>\n",
       "      <td>2018.0</td>\n",
       "      <td>lexus</td>\n",
       "      <td>sedan</td>\n",
       "      <td>gas</td>\n",
       "    </tr>\n",
       "    <tr>\n",
       "      <th>426878</th>\n",
       "      <td>28990</td>\n",
       "      <td>2018.0</td>\n",
       "      <td>lexus</td>\n",
       "      <td>sedan</td>\n",
       "      <td>gas</td>\n",
       "    </tr>\n",
       "  </tbody>\n",
       "</table>\n",
       "<p>110811 rows × 5 columns</p>\n",
       "</div>"
      ],
      "text/plain": [
       "        price    year manufacturer    type fuel\n",
       "31      15000  2013.0         ford   truck  gas\n",
       "32      27990  2012.0          gmc  pickup  gas\n",
       "33      34590  2016.0    chevrolet  pickup  gas\n",
       "34      35000  2019.0       toyota   truck  gas\n",
       "35      29990  2016.0    chevrolet  pickup  gas\n",
       "...       ...     ...          ...     ...  ...\n",
       "426859  48590  2020.0     cadillac   other  gas\n",
       "426860  39990  2017.0     infiniti   other  gas\n",
       "426866  32990  2016.0     infiniti   other  gas\n",
       "426874  33590  2018.0        lexus   sedan  gas\n",
       "426878  28990  2018.0        lexus   sedan  gas\n",
       "\n",
       "[110811 rows x 5 columns]"
      ]
     },
     "execution_count": 107,
     "metadata": {
      "tags": []
     },
     "output_type": "execute_result"
    }
   ],
   "source": [
    "cars5 = cars3_df[[\"price\",\"year\",\"manufacturer\",\"type\",\"fuel\"]]\n",
    "cars5"
   ]
  },
  {
   "cell_type": "code",
   "execution_count": null,
   "metadata": {
    "colab": {
     "base_uri": "https://localhost:8080/",
     "height": 419
    },
    "executionInfo": {
     "elapsed": 360,
     "status": "ok",
     "timestamp": 1625096426902,
     "user": {
      "displayName": "nasiru sule",
      "photoUrl": "https://lh3.googleusercontent.com/a-/AOh14GiVuRFYjI43LxMj_Q8ZlQSSi4rs-Su2HdfNPNxp7A=s64",
      "userId": "16455627822583485460"
     },
     "user_tz": -60
    },
    "id": "_rJrhRhP1bCD",
    "outputId": "1d361c21-52ec-4327-ae5c-ab32c8584698"
   },
   "outputs": [
    {
     "data": {
      "text/html": [
       "<div>\n",
       "<style scoped>\n",
       "    .dataframe tbody tr th:only-of-type {\n",
       "        vertical-align: middle;\n",
       "    }\n",
       "\n",
       "    .dataframe tbody tr th {\n",
       "        vertical-align: top;\n",
       "    }\n",
       "\n",
       "    .dataframe thead th {\n",
       "        text-align: right;\n",
       "    }\n",
       "</style>\n",
       "<table border=\"1\" class=\"dataframe\">\n",
       "  <thead>\n",
       "    <tr style=\"text-align: right;\">\n",
       "      <th></th>\n",
       "      <th>price</th>\n",
       "      <th>year</th>\n",
       "      <th>manufacturer</th>\n",
       "      <th>type</th>\n",
       "      <th>fuel type: _diesel</th>\n",
       "      <th>fuel type: _electric</th>\n",
       "      <th>fuel type: _gas</th>\n",
       "      <th>fuel type: _hybrid</th>\n",
       "      <th>fuel type: _other</th>\n",
       "    </tr>\n",
       "  </thead>\n",
       "  <tbody>\n",
       "    <tr>\n",
       "      <th>31</th>\n",
       "      <td>15000</td>\n",
       "      <td>2013.0</td>\n",
       "      <td>ford</td>\n",
       "      <td>truck</td>\n",
       "      <td>0</td>\n",
       "      <td>0</td>\n",
       "      <td>1</td>\n",
       "      <td>0</td>\n",
       "      <td>0</td>\n",
       "    </tr>\n",
       "    <tr>\n",
       "      <th>32</th>\n",
       "      <td>27990</td>\n",
       "      <td>2012.0</td>\n",
       "      <td>gmc</td>\n",
       "      <td>pickup</td>\n",
       "      <td>0</td>\n",
       "      <td>0</td>\n",
       "      <td>1</td>\n",
       "      <td>0</td>\n",
       "      <td>0</td>\n",
       "    </tr>\n",
       "    <tr>\n",
       "      <th>33</th>\n",
       "      <td>34590</td>\n",
       "      <td>2016.0</td>\n",
       "      <td>chevrolet</td>\n",
       "      <td>pickup</td>\n",
       "      <td>0</td>\n",
       "      <td>0</td>\n",
       "      <td>1</td>\n",
       "      <td>0</td>\n",
       "      <td>0</td>\n",
       "    </tr>\n",
       "    <tr>\n",
       "      <th>34</th>\n",
       "      <td>35000</td>\n",
       "      <td>2019.0</td>\n",
       "      <td>toyota</td>\n",
       "      <td>truck</td>\n",
       "      <td>0</td>\n",
       "      <td>0</td>\n",
       "      <td>1</td>\n",
       "      <td>0</td>\n",
       "      <td>0</td>\n",
       "    </tr>\n",
       "    <tr>\n",
       "      <th>35</th>\n",
       "      <td>29990</td>\n",
       "      <td>2016.0</td>\n",
       "      <td>chevrolet</td>\n",
       "      <td>pickup</td>\n",
       "      <td>0</td>\n",
       "      <td>0</td>\n",
       "      <td>1</td>\n",
       "      <td>0</td>\n",
       "      <td>0</td>\n",
       "    </tr>\n",
       "    <tr>\n",
       "      <th>...</th>\n",
       "      <td>...</td>\n",
       "      <td>...</td>\n",
       "      <td>...</td>\n",
       "      <td>...</td>\n",
       "      <td>...</td>\n",
       "      <td>...</td>\n",
       "      <td>...</td>\n",
       "      <td>...</td>\n",
       "      <td>...</td>\n",
       "    </tr>\n",
       "    <tr>\n",
       "      <th>426859</th>\n",
       "      <td>48590</td>\n",
       "      <td>2020.0</td>\n",
       "      <td>cadillac</td>\n",
       "      <td>other</td>\n",
       "      <td>0</td>\n",
       "      <td>0</td>\n",
       "      <td>1</td>\n",
       "      <td>0</td>\n",
       "      <td>0</td>\n",
       "    </tr>\n",
       "    <tr>\n",
       "      <th>426860</th>\n",
       "      <td>39990</td>\n",
       "      <td>2017.0</td>\n",
       "      <td>infiniti</td>\n",
       "      <td>other</td>\n",
       "      <td>0</td>\n",
       "      <td>0</td>\n",
       "      <td>1</td>\n",
       "      <td>0</td>\n",
       "      <td>0</td>\n",
       "    </tr>\n",
       "    <tr>\n",
       "      <th>426866</th>\n",
       "      <td>32990</td>\n",
       "      <td>2016.0</td>\n",
       "      <td>infiniti</td>\n",
       "      <td>other</td>\n",
       "      <td>0</td>\n",
       "      <td>0</td>\n",
       "      <td>1</td>\n",
       "      <td>0</td>\n",
       "      <td>0</td>\n",
       "    </tr>\n",
       "    <tr>\n",
       "      <th>426874</th>\n",
       "      <td>33590</td>\n",
       "      <td>2018.0</td>\n",
       "      <td>lexus</td>\n",
       "      <td>sedan</td>\n",
       "      <td>0</td>\n",
       "      <td>0</td>\n",
       "      <td>1</td>\n",
       "      <td>0</td>\n",
       "      <td>0</td>\n",
       "    </tr>\n",
       "    <tr>\n",
       "      <th>426878</th>\n",
       "      <td>28990</td>\n",
       "      <td>2018.0</td>\n",
       "      <td>lexus</td>\n",
       "      <td>sedan</td>\n",
       "      <td>0</td>\n",
       "      <td>0</td>\n",
       "      <td>1</td>\n",
       "      <td>0</td>\n",
       "      <td>0</td>\n",
       "    </tr>\n",
       "  </tbody>\n",
       "</table>\n",
       "<p>110811 rows × 9 columns</p>\n",
       "</div>"
      ],
      "text/plain": [
       "        price    year manufacturer    type  fuel type: _diesel  \\\n",
       "31      15000  2013.0         ford   truck                   0   \n",
       "32      27990  2012.0          gmc  pickup                   0   \n",
       "33      34590  2016.0    chevrolet  pickup                   0   \n",
       "34      35000  2019.0       toyota   truck                   0   \n",
       "35      29990  2016.0    chevrolet  pickup                   0   \n",
       "...       ...     ...          ...     ...                 ...   \n",
       "426859  48590  2020.0     cadillac   other                   0   \n",
       "426860  39990  2017.0     infiniti   other                   0   \n",
       "426866  32990  2016.0     infiniti   other                   0   \n",
       "426874  33590  2018.0        lexus   sedan                   0   \n",
       "426878  28990  2018.0        lexus   sedan                   0   \n",
       "\n",
       "        fuel type: _electric  fuel type: _gas  fuel type: _hybrid  \\\n",
       "31                         0                1                   0   \n",
       "32                         0                1                   0   \n",
       "33                         0                1                   0   \n",
       "34                         0                1                   0   \n",
       "35                         0                1                   0   \n",
       "...                      ...              ...                 ...   \n",
       "426859                     0                1                   0   \n",
       "426860                     0                1                   0   \n",
       "426866                     0                1                   0   \n",
       "426874                     0                1                   0   \n",
       "426878                     0                1                   0   \n",
       "\n",
       "        fuel type: _other  \n",
       "31                      0  \n",
       "32                      0  \n",
       "33                      0  \n",
       "34                      0  \n",
       "35                      0  \n",
       "...                   ...  \n",
       "426859                  0  \n",
       "426860                  0  \n",
       "426866                  0  \n",
       "426874                  0  \n",
       "426878                  0  \n",
       "\n",
       "[110811 rows x 9 columns]"
      ]
     },
     "execution_count": 108,
     "metadata": {
      "tags": []
     },
     "output_type": "execute_result"
    }
   ],
   "source": [
    "cars2_OneHot = pd.get_dummies(cars5, columns= [\"fuel\"], prefix= \"fuel type: \")\n",
    "cars2_OneHot"
   ]
  },
  {
   "cell_type": "markdown",
   "metadata": {
    "id": "1YwRyEiN6yfj"
   },
   "source": [
    "Next is to group the vehicles according to their type and then count the number of vehicles that use different types of fuel."
   ]
  },
  {
   "cell_type": "code",
   "execution_count": null,
   "metadata": {
    "colab": {
     "base_uri": "https://localhost:8080/",
     "height": 483
    },
    "executionInfo": {
     "elapsed": 404,
     "status": "ok",
     "timestamp": 1625096436310,
     "user": {
      "displayName": "nasiru sule",
      "photoUrl": "https://lh3.googleusercontent.com/a-/AOh14GiVuRFYjI43LxMj_Q8ZlQSSi4rs-Su2HdfNPNxp7A=s64",
      "userId": "16455627822583485460"
     },
     "user_tz": -60
    },
    "id": "bRZ-QlUb2BNh",
    "outputId": "73ac90bf-c190-44ea-e748-a1eab01a63da"
   },
   "outputs": [
    {
     "data": {
      "text/html": [
       "<div>\n",
       "<style scoped>\n",
       "    .dataframe tbody tr th:only-of-type {\n",
       "        vertical-align: middle;\n",
       "    }\n",
       "\n",
       "    .dataframe tbody tr th {\n",
       "        vertical-align: top;\n",
       "    }\n",
       "\n",
       "    .dataframe thead th {\n",
       "        text-align: right;\n",
       "    }\n",
       "</style>\n",
       "<table border=\"1\" class=\"dataframe\">\n",
       "  <thead>\n",
       "    <tr style=\"text-align: right;\">\n",
       "      <th></th>\n",
       "      <th>fuel type: _diesel</th>\n",
       "      <th>fuel type: _electric</th>\n",
       "      <th>fuel type: _gas</th>\n",
       "      <th>fuel type: _hybrid</th>\n",
       "      <th>fuel type: _other</th>\n",
       "    </tr>\n",
       "    <tr>\n",
       "      <th>type</th>\n",
       "      <th></th>\n",
       "      <th></th>\n",
       "      <th></th>\n",
       "      <th></th>\n",
       "      <th></th>\n",
       "    </tr>\n",
       "  </thead>\n",
       "  <tbody>\n",
       "    <tr>\n",
       "      <th>SUV</th>\n",
       "      <td>221.0</td>\n",
       "      <td>23.0</td>\n",
       "      <td>25565.0</td>\n",
       "      <td>188.0</td>\n",
       "      <td>186.0</td>\n",
       "    </tr>\n",
       "    <tr>\n",
       "      <th>bus</th>\n",
       "      <td>22.0</td>\n",
       "      <td>0.0</td>\n",
       "      <td>111.0</td>\n",
       "      <td>0.0</td>\n",
       "      <td>8.0</td>\n",
       "    </tr>\n",
       "    <tr>\n",
       "      <th>convertible</th>\n",
       "      <td>3.0</td>\n",
       "      <td>1.0</td>\n",
       "      <td>3184.0</td>\n",
       "      <td>11.0</td>\n",
       "      <td>15.0</td>\n",
       "    </tr>\n",
       "    <tr>\n",
       "      <th>coupe</th>\n",
       "      <td>18.0</td>\n",
       "      <td>1.0</td>\n",
       "      <td>7846.0</td>\n",
       "      <td>23.0</td>\n",
       "      <td>42.0</td>\n",
       "    </tr>\n",
       "    <tr>\n",
       "      <th>hatchback</th>\n",
       "      <td>34.0</td>\n",
       "      <td>78.0</td>\n",
       "      <td>3607.0</td>\n",
       "      <td>559.0</td>\n",
       "      <td>18.0</td>\n",
       "    </tr>\n",
       "    <tr>\n",
       "      <th>mini-van</th>\n",
       "      <td>12.0</td>\n",
       "      <td>0.0</td>\n",
       "      <td>2564.0</td>\n",
       "      <td>3.0</td>\n",
       "      <td>8.0</td>\n",
       "    </tr>\n",
       "    <tr>\n",
       "      <th>offroad</th>\n",
       "      <td>18.0</td>\n",
       "      <td>0.0</td>\n",
       "      <td>447.0</td>\n",
       "      <td>0.0</td>\n",
       "      <td>0.0</td>\n",
       "    </tr>\n",
       "    <tr>\n",
       "      <th>other</th>\n",
       "      <td>57.0</td>\n",
       "      <td>4.0</td>\n",
       "      <td>2772.0</td>\n",
       "      <td>12.0</td>\n",
       "      <td>263.0</td>\n",
       "    </tr>\n",
       "    <tr>\n",
       "      <th>pickup</th>\n",
       "      <td>1561.0</td>\n",
       "      <td>0.0</td>\n",
       "      <td>10014.0</td>\n",
       "      <td>3.0</td>\n",
       "      <td>749.0</td>\n",
       "    </tr>\n",
       "    <tr>\n",
       "      <th>sedan</th>\n",
       "      <td>305.0</td>\n",
       "      <td>73.0</td>\n",
       "      <td>28789.0</td>\n",
       "      <td>432.0</td>\n",
       "      <td>216.0</td>\n",
       "    </tr>\n",
       "    <tr>\n",
       "      <th>truck</th>\n",
       "      <td>3648.0</td>\n",
       "      <td>0.0</td>\n",
       "      <td>10848.0</td>\n",
       "      <td>16.0</td>\n",
       "      <td>25.0</td>\n",
       "    </tr>\n",
       "    <tr>\n",
       "      <th>van</th>\n",
       "      <td>133.0</td>\n",
       "      <td>0.0</td>\n",
       "      <td>2995.0</td>\n",
       "      <td>7.0</td>\n",
       "      <td>138.0</td>\n",
       "    </tr>\n",
       "    <tr>\n",
       "      <th>wagon</th>\n",
       "      <td>51.0</td>\n",
       "      <td>5.0</td>\n",
       "      <td>2839.0</td>\n",
       "      <td>23.0</td>\n",
       "      <td>17.0</td>\n",
       "    </tr>\n",
       "  </tbody>\n",
       "</table>\n",
       "</div>"
      ],
      "text/plain": [
       "             fuel type: _diesel  fuel type: _electric  fuel type: _gas  \\\n",
       "type                                                                     \n",
       "SUV                       221.0                  23.0          25565.0   \n",
       "bus                        22.0                   0.0            111.0   \n",
       "convertible                 3.0                   1.0           3184.0   \n",
       "coupe                      18.0                   1.0           7846.0   \n",
       "hatchback                  34.0                  78.0           3607.0   \n",
       "mini-van                   12.0                   0.0           2564.0   \n",
       "offroad                    18.0                   0.0            447.0   \n",
       "other                      57.0                   4.0           2772.0   \n",
       "pickup                   1561.0                   0.0          10014.0   \n",
       "sedan                     305.0                  73.0          28789.0   \n",
       "truck                    3648.0                   0.0          10848.0   \n",
       "van                       133.0                   0.0           2995.0   \n",
       "wagon                      51.0                   5.0           2839.0   \n",
       "\n",
       "             fuel type: _hybrid  fuel type: _other  \n",
       "type                                                \n",
       "SUV                       188.0              186.0  \n",
       "bus                         0.0                8.0  \n",
       "convertible                11.0               15.0  \n",
       "coupe                      23.0               42.0  \n",
       "hatchback                 559.0               18.0  \n",
       "mini-van                    3.0                8.0  \n",
       "offroad                     0.0                0.0  \n",
       "other                      12.0              263.0  \n",
       "pickup                      3.0              749.0  \n",
       "sedan                     432.0              216.0  \n",
       "truck                      16.0               25.0  \n",
       "van                         7.0              138.0  \n",
       "wagon                      23.0               17.0  "
      ]
     },
     "execution_count": 109,
     "metadata": {
      "tags": []
     },
     "output_type": "execute_result"
    }
   ],
   "source": [
    "fuel_type = cars2_OneHot.groupby('type')[[\"fuel type: _diesel\", \"fuel type: _electric\",\"fuel type: _gas\",\"fuel type: _hybrid\",\"fuel type: _other\"]].sum()\n",
    "fuel_type"
   ]
  },
  {
   "cell_type": "markdown",
   "metadata": {
    "id": "C5n-4nTi5AgI"
   },
   "source": [
    "We can see that of all types of vehicles, Trucks and Pickups use Diesel the most. This is likely because Diesel, though more expensive, is more efficient and less flammable, making it to last longer. And because heavy duty vehicles are slower, they tend to use Diesel which will last them longer."
   ]
  },
  {
   "cell_type": "markdown",
   "metadata": {
    "id": "FCTAousVUZsc"
   },
   "source": [
    "### Summary And Future Work"
   ]
  },
  {
   "cell_type": "markdown",
   "metadata": {
    "id": "KkPPIQZKUgcf"
   },
   "source": [
    "At the end of our Analysis, we were able to derive some really interesting insights about the data:\n",
    "\n",
    "* Likely due to its large population, the U.S state of California has the highest number of advertised vehicles.\n",
    "* The price of most vehicles on the site are below $20,000.\n",
    "* Majority of the cars are those that use gasoline as fuel.\n",
    "* Pickups and trucks use Diesel as fuel more than other types of vehicles.\n",
    "* American automobile manufacturers seem to produce 4 wheel drive model of vehicles more according to the dataset.\n",
    "* Ford atomobile vehicles feature the most in the dataset.\n",
    "* Sedan and SUV are the most featured type of vehicles in the dataset."
   ]
  },
  {
   "cell_type": "markdown",
   "metadata": {
    "id": "r9MyzPqQZDQP"
   },
   "source": [
    "For future work, we will be looking to add more images to this project notebook.\n",
    "\n",
    "We will also look to add more features to some of the graphs plotted in this notebook in order to show more insight.\n",
    "\n",
    "It will also be nice to get a data on the sales records for the site."
   ]
  },
  {
   "cell_type": "code",
   "execution_count": null,
   "metadata": {
    "colab": {
     "base_uri": "https://localhost:8080/",
     "height": 86
    },
    "executionInfo": {
     "elapsed": 3011,
     "status": "ok",
     "timestamp": 1625097771434,
     "user": {
      "displayName": "nasiru sule",
      "photoUrl": "https://lh3.googleusercontent.com/a-/AOh14GiVuRFYjI43LxMj_Q8ZlQSSi4rs-Su2HdfNPNxp7A=s64",
      "userId": "16455627822583485460"
     },
     "user_tz": -60
    },
    "id": "xlLiYS_F6gRs",
    "outputId": "579831a9-3501-4d2d-8e84-0b3dc6132f41"
   },
   "outputs": [
    {
     "name": "stdout",
     "output_type": "stream",
     "text": [
      "[jovian] Detected Colab notebook...\u001b[0m\n",
      "[jovian] Uploading colab notebook to Jovian...\u001b[0m\n",
      "Committed successfully! https://jovian.ai/sulenas/eda-project\n"
     ]
    },
    {
     "data": {
      "application/vnd.google.colaboratory.intrinsic+json": {
       "type": "string"
      },
      "text/plain": [
       "'https://jovian.ai/sulenas/eda-project'"
      ]
     },
     "execution_count": 110,
     "metadata": {
      "tags": []
     },
     "output_type": "execute_result"
    }
   ],
   "source": [
    "jovian.commit()"
   ]
  },
  {
   "cell_type": "markdown",
   "metadata": {
    "id": "qW90BdVV7cZX"
   },
   "source": [
    "### References\n",
    "\n",
    "* https://www.kaggle.com/austinreese/craigslist-carstrucks-data\n",
    "* https://stackoverflow.com/questions/18172851/deleting-dataframe-row-in-pandas-based-on-column-value\n",
    "\n",
    "* https://pandas.pydata.org/pandas-docs/dev/reference/api/pandas.DataFrame.sort_values.html\n",
    "* https://plotly.com/python/pie-charts/\n",
    "* https://plotly.com/python\n",
    "* https://stackoverflow.com/questions/11346283/renaming-columns-in-pandas\n",
    "* https://stackoverflow.com/questions/35809098/how-to-merge-pandas-value-counts-to-dataframe-or-use-it-to-subset-a-dataframe\n",
    "* https://jovian.ai/learn/zero-to-data-analyst-bootcamp/lesson/advanced-data-analysis-techniques\n",
    "* https://jovian.ai/learn/zero-to-data-analyst-bootcamp/lesson/visualization-with-matplotlib-and-seaborn\n",
    "* https://jovian.ai/learn/zero-to-data-analyst-bootcamp/lesson/interactive-visualization-with-plotly-and-folium"
   ]
  },
  {
   "cell_type": "code",
   "execution_count": null,
   "metadata": {
    "colab": {
     "base_uri": "https://localhost:8080/"
    },
    "id": "kz2O3txx6WdZ",
    "outputId": "39569c79-f325-459c-cdcb-090104754512"
   },
   "outputs": [
    {
     "name": "stdout",
     "output_type": "stream",
     "text": [
      "[jovian] Detected Colab notebook...\u001b[0m\n",
      "[jovian] Please enter your API key ( from https://jovian.ai/ ):\u001b[0m\n",
      "API KEY: "
     ]
    }
   ],
   "source": [
    "jovian.commit()"
   ]
  },
  {
   "cell_type": "code",
   "execution_count": null,
   "metadata": {
    "id": "e7ijq77N6nQS"
   },
   "outputs": [],
   "source": []
  }
 ],
 "metadata": {
  "colab": {
   "collapsed_sections": [],
   "name": "USED CARS EDA.ipynb",
   "provenance": []
  },
  "kernelspec": {
   "display_name": "Python 3",
   "language": "python",
   "name": "python3"
  },
  "language_info": {
   "codemirror_mode": {
    "name": "ipython",
    "version": 3
   },
   "file_extension": ".py",
   "mimetype": "text/x-python",
   "name": "python",
   "nbconvert_exporter": "python",
   "pygments_lexer": "ipython3",
   "version": "3.7.6"
  }
 },
 "nbformat": 4,
 "nbformat_minor": 0
}